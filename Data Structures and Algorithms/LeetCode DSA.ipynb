{
 "cells": [
  {
   "cell_type": "markdown",
   "metadata": {},
   "source": [
    "## Leet Code Data Structures and Algorithms"
   ]
  },
  {
   "cell_type": "markdown",
   "metadata": {},
   "source": [
    "Things learned from Leetcode built in editor:\n",
    "f strings are *sometimes* not supported, lol\n",
    "a normal division of 51/4 gets rounded down, unless I write 51/float(4) - odd"
   ]
  },
  {
   "cell_type": "markdown",
   "metadata": {},
   "source": [
    "### Two Pointers Methods"
   ]
  },
  {
   "cell_type": "code",
   "execution_count": null,
   "metadata": {},
   "outputs": [],
   "source": [
    "# function fn(arr):\n",
    "#     left = 0\n",
    "#     right = arr.length - 1\n",
    "\n",
    "#     while left < right:\n",
    "#         Do some logic here depending on the problem\n",
    "#         Do some more logic here to decide on one of the following:\n",
    "#             a. left++\n",
    "#             b. right--\n",
    "#             c. Both left++ and right--"
   ]
  },
  {
   "cell_type": "code",
   "execution_count": 5,
   "metadata": {},
   "outputs": [
    {
     "data": {
      "text/plain": [
       "['o', 'l', 'l', 'e', 'h']"
      ]
     },
     "execution_count": 5,
     "metadata": {},
     "output_type": "execute_result"
    }
   ],
   "source": [
    "# 9/22/22 ---- reverse a string, in O(n) time and O(1) space\n",
    "\n",
    "class Solution(object):\n",
    "    def reverseString(self, s):\n",
    "        # two pointers for this? ---- I dont think so, \n",
    "        # if I were to do this manually, how would I do this?\n",
    "        # ahh - this is 2 pointers\n",
    "        \n",
    "        left = 0\n",
    "        right = 0\n",
    "        while left < len(s)/2:\n",
    "            # print(len(s)/2)\n",
    "            left_value = s[left]\n",
    "            # print(left_value)\n",
    "            s[left] = s[right-1]\n",
    "            # print(s[left])\n",
    "            s[right-1] = left_value\n",
    "            # print(s[right-1])\n",
    "            left += 1\n",
    "            right -= 1\n",
    "            # print(left)\n",
    "        return s\n",
    "\n",
    "solution_instance = Solution()\n",
    "solution_instance.reverseString([\"h\",\"e\",\"l\",\"l\",\"o\"])\n",
    "\n",
    "# Above solution used 2 pointers method, and a temp variable to swap values\n",
    "# this is the built in, reverse() function in python"
   ]
  },
  {
   "cell_type": "code",
   "execution_count": 1,
   "metadata": {},
   "outputs": [
    {
     "data": {
      "text/plain": [
       "49"
      ]
     },
     "execution_count": 1,
     "metadata": {},
     "output_type": "execute_result"
    }
   ],
   "source": [
    "# 9/28/22 ---- Container with most water, in O(n) time and O(1) space\n",
    "class Solution(object):\n",
    "    def maxArea(self, height):\n",
    "        \"\"\":type height: List[int]\"\"\"\n",
    "        # two pointers probably\n",
    "        # how would I do this manually?\n",
    "        # first I would find the min of the two pointers, then I multiply this with the distance between the 2 pointers and I repeat this, until a variable has its max number replaced, if the result of this iteration is larger than any other previous iteration.\n",
    "        # but when would I hold a \"9\" per-se, instead of moving to the next 2? --- I wouldnt\n",
    "        # the way this works is that the largest number always gets held onto until its\n",
    "        # replaced by a larger number, in this way, this alg ends up doing the calculation \n",
    "        # with the 2 largest numbers in the array eventually, they may make the biggest area, \n",
    "        # or they may not.\n",
    "        \n",
    "        left = 0\n",
    "        right = len(height) - 1\n",
    "        area = 0\n",
    "        while left < right:\n",
    "            width = right - left\n",
    "            min_of_pointers = min(height[left], height[right])\n",
    "            if min_of_pointers*width > area:\n",
    "                area = min_of_pointers*width\n",
    "            if height[left] < height[right]:\n",
    "                left +=1\n",
    "            else:\n",
    "                right -=1\n",
    "        return area\n",
    "\n",
    "sol_instance = Solution()\n",
    "sol_instance.maxArea([1,8,6,2,5,4,8,3,7])"
   ]
  },
  {
   "cell_type": "markdown",
   "metadata": {},
   "source": [
    "### Sliding Window Methods"
   ]
  },
  {
   "cell_type": "code",
   "execution_count": null,
   "metadata": {},
   "outputs": [],
   "source": [
    "# function fn(arr):\n",
    "    # left = 0\n",
    "    # for right in [0, arr.length - 1]:\n",
    "    #     while left < right AND condition from problem not met:\n",
    "    #         Do some logic to \"remove\" element at arr[left] from window\n",
    "    #         left++\n",
    "\n",
    "    #     Do some logic to \"add\" element at arr[right] to window"
   ]
  },
  {
   "cell_type": "code",
   "execution_count": 5,
   "metadata": {},
   "outputs": [
    {
     "data": {
      "text/plain": [
       "12.75"
      ]
     },
     "execution_count": 5,
     "metadata": {},
     "output_type": "execute_result"
    }
   ],
   "source": [
    "# Maximum Average Subarray\n",
    "class Solution(object):\n",
    "    def findMaxAverage(self, nums, k):\n",
    "        curr = 0\n",
    "        for i in range(k):\n",
    "            curr += nums[i]\n",
    "        ans = curr/float(k)\n",
    "        \n",
    "        for i in range(k, len(nums)):\n",
    "            curr += nums[i] - nums[i-k]\n",
    "            # print(curr/float(k))\n",
    "            curr_ans = curr/float(k)\n",
    "            ans = max(curr_ans, ans)\n",
    "        return ans\n",
    "\n",
    "sol_instance = Solution()\n",
    "Solution().findMaxAverage([1,12,-5,-6,50,3], 4)"
   ]
  },
  {
   "cell_type": "code",
   "execution_count": 2,
   "metadata": {},
   "outputs": [
    {
     "data": {
      "text/plain": [
       "6"
      ]
     },
     "execution_count": 2,
     "metadata": {},
     "output_type": "execute_result"
    }
   ],
   "source": [
    "# Max Consecutive Ones III\n",
    "class Solution(object):\n",
    "    def longestOnes(self, nums, k):\n",
    "        # okay so if I was going to do this manually,\n",
    "        # I count the number of 1's in a row,\n",
    "        # could I just count to see highest number of 1's in a row, and then just add + k to it?\n",
    "        # no, because a well placed 0 could be a +5 or more,\n",
    "        # okay so the answer to this is to use a sliding window,\n",
    "        # this means the right pointer is used in the for loop,\n",
    "        # the left pointer is moved at specific times\n",
    "        # okay so intuitively, I start by identifying which are the longest subgroups of 1's\n",
    "        \n",
    "        left = 0\n",
    "        ans = 0\n",
    "        zero_count = 0\n",
    "        for right in range(len(nums)):\n",
    "            if nums[right] == 0:\n",
    "                zero_count += 1\n",
    "            while zero_count > k:\n",
    "                if nums[left] == 0:\n",
    "                    zero_count -= 1\n",
    "                left += 1\n",
    "            ans = max(ans, right - left +1)\n",
    "        return ans\n",
    "\n",
    "sol_instance = Solution()\n",
    "sol_instance.longestOnes([1,1,1,0,0,0,1,1,1,1,0], 2)\n",
    "\n",
    "        # interesting, so at first I was just moving the left pointer once per iteration,\n",
    "        # then I tried moving it k times per iteration,\n",
    "        # but what it really needed, was a variable amount of movement per iteration, depending on the value sitting in nums[left]\n",
    "        # hence the while loop, inside of the for loop, this is a great way to do this actually."
   ]
  },
  {
   "cell_type": "markdown",
   "metadata": {},
   "source": [
    "### Small snippets of memorable code"
   ]
  },
  {
   "cell_type": "code",
   "execution_count": 1,
   "metadata": {},
   "outputs": [
    {
     "name": "stdout",
     "output_type": "stream",
     "text": [
      "5\n",
      "6\n",
      "7\n",
      "8\n",
      "9\n"
     ]
    }
   ],
   "source": [
    "k=5\n",
    "nums = [0,1,2,3,4,5,6,7,8,9]\n",
    "\n",
    "for i in range(k, len(nums)):\n",
    "    print(i)"
   ]
  },
  {
   "cell_type": "markdown",
   "metadata": {},
   "source": []
  }
 ],
 "metadata": {
  "kernelspec": {
   "display_name": "Python 3.9.7 64-bit",
   "language": "python",
   "name": "python3"
  },
  "language_info": {
   "codemirror_mode": {
    "name": "ipython",
    "version": 3
   },
   "file_extension": ".py",
   "mimetype": "text/x-python",
   "name": "python",
   "nbconvert_exporter": "python",
   "pygments_lexer": "ipython3",
   "version": "3.9.7"
  },
  "orig_nbformat": 4,
  "vscode": {
   "interpreter": {
    "hash": "81794d4967e6c3204c66dcd87b604927b115b27c00565d3d43f05ba2f3a2cb0d"
   }
  }
 },
 "nbformat": 4,
 "nbformat_minor": 2
}
