{
 "cells": [
  {
   "cell_type": "markdown",
   "metadata": {},
   "source": [
    "## Imports"
   ]
  },
  {
   "cell_type": "code",
   "execution_count": 46,
   "metadata": {
    "gather": {
     "logged": 1633839602723
    }
   },
   "outputs": [
    {
     "name": "stdout",
     "output_type": "stream",
     "text": [
      "CPU times: user 99.1 ms, sys: 6.27 ms, total: 105 ms\n",
      "Wall time: 207 ms\n"
     ]
    }
   ],
   "source": [
    "%%time\n",
    "#python and datascience imports\n",
    "import pandas as pd\n",
    "import numpy as np\n",
    "import os\n",
    "import sys\n",
    "import time\n",
    "import itertools\n",
    "\n",
    "from sklearn.model_selection import train_test_split\n",
    "from sklearn.datasets import make_classification\n",
    "from sklearn.preprocessing import StandardScaler\n",
    "from sklearn.experimental import enable_iterative_imputer\n",
    "from sklearn.impute import IterativeImputer\n",
    "from sagemaker import image_uris\n",
    "\n",
    "\n",
    "# AWS S3 Imports\n",
    "import boto3\n",
    "import sagemaker\n",
    "from sagemaker import get_execution_role\n",
    "from sagemaker.session import Session\n",
    "from sagemaker.inputs import TrainingInput\n",
    "\n",
    "session = boto3.Session()\n",
    "sm = sess.client(\"sagemaker\")\n",
    "role = get_execution_role()\n",
    "region = boto3.Session().region_name\n",
    "account_id = sess.client(\"sts\").get_caller_identity()[\"Account\"]\n",
    "\n",
    "\n",
    "# AWS Experiment Imports\n",
    "from smexperiments.tracker import Tracker\n",
    "from smexperiments.experiment import Experiment\n",
    "from smexperiments.trial import Trial\n",
    "from smexperiments.trial_component import TrialComponent\n",
    "\n",
    "\n",
    "# personal notebook settings\n",
    "%config Completer.use_jedi = False\n",
    "nb_dir = os.getcwd()"
   ]
  },
  {
   "cell_type": "markdown",
   "metadata": {},
   "source": [
    "## Pip installs"
   ]
  },
  {
   "cell_type": "code",
   "execution_count": 9,
   "metadata": {
    "collapsed": true,
    "jupyter": {
     "outputs_hidden": true
    }
   },
   "outputs": [
    {
     "name": "stdout",
     "output_type": "stream",
     "text": [
      "/opt/conda/lib/python3.7/site-packages/secretstorage/dhcrypto.py:16: CryptographyDeprecationWarning: int_from_bytes is deprecated, use int.from_bytes instead\n",
      "  from cryptography.utils import int_from_bytes\n",
      "/opt/conda/lib/python3.7/site-packages/secretstorage/util.py:25: CryptographyDeprecationWarning: int_from_bytes is deprecated, use int.from_bytes instead\n",
      "  from cryptography.utils import int_from_bytes\n",
      "Requirement already satisfied: sagemaker in /opt/conda/lib/python3.7/site-packages (2.59.5)\n",
      "Collecting sagemaker\n",
      "  Using cached sagemaker-2.65.0-py2.py3-none-any.whl\n",
      "Requirement already satisfied: importlib-metadata>=1.4.0 in /opt/conda/lib/python3.7/site-packages (from sagemaker) (1.5.0)\n",
      "Requirement already satisfied: boto3>=1.16.32 in /opt/conda/lib/python3.7/site-packages (from sagemaker) (1.18.51)\n",
      "Requirement already satisfied: google-pasta in /opt/conda/lib/python3.7/site-packages (from sagemaker) (0.2.0)\n",
      "Requirement already satisfied: smdebug-rulesconfig==1.0.1 in /opt/conda/lib/python3.7/site-packages (from sagemaker) (1.0.1)\n",
      "Requirement already satisfied: attrs in /opt/conda/lib/python3.7/site-packages (from sagemaker) (19.3.0)\n",
      "Requirement already satisfied: protobuf>=3.1 in /opt/conda/lib/python3.7/site-packages (from sagemaker) (3.18.0)\n",
      "Requirement already satisfied: numpy>=1.9.0 in /opt/conda/lib/python3.7/site-packages (from sagemaker) (1.20.3)\n",
      "Requirement already satisfied: pandas in /opt/conda/lib/python3.7/site-packages (from sagemaker) (1.0.1)\n",
      "Requirement already satisfied: packaging>=20.0 in /opt/conda/lib/python3.7/site-packages (from sagemaker) (20.1)\n",
      "Requirement already satisfied: pathos in /opt/conda/lib/python3.7/site-packages (from sagemaker) (0.2.8)\n",
      "Requirement already satisfied: protobuf3-to-dict>=0.1.5 in /opt/conda/lib/python3.7/site-packages (from sagemaker) (0.1.5)\n",
      "Requirement already satisfied: s3transfer<0.6.0,>=0.5.0 in /opt/conda/lib/python3.7/site-packages (from boto3>=1.16.32->sagemaker) (0.5.0)\n",
      "Requirement already satisfied: jmespath<1.0.0,>=0.7.1 in /opt/conda/lib/python3.7/site-packages (from boto3>=1.16.32->sagemaker) (0.10.0)\n",
      "Requirement already satisfied: botocore<1.22.0,>=1.21.51 in /opt/conda/lib/python3.7/site-packages (from boto3>=1.16.32->sagemaker) (1.21.51)\n",
      "Requirement already satisfied: urllib3<1.27,>=1.25.4 in /opt/conda/lib/python3.7/site-packages (from botocore<1.22.0,>=1.21.51->boto3>=1.16.32->sagemaker) (1.26.7)\n",
      "Requirement already satisfied: python-dateutil<3.0.0,>=2.1 in /opt/conda/lib/python3.7/site-packages (from botocore<1.22.0,>=1.21.51->boto3>=1.16.32->sagemaker) (2.8.1)\n",
      "Requirement already satisfied: zipp>=0.5 in /opt/conda/lib/python3.7/site-packages (from importlib-metadata>=1.4.0->sagemaker) (2.2.0)\n",
      "Requirement already satisfied: pyparsing>=2.0.2 in /opt/conda/lib/python3.7/site-packages (from packaging>=20.0->sagemaker) (2.4.6)\n",
      "Requirement already satisfied: six in /opt/conda/lib/python3.7/site-packages (from packaging>=20.0->sagemaker) (1.14.0)\n",
      "Requirement already satisfied: pytz>=2017.2 in /opt/conda/lib/python3.7/site-packages (from pandas->sagemaker) (2019.3)\n",
      "Requirement already satisfied: ppft>=1.6.6.4 in /opt/conda/lib/python3.7/site-packages (from pathos->sagemaker) (1.6.6.4)\n",
      "Requirement already satisfied: pox>=0.3.0 in /opt/conda/lib/python3.7/site-packages (from pathos->sagemaker) (0.3.0)\n",
      "Requirement already satisfied: multiprocess>=0.70.12 in /opt/conda/lib/python3.7/site-packages (from pathos->sagemaker) (0.70.12.2)\n",
      "Requirement already satisfied: dill>=0.3.4 in /opt/conda/lib/python3.7/site-packages (from pathos->sagemaker) (0.3.4)\n",
      "Installing collected packages: sagemaker\n",
      "  Attempting uninstall: sagemaker\n",
      "    Found existing installation: sagemaker 2.59.5\n",
      "    Uninstalling sagemaker-2.59.5:\n",
      "      Successfully uninstalled sagemaker-2.59.5\n",
      "Successfully installed sagemaker-2.65.0\n",
      "\u001b[33mWARNING: Running pip as the 'root' user can result in broken permissions and conflicting behaviour with the system package manager. It is recommended to use a virtual environment instead: https://pip.pypa.io/warnings/venv\u001b[0m\n",
      "\u001b[33mWARNING: You are using pip version 21.2.4; however, version 21.3.1 is available.\n",
      "You should consider upgrading via the '/opt/conda/bin/python -m pip install --upgrade pip' command.\u001b[0m\n"
     ]
    }
   ],
   "source": [
    "!{sys.executable} -m pip install sagemaker-experiments==0.1.24\n",
    "!{sys.executable} -m pip install --upgrade sagemaker"
   ]
  },
  {
   "cell_type": "markdown",
   "metadata": {},
   "source": [
    "## Creating new S3 bucket (does nothing if already there)"
   ]
  },
  {
   "cell_type": "code",
   "execution_count": 8,
   "metadata": {
    "collapsed": true,
    "jupyter": {
     "outputs_hidden": true
    }
   },
   "outputs": [
    {
     "name": "stdout",
     "output_type": "stream",
     "text": [
      "CPU times: user 24.2 ms, sys: 11.4 ms, total: 35.5 ms\n",
      "Wall time: 629 ms\n"
     ]
    },
    {
     "data": {
      "text/plain": [
       "{'ResponseMetadata': {'RequestId': '5FG2ABNG7DYRE7RV',\n",
       "  'HostId': 'bXaNEIgtyNgNXQvaF05M73Z5NUdVsQcrlJa+NF1TEpzLu15vJqzJbShrh9I1wsybl+9TZvJ2ub8=',\n",
       "  'HTTPStatusCode': 200,\n",
       "  'HTTPHeaders': {'x-amz-id-2': 'bXaNEIgtyNgNXQvaF05M73Z5NUdVsQcrlJa+NF1TEpzLu15vJqzJbShrh9I1wsybl+9TZvJ2ub8=',\n",
       "   'x-amz-request-id': '5FG2ABNG7DYRE7RV',\n",
       "   'date': 'Sat, 23 Oct 2021 22:25:13 GMT',\n",
       "   'location': '/sagemaker-experiments-10mill-us-east-1-570124035543',\n",
       "   'server': 'AmazonS3',\n",
       "   'content-length': '0'},\n",
       "  'RetryAttempts': 0},\n",
       " 'Location': '/sagemaker-experiments-10mill-us-east-1-570124035543'}"
      ]
     },
     "execution_count": 8,
     "metadata": {},
     "output_type": "execute_result"
    }
   ],
   "source": [
    "%%time\n",
    "bucket = f\"sagemaker-experiments-10mill-{sess.region_name}-{account_id}\"\n",
    "sess.client(\"s3\").create_bucket(Bucket=bucket)"
   ]
  },
  {
   "cell_type": "markdown",
   "metadata": {},
   "source": [
    "## Creating mock classification data"
   ]
  },
  {
   "cell_type": "code",
   "execution_count": 3,
   "metadata": {
    "collapsed": true,
    "gather": {
     "logged": 1633839610350
    },
    "jupyter": {
     "outputs_hidden": true
    }
   },
   "outputs": [
    {
     "ename": "KeyboardInterrupt",
     "evalue": "",
     "output_type": "error",
     "traceback": [
      "\u001b[0;31m---------------------------------------------------------------------------\u001b[0m",
      "\u001b[0;31mKeyboardInterrupt\u001b[0m                         Traceback (most recent call last)",
      "\u001b[0;32m<timed exec>\u001b[0m in \u001b[0;36m<module>\u001b[0;34m\u001b[0m\n",
      "\u001b[0;32m/opt/conda/lib/python3.7/site-packages/sklearn/datasets/_samples_generator.py\u001b[0m in \u001b[0;36mmake_classification\u001b[0;34m(n_samples, n_features, n_informative, n_redundant, n_repeated, n_classes, n_clusters_per_class, weights, flip_y, class_sep, hypercube, shift, scale, shuffle, random_state)\u001b[0m\n\u001b[1;32m    256\u001b[0m         \u001b[0mindices\u001b[0m \u001b[0;34m=\u001b[0m \u001b[0mnp\u001b[0m\u001b[0;34m.\u001b[0m\u001b[0marange\u001b[0m\u001b[0;34m(\u001b[0m\u001b[0mn_features\u001b[0m\u001b[0;34m)\u001b[0m\u001b[0;34m\u001b[0m\u001b[0;34m\u001b[0m\u001b[0m\n\u001b[1;32m    257\u001b[0m         \u001b[0mgenerator\u001b[0m\u001b[0;34m.\u001b[0m\u001b[0mshuffle\u001b[0m\u001b[0;34m(\u001b[0m\u001b[0mindices\u001b[0m\u001b[0;34m)\u001b[0m\u001b[0;34m\u001b[0m\u001b[0;34m\u001b[0m\u001b[0m\n\u001b[0;32m--> 258\u001b[0;31m         \u001b[0mX\u001b[0m\u001b[0;34m[\u001b[0m\u001b[0;34m:\u001b[0m\u001b[0;34m,\u001b[0m \u001b[0;34m:\u001b[0m\u001b[0;34m]\u001b[0m \u001b[0;34m=\u001b[0m \u001b[0mX\u001b[0m\u001b[0;34m[\u001b[0m\u001b[0;34m:\u001b[0m\u001b[0;34m,\u001b[0m \u001b[0mindices\u001b[0m\u001b[0;34m]\u001b[0m\u001b[0;34m\u001b[0m\u001b[0;34m\u001b[0m\u001b[0m\n\u001b[0m\u001b[1;32m    259\u001b[0m \u001b[0;34m\u001b[0m\u001b[0m\n\u001b[1;32m    260\u001b[0m     \u001b[0;32mreturn\u001b[0m \u001b[0mX\u001b[0m\u001b[0;34m,\u001b[0m \u001b[0my\u001b[0m\u001b[0;34m\u001b[0m\u001b[0;34m\u001b[0m\u001b[0m\n",
      "\u001b[0;31mKeyboardInterrupt\u001b[0m: "
     ]
    }
   ],
   "source": [
    "%%time\n",
    "X, y = make_classification(n_samples=1_000_000, n_features=100, n_informative=80, \n",
    "                          n_redundant=10, n_repeated=5, n_classes=2, weights=[.7, .3], \n",
    "                          flip_y=.05, random_state=1)\n",
    "X = pd.DataFrame(X)\n",
    "y = pd.Series(y)\n",
    "\n",
    "display(y.tail(8))\n",
    "display(X.tail(5))"
   ]
  },
  {
   "cell_type": "code",
   "execution_count": 4,
   "metadata": {},
   "outputs": [
    {
     "data": {
      "text/html": [
       "<div>\n",
       "<style scoped>\n",
       "    .dataframe tbody tr th:only-of-type {\n",
       "        vertical-align: middle;\n",
       "    }\n",
       "\n",
       "    .dataframe tbody tr th {\n",
       "        vertical-align: top;\n",
       "    }\n",
       "\n",
       "    .dataframe thead th {\n",
       "        text-align: right;\n",
       "    }\n",
       "</style>\n",
       "<table border=\"1\" class=\"dataframe\">\n",
       "  <thead>\n",
       "    <tr style=\"text-align: right;\">\n",
       "      <th></th>\n",
       "      <th>target</th>\n",
       "    </tr>\n",
       "  </thead>\n",
       "  <tbody>\n",
       "    <tr>\n",
       "      <th>29998</th>\n",
       "      <td>1</td>\n",
       "    </tr>\n",
       "    <tr>\n",
       "      <th>29999</th>\n",
       "      <td>0</td>\n",
       "    </tr>\n",
       "  </tbody>\n",
       "</table>\n",
       "</div>"
      ],
      "text/plain": [
       "       target\n",
       "29998       1\n",
       "29999       0"
      ]
     },
     "metadata": {},
     "output_type": "display_data"
    },
    {
     "data": {
      "text/html": [
       "<div>\n",
       "<style scoped>\n",
       "    .dataframe tbody tr th:only-of-type {\n",
       "        vertical-align: middle;\n",
       "    }\n",
       "\n",
       "    .dataframe tbody tr th {\n",
       "        vertical-align: top;\n",
       "    }\n",
       "\n",
       "    .dataframe thead th {\n",
       "        text-align: right;\n",
       "    }\n",
       "</style>\n",
       "<table border=\"1\" class=\"dataframe\">\n",
       "  <thead>\n",
       "    <tr style=\"text-align: right;\">\n",
       "      <th></th>\n",
       "      <th>0</th>\n",
       "      <th>1</th>\n",
       "      <th>2</th>\n",
       "      <th>3</th>\n",
       "      <th>4</th>\n",
       "      <th>5</th>\n",
       "      <th>6</th>\n",
       "      <th>7</th>\n",
       "      <th>8</th>\n",
       "      <th>9</th>\n",
       "      <th>...</th>\n",
       "      <th>90</th>\n",
       "      <th>91</th>\n",
       "      <th>92</th>\n",
       "      <th>93</th>\n",
       "      <th>94</th>\n",
       "      <th>95</th>\n",
       "      <th>96</th>\n",
       "      <th>97</th>\n",
       "      <th>98</th>\n",
       "      <th>99</th>\n",
       "    </tr>\n",
       "  </thead>\n",
       "  <tbody>\n",
       "    <tr>\n",
       "      <th>29998</th>\n",
       "      <td>-10.604060</td>\n",
       "      <td>-5.50830</td>\n",
       "      <td>-3.672563</td>\n",
       "      <td>19.609996</td>\n",
       "      <td>-1.246331</td>\n",
       "      <td>2.803028</td>\n",
       "      <td>5.743784</td>\n",
       "      <td>3.896423</td>\n",
       "      <td>-3.067615</td>\n",
       "      <td>-4.010443</td>\n",
       "      <td>...</td>\n",
       "      <td>48.833051</td>\n",
       "      <td>0.290265</td>\n",
       "      <td>-4.454335</td>\n",
       "      <td>3.554395</td>\n",
       "      <td>3.418017</td>\n",
       "      <td>-6.689105</td>\n",
       "      <td>-5.553461</td>\n",
       "      <td>8.472437</td>\n",
       "      <td>8.148694</td>\n",
       "      <td>-1.110202</td>\n",
       "    </tr>\n",
       "    <tr>\n",
       "      <th>29999</th>\n",
       "      <td>-0.919847</td>\n",
       "      <td>7.53131</td>\n",
       "      <td>2.784370</td>\n",
       "      <td>-24.321904</td>\n",
       "      <td>2.608576</td>\n",
       "      <td>0.749658</td>\n",
       "      <td>-4.032186</td>\n",
       "      <td>2.056630</td>\n",
       "      <td>5.015172</td>\n",
       "      <td>1.702627</td>\n",
       "      <td>...</td>\n",
       "      <td>28.135466</td>\n",
       "      <td>-0.672655</td>\n",
       "      <td>-11.253521</td>\n",
       "      <td>6.746637</td>\n",
       "      <td>-2.637672</td>\n",
       "      <td>-3.150747</td>\n",
       "      <td>-6.928609</td>\n",
       "      <td>0.945128</td>\n",
       "      <td>2.136493</td>\n",
       "      <td>-0.248290</td>\n",
       "    </tr>\n",
       "  </tbody>\n",
       "</table>\n",
       "<p>2 rows × 100 columns</p>\n",
       "</div>"
      ],
      "text/plain": [
       "              0        1         2          3         4         5         6   \\\n",
       "29998 -10.604060 -5.50830 -3.672563  19.609996 -1.246331  2.803028  5.743784   \n",
       "29999  -0.919847  7.53131  2.784370 -24.321904  2.608576  0.749658 -4.032186   \n",
       "\n",
       "             7         8         9   ...         90        91         92  \\\n",
       "29998  3.896423 -3.067615 -4.010443  ...  48.833051  0.290265  -4.454335   \n",
       "29999  2.056630  5.015172  1.702627  ...  28.135466 -0.672655 -11.253521   \n",
       "\n",
       "             93        94        95        96        97        98        99  \n",
       "29998  3.554395  3.418017 -6.689105 -5.553461  8.472437  8.148694 -1.110202  \n",
       "29999  6.746637 -2.637672 -3.150747 -6.928609  0.945128  2.136493 -0.248290  \n",
       "\n",
       "[2 rows x 100 columns]"
      ]
     },
     "metadata": {},
     "output_type": "display_data"
    },
    {
     "name": "stdout",
     "output_type": "stream",
     "text": [
      "CPU times: user 290 ms, sys: 142 ms, total: 431 ms\n",
      "Wall time: 334 ms\n"
     ]
    }
   ],
   "source": [
    "%%time\n",
    "X, y = make_classification(n_samples=30_000, n_features=100, n_informative=80, \n",
    "                          n_redundant=10, n_repeated=5, n_classes=2, weights=[.7, .3], \n",
    "                          flip_y=.05, random_state=1)\n",
    "\n",
    "X = pd.DataFrame(X)\n",
    "y = pd.DataFrame(y, columns=['target'])\n",
    "\n",
    "display(y.tail(2))\n",
    "display(X.tail(2))"
   ]
  },
  {
   "cell_type": "markdown",
   "metadata": {
    "nteract": {
     "transient": {
      "deleting": false
     }
    }
   },
   "source": [
    "## Splitting data down to a fraction to test compute times"
   ]
  },
  {
   "cell_type": "code",
   "execution_count": 5,
   "metadata": {
    "collapsed": true,
    "gather": {
     "logged": 1633813412420
    },
    "jupyter": {
     "outputs_hidden": true
    },
    "nteract": {
     "transient": {
      "deleting": false
     }
    }
   },
   "outputs": [
    {
     "name": "stdout",
     "output_type": "stream",
     "text": [
      "(100000, 100)\n",
      "(100000,)\n",
      "(30000, 100)\n",
      "(30000,)\n"
     ]
    }
   ],
   "source": [
    "# 10%\n",
    "X_10 = X[:100000][:]\n",
    "y_10 = y[:100000][:]\n",
    "print(X_10.shape)\n",
    "print(y_10.shape)\n",
    "\n",
    "\n",
    "X_03 = X[:30000][:]\n",
    "y_03 = y[:30000][:]\n",
    "print(X_03.shape)\n",
    "print(y_03.shape)"
   ]
  },
  {
   "cell_type": "markdown",
   "metadata": {},
   "source": [
    "## Splitting data into train / val sets"
   ]
  },
  {
   "cell_type": "code",
   "execution_count": 6,
   "metadata": {},
   "outputs": [
    {
     "data": {
      "text/html": [
       "<div>\n",
       "<style scoped>\n",
       "    .dataframe tbody tr th:only-of-type {\n",
       "        vertical-align: middle;\n",
       "    }\n",
       "\n",
       "    .dataframe tbody tr th {\n",
       "        vertical-align: top;\n",
       "    }\n",
       "\n",
       "    .dataframe thead th {\n",
       "        text-align: right;\n",
       "    }\n",
       "</style>\n",
       "<table border=\"1\" class=\"dataframe\">\n",
       "  <thead>\n",
       "    <tr style=\"text-align: right;\">\n",
       "      <th></th>\n",
       "      <th>target</th>\n",
       "      <th>0</th>\n",
       "      <th>1</th>\n",
       "      <th>2</th>\n",
       "      <th>3</th>\n",
       "      <th>4</th>\n",
       "      <th>5</th>\n",
       "      <th>6</th>\n",
       "      <th>7</th>\n",
       "      <th>8</th>\n",
       "      <th>...</th>\n",
       "      <th>90</th>\n",
       "      <th>91</th>\n",
       "      <th>92</th>\n",
       "      <th>93</th>\n",
       "      <th>94</th>\n",
       "      <th>95</th>\n",
       "      <th>96</th>\n",
       "      <th>97</th>\n",
       "      <th>98</th>\n",
       "      <th>99</th>\n",
       "    </tr>\n",
       "  </thead>\n",
       "  <tbody>\n",
       "    <tr>\n",
       "      <th>16557</th>\n",
       "      <td>0</td>\n",
       "      <td>21.803498</td>\n",
       "      <td>0.751091</td>\n",
       "      <td>3.359956</td>\n",
       "      <td>-39.884887</td>\n",
       "      <td>-1.139280</td>\n",
       "      <td>-2.911881</td>\n",
       "      <td>0.656389</td>\n",
       "      <td>3.968785</td>\n",
       "      <td>2.807057</td>\n",
       "      <td>...</td>\n",
       "      <td>25.106882</td>\n",
       "      <td>-2.096710</td>\n",
       "      <td>-3.502590</td>\n",
       "      <td>1.419765</td>\n",
       "      <td>1.785958</td>\n",
       "      <td>3.374665</td>\n",
       "      <td>2.641380</td>\n",
       "      <td>4.155147</td>\n",
       "      <td>0.505827</td>\n",
       "      <td>-0.213112</td>\n",
       "    </tr>\n",
       "    <tr>\n",
       "      <th>20716</th>\n",
       "      <td>0</td>\n",
       "      <td>-33.216827</td>\n",
       "      <td>7.106028</td>\n",
       "      <td>-5.442742</td>\n",
       "      <td>-27.143765</td>\n",
       "      <td>-3.390259</td>\n",
       "      <td>-8.025964</td>\n",
       "      <td>-15.404630</td>\n",
       "      <td>3.327481</td>\n",
       "      <td>5.275560</td>\n",
       "      <td>...</td>\n",
       "      <td>-30.718618</td>\n",
       "      <td>-2.039477</td>\n",
       "      <td>2.655721</td>\n",
       "      <td>10.594298</td>\n",
       "      <td>1.789765</td>\n",
       "      <td>2.293917</td>\n",
       "      <td>4.430483</td>\n",
       "      <td>-4.754043</td>\n",
       "      <td>-1.424962</td>\n",
       "      <td>-1.311710</td>\n",
       "    </tr>\n",
       "  </tbody>\n",
       "</table>\n",
       "<p>2 rows × 101 columns</p>\n",
       "</div>"
      ],
      "text/plain": [
       "       target          0         1         2          3         4         5  \\\n",
       "16557       0  21.803498  0.751091  3.359956 -39.884887 -1.139280 -2.911881   \n",
       "20716       0 -33.216827  7.106028 -5.442742 -27.143765 -3.390259 -8.025964   \n",
       "\n",
       "               6         7         8  ...         90        91        92  \\\n",
       "16557   0.656389  3.968785  2.807057  ...  25.106882 -2.096710 -3.502590   \n",
       "20716 -15.404630  3.327481  5.275560  ... -30.718618 -2.039477  2.655721   \n",
       "\n",
       "              93        94        95        96        97        98        99  \n",
       "16557   1.419765  1.785958  3.374665  2.641380  4.155147  0.505827 -0.213112  \n",
       "20716  10.594298  1.789765  2.293917  4.430483 -4.754043 -1.424962 -1.311710  \n",
       "\n",
       "[2 rows x 101 columns]"
      ]
     },
     "metadata": {},
     "output_type": "display_data"
    },
    {
     "data": {
      "text/plain": [
       "(27000, 101)"
      ]
     },
     "metadata": {},
     "output_type": "display_data"
    },
    {
     "data": {
      "text/html": [
       "<div>\n",
       "<style scoped>\n",
       "    .dataframe tbody tr th:only-of-type {\n",
       "        vertical-align: middle;\n",
       "    }\n",
       "\n",
       "    .dataframe tbody tr th {\n",
       "        vertical-align: top;\n",
       "    }\n",
       "\n",
       "    .dataframe thead th {\n",
       "        text-align: right;\n",
       "    }\n",
       "</style>\n",
       "<table border=\"1\" class=\"dataframe\">\n",
       "  <thead>\n",
       "    <tr style=\"text-align: right;\">\n",
       "      <th></th>\n",
       "      <th>target</th>\n",
       "      <th>0</th>\n",
       "      <th>1</th>\n",
       "      <th>2</th>\n",
       "      <th>3</th>\n",
       "      <th>4</th>\n",
       "      <th>5</th>\n",
       "      <th>6</th>\n",
       "      <th>7</th>\n",
       "      <th>8</th>\n",
       "      <th>...</th>\n",
       "      <th>90</th>\n",
       "      <th>91</th>\n",
       "      <th>92</th>\n",
       "      <th>93</th>\n",
       "      <th>94</th>\n",
       "      <th>95</th>\n",
       "      <th>96</th>\n",
       "      <th>97</th>\n",
       "      <th>98</th>\n",
       "      <th>99</th>\n",
       "    </tr>\n",
       "  </thead>\n",
       "  <tbody>\n",
       "    <tr>\n",
       "      <th>2407</th>\n",
       "      <td>1</td>\n",
       "      <td>-15.044999</td>\n",
       "      <td>4.549208</td>\n",
       "      <td>-13.915035</td>\n",
       "      <td>28.868817</td>\n",
       "      <td>7.869188</td>\n",
       "      <td>-1.289404</td>\n",
       "      <td>2.623440</td>\n",
       "      <td>6.545484</td>\n",
       "      <td>3.020152</td>\n",
       "      <td>...</td>\n",
       "      <td>-24.690075</td>\n",
       "      <td>4.461840</td>\n",
       "      <td>-3.540316</td>\n",
       "      <td>-2.411477</td>\n",
       "      <td>6.480760</td>\n",
       "      <td>-6.974903</td>\n",
       "      <td>4.985769</td>\n",
       "      <td>8.145822</td>\n",
       "      <td>-3.065228</td>\n",
       "      <td>-0.931803</td>\n",
       "    </tr>\n",
       "    <tr>\n",
       "      <th>11486</th>\n",
       "      <td>1</td>\n",
       "      <td>-1.238037</td>\n",
       "      <td>1.107638</td>\n",
       "      <td>-8.594236</td>\n",
       "      <td>-13.900457</td>\n",
       "      <td>2.945535</td>\n",
       "      <td>-3.256778</td>\n",
       "      <td>1.366858</td>\n",
       "      <td>2.876800</td>\n",
       "      <td>2.568071</td>\n",
       "      <td>...</td>\n",
       "      <td>20.976927</td>\n",
       "      <td>4.927918</td>\n",
       "      <td>2.624420</td>\n",
       "      <td>-1.284751</td>\n",
       "      <td>-2.403286</td>\n",
       "      <td>0.628983</td>\n",
       "      <td>-8.596169</td>\n",
       "      <td>-2.367029</td>\n",
       "      <td>-7.480295</td>\n",
       "      <td>1.037427</td>\n",
       "    </tr>\n",
       "  </tbody>\n",
       "</table>\n",
       "<p>2 rows × 101 columns</p>\n",
       "</div>"
      ],
      "text/plain": [
       "       target          0         1          2          3         4         5  \\\n",
       "2407        1 -15.044999  4.549208 -13.915035  28.868817  7.869188 -1.289404   \n",
       "11486       1  -1.238037  1.107638  -8.594236 -13.900457  2.945535 -3.256778   \n",
       "\n",
       "              6         7         8  ...         90        91        92  \\\n",
       "2407   2.623440  6.545484  3.020152  ... -24.690075  4.461840 -3.540316   \n",
       "11486  1.366858  2.876800  2.568071  ...  20.976927  4.927918  2.624420   \n",
       "\n",
       "             93        94        95        96        97        98        99  \n",
       "2407  -2.411477  6.480760 -6.974903  4.985769  8.145822 -3.065228 -0.931803  \n",
       "11486 -1.284751 -2.403286  0.628983 -8.596169 -2.367029 -7.480295  1.037427  \n",
       "\n",
       "[2 rows x 101 columns]"
      ]
     },
     "metadata": {},
     "output_type": "display_data"
    },
    {
     "data": {
      "text/plain": [
       "(3000, 101)"
      ]
     },
     "metadata": {},
     "output_type": "display_data"
    },
    {
     "name": "stdout",
     "output_type": "stream",
     "text": [
      "CPU times: user 196 ms, sys: 12.7 ms, total: 208 ms\n",
      "Wall time: 246 ms\n"
     ]
    }
   ],
   "source": [
    "%%time\n",
    "X_train, X_test, y_train, y_test = train_test_split(X, y, test_size=.1, stratify=y, random_state=1)\n",
    "\n",
    "df_train = pd.concat([y_train, X_train], axis=1)\n",
    "df_val = pd.concat([y_test, X_test], axis=1)\n",
    "\n",
    "display(df_train.tail(2), df_train.shape)\n",
    "display(df_val.tail(2), df_val.shape)"
   ]
  },
  {
   "cell_type": "markdown",
   "metadata": {
    "nteract": {
     "transient": {
      "deleting": false
     }
    }
   },
   "source": [
    "## Exporting to CSV to check file size"
   ]
  },
  {
   "cell_type": "code",
   "execution_count": 4,
   "metadata": {
    "collapsed": true,
    "gather": {
     "logged": 1633502808592
    },
    "jupyter": {
     "outputs_hidden": true
    }
   },
   "outputs": [
    {
     "name": "stdout",
     "output_type": "stream",
     "text": [
      "CPU times: user 3min 20s, sys: 2.28 s, total: 3min 22s\n",
      "Wall time: 3min 52s\n"
     ]
    }
   ],
   "source": [
    "%%time\n",
    "X.to_csv(f\"{nb_dir}/x_350m_combo_100f_rs1.csv\", index=False)\n",
    "# y.to_csv(f\"{nb_dir}/y_350m_combo_100f_rs1.csv\", index=False)"
   ]
  },
  {
   "cell_type": "markdown",
   "metadata": {},
   "source": [
    "## Exporting to Parque, and Uploading to S3"
   ]
  },
  {
   "cell_type": "code",
   "execution_count": 19,
   "metadata": {},
   "outputs": [
    {
     "name": "stdout",
     "output_type": "stream",
     "text": [
      "input spec: s3://sagemaker-experiments-10mill-us-east-1-570124035543/3mill\n",
      "CPU times: user 480 ms, sys: 195 ms, total: 675 ms\n",
      "Wall time: 1.35 s\n"
     ]
    }
   ],
   "source": [
    "%%time\n",
    "# X.columns = X.columns.map(str)\n",
    "# X.to_parquet(f\"{nb_dir}/x_350m_combo_100f_rs1.parquet\", index=False)\n",
    "\n",
    "df_train.columns = df_train.columns.map(str)\n",
    "df_val.columns = df_val.columns.map(str)\n",
    "\n",
    "df_train.to_parquet(f\"{nb_dir}/3mill/train/train_3m_100f_rs1.parquet\", index=False)\n",
    "df_val.to_parquet(f\"{nb_dir}/3mill/val/val_3m_100f_rs1.parquet\", index=False)\n",
    "\n",
    "# Uploading EFS folder \"3mill\" to S3 bucket\n",
    "prefix = \"3mill\"\n",
    "tracker_input_location = sagemaker.Session().upload_data(path=\"3mill\", bucket=bucket, key_prefix=prefix)\n",
    "print(f\"input spec: {tracker_input_location}\")\n",
    "\n",
    "# deleting files in EFS\n",
    "os.remove(f\"{nb_dir}/3mill/train/train_3m_100f_rs1.parquet\")\n",
    "os.remove(f\"{nb_dir}/3mill/val/val_3m_100f_rs1.parquet\")"
   ]
  },
  {
   "cell_type": "markdown",
   "metadata": {},
   "source": [
    "## Importing from CSV files"
   ]
  },
  {
   "cell_type": "code",
   "execution_count": 32,
   "metadata": {
    "gather": {
     "logged": 1633508337147
    }
   },
   "outputs": [],
   "source": [
    "X = pd.read_csv(f\"{nb_dir}/x_100m_combo_100f_rs1.csv\")\n",
    "y = pd.read_csv(f\"{nb_dir}/y_100m_combo_100f_rs1.csv\")"
   ]
  },
  {
   "cell_type": "markdown",
   "metadata": {
    "nteract": {
     "transient": {
      "deleting": false
     }
    }
   },
   "source": [
    "## Displaying X dataframe after export / import"
   ]
  },
  {
   "cell_type": "code",
   "execution_count": 3,
   "metadata": {
    "collapsed": true,
    "gather": {
     "logged": 1633499361576
    },
    "jupyter": {
     "outputs_hidden": true
    },
    "nteract": {
     "transient": {
      "deleting": false
     }
    }
   },
   "outputs": [
    {
     "data": {
      "text/html": [
       "<div>\n",
       "<style scoped>\n",
       "    .dataframe tbody tr th:only-of-type {\n",
       "        vertical-align: middle;\n",
       "    }\n",
       "\n",
       "    .dataframe tbody tr th {\n",
       "        vertical-align: top;\n",
       "    }\n",
       "\n",
       "    .dataframe thead th {\n",
       "        text-align: right;\n",
       "    }\n",
       "</style>\n",
       "<table border=\"1\" class=\"dataframe\">\n",
       "  <thead>\n",
       "    <tr style=\"text-align: right;\">\n",
       "      <th></th>\n",
       "      <th>0</th>\n",
       "      <th>1</th>\n",
       "      <th>2</th>\n",
       "      <th>3</th>\n",
       "      <th>4</th>\n",
       "      <th>5</th>\n",
       "      <th>6</th>\n",
       "      <th>7</th>\n",
       "      <th>8</th>\n",
       "      <th>9</th>\n",
       "      <th>...</th>\n",
       "      <th>90</th>\n",
       "      <th>91</th>\n",
       "      <th>92</th>\n",
       "      <th>93</th>\n",
       "      <th>94</th>\n",
       "      <th>95</th>\n",
       "      <th>96</th>\n",
       "      <th>97</th>\n",
       "      <th>98</th>\n",
       "      <th>99</th>\n",
       "    </tr>\n",
       "  </thead>\n",
       "  <tbody>\n",
       "    <tr>\n",
       "      <th>999995</th>\n",
       "      <td>7.638479</td>\n",
       "      <td>0.147993</td>\n",
       "      <td>-0.374315</td>\n",
       "      <td>-1.905672</td>\n",
       "      <td>2.100724</td>\n",
       "      <td>4.876262</td>\n",
       "      <td>3.539063</td>\n",
       "      <td>3.724045</td>\n",
       "      <td>-0.035807</td>\n",
       "      <td>12.583887</td>\n",
       "      <td>...</td>\n",
       "      <td>-27.349655</td>\n",
       "      <td>3.110569</td>\n",
       "      <td>-0.387177</td>\n",
       "      <td>-0.440046</td>\n",
       "      <td>-3.978399</td>\n",
       "      <td>-3.284399</td>\n",
       "      <td>-5.888020</td>\n",
       "      <td>-2.889172</td>\n",
       "      <td>1.054599</td>\n",
       "      <td>1.856324</td>\n",
       "    </tr>\n",
       "    <tr>\n",
       "      <th>999996</th>\n",
       "      <td>4.952854</td>\n",
       "      <td>-4.907971</td>\n",
       "      <td>-3.874430</td>\n",
       "      <td>3.285434</td>\n",
       "      <td>1.330459</td>\n",
       "      <td>3.820075</td>\n",
       "      <td>-4.343467</td>\n",
       "      <td>-0.446642</td>\n",
       "      <td>0.937792</td>\n",
       "      <td>-5.886366</td>\n",
       "      <td>...</td>\n",
       "      <td>-17.715663</td>\n",
       "      <td>-1.304413</td>\n",
       "      <td>-1.772847</td>\n",
       "      <td>-7.154627</td>\n",
       "      <td>-8.490058</td>\n",
       "      <td>-0.966438</td>\n",
       "      <td>-4.778945</td>\n",
       "      <td>-3.230334</td>\n",
       "      <td>4.550058</td>\n",
       "      <td>2.558468</td>\n",
       "    </tr>\n",
       "    <tr>\n",
       "      <th>999997</th>\n",
       "      <td>11.011109</td>\n",
       "      <td>2.142859</td>\n",
       "      <td>2.234868</td>\n",
       "      <td>6.290689</td>\n",
       "      <td>-1.949660</td>\n",
       "      <td>-11.516185</td>\n",
       "      <td>-1.778527</td>\n",
       "      <td>8.871909</td>\n",
       "      <td>-0.164823</td>\n",
       "      <td>14.109944</td>\n",
       "      <td>...</td>\n",
       "      <td>-23.813726</td>\n",
       "      <td>-4.862410</td>\n",
       "      <td>0.013348</td>\n",
       "      <td>-5.801830</td>\n",
       "      <td>-1.499662</td>\n",
       "      <td>5.745617</td>\n",
       "      <td>7.858887</td>\n",
       "      <td>4.896642</td>\n",
       "      <td>-6.953329</td>\n",
       "      <td>6.986822</td>\n",
       "    </tr>\n",
       "    <tr>\n",
       "      <th>999998</th>\n",
       "      <td>3.451271</td>\n",
       "      <td>6.111332</td>\n",
       "      <td>0.207175</td>\n",
       "      <td>-1.531731</td>\n",
       "      <td>-1.647576</td>\n",
       "      <td>-3.079046</td>\n",
       "      <td>0.488566</td>\n",
       "      <td>2.746394</td>\n",
       "      <td>-0.162541</td>\n",
       "      <td>17.769461</td>\n",
       "      <td>...</td>\n",
       "      <td>35.495048</td>\n",
       "      <td>8.325566</td>\n",
       "      <td>-1.254650</td>\n",
       "      <td>-7.690576</td>\n",
       "      <td>-1.708708</td>\n",
       "      <td>1.298043</td>\n",
       "      <td>-8.494639</td>\n",
       "      <td>3.796856</td>\n",
       "      <td>0.623049</td>\n",
       "      <td>0.414741</td>\n",
       "    </tr>\n",
       "    <tr>\n",
       "      <th>999999</th>\n",
       "      <td>1.207356</td>\n",
       "      <td>-2.188729</td>\n",
       "      <td>2.292431</td>\n",
       "      <td>-3.228291</td>\n",
       "      <td>-1.414930</td>\n",
       "      <td>2.512614</td>\n",
       "      <td>-0.476338</td>\n",
       "      <td>-1.169076</td>\n",
       "      <td>1.948679</td>\n",
       "      <td>7.196266</td>\n",
       "      <td>...</td>\n",
       "      <td>-10.082629</td>\n",
       "      <td>7.062203</td>\n",
       "      <td>0.874893</td>\n",
       "      <td>-4.480021</td>\n",
       "      <td>-2.348454</td>\n",
       "      <td>5.003265</td>\n",
       "      <td>6.683871</td>\n",
       "      <td>-1.251950</td>\n",
       "      <td>2.403161</td>\n",
       "      <td>5.155323</td>\n",
       "    </tr>\n",
       "  </tbody>\n",
       "</table>\n",
       "<p>5 rows × 100 columns</p>\n",
       "</div>"
      ],
      "text/plain": [
       "               0         1         2         3         4          5   \\\n",
       "999995   7.638479  0.147993 -0.374315 -1.905672  2.100724   4.876262   \n",
       "999996   4.952854 -4.907971 -3.874430  3.285434  1.330459   3.820075   \n",
       "999997  11.011109  2.142859  2.234868  6.290689 -1.949660 -11.516185   \n",
       "999998   3.451271  6.111332  0.207175 -1.531731 -1.647576  -3.079046   \n",
       "999999   1.207356 -2.188729  2.292431 -3.228291 -1.414930   2.512614   \n",
       "\n",
       "              6         7         8          9   ...         90        91  \\\n",
       "999995  3.539063  3.724045 -0.035807  12.583887  ... -27.349655  3.110569   \n",
       "999996 -4.343467 -0.446642  0.937792  -5.886366  ... -17.715663 -1.304413   \n",
       "999997 -1.778527  8.871909 -0.164823  14.109944  ... -23.813726 -4.862410   \n",
       "999998  0.488566  2.746394 -0.162541  17.769461  ...  35.495048  8.325566   \n",
       "999999 -0.476338 -1.169076  1.948679   7.196266  ... -10.082629  7.062203   \n",
       "\n",
       "              92        93        94        95        96        97        98  \\\n",
       "999995 -0.387177 -0.440046 -3.978399 -3.284399 -5.888020 -2.889172  1.054599   \n",
       "999996 -1.772847 -7.154627 -8.490058 -0.966438 -4.778945 -3.230334  4.550058   \n",
       "999997  0.013348 -5.801830 -1.499662  5.745617  7.858887  4.896642 -6.953329   \n",
       "999998 -1.254650 -7.690576 -1.708708  1.298043 -8.494639  3.796856  0.623049   \n",
       "999999  0.874893 -4.480021 -2.348454  5.003265  6.683871 -1.251950  2.403161   \n",
       "\n",
       "              99  \n",
       "999995  1.856324  \n",
       "999996  2.558468  \n",
       "999997  6.986822  \n",
       "999998  0.414741  \n",
       "999999  5.155323  \n",
       "\n",
       "[5 rows x 100 columns]"
      ]
     },
     "metadata": {},
     "output_type": "display_data"
    }
   ],
   "source": [
    "display(X.tail(5))"
   ]
  },
  {
   "cell_type": "markdown",
   "metadata": {},
   "source": [
    "## Creating Null values"
   ]
  },
  {
   "cell_type": "code",
   "execution_count": 3,
   "metadata": {
    "collapsed": true,
    "gather": {
     "logged": 1633570896761
    },
    "jupyter": {
     "outputs_hidden": true
    }
   },
   "outputs": [
    {
     "name": "stdout",
     "output_type": "stream",
     "text": [
      "0      954\n",
      "1      893\n",
      "2     1045\n",
      "3     1029\n",
      "4      968\n",
      "      ... \n",
      "95    1026\n",
      "96    1021\n",
      "97     969\n",
      "98    1021\n",
      "99     985\n",
      "Length: 100, dtype: int64\n"
     ]
    }
   ],
   "source": [
    "X = X.mask(np.random.random(X.shape) < .001)\n",
    "print(X.isnull().sum())"
   ]
  },
  {
   "cell_type": "markdown",
   "metadata": {},
   "source": [
    "## Dropping rows with null values"
   ]
  },
  {
   "cell_type": "code",
   "execution_count": 8,
   "metadata": {
    "collapsed": true,
    "gather": {
     "logged": 1633497794501
    },
    "jupyter": {
     "outputs_hidden": true
    }
   },
   "outputs": [
    {
     "name": "stdout",
     "output_type": "stream",
     "text": [
      "0     0\n",
      "1     0\n",
      "2     0\n",
      "3     0\n",
      "4     0\n",
      "     ..\n",
      "95    0\n",
      "96    0\n",
      "97    0\n",
      "98    0\n",
      "99    0\n",
      "Length: 100, dtype: int64\n",
      "(819131, 100)\n"
     ]
    }
   ],
   "source": [
    "# X.dropna(inplace=True)\n",
    "print(X.isnull().sum())\n",
    "print(X.shape)"
   ]
  },
  {
   "cell_type": "markdown",
   "metadata": {
    "nteract": {
     "transient": {
      "deleting": false
     }
    }
   },
   "source": [
    "## Train / Test Split for standardization and normalization datasets"
   ]
  },
  {
   "cell_type": "code",
   "execution_count": 4,
   "metadata": {
    "collapsed": true,
    "gather": {
     "logged": 1633839630320
    },
    "jupyter": {
     "outputs_hidden": true
    }
   },
   "outputs": [
    {
     "data": {
      "text/html": [
       "<div>\n",
       "<style scoped>\n",
       "    .dataframe tbody tr th:only-of-type {\n",
       "        vertical-align: middle;\n",
       "    }\n",
       "\n",
       "    .dataframe tbody tr th {\n",
       "        vertical-align: top;\n",
       "    }\n",
       "\n",
       "    .dataframe thead th {\n",
       "        text-align: right;\n",
       "    }\n",
       "</style>\n",
       "<table border=\"1\" class=\"dataframe\">\n",
       "  <thead>\n",
       "    <tr style=\"text-align: right;\">\n",
       "      <th></th>\n",
       "      <th>0</th>\n",
       "      <th>1</th>\n",
       "      <th>2</th>\n",
       "      <th>3</th>\n",
       "      <th>4</th>\n",
       "      <th>5</th>\n",
       "      <th>6</th>\n",
       "      <th>7</th>\n",
       "      <th>8</th>\n",
       "      <th>9</th>\n",
       "      <th>...</th>\n",
       "      <th>90</th>\n",
       "      <th>91</th>\n",
       "      <th>92</th>\n",
       "      <th>93</th>\n",
       "      <th>94</th>\n",
       "      <th>95</th>\n",
       "      <th>96</th>\n",
       "      <th>97</th>\n",
       "      <th>98</th>\n",
       "      <th>99</th>\n",
       "    </tr>\n",
       "  </thead>\n",
       "  <tbody>\n",
       "    <tr>\n",
       "      <th>555867</th>\n",
       "      <td>1.556190</td>\n",
       "      <td>0.020741</td>\n",
       "      <td>0.594385</td>\n",
       "      <td>1.602179</td>\n",
       "      <td>-2.687061</td>\n",
       "      <td>7.625087</td>\n",
       "      <td>5.387809</td>\n",
       "      <td>-5.646649</td>\n",
       "      <td>1.606883</td>\n",
       "      <td>-8.464047</td>\n",
       "      <td>...</td>\n",
       "      <td>-19.094069</td>\n",
       "      <td>-3.341379</td>\n",
       "      <td>-0.106984</td>\n",
       "      <td>-1.739371</td>\n",
       "      <td>-5.572937</td>\n",
       "      <td>0.921987</td>\n",
       "      <td>-2.738149</td>\n",
       "      <td>-6.499573</td>\n",
       "      <td>9.266651</td>\n",
       "      <td>0.374013</td>\n",
       "    </tr>\n",
       "    <tr>\n",
       "      <th>30004</th>\n",
       "      <td>1.786718</td>\n",
       "      <td>0.842391</td>\n",
       "      <td>3.965639</td>\n",
       "      <td>-3.174068</td>\n",
       "      <td>-5.188345</td>\n",
       "      <td>2.015973</td>\n",
       "      <td>-4.584984</td>\n",
       "      <td>-5.651028</td>\n",
       "      <td>-1.239148</td>\n",
       "      <td>2.752075</td>\n",
       "      <td>...</td>\n",
       "      <td>-8.751383</td>\n",
       "      <td>-7.896658</td>\n",
       "      <td>-1.146884</td>\n",
       "      <td>0.944707</td>\n",
       "      <td>4.804935</td>\n",
       "      <td>3.795107</td>\n",
       "      <td>2.522585</td>\n",
       "      <td>6.395679</td>\n",
       "      <td>-9.984395</td>\n",
       "      <td>4.980221</td>\n",
       "    </tr>\n",
       "    <tr>\n",
       "      <th>124730</th>\n",
       "      <td>-3.222011</td>\n",
       "      <td>-2.431973</td>\n",
       "      <td>4.345308</td>\n",
       "      <td>5.767431</td>\n",
       "      <td>0.497222</td>\n",
       "      <td>-1.337974</td>\n",
       "      <td>-3.637511</td>\n",
       "      <td>1.236147</td>\n",
       "      <td>-0.300381</td>\n",
       "      <td>5.997685</td>\n",
       "      <td>...</td>\n",
       "      <td>9.550286</td>\n",
       "      <td>1.383661</td>\n",
       "      <td>-2.262372</td>\n",
       "      <td>-3.513557</td>\n",
       "      <td>2.771777</td>\n",
       "      <td>-4.568016</td>\n",
       "      <td>-8.681522</td>\n",
       "      <td>-6.421727</td>\n",
       "      <td>-1.138215</td>\n",
       "      <td>-1.814730</td>\n",
       "    </tr>\n",
       "    <tr>\n",
       "      <th>195783</th>\n",
       "      <td>1.681436</td>\n",
       "      <td>0.115790</td>\n",
       "      <td>-0.730524</td>\n",
       "      <td>5.119406</td>\n",
       "      <td>7.808748</td>\n",
       "      <td>-5.768200</td>\n",
       "      <td>-1.952731</td>\n",
       "      <td>-6.920947</td>\n",
       "      <td>0.432778</td>\n",
       "      <td>11.822049</td>\n",
       "      <td>...</td>\n",
       "      <td>31.971540</td>\n",
       "      <td>11.068442</td>\n",
       "      <td>1.350913</td>\n",
       "      <td>6.448380</td>\n",
       "      <td>4.515823</td>\n",
       "      <td>2.133800</td>\n",
       "      <td>4.039534</td>\n",
       "      <td>0.323831</td>\n",
       "      <td>-5.551352</td>\n",
       "      <td>14.834031</td>\n",
       "    </tr>\n",
       "    <tr>\n",
       "      <th>32132</th>\n",
       "      <td>0.118524</td>\n",
       "      <td>1.635251</td>\n",
       "      <td>-2.128314</td>\n",
       "      <td>-5.030704</td>\n",
       "      <td>2.850023</td>\n",
       "      <td>7.090865</td>\n",
       "      <td>-3.217605</td>\n",
       "      <td>-3.202147</td>\n",
       "      <td>1.142939</td>\n",
       "      <td>10.396271</td>\n",
       "      <td>...</td>\n",
       "      <td>27.270797</td>\n",
       "      <td>-4.727120</td>\n",
       "      <td>0.120959</td>\n",
       "      <td>7.104006</td>\n",
       "      <td>6.068772</td>\n",
       "      <td>2.256933</td>\n",
       "      <td>-5.403182</td>\n",
       "      <td>3.784903</td>\n",
       "      <td>-7.736136</td>\n",
       "      <td>-2.790082</td>\n",
       "    </tr>\n",
       "  </tbody>\n",
       "</table>\n",
       "<p>5 rows × 100 columns</p>\n",
       "</div>"
      ],
      "text/plain": [
       "              0         1         2         3         4         5         6   \\\n",
       "555867  1.556190  0.020741  0.594385  1.602179 -2.687061  7.625087  5.387809   \n",
       "30004   1.786718  0.842391  3.965639 -3.174068 -5.188345  2.015973 -4.584984   \n",
       "124730 -3.222011 -2.431973  4.345308  5.767431  0.497222 -1.337974 -3.637511   \n",
       "195783  1.681436  0.115790 -0.730524  5.119406  7.808748 -5.768200 -1.952731   \n",
       "32132   0.118524  1.635251 -2.128314 -5.030704  2.850023  7.090865 -3.217605   \n",
       "\n",
       "              7         8          9   ...         90         91        92  \\\n",
       "555867 -5.646649  1.606883  -8.464047  ... -19.094069  -3.341379 -0.106984   \n",
       "30004  -5.651028 -1.239148   2.752075  ...  -8.751383  -7.896658 -1.146884   \n",
       "124730  1.236147 -0.300381   5.997685  ...   9.550286   1.383661 -2.262372   \n",
       "195783 -6.920947  0.432778  11.822049  ...  31.971540  11.068442  1.350913   \n",
       "32132  -3.202147  1.142939  10.396271  ...  27.270797  -4.727120  0.120959   \n",
       "\n",
       "              93        94        95        96        97        98         99  \n",
       "555867 -1.739371 -5.572937  0.921987 -2.738149 -6.499573  9.266651   0.374013  \n",
       "30004   0.944707  4.804935  3.795107  2.522585  6.395679 -9.984395   4.980221  \n",
       "124730 -3.513557  2.771777 -4.568016 -8.681522 -6.421727 -1.138215  -1.814730  \n",
       "195783  6.448380  4.515823  2.133800  4.039534  0.323831 -5.551352  14.834031  \n",
       "32132   7.104006  6.068772  2.256933 -5.403182  3.784903 -7.736136  -2.790082  \n",
       "\n",
       "[5 rows x 100 columns]"
      ]
     },
     "metadata": {},
     "output_type": "display_data"
    }
   ],
   "source": [
    "X_train, X_test, y_train, y_test = train_test_split(X, y, test_size=.2, random_state=1)\n",
    "display(X_test.tail(5))"
   ]
  },
  {
   "cell_type": "markdown",
   "metadata": {},
   "source": [
    "## StandardScaling the dataset"
   ]
  },
  {
   "cell_type": "code",
   "execution_count": 5,
   "metadata": {
    "collapsed": true,
    "gather": {
     "logged": 1633572519880
    },
    "jupyter": {
     "outputs_hidden": true
    }
   },
   "outputs": [
    {
     "data": {
      "text/html": [
       "<div>\n",
       "<style scoped>\n",
       "    .dataframe tbody tr th:only-of-type {\n",
       "        vertical-align: middle;\n",
       "    }\n",
       "\n",
       "    .dataframe tbody tr th {\n",
       "        vertical-align: top;\n",
       "    }\n",
       "\n",
       "    .dataframe thead th {\n",
       "        text-align: right;\n",
       "    }\n",
       "</style>\n",
       "<table border=\"1\" class=\"dataframe\">\n",
       "  <thead>\n",
       "    <tr style=\"text-align: right;\">\n",
       "      <th></th>\n",
       "      <th>0</th>\n",
       "      <th>1</th>\n",
       "      <th>2</th>\n",
       "      <th>3</th>\n",
       "      <th>4</th>\n",
       "      <th>5</th>\n",
       "      <th>6</th>\n",
       "      <th>7</th>\n",
       "      <th>8</th>\n",
       "      <th>9</th>\n",
       "      <th>...</th>\n",
       "      <th>90</th>\n",
       "      <th>91</th>\n",
       "      <th>92</th>\n",
       "      <th>93</th>\n",
       "      <th>94</th>\n",
       "      <th>95</th>\n",
       "      <th>96</th>\n",
       "      <th>97</th>\n",
       "      <th>98</th>\n",
       "      <th>99</th>\n",
       "    </tr>\n",
       "  </thead>\n",
       "  <tbody>\n",
       "    <tr>\n",
       "      <th>199995</th>\n",
       "      <td>0.233911</td>\n",
       "      <td>-0.130826</td>\n",
       "      <td>-0.080120</td>\n",
       "      <td>0.499653</td>\n",
       "      <td>-0.343484</td>\n",
       "      <td>1.331276</td>\n",
       "      <td>NaN</td>\n",
       "      <td>-1.220713</td>\n",
       "      <td>1.609098</td>\n",
       "      <td>-0.448855</td>\n",
       "      <td>...</td>\n",
       "      <td>-0.729704</td>\n",
       "      <td>-0.660655</td>\n",
       "      <td>-0.107167</td>\n",
       "      <td>-0.261025</td>\n",
       "      <td>-1.109475</td>\n",
       "      <td>0.173521</td>\n",
       "      <td>-0.463218</td>\n",
       "      <td>-1.449980</td>\n",
       "      <td>1.919288</td>\n",
       "      <td>0.014306</td>\n",
       "    </tr>\n",
       "    <tr>\n",
       "      <th>199996</th>\n",
       "      <td>0.280302</td>\n",
       "      <td>0.029519</td>\n",
       "      <td>0.585562</td>\n",
       "      <td>-0.415024</td>\n",
       "      <td>-0.852435</td>\n",
       "      <td>0.252221</td>\n",
       "      <td>-0.856933</td>\n",
       "      <td>-1.221555</td>\n",
       "      <td>-1.238648</td>\n",
       "      <td>0.039377</td>\n",
       "      <td>...</td>\n",
       "      <td>-0.334577</td>\n",
       "      <td>-1.487878</td>\n",
       "      <td>-1.147050</td>\n",
       "      <td>0.260386</td>\n",
       "      <td>0.953966</td>\n",
       "      <td>0.712951</td>\n",
       "      <td>0.533857</td>\n",
       "      <td>1.040999</td>\n",
       "      <td>-1.678566</td>\n",
       "      <td>0.907074</td>\n",
       "    </tr>\n",
       "    <tr>\n",
       "      <th>199997</th>\n",
       "      <td>-0.727635</td>\n",
       "      <td>-0.609473</td>\n",
       "      <td>0.660531</td>\n",
       "      <td>1.297321</td>\n",
       "      <td>0.304441</td>\n",
       "      <td>-0.392995</td>\n",
       "      <td>-0.679574</td>\n",
       "      <td>0.102822</td>\n",
       "      <td>-0.299315</td>\n",
       "      <td>0.180656</td>\n",
       "      <td>...</td>\n",
       "      <td>0.364610</td>\n",
       "      <td>0.197396</td>\n",
       "      <td>-2.262521</td>\n",
       "      <td>-0.605680</td>\n",
       "      <td>0.549712</td>\n",
       "      <td>-0.857230</td>\n",
       "      <td>-1.589675</td>\n",
       "      <td>-1.434942</td>\n",
       "      <td>-0.025291</td>\n",
       "      <td>-0.409913</td>\n",
       "    </tr>\n",
       "    <tr>\n",
       "      <th>199998</th>\n",
       "      <td>0.259115</td>\n",
       "      <td>-0.112277</td>\n",
       "      <td>-0.341734</td>\n",
       "      <td>1.173220</td>\n",
       "      <td>1.792161</td>\n",
       "      <td>-1.245261</td>\n",
       "      <td>-0.364197</td>\n",
       "      <td>-1.465756</td>\n",
       "      <td>0.434286</td>\n",
       "      <td>0.434187</td>\n",
       "      <td>...</td>\n",
       "      <td>1.221180</td>\n",
       "      <td>1.956119</td>\n",
       "      <td>1.350707</td>\n",
       "      <td>1.329534</td>\n",
       "      <td>0.896482</td>\n",
       "      <td>0.401040</td>\n",
       "      <td>0.821366</td>\n",
       "      <td>-0.131902</td>\n",
       "      <td>-0.850068</td>\n",
       "      <td>2.816924</td>\n",
       "    </tr>\n",
       "    <tr>\n",
       "      <th>199999</th>\n",
       "      <td>-0.055399</td>\n",
       "      <td>0.184245</td>\n",
       "      <td>-0.617739</td>\n",
       "      <td>-0.770580</td>\n",
       "      <td>0.783180</td>\n",
       "      <td>1.228505</td>\n",
       "      <td>-0.600971</td>\n",
       "      <td>-0.750645</td>\n",
       "      <td>1.144874</td>\n",
       "      <td>0.372124</td>\n",
       "      <td>...</td>\n",
       "      <td>1.041595</td>\n",
       "      <td>-0.912301</td>\n",
       "      <td>0.120773</td>\n",
       "      <td>1.456896</td>\n",
       "      <td>1.205256</td>\n",
       "      <td>0.424158</td>\n",
       "      <td>-0.968326</td>\n",
       "      <td>0.536675</td>\n",
       "      <td>-1.258386</td>\n",
       "      <td>-0.598954</td>\n",
       "    </tr>\n",
       "  </tbody>\n",
       "</table>\n",
       "<p>5 rows × 100 columns</p>\n",
       "</div>"
      ],
      "text/plain": [
       "              0         1         2         3         4         5         6   \\\n",
       "199995  0.233911 -0.130826 -0.080120  0.499653 -0.343484  1.331276       NaN   \n",
       "199996  0.280302  0.029519  0.585562 -0.415024 -0.852435  0.252221 -0.856933   \n",
       "199997 -0.727635 -0.609473  0.660531  1.297321  0.304441 -0.392995 -0.679574   \n",
       "199998  0.259115 -0.112277 -0.341734  1.173220  1.792161 -1.245261 -0.364197   \n",
       "199999 -0.055399  0.184245 -0.617739 -0.770580  0.783180  1.228505 -0.600971   \n",
       "\n",
       "              7         8         9   ...        90        91        92  \\\n",
       "199995 -1.220713  1.609098 -0.448855  ... -0.729704 -0.660655 -0.107167   \n",
       "199996 -1.221555 -1.238648  0.039377  ... -0.334577 -1.487878 -1.147050   \n",
       "199997  0.102822 -0.299315  0.180656  ...  0.364610  0.197396 -2.262521   \n",
       "199998 -1.465756  0.434286  0.434187  ...  1.221180  1.956119  1.350707   \n",
       "199999 -0.750645  1.144874  0.372124  ...  1.041595 -0.912301  0.120773   \n",
       "\n",
       "              93        94        95        96        97        98        99  \n",
       "199995 -0.261025 -1.109475  0.173521 -0.463218 -1.449980  1.919288  0.014306  \n",
       "199996  0.260386  0.953966  0.712951  0.533857  1.040999 -1.678566  0.907074  \n",
       "199997 -0.605680  0.549712 -0.857230 -1.589675 -1.434942 -0.025291 -0.409913  \n",
       "199998  1.329534  0.896482  0.401040  0.821366 -0.131902 -0.850068  2.816924  \n",
       "199999  1.456896  1.205256  0.424158 -0.968326  0.536675 -1.258386 -0.598954  \n",
       "\n",
       "[5 rows x 100 columns]"
      ]
     },
     "metadata": {},
     "output_type": "display_data"
    },
    {
     "data": {
      "text/html": [
       "<div>\n",
       "<style scoped>\n",
       "    .dataframe tbody tr th:only-of-type {\n",
       "        vertical-align: middle;\n",
       "    }\n",
       "\n",
       "    .dataframe tbody tr th {\n",
       "        vertical-align: top;\n",
       "    }\n",
       "\n",
       "    .dataframe thead th {\n",
       "        text-align: right;\n",
       "    }\n",
       "</style>\n",
       "<table border=\"1\" class=\"dataframe\">\n",
       "  <thead>\n",
       "    <tr style=\"text-align: right;\">\n",
       "      <th></th>\n",
       "      <th>0</th>\n",
       "      <th>1</th>\n",
       "      <th>2</th>\n",
       "      <th>3</th>\n",
       "      <th>4</th>\n",
       "      <th>5</th>\n",
       "      <th>6</th>\n",
       "      <th>7</th>\n",
       "      <th>8</th>\n",
       "      <th>9</th>\n",
       "      <th>...</th>\n",
       "      <th>90</th>\n",
       "      <th>91</th>\n",
       "      <th>92</th>\n",
       "      <th>93</th>\n",
       "      <th>94</th>\n",
       "      <th>95</th>\n",
       "      <th>96</th>\n",
       "      <th>97</th>\n",
       "      <th>98</th>\n",
       "      <th>99</th>\n",
       "    </tr>\n",
       "  </thead>\n",
       "  <tbody>\n",
       "    <tr>\n",
       "      <th>799995</th>\n",
       "      <td>-0.109773</td>\n",
       "      <td>1.311153</td>\n",
       "      <td>0.250414</td>\n",
       "      <td>-0.066658</td>\n",
       "      <td>-1.062258</td>\n",
       "      <td>-1.270989</td>\n",
       "      <td>-2.257541</td>\n",
       "      <td>0.174360</td>\n",
       "      <td>-0.277618</td>\n",
       "      <td>0.509769</td>\n",
       "      <td>...</td>\n",
       "      <td>1.738462</td>\n",
       "      <td>1.029706</td>\n",
       "      <td>0.248588</td>\n",
       "      <td>-1.180291</td>\n",
       "      <td>-0.794314</td>\n",
       "      <td>-0.446755</td>\n",
       "      <td>-1.150908</td>\n",
       "      <td>1.905051</td>\n",
       "      <td>-0.103247</td>\n",
       "      <td>0.427607</td>\n",
       "    </tr>\n",
       "    <tr>\n",
       "      <th>799996</th>\n",
       "      <td>-0.242395</td>\n",
       "      <td>-0.683968</td>\n",
       "      <td>-1.038902</td>\n",
       "      <td>-0.798364</td>\n",
       "      <td>0.587775</td>\n",
       "      <td>-0.141138</td>\n",
       "      <td>-0.939603</td>\n",
       "      <td>-2.400898</td>\n",
       "      <td>-0.014131</td>\n",
       "      <td>-0.568141</td>\n",
       "      <td>...</td>\n",
       "      <td>0.029812</td>\n",
       "      <td>-0.203461</td>\n",
       "      <td>-0.066536</td>\n",
       "      <td>1.182214</td>\n",
       "      <td>-1.158379</td>\n",
       "      <td>0.656318</td>\n",
       "      <td>-1.107388</td>\n",
       "      <td>0.202305</td>\n",
       "      <td>-0.534834</td>\n",
       "      <td>-1.292867</td>\n",
       "    </tr>\n",
       "    <tr>\n",
       "      <th>799997</th>\n",
       "      <td>1.053083</td>\n",
       "      <td>0.432548</td>\n",
       "      <td>-0.000441</td>\n",
       "      <td>1.199118</td>\n",
       "      <td>-0.300708</td>\n",
       "      <td>-0.782744</td>\n",
       "      <td>1.913385</td>\n",
       "      <td>0.965855</td>\n",
       "      <td>-0.266271</td>\n",
       "      <td>1.847446</td>\n",
       "      <td>...</td>\n",
       "      <td>-0.713098</td>\n",
       "      <td>-0.471744</td>\n",
       "      <td>-1.189857</td>\n",
       "      <td>0.795317</td>\n",
       "      <td>-0.654417</td>\n",
       "      <td>-0.820345</td>\n",
       "      <td>2.053118</td>\n",
       "      <td>0.623389</td>\n",
       "      <td>1.967429</td>\n",
       "      <td>-1.965470</td>\n",
       "    </tr>\n",
       "    <tr>\n",
       "      <th>799998</th>\n",
       "      <td>-0.887637</td>\n",
       "      <td>0.062255</td>\n",
       "      <td>1.322206</td>\n",
       "      <td>-0.474792</td>\n",
       "      <td>0.172709</td>\n",
       "      <td>-0.296926</td>\n",
       "      <td>-0.195020</td>\n",
       "      <td>1.331353</td>\n",
       "      <td>-1.431327</td>\n",
       "      <td>0.418113</td>\n",
       "      <td>...</td>\n",
       "      <td>-1.617757</td>\n",
       "      <td>0.085753</td>\n",
       "      <td>0.214746</td>\n",
       "      <td>0.008300</td>\n",
       "      <td>1.259090</td>\n",
       "      <td>0.002474</td>\n",
       "      <td>0.131515</td>\n",
       "      <td>-1.188850</td>\n",
       "      <td>-0.710652</td>\n",
       "      <td>-0.046732</td>\n",
       "    </tr>\n",
       "    <tr>\n",
       "      <th>799999</th>\n",
       "      <td>0.357036</td>\n",
       "      <td>0.104450</td>\n",
       "      <td>-0.532406</td>\n",
       "      <td>-0.065055</td>\n",
       "      <td>1.065071</td>\n",
       "      <td>-0.116699</td>\n",
       "      <td>-1.105223</td>\n",
       "      <td>-0.416875</td>\n",
       "      <td>0.505610</td>\n",
       "      <td>-2.261770</td>\n",
       "      <td>...</td>\n",
       "      <td>-0.766303</td>\n",
       "      <td>-1.359875</td>\n",
       "      <td>1.582313</td>\n",
       "      <td>0.023070</td>\n",
       "      <td>0.884665</td>\n",
       "      <td>-0.247674</td>\n",
       "      <td>-0.758388</td>\n",
       "      <td>1.448304</td>\n",
       "      <td>1.018088</td>\n",
       "      <td>-0.641026</td>\n",
       "    </tr>\n",
       "  </tbody>\n",
       "</table>\n",
       "<p>5 rows × 100 columns</p>\n",
       "</div>"
      ],
      "text/plain": [
       "              0         1         2         3         4         5         6   \\\n",
       "799995 -0.109773  1.311153  0.250414 -0.066658 -1.062258 -1.270989 -2.257541   \n",
       "799996 -0.242395 -0.683968 -1.038902 -0.798364  0.587775 -0.141138 -0.939603   \n",
       "799997  1.053083  0.432548 -0.000441  1.199118 -0.300708 -0.782744  1.913385   \n",
       "799998 -0.887637  0.062255  1.322206 -0.474792  0.172709 -0.296926 -0.195020   \n",
       "799999  0.357036  0.104450 -0.532406 -0.065055  1.065071 -0.116699 -1.105223   \n",
       "\n",
       "              7         8         9   ...        90        91        92  \\\n",
       "799995  0.174360 -0.277618  0.509769  ...  1.738462  1.029706  0.248588   \n",
       "799996 -2.400898 -0.014131 -0.568141  ...  0.029812 -0.203461 -0.066536   \n",
       "799997  0.965855 -0.266271  1.847446  ... -0.713098 -0.471744 -1.189857   \n",
       "799998  1.331353 -1.431327  0.418113  ... -1.617757  0.085753  0.214746   \n",
       "799999 -0.416875  0.505610 -2.261770  ... -0.766303 -1.359875  1.582313   \n",
       "\n",
       "              93        94        95        96        97        98        99  \n",
       "799995 -1.180291 -0.794314 -0.446755 -1.150908  1.905051 -0.103247  0.427607  \n",
       "799996  1.182214 -1.158379  0.656318 -1.107388  0.202305 -0.534834 -1.292867  \n",
       "799997  0.795317 -0.654417 -0.820345  2.053118  0.623389  1.967429 -1.965470  \n",
       "799998  0.008300  1.259090  0.002474  0.131515 -1.188850 -0.710652 -0.046732  \n",
       "799999  0.023070  0.884665 -0.247674 -0.758388  1.448304  1.018088 -0.641026  \n",
       "\n",
       "[5 rows x 100 columns]"
      ]
     },
     "metadata": {},
     "output_type": "display_data"
    }
   ],
   "source": [
    "from sklearn.preprocessing import StandardScaler\n",
    "scaler = StandardScaler()\n",
    "scaler.fit(X_train)\n",
    "X_train_s = pd.DataFrame(scaler.transform(X_train))\n",
    "X_test_s = pd.DataFrame(scaler.transform(X_test))\n",
    "\n",
    "display(X_test_s.tail(5))\n",
    "display(X_train_s.tail(5))"
   ]
  },
  {
   "cell_type": "markdown",
   "metadata": {
    "nteract": {
     "transient": {
      "deleting": false
     }
    }
   },
   "source": [
    "## MinMax Scaling the dataset"
   ]
  },
  {
   "cell_type": "code",
   "execution_count": 7,
   "metadata": {
    "collapsed": true,
    "gather": {
     "logged": 1633572550057
    },
    "jupyter": {
     "outputs_hidden": true
    },
    "nteract": {
     "transient": {
      "deleting": false
     }
    }
   },
   "outputs": [
    {
     "data": {
      "text/html": [
       "<div>\n",
       "<style scoped>\n",
       "    .dataframe tbody tr th:only-of-type {\n",
       "        vertical-align: middle;\n",
       "    }\n",
       "\n",
       "    .dataframe tbody tr th {\n",
       "        vertical-align: top;\n",
       "    }\n",
       "\n",
       "    .dataframe thead th {\n",
       "        text-align: right;\n",
       "    }\n",
       "</style>\n",
       "<table border=\"1\" class=\"dataframe\">\n",
       "  <thead>\n",
       "    <tr style=\"text-align: right;\">\n",
       "      <th></th>\n",
       "      <th>0</th>\n",
       "      <th>1</th>\n",
       "      <th>2</th>\n",
       "      <th>3</th>\n",
       "      <th>4</th>\n",
       "      <th>5</th>\n",
       "      <th>6</th>\n",
       "      <th>7</th>\n",
       "      <th>8</th>\n",
       "      <th>9</th>\n",
       "      <th>...</th>\n",
       "      <th>90</th>\n",
       "      <th>91</th>\n",
       "      <th>92</th>\n",
       "      <th>93</th>\n",
       "      <th>94</th>\n",
       "      <th>95</th>\n",
       "      <th>96</th>\n",
       "      <th>97</th>\n",
       "      <th>98</th>\n",
       "      <th>99</th>\n",
       "    </tr>\n",
       "  </thead>\n",
       "  <tbody>\n",
       "    <tr>\n",
       "      <th>199995</th>\n",
       "      <td>0.537131</td>\n",
       "      <td>0.454154</td>\n",
       "      <td>0.518492</td>\n",
       "      <td>0.560652</td>\n",
       "      <td>0.494506</td>\n",
       "      <td>0.619928</td>\n",
       "      <td>NaN</td>\n",
       "      <td>0.360612</td>\n",
       "      <td>0.675717</td>\n",
       "      <td>0.455385</td>\n",
       "      <td>...</td>\n",
       "      <td>0.399148</td>\n",
       "      <td>0.464638</td>\n",
       "      <td>0.522966</td>\n",
       "      <td>0.463583</td>\n",
       "      <td>0.390091</td>\n",
       "      <td>0.531989</td>\n",
       "      <td>0.449073</td>\n",
       "      <td>0.363569</td>\n",
       "      <td>0.725550</td>\n",
       "      <td>0.520679</td>\n",
       "    </tr>\n",
       "    <tr>\n",
       "      <th>199996</th>\n",
       "      <td>0.541848</td>\n",
       "      <td>0.470346</td>\n",
       "      <td>0.585812</td>\n",
       "      <td>0.466083</td>\n",
       "      <td>0.445064</td>\n",
       "      <td>0.511950</td>\n",
       "      <td>0.393341</td>\n",
       "      <td>0.360525</td>\n",
       "      <td>0.379102</td>\n",
       "      <td>0.505550</td>\n",
       "      <td>...</td>\n",
       "      <td>0.440411</td>\n",
       "      <td>0.382849</td>\n",
       "      <td>0.410560</td>\n",
       "      <td>0.516995</td>\n",
       "      <td>0.610566</td>\n",
       "      <td>0.589461</td>\n",
       "      <td>0.556168</td>\n",
       "      <td>0.615147</td>\n",
       "      <td>0.354379</td>\n",
       "      <td>0.610304</td>\n",
       "    </tr>\n",
       "    <tr>\n",
       "      <th>199997</th>\n",
       "      <td>0.439360</td>\n",
       "      <td>0.405818</td>\n",
       "      <td>0.593393</td>\n",
       "      <td>0.643123</td>\n",
       "      <td>0.557449</td>\n",
       "      <td>0.447385</td>\n",
       "      <td>0.412022</td>\n",
       "      <td>0.498258</td>\n",
       "      <td>0.476941</td>\n",
       "      <td>0.520066</td>\n",
       "      <td>...</td>\n",
       "      <td>0.513428</td>\n",
       "      <td>0.549474</td>\n",
       "      <td>0.289984</td>\n",
       "      <td>0.428277</td>\n",
       "      <td>0.567372</td>\n",
       "      <td>0.422169</td>\n",
       "      <td>0.328082</td>\n",
       "      <td>0.365088</td>\n",
       "      <td>0.524938</td>\n",
       "      <td>0.478091</td>\n",
       "    </tr>\n",
       "    <tr>\n",
       "      <th>199998</th>\n",
       "      <td>0.539694</td>\n",
       "      <td>0.456027</td>\n",
       "      <td>0.492036</td>\n",
       "      <td>0.630292</td>\n",
       "      <td>0.701974</td>\n",
       "      <td>0.362101</td>\n",
       "      <td>0.445241</td>\n",
       "      <td>0.335128</td>\n",
       "      <td>0.553351</td>\n",
       "      <td>0.546116</td>\n",
       "      <td>...</td>\n",
       "      <td>0.602880</td>\n",
       "      <td>0.723361</td>\n",
       "      <td>0.680554</td>\n",
       "      <td>0.626517</td>\n",
       "      <td>0.604424</td>\n",
       "      <td>0.556229</td>\n",
       "      <td>0.587049</td>\n",
       "      <td>0.496689</td>\n",
       "      <td>0.439851</td>\n",
       "      <td>0.802035</td>\n",
       "    </tr>\n",
       "    <tr>\n",
       "      <th>199999</th>\n",
       "      <td>0.507714</td>\n",
       "      <td>0.485971</td>\n",
       "      <td>0.464124</td>\n",
       "      <td>0.429322</td>\n",
       "      <td>0.603956</td>\n",
       "      <td>0.609644</td>\n",
       "      <td>0.420301</td>\n",
       "      <td>0.409499</td>\n",
       "      <td>0.627364</td>\n",
       "      <td>0.539739</td>\n",
       "      <td>...</td>\n",
       "      <td>0.584126</td>\n",
       "      <td>0.439757</td>\n",
       "      <td>0.547605</td>\n",
       "      <td>0.639564</td>\n",
       "      <td>0.637416</td>\n",
       "      <td>0.558692</td>\n",
       "      <td>0.394820</td>\n",
       "      <td>0.564212</td>\n",
       "      <td>0.397727</td>\n",
       "      <td>0.459113</td>\n",
       "    </tr>\n",
       "  </tbody>\n",
       "</table>\n",
       "<p>5 rows × 100 columns</p>\n",
       "</div>"
      ],
      "text/plain": [
       "              0         1         2         3         4         5         6   \\\n",
       "199995  0.537131  0.454154  0.518492  0.560652  0.494506  0.619928       NaN   \n",
       "199996  0.541848  0.470346  0.585812  0.466083  0.445064  0.511950  0.393341   \n",
       "199997  0.439360  0.405818  0.593393  0.643123  0.557449  0.447385  0.412022   \n",
       "199998  0.539694  0.456027  0.492036  0.630292  0.701974  0.362101  0.445241   \n",
       "199999  0.507714  0.485971  0.464124  0.429322  0.603956  0.609644  0.420301   \n",
       "\n",
       "              7         8         9   ...        90        91        92  \\\n",
       "199995  0.360612  0.675717  0.455385  ...  0.399148  0.464638  0.522966   \n",
       "199996  0.360525  0.379102  0.505550  ...  0.440411  0.382849  0.410560   \n",
       "199997  0.498258  0.476941  0.520066  ...  0.513428  0.549474  0.289984   \n",
       "199998  0.335128  0.553351  0.546116  ...  0.602880  0.723361  0.680554   \n",
       "199999  0.409499  0.627364  0.539739  ...  0.584126  0.439757  0.547605   \n",
       "\n",
       "              93        94        95        96        97        98        99  \n",
       "199995  0.463583  0.390091  0.531989  0.449073  0.363569  0.725550  0.520679  \n",
       "199996  0.516995  0.610566  0.589461  0.556168  0.615147  0.354379  0.610304  \n",
       "199997  0.428277  0.567372  0.422169  0.328082  0.365088  0.524938  0.478091  \n",
       "199998  0.626517  0.604424  0.556229  0.587049  0.496689  0.439851  0.802035  \n",
       "199999  0.639564  0.637416  0.558692  0.394820  0.564212  0.397727  0.459113  \n",
       "\n",
       "[5 rows x 100 columns]"
      ]
     },
     "metadata": {},
     "output_type": "display_data"
    },
    {
     "data": {
      "text/html": [
       "<div>\n",
       "<style scoped>\n",
       "    .dataframe tbody tr th:only-of-type {\n",
       "        vertical-align: middle;\n",
       "    }\n",
       "\n",
       "    .dataframe tbody tr th {\n",
       "        vertical-align: top;\n",
       "    }\n",
       "\n",
       "    .dataframe thead th {\n",
       "        text-align: right;\n",
       "    }\n",
       "</style>\n",
       "<table border=\"1\" class=\"dataframe\">\n",
       "  <thead>\n",
       "    <tr style=\"text-align: right;\">\n",
       "      <th></th>\n",
       "      <th>0</th>\n",
       "      <th>1</th>\n",
       "      <th>2</th>\n",
       "      <th>3</th>\n",
       "      <th>4</th>\n",
       "      <th>5</th>\n",
       "      <th>6</th>\n",
       "      <th>7</th>\n",
       "      <th>8</th>\n",
       "      <th>9</th>\n",
       "      <th>...</th>\n",
       "      <th>90</th>\n",
       "      <th>91</th>\n",
       "      <th>92</th>\n",
       "      <th>93</th>\n",
       "      <th>94</th>\n",
       "      <th>95</th>\n",
       "      <th>96</th>\n",
       "      <th>97</th>\n",
       "      <th>98</th>\n",
       "      <th>99</th>\n",
       "    </tr>\n",
       "  </thead>\n",
       "  <tbody>\n",
       "    <tr>\n",
       "      <th>799995</th>\n",
       "      <td>0.502185</td>\n",
       "      <td>0.599771</td>\n",
       "      <td>0.551919</td>\n",
       "      <td>0.502100</td>\n",
       "      <td>0.424681</td>\n",
       "      <td>0.359527</td>\n",
       "      <td>0.245814</td>\n",
       "      <td>0.505698</td>\n",
       "      <td>0.479201</td>\n",
       "      <td>0.553882</td>\n",
       "      <td>...</td>\n",
       "      <td>0.656900</td>\n",
       "      <td>0.631765</td>\n",
       "      <td>0.561421</td>\n",
       "      <td>0.369414</td>\n",
       "      <td>0.423765</td>\n",
       "      <td>0.465902</td>\n",
       "      <td>0.375209</td>\n",
       "      <td>0.702412</td>\n",
       "      <td>0.516896</td>\n",
       "      <td>0.562170</td>\n",
       "    </tr>\n",
       "    <tr>\n",
       "      <th>799996</th>\n",
       "      <td>0.488700</td>\n",
       "      <td>0.398295</td>\n",
       "      <td>0.421533</td>\n",
       "      <td>0.426449</td>\n",
       "      <td>0.584974</td>\n",
       "      <td>0.472588</td>\n",
       "      <td>0.384633</td>\n",
       "      <td>0.237875</td>\n",
       "      <td>0.506645</td>\n",
       "      <td>0.443128</td>\n",
       "      <td>...</td>\n",
       "      <td>0.478465</td>\n",
       "      <td>0.509841</td>\n",
       "      <td>0.527358</td>\n",
       "      <td>0.611426</td>\n",
       "      <td>0.384865</td>\n",
       "      <td>0.583427</td>\n",
       "      <td>0.379884</td>\n",
       "      <td>0.530442</td>\n",
       "      <td>0.472372</td>\n",
       "      <td>0.389451</td>\n",
       "    </tr>\n",
       "    <tr>\n",
       "      <th>799997</th>\n",
       "      <td>0.620425</td>\n",
       "      <td>0.511046</td>\n",
       "      <td>0.526550</td>\n",
       "      <td>0.632970</td>\n",
       "      <td>0.498662</td>\n",
       "      <td>0.408384</td>\n",
       "      <td>0.685139</td>\n",
       "      <td>0.588012</td>\n",
       "      <td>0.480382</td>\n",
       "      <td>0.691327</td>\n",
       "      <td>...</td>\n",
       "      <td>0.400882</td>\n",
       "      <td>0.483316</td>\n",
       "      <td>0.405933</td>\n",
       "      <td>0.571793</td>\n",
       "      <td>0.438713</td>\n",
       "      <td>0.426099</td>\n",
       "      <td>0.719350</td>\n",
       "      <td>0.572970</td>\n",
       "      <td>0.730516</td>\n",
       "      <td>0.321928</td>\n",
       "    </tr>\n",
       "    <tr>\n",
       "      <th>799998</th>\n",
       "      <td>0.423091</td>\n",
       "      <td>0.473652</td>\n",
       "      <td>0.660307</td>\n",
       "      <td>0.459903</td>\n",
       "      <td>0.544652</td>\n",
       "      <td>0.456999</td>\n",
       "      <td>0.463060</td>\n",
       "      <td>0.626023</td>\n",
       "      <td>0.359033</td>\n",
       "      <td>0.544465</td>\n",
       "      <td>...</td>\n",
       "      <td>0.306408</td>\n",
       "      <td>0.538436</td>\n",
       "      <td>0.557763</td>\n",
       "      <td>0.491172</td>\n",
       "      <td>0.643168</td>\n",
       "      <td>0.513765</td>\n",
       "      <td>0.512953</td>\n",
       "      <td>0.389942</td>\n",
       "      <td>0.454233</td>\n",
       "      <td>0.514551</td>\n",
       "    </tr>\n",
       "    <tr>\n",
       "      <th>799999</th>\n",
       "      <td>0.549651</td>\n",
       "      <td>0.477913</td>\n",
       "      <td>0.472754</td>\n",
       "      <td>0.502266</td>\n",
       "      <td>0.631341</td>\n",
       "      <td>0.475033</td>\n",
       "      <td>0.367188</td>\n",
       "      <td>0.444210</td>\n",
       "      <td>0.560780</td>\n",
       "      <td>0.269109</td>\n",
       "      <td>...</td>\n",
       "      <td>0.395326</td>\n",
       "      <td>0.395505</td>\n",
       "      <td>0.705590</td>\n",
       "      <td>0.492685</td>\n",
       "      <td>0.603161</td>\n",
       "      <td>0.487113</td>\n",
       "      <td>0.417369</td>\n",
       "      <td>0.656282</td>\n",
       "      <td>0.632578</td>\n",
       "      <td>0.454889</td>\n",
       "    </tr>\n",
       "  </tbody>\n",
       "</table>\n",
       "<p>5 rows × 100 columns</p>\n",
       "</div>"
      ],
      "text/plain": [
       "              0         1         2         3         4         5         6   \\\n",
       "799995  0.502185  0.599771  0.551919  0.502100  0.424681  0.359527  0.245814   \n",
       "799996  0.488700  0.398295  0.421533  0.426449  0.584974  0.472588  0.384633   \n",
       "799997  0.620425  0.511046  0.526550  0.632970  0.498662  0.408384  0.685139   \n",
       "799998  0.423091  0.473652  0.660307  0.459903  0.544652  0.456999  0.463060   \n",
       "799999  0.549651  0.477913  0.472754  0.502266  0.631341  0.475033  0.367188   \n",
       "\n",
       "              7         8         9   ...        90        91        92  \\\n",
       "799995  0.505698  0.479201  0.553882  ...  0.656900  0.631765  0.561421   \n",
       "799996  0.237875  0.506645  0.443128  ...  0.478465  0.509841  0.527358   \n",
       "799997  0.588012  0.480382  0.691327  ...  0.400882  0.483316  0.405933   \n",
       "799998  0.626023  0.359033  0.544465  ...  0.306408  0.538436  0.557763   \n",
       "799999  0.444210  0.560780  0.269109  ...  0.395326  0.395505  0.705590   \n",
       "\n",
       "              93        94        95        96        97        98        99  \n",
       "799995  0.369414  0.423765  0.465902  0.375209  0.702412  0.516896  0.562170  \n",
       "799996  0.611426  0.384865  0.583427  0.379884  0.530442  0.472372  0.389451  \n",
       "799997  0.571793  0.438713  0.426099  0.719350  0.572970  0.730516  0.321928  \n",
       "799998  0.491172  0.643168  0.513765  0.512953  0.389942  0.454233  0.514551  \n",
       "799999  0.492685  0.603161  0.487113  0.417369  0.656282  0.632578  0.454889  \n",
       "\n",
       "[5 rows x 100 columns]"
      ]
     },
     "metadata": {},
     "output_type": "display_data"
    }
   ],
   "source": [
    "from sklearn.preprocessing import MinMaxScaler\n",
    "MMscaler = MinMaxScaler()\n",
    "MMscaler.fit(X_train_s)\n",
    "\n",
    "X_train_s_mm = pd.DataFrame(MMscaler.transform(X_train_s))\n",
    "X_test_s_mm = pd.DataFrame(MMscaler.transform(X_test_s))\n",
    "\n",
    "display(X_test_s_mm.tail(5))\n",
    "display(X_train_s_mm.tail(5))"
   ]
  },
  {
   "cell_type": "markdown",
   "metadata": {},
   "source": [
    "## Imputing missing values with iterative imputer on Standardized and Normalized Dataset"
   ]
  },
  {
   "cell_type": "code",
   "execution_count": 23,
   "metadata": {
    "collapsed": true,
    "gather": {
     "logged": 1633506696592
    },
    "jupyter": {
     "outputs_hidden": true
    }
   },
   "outputs": [
    {
     "name": "stderr",
     "output_type": "stream",
     "text": [
      "/anaconda/envs/azureml_py38/lib/python3.8/site-packages/sklearn/impute/_iterative.py:637: ConvergenceWarning: [IterativeImputer] Early stopping criterion not reached.\n",
      "  warnings.warn(\"[IterativeImputer] Early stopping criterion not\"\n"
     ]
    },
    {
     "data": {
      "text/plain": [
       "IterativeImputer(add_indicator=False, estimator=None,\n",
       "                 imputation_order='ascending', initial_strategy='mean',\n",
       "                 max_iter=10, max_value=None, min_value=None,\n",
       "                 missing_values=nan, n_nearest_features=None, random_state=None,\n",
       "                 sample_posterior=False, skip_complete=False, tol=0.001,\n",
       "                 verbose=0)"
      ]
     },
     "execution_count": 23,
     "metadata": {},
     "output_type": "execute_result"
    }
   ],
   "source": [
    "imputer = IterativeImputer()\n",
    "imputer.fit(X_test_s_mm)\n",
    "\n",
    "# X_train_s_mm_i = imputer.fit_transform(X_train_s_scaled_mm)\n",
    "# X_train_s_mm_i = pd.DataFrame(X_train_s_mm_i)\n",
    "# display(X.tail(5))\n",
    "# print(f'{X_train_s_mm_i.isnull().sum()}')"
   ]
  },
  {
   "cell_type": "code",
   "execution_count": 25,
   "metadata": {
    "collapsed": true,
    "gather": {
     "logged": 1633507239752
    },
    "jupyter": {
     "outputs_hidden": true
    },
    "nteract": {
     "transient": {
      "deleting": false
     }
    }
   },
   "outputs": [
    {
     "data": {
      "text/html": [
       "<div>\n",
       "<style scoped>\n",
       "    .dataframe tbody tr th:only-of-type {\n",
       "        vertical-align: middle;\n",
       "    }\n",
       "\n",
       "    .dataframe tbody tr th {\n",
       "        vertical-align: top;\n",
       "    }\n",
       "\n",
       "    .dataframe thead th {\n",
       "        text-align: right;\n",
       "    }\n",
       "</style>\n",
       "<table border=\"1\" class=\"dataframe\">\n",
       "  <thead>\n",
       "    <tr style=\"text-align: right;\">\n",
       "      <th></th>\n",
       "      <th>0</th>\n",
       "      <th>1</th>\n",
       "      <th>2</th>\n",
       "      <th>3</th>\n",
       "      <th>4</th>\n",
       "      <th>5</th>\n",
       "      <th>6</th>\n",
       "      <th>7</th>\n",
       "      <th>8</th>\n",
       "      <th>9</th>\n",
       "      <th>...</th>\n",
       "      <th>90</th>\n",
       "      <th>91</th>\n",
       "      <th>92</th>\n",
       "      <th>93</th>\n",
       "      <th>94</th>\n",
       "      <th>95</th>\n",
       "      <th>96</th>\n",
       "      <th>97</th>\n",
       "      <th>98</th>\n",
       "      <th>99</th>\n",
       "    </tr>\n",
       "  </thead>\n",
       "  <tbody>\n",
       "    <tr>\n",
       "      <th>199995</th>\n",
       "      <td>0.537131</td>\n",
       "      <td>0.454154</td>\n",
       "      <td>0.518492</td>\n",
       "      <td>0.560652</td>\n",
       "      <td>0.494506</td>\n",
       "      <td>0.619928</td>\n",
       "      <td>0.589974</td>\n",
       "      <td>0.360612</td>\n",
       "      <td>0.675717</td>\n",
       "      <td>0.455385</td>\n",
       "      <td>...</td>\n",
       "      <td>0.399148</td>\n",
       "      <td>0.464638</td>\n",
       "      <td>0.522966</td>\n",
       "      <td>0.463583</td>\n",
       "      <td>0.390091</td>\n",
       "      <td>0.531989</td>\n",
       "      <td>0.449073</td>\n",
       "      <td>0.363569</td>\n",
       "      <td>0.725550</td>\n",
       "      <td>0.520679</td>\n",
       "    </tr>\n",
       "    <tr>\n",
       "      <th>199996</th>\n",
       "      <td>0.541848</td>\n",
       "      <td>0.470346</td>\n",
       "      <td>0.585812</td>\n",
       "      <td>0.466083</td>\n",
       "      <td>0.445064</td>\n",
       "      <td>0.511950</td>\n",
       "      <td>0.393341</td>\n",
       "      <td>0.360525</td>\n",
       "      <td>0.379102</td>\n",
       "      <td>0.505550</td>\n",
       "      <td>...</td>\n",
       "      <td>0.440411</td>\n",
       "      <td>0.382849</td>\n",
       "      <td>0.410560</td>\n",
       "      <td>0.516995</td>\n",
       "      <td>0.610566</td>\n",
       "      <td>0.589461</td>\n",
       "      <td>0.556168</td>\n",
       "      <td>0.615147</td>\n",
       "      <td>0.354379</td>\n",
       "      <td>0.610304</td>\n",
       "    </tr>\n",
       "    <tr>\n",
       "      <th>199997</th>\n",
       "      <td>0.439360</td>\n",
       "      <td>0.405818</td>\n",
       "      <td>0.593393</td>\n",
       "      <td>0.643123</td>\n",
       "      <td>0.557449</td>\n",
       "      <td>0.447385</td>\n",
       "      <td>0.412022</td>\n",
       "      <td>0.498258</td>\n",
       "      <td>0.476941</td>\n",
       "      <td>0.520066</td>\n",
       "      <td>...</td>\n",
       "      <td>0.513428</td>\n",
       "      <td>0.549474</td>\n",
       "      <td>0.289984</td>\n",
       "      <td>0.428277</td>\n",
       "      <td>0.567372</td>\n",
       "      <td>0.422169</td>\n",
       "      <td>0.328082</td>\n",
       "      <td>0.365088</td>\n",
       "      <td>0.524938</td>\n",
       "      <td>0.478091</td>\n",
       "    </tr>\n",
       "    <tr>\n",
       "      <th>199998</th>\n",
       "      <td>0.539694</td>\n",
       "      <td>0.456027</td>\n",
       "      <td>0.492036</td>\n",
       "      <td>0.630292</td>\n",
       "      <td>0.701974</td>\n",
       "      <td>0.362101</td>\n",
       "      <td>0.445241</td>\n",
       "      <td>0.335128</td>\n",
       "      <td>0.553351</td>\n",
       "      <td>0.546116</td>\n",
       "      <td>...</td>\n",
       "      <td>0.602880</td>\n",
       "      <td>0.723361</td>\n",
       "      <td>0.680554</td>\n",
       "      <td>0.626517</td>\n",
       "      <td>0.604424</td>\n",
       "      <td>0.556229</td>\n",
       "      <td>0.587049</td>\n",
       "      <td>0.496689</td>\n",
       "      <td>0.439851</td>\n",
       "      <td>0.802035</td>\n",
       "    </tr>\n",
       "    <tr>\n",
       "      <th>199999</th>\n",
       "      <td>0.507714</td>\n",
       "      <td>0.485971</td>\n",
       "      <td>0.464124</td>\n",
       "      <td>0.429322</td>\n",
       "      <td>0.603956</td>\n",
       "      <td>0.609644</td>\n",
       "      <td>0.420301</td>\n",
       "      <td>0.409499</td>\n",
       "      <td>0.627364</td>\n",
       "      <td>0.539739</td>\n",
       "      <td>...</td>\n",
       "      <td>0.584126</td>\n",
       "      <td>0.439757</td>\n",
       "      <td>0.547605</td>\n",
       "      <td>0.639564</td>\n",
       "      <td>0.637416</td>\n",
       "      <td>0.558692</td>\n",
       "      <td>0.394820</td>\n",
       "      <td>0.564212</td>\n",
       "      <td>0.397727</td>\n",
       "      <td>0.459113</td>\n",
       "    </tr>\n",
       "  </tbody>\n",
       "</table>\n",
       "<p>5 rows × 100 columns</p>\n",
       "</div>"
      ],
      "text/plain": [
       "              0         1         2         3         4         5         6   \\\n",
       "199995  0.537131  0.454154  0.518492  0.560652  0.494506  0.619928  0.589974   \n",
       "199996  0.541848  0.470346  0.585812  0.466083  0.445064  0.511950  0.393341   \n",
       "199997  0.439360  0.405818  0.593393  0.643123  0.557449  0.447385  0.412022   \n",
       "199998  0.539694  0.456027  0.492036  0.630292  0.701974  0.362101  0.445241   \n",
       "199999  0.507714  0.485971  0.464124  0.429322  0.603956  0.609644  0.420301   \n",
       "\n",
       "              7         8         9   ...        90        91        92  \\\n",
       "199995  0.360612  0.675717  0.455385  ...  0.399148  0.464638  0.522966   \n",
       "199996  0.360525  0.379102  0.505550  ...  0.440411  0.382849  0.410560   \n",
       "199997  0.498258  0.476941  0.520066  ...  0.513428  0.549474  0.289984   \n",
       "199998  0.335128  0.553351  0.546116  ...  0.602880  0.723361  0.680554   \n",
       "199999  0.409499  0.627364  0.539739  ...  0.584126  0.439757  0.547605   \n",
       "\n",
       "              93        94        95        96        97        98        99  \n",
       "199995  0.463583  0.390091  0.531989  0.449073  0.363569  0.725550  0.520679  \n",
       "199996  0.516995  0.610566  0.589461  0.556168  0.615147  0.354379  0.610304  \n",
       "199997  0.428277  0.567372  0.422169  0.328082  0.365088  0.524938  0.478091  \n",
       "199998  0.626517  0.604424  0.556229  0.587049  0.496689  0.439851  0.802035  \n",
       "199999  0.639564  0.637416  0.558692  0.394820  0.564212  0.397727  0.459113  \n",
       "\n",
       "[5 rows x 100 columns]"
      ]
     },
     "metadata": {},
     "output_type": "display_data"
    },
    {
     "name": "stdout",
     "output_type": "stream",
     "text": [
      "0     0\n",
      "1     0\n",
      "2     0\n",
      "3     0\n",
      "4     0\n",
      "     ..\n",
      "95    0\n",
      "96    0\n",
      "97    0\n",
      "98    0\n",
      "99    0\n",
      "Length: 100, dtype: int64\n"
     ]
    }
   ],
   "source": [
    "# X_test_s_mm_i = imputer.transform(X_test_s_mm)\n",
    "X_test_s_mm_i = pd.DataFrame(X_test_s_mm_i)\n",
    "\n",
    "display(X_test_s_mm_i.tail(5))\n",
    "print(f'{X_test_s_mm_i.isnull().sum()}')"
   ]
  },
  {
   "cell_type": "markdown",
   "metadata": {
    "nteract": {
     "transient": {
      "deleting": false
     }
    }
   },
   "source": [
    "## Iterative Imputer on untransformed dataset"
   ]
  },
  {
   "cell_type": "code",
   "execution_count": 5,
   "metadata": {
    "collapsed": true,
    "gather": {
     "logged": 1633840153609
    },
    "jupyter": {
     "outputs_hidden": true
    },
    "nteract": {
     "transient": {
      "deleting": false
     }
    }
   },
   "outputs": [
    {
     "data": {
      "text/plain": [
       "IterativeImputer(add_indicator=False, estimator=None,\n",
       "                 imputation_order='ascending', initial_strategy='mean',\n",
       "                 max_iter=10, max_value=None, min_value=None,\n",
       "                 missing_values=nan, n_nearest_features=None, random_state=None,\n",
       "                 sample_posterior=False, skip_complete=False, tol=0.001,\n",
       "                 verbose=0)"
      ]
     },
     "execution_count": 5,
     "metadata": {},
     "output_type": "execute_result"
    }
   ],
   "source": [
    "%%time\n",
    "imputer = IterativeImputer()\n",
    "imputer.fit(X_test)\n",
    "\n",
    "########\n",
    "# X_train_s_mm_i = imputer.fit_transform(X_train_s_scaled_mm)\n",
    "# X_train_s_mm_i = pd.DataFrame(X_train_s_mm_i)\n",
    "# display(X.tail(5))\n",
    "# print(f'{X_train_s_mm_i.isnull().sum()}')"
   ]
  },
  {
   "cell_type": "code",
   "execution_count": 6,
   "metadata": {
    "collapsed": true,
    "jupyter": {
     "outputs_hidden": true
    },
    "nteract": {
     "transient": {
      "deleting": false
     }
    }
   },
   "outputs": [
    {
     "ename": "NameError",
     "evalue": "name 'X_test_s_mm_i' is not defined",
     "output_type": "error",
     "traceback": [
      "\u001b[0;31m---------------------------------------------------------------------------\u001b[0m",
      "\u001b[0;31mNameError\u001b[0m                                 Traceback (most recent call last)",
      "\u001b[0;32m/tmp/ipykernel_3414/2604339609.py\u001b[0m in \u001b[0;36m<module>\u001b[0;34m\u001b[0m\n\u001b[1;32m      2\u001b[0m \u001b[0mX_test_i\u001b[0m \u001b[0;34m=\u001b[0m \u001b[0mpd\u001b[0m\u001b[0;34m.\u001b[0m\u001b[0mDataFrame\u001b[0m\u001b[0;34m(\u001b[0m\u001b[0mX_test_i\u001b[0m\u001b[0;34m)\u001b[0m\u001b[0;34m\u001b[0m\u001b[0;34m\u001b[0m\u001b[0m\n\u001b[1;32m      3\u001b[0m \u001b[0;34m\u001b[0m\u001b[0m\n\u001b[0;32m----> 4\u001b[0;31m \u001b[0mdisplay\u001b[0m\u001b[0;34m(\u001b[0m\u001b[0mX_test_s_mm_i\u001b[0m\u001b[0;34m.\u001b[0m\u001b[0mtail\u001b[0m\u001b[0;34m(\u001b[0m\u001b[0;36m5\u001b[0m\u001b[0;34m)\u001b[0m\u001b[0;34m)\u001b[0m\u001b[0;34m\u001b[0m\u001b[0;34m\u001b[0m\u001b[0m\n\u001b[0m\u001b[1;32m      5\u001b[0m \u001b[0mprint\u001b[0m\u001b[0;34m(\u001b[0m\u001b[0;34mf'{X_test_s_mm_i.isnull().sum()}'\u001b[0m\u001b[0;34m)\u001b[0m\u001b[0;34m\u001b[0m\u001b[0;34m\u001b[0m\u001b[0m\n",
      "\u001b[0;31mNameError\u001b[0m: name 'X_test_s_mm_i' is not defined"
     ]
    }
   ],
   "source": [
    "X_test_i = imputer.transform(X_test)\n",
    "X_test_i = pd.DataFrame(X_test_i)\n",
    "\n",
    "display(X_test_s_mm_i.tail(5))\n",
    "print(f'{X_test_s_mm_i.isnull().sum()}')"
   ]
  },
  {
   "cell_type": "markdown",
   "metadata": {
    "nteract": {
     "transient": {
      "deleting": false
     }
    }
   },
   "source": [
    "## Exporting dataset after stand/norm/II"
   ]
  },
  {
   "cell_type": "code",
   "execution_count": 26,
   "metadata": {
    "gather": {
     "logged": 1633507597855
    },
    "nteract": {
     "transient": {
      "deleting": false
     }
    }
   },
   "outputs": [],
   "source": [
    "X_test_s_mm_i.to_csv(f\"{nb_dir}/X_test_100m_combo_100f_rs1_smmi.csv\")"
   ]
  },
  {
   "cell_type": "markdown",
   "metadata": {},
   "source": [
    "## Specifying training and validation dataset location in S3"
   ]
  },
  {
   "cell_type": "code",
   "execution_count": 17,
   "metadata": {},
   "outputs": [],
   "source": [
    "s3_train = TrainingInput(s3_data=f's3://{bucket}/{prefix}/train', content_type=\"application/x-parquet\")\n",
    "s3_val = TrainingInput(s3_data=f's3://{bucket}/{prefix}/val', content_type=\"application/x-parquet\")\n",
    "inputs = {'train': s3_train, 'validation': s3_val}"
   ]
  },
  {
   "cell_type": "markdown",
   "metadata": {},
   "source": [
    "## Track custom metrics in experiment metadata by creating a Tracker object"
   ]
  },
  {
   "cell_type": "code",
   "execution_count": 21,
   "metadata": {},
   "outputs": [],
   "source": [
    "normalization_mean = 0.1307\n",
    "normalization_std = 0.3081\n",
    "\n",
    "with Tracker.create(display_name=\"Preprocessing\", sagemaker_boto_client=sm) as tracker:\n",
    "    tracker.log_parameters({\"normalization_mean\": normalization_mean, \"normalization_std\": normalization_std})\n",
    "    tracker.log_input(name=\"10mill-dataset\", media_type=\"s3/uri\", value= tracker_input_location)\n",
    "    \n",
    "preprocessing_trial_component = tracker.trial_component"
   ]
  },
  {
   "cell_type": "markdown",
   "metadata": {},
   "source": [
    "## Creating Experiment"
   ]
  },
  {
   "cell_type": "code",
   "execution_count": 43,
   "metadata": {},
   "outputs": [],
   "source": [
    "exp_10m_datapoints = Experiment.create(experiment_name=\"10m-datapoints-3\", \n",
    "                                       description=\"Trials of experiments using 10 million datapoints or more\", \n",
    "                                       sagemaker_boto_client=sm)"
   ]
  },
  {
   "cell_type": "markdown",
   "metadata": {},
   "source": [
    "## Setting up Hyperparameters to check & downloading Xgboost Image"
   ]
  },
  {
   "cell_type": "code",
   "execution_count": 35,
   "metadata": {},
   "outputs": [
    {
     "name": "stderr",
     "output_type": "stream",
     "text": [
      "INFO:sagemaker.image_uris:Ignoring unnecessary instance type: None.\n"
     ]
    },
    {
     "data": {
      "text/plain": [
       "[{'eta': 0.1, 'num_round': 10},\n",
       " {'eta': 0.1, 'num_round': 20},\n",
       " {'eta': 0.5, 'num_round': 10},\n",
       " {'eta': 0.5, 'num_round': 20}]"
      ]
     },
     "execution_count": 35,
     "metadata": {},
     "output_type": "execute_result"
    }
   ],
   "source": [
    "xgboost_container = sagemaker.image_uris.retrieve(\"xgboost\", region, \"1.3-1\", image_scope='training')\n",
    "\n",
    "\n",
    "hyperparam_options = {\"eta\": [0.1, 0.5], \"num_round\": [10, 20]}\n",
    "hypnames, hypvalues = zip(*hyperparam_options.items())\n",
    "trial_hyperparameter_set = [dict(zip(hypnames, h)) for h in itertools.product(*hypvalues)]\n",
    "trial_hyperparameter_set"
   ]
  },
  {
   "cell_type": "markdown",
   "metadata": {},
   "source": [
    "## Creating TrainingLoop to create multiple Trials and Trial components"
   ]
  },
  {
   "cell_type": "code",
   "execution_count": 48,
   "metadata": {},
   "outputs": [
    {
     "name": "stderr",
     "output_type": "stream",
     "text": [
      "INFO:sagemaker.image_uris:Defaulting to the only supported framework/algorithm version: latest.\n",
      "INFO:sagemaker.image_uris:Ignoring unnecessary instance type: None.\n",
      "INFO:sagemaker:Creating training-job with name: xgboost-credit-risk-training-0-1-10-1635031570\n"
     ]
    },
    {
     "name": "stdout",
     "output_type": "stream",
     "text": [
      "2021-10-23 23:26:11 Starting - Starting the training job...\n",
      "2021-10-23 23:26:34 Starting - Launching requested ML instancesProfilerReport-1635031570: InProgress\n",
      ".........\n",
      "2021-10-23 23:27:54 Starting - Preparing the instances for training.........\n",
      "2021-10-23 23:29:36 Downloading - Downloading input data...\n",
      "2021-10-23 23:30:04 Training - Downloading the training image...\n",
      "2021-10-23 23:30:35 Training - Training image download completed. Training in progress..\u001b[34m[2021-10-23 23:30:35.895 ip-10-0-204-210.ec2.internal:1 INFO utils.py:27] RULE_JOB_STOP_SIGNAL_FILENAME: None\u001b[0m\n",
      "\u001b[34m[2021-10-23:23:30:36:INFO] Imported framework sagemaker_xgboost_container.training\u001b[0m\n",
      "\u001b[34m[2021-10-23:23:30:36:INFO] No GPUs detected (normal if no gpus installed)\u001b[0m\n",
      "\u001b[34m[2021-10-23:23:30:36:INFO] Running XGBoost Sagemaker in algorithm mode\u001b[0m\n",
      "\u001b[34m[2021-10-23:23:30:36:INFO] Single node training.\u001b[0m\n",
      "\u001b[34m[2021-10-23:23:30:36:INFO] Train matrix has 27000 rows and 100 columns\u001b[0m\n",
      "\u001b[34m[2021-10-23:23:30:36:INFO] Validation matrix has 3000 rows\u001b[0m\n",
      "\u001b[34m/miniconda3/lib/python3.7/site-packages/xgboost/training.py:20: UserWarning: Old style callback is deprecated.  See: https://xgboost.readthedocs.io/en/latest/python/callbacks.html\n",
      "  warnings.warn(f'Old style callback is deprecated.  See: {link}', UserWarning)\u001b[0m\n",
      "\u001b[34m[0]#011train-rmse:0.48358#011validation-rmse:0.48546\u001b[0m\n",
      "\u001b[34m[1]#011train-rmse:0.46898#011validation-rmse:0.47219\u001b[0m\n",
      "\u001b[34m[2]#011train-rmse:0.45572#011validation-rmse:0.46043\u001b[0m\n",
      "\u001b[34m[3]#011train-rmse:0.44394#011validation-rmse:0.44997\u001b[0m\n",
      "\u001b[34m[4]#011train-rmse:0.43313#011validation-rmse:0.44098\u001b[0m\n",
      "\u001b[34m[5]#011train-rmse:0.42324#011validation-rmse:0.43271\u001b[0m\n",
      "\u001b[34m[6]#011train-rmse:0.41483#011validation-rmse:0.42592\u001b[0m\n",
      "\u001b[34m[7]#011train-rmse:0.40637#011validation-rmse:0.41875\u001b[0m\n",
      "\u001b[34m[8]#011train-rmse:0.39840#011validation-rmse:0.41241\u001b[0m\n",
      "\u001b[34m[9]#011train-rmse:0.39135#011validation-rmse:0.40675\u001b[0m\n",
      "\n",
      "2021-10-23 23:31:15 Uploading - Uploading generated training model\n",
      "2021-10-23 23:31:15 Completed - Training job completed\n",
      "ProfilerReport-1635031570: NoIssuesFound\n",
      "Training seconds: 77\n",
      "Billable seconds: 77\n"
     ]
    },
    {
     "name": "stderr",
     "output_type": "stream",
     "text": [
      "INFO:sagemaker.image_uris:Defaulting to the only supported framework/algorithm version: latest.\n",
      "INFO:sagemaker.image_uris:Ignoring unnecessary instance type: None.\n",
      "INFO:sagemaker:Creating training-job with name: xgboost-credit-risk-training-0-1-20-1635031893\n"
     ]
    },
    {
     "name": "stdout",
     "output_type": "stream",
     "text": [
      "2021-10-23 23:31:34 Starting - Starting the training job...\n",
      "2021-10-23 23:31:57 Starting - Launching requested ML instancesProfilerReport-1635031893: InProgress\n",
      "......\n",
      "2021-10-23 23:32:57 Starting - Preparing the instances for training............\n",
      "2021-10-23 23:34:58 Downloading - Downloading input data\n",
      "2021-10-23 23:34:58 Training - Downloading the training image.....\n",
      "2021-10-23 23:36:03 Uploading - Uploading generated training model\n",
      "2021-10-23 23:36:03 Completed - Training job completed\n",
      "\u001b[34m[2021-10-23 23:35:42.955 ip-10-0-205-99.ec2.internal:1 INFO utils.py:27] RULE_JOB_STOP_SIGNAL_FILENAME: None\u001b[0m\n",
      "\u001b[34m[2021-10-23:23:35:43:INFO] Imported framework sagemaker_xgboost_container.training\u001b[0m\n",
      "\u001b[34m[2021-10-23:23:35:43:INFO] No GPUs detected (normal if no gpus installed)\u001b[0m\n",
      "\u001b[34m[2021-10-23:23:35:43:INFO] Running XGBoost Sagemaker in algorithm mode\u001b[0m\n",
      "\u001b[34m[2021-10-23:23:35:43:INFO] Single node training.\u001b[0m\n",
      "\u001b[34m[2021-10-23:23:35:43:INFO] Train matrix has 27000 rows and 100 columns\u001b[0m\n",
      "\u001b[34m[2021-10-23:23:35:43:INFO] Validation matrix has 3000 rows\u001b[0m\n",
      "\u001b[34m/miniconda3/lib/python3.7/site-packages/xgboost/training.py:20: UserWarning: Old style callback is deprecated.  See: https://xgboost.readthedocs.io/en/latest/python/callbacks.html\n",
      "  warnings.warn(f'Old style callback is deprecated.  See: {link}', UserWarning)\u001b[0m\n",
      "\u001b[34m[0]#011train-rmse:0.48358#011validation-rmse:0.48546\u001b[0m\n",
      "\u001b[34m[1]#011train-rmse:0.46898#011validation-rmse:0.47219\u001b[0m\n",
      "\u001b[34m[2]#011train-rmse:0.45572#011validation-rmse:0.46043\u001b[0m\n",
      "\u001b[34m[3]#011train-rmse:0.44394#011validation-rmse:0.44997\u001b[0m\n",
      "\u001b[34m[4]#011train-rmse:0.43313#011validation-rmse:0.44098\u001b[0m\n",
      "\u001b[34m[5]#011train-rmse:0.42324#011validation-rmse:0.43271\u001b[0m\n",
      "\u001b[34m[6]#011train-rmse:0.41483#011validation-rmse:0.42592\u001b[0m\n",
      "\u001b[34m[7]#011train-rmse:0.40637#011validation-rmse:0.41875\u001b[0m\n",
      "\u001b[34m[8]#011train-rmse:0.39840#011validation-rmse:0.41241\u001b[0m\n",
      "\u001b[34m[9]#011train-rmse:0.39135#011validation-rmse:0.40675\u001b[0m\n",
      "\u001b[34m[10]#011train-rmse:0.38418#011validation-rmse:0.40077\u001b[0m\n",
      "\u001b[34m[11]#011train-rmse:0.37785#011validation-rmse:0.39546\u001b[0m\n",
      "\u001b[34m[12]#011train-rmse:0.37226#011validation-rmse:0.39095\u001b[0m\n",
      "\u001b[34m[13]#011train-rmse:0.36699#011validation-rmse:0.38720\u001b[0m\n",
      "\u001b[34m[14]#011train-rmse:0.36157#011validation-rmse:0.38330\u001b[0m\n",
      "\u001b[34m[15]#011train-rmse:0.35644#011validation-rmse:0.37954\u001b[0m\n",
      "\u001b[34m[16]#011train-rmse:0.35181#011validation-rmse:0.37610\u001b[0m\n",
      "\u001b[34m[17]#011train-rmse:0.34738#011validation-rmse:0.37271\u001b[0m\n",
      "\u001b[34m[18]#011train-rmse:0.34321#011validation-rmse:0.36985\u001b[0m\n",
      "\u001b[34m[19]#011train-rmse:0.33971#011validation-rmse:0.36730\u001b[0m\n",
      "Training seconds: 80\n",
      "Billable seconds: 80\n"
     ]
    },
    {
     "name": "stderr",
     "output_type": "stream",
     "text": [
      "INFO:sagemaker.image_uris:Defaulting to the only supported framework/algorithm version: latest.\n",
      "INFO:sagemaker.image_uris:Ignoring unnecessary instance type: None.\n",
      "INFO:sagemaker:Creating training-job with name: xgboost-credit-risk-training-0-5-10-1635032178\n"
     ]
    },
    {
     "name": "stdout",
     "output_type": "stream",
     "text": [
      "2021-10-23 23:36:19 Starting - Starting the training job...\n",
      "2021-10-23 23:36:25 Starting - Launching requested ML instancesProfilerReport-1635032178: InProgress\n",
      ".........\n",
      "2021-10-23 23:38:12 Starting - Preparing the instances for training.........\n",
      "2021-10-23 23:39:32 Downloading - Downloading input data...\n",
      "2021-10-23 23:40:13 Training - Downloading the training image..\u001b[34m[2021-10-23 23:40:23.495 ip-10-2-186-199.ec2.internal:1 INFO utils.py:27] RULE_JOB_STOP_SIGNAL_FILENAME: None\u001b[0m\n",
      "\u001b[34m[2021-10-23:23:40:23:INFO] Imported framework sagemaker_xgboost_container.training\u001b[0m\n",
      "\u001b[34m[2021-10-23:23:40:23:INFO] No GPUs detected (normal if no gpus installed)\u001b[0m\n",
      "\u001b[34m[2021-10-23:23:40:23:INFO] Running XGBoost Sagemaker in algorithm mode\u001b[0m\n",
      "\u001b[34m[2021-10-23:23:40:23:INFO] Single node training.\u001b[0m\n",
      "\u001b[34m[2021-10-23:23:40:23:INFO] Train matrix has 27000 rows and 100 columns\u001b[0m\n",
      "\u001b[34m[2021-10-23:23:40:23:INFO] Validation matrix has 3000 rows\u001b[0m\n",
      "\u001b[34m/miniconda3/lib/python3.7/site-packages/xgboost/training.py:20: UserWarning: Old style callback is deprecated.  See: https://xgboost.readthedocs.io/en/latest/python/callbacks.html\n",
      "  warnings.warn(f'Old style callback is deprecated.  See: {link}', UserWarning)\u001b[0m\n",
      "\u001b[34m[0]#011train-rmse:0.43154#011validation-rmse:0.44189\u001b[0m\n",
      "\u001b[34m[1]#011train-rmse:0.39429#011validation-rmse:0.41180\u001b[0m\n",
      "\u001b[34m[2]#011train-rmse:0.37050#011validation-rmse:0.39327\u001b[0m\n",
      "\u001b[34m[3]#011train-rmse:0.35249#011validation-rmse:0.38246\u001b[0m\n",
      "\u001b[34m[4]#011train-rmse:0.33709#011validation-rmse:0.37326\u001b[0m\n",
      "\u001b[34m[5]#011train-rmse:0.32550#011validation-rmse:0.36660\u001b[0m\n",
      "\u001b[34m[6]#011train-rmse:0.31349#011validation-rmse:0.35893\u001b[0m\n",
      "\u001b[34m[7]#011train-rmse:0.30373#011validation-rmse:0.35171\u001b[0m\n",
      "\u001b[34m[8]#011train-rmse:0.29567#011validation-rmse:0.34713\u001b[0m\n",
      "\u001b[34m[9]#011train-rmse:0.29006#011validation-rmse:0.34299\u001b[0m\n",
      "\n",
      "2021-10-23 23:40:41 Uploading - Uploading generated training model\n",
      "2021-10-23 23:40:41 Completed - Training job completed\n",
      "Training seconds: 77\n",
      "Billable seconds: 77\n"
     ]
    },
    {
     "name": "stderr",
     "output_type": "stream",
     "text": [
      "INFO:sagemaker.image_uris:Defaulting to the only supported framework/algorithm version: latest.\n",
      "INFO:sagemaker.image_uris:Ignoring unnecessary instance type: None.\n",
      "INFO:sagemaker:Creating training-job with name: xgboost-credit-risk-training-0-5-20-1635032463\n"
     ]
    },
    {
     "name": "stdout",
     "output_type": "stream",
     "text": [
      "2021-10-23 23:41:04 Starting - Starting the training job...\n",
      "2021-10-23 23:41:27 Starting - Launching requested ML instancesProfilerReport-1635032463: InProgress\n",
      "......\n",
      "2021-10-23 23:42:27 Starting - Preparing the instances for training.........\n",
      "2021-10-23 23:43:48 Downloading - Downloading input data...\n",
      "2021-10-23 23:44:28 Training - Downloading the training image..\u001b[34m[2021-10-23 23:44:46.416 ip-10-0-149-98.ec2.internal:1 INFO utils.py:27] RULE_JOB_STOP_SIGNAL_FILENAME: None\u001b[0m\n",
      "\u001b[34m[2021-10-23:23:44:46:INFO] Imported framework sagemaker_xgboost_container.training\u001b[0m\n",
      "\u001b[34m[2021-10-23:23:44:46:INFO] No GPUs detected (normal if no gpus installed)\u001b[0m\n",
      "\u001b[34m[2021-10-23:23:44:46:INFO] Running XGBoost Sagemaker in algorithm mode\u001b[0m\n",
      "\u001b[34m[2021-10-23:23:44:46:INFO] Single node training.\u001b[0m\n",
      "\u001b[34m[2021-10-23:23:44:46:INFO] Train matrix has 27000 rows and 100 columns\u001b[0m\n",
      "\u001b[34m[2021-10-23:23:44:46:INFO] Validation matrix has 3000 rows\u001b[0m\n",
      "\u001b[34m/miniconda3/lib/python3.7/site-packages/xgboost/training.py:20: UserWarning: Old style callback is deprecated.  See: https://xgboost.readthedocs.io/en/latest/python/callbacks.html\n",
      "  warnings.warn(f'Old style callback is deprecated.  See: {link}', UserWarning)\u001b[0m\n",
      "\u001b[34m[0]#011train-rmse:0.43154#011validation-rmse:0.44189\u001b[0m\n",
      "\u001b[34m[1]#011train-rmse:0.39429#011validation-rmse:0.41180\u001b[0m\n",
      "\u001b[34m[2]#011train-rmse:0.37050#011validation-rmse:0.39327\u001b[0m\n",
      "\u001b[34m[3]#011train-rmse:0.35249#011validation-rmse:0.38246\u001b[0m\n",
      "\u001b[34m[4]#011train-rmse:0.33709#011validation-rmse:0.37326\u001b[0m\n",
      "\u001b[34m[5]#011train-rmse:0.32550#011validation-rmse:0.36660\u001b[0m\n",
      "\u001b[34m[6]#011train-rmse:0.31349#011validation-rmse:0.35893\u001b[0m\n",
      "\u001b[34m[7]#011train-rmse:0.30373#011validation-rmse:0.35171\u001b[0m\n",
      "\u001b[34m[8]#011train-rmse:0.29567#011validation-rmse:0.34713\u001b[0m\n",
      "\u001b[34m[9]#011train-rmse:0.29006#011validation-rmse:0.34299\u001b[0m\n",
      "\u001b[34m[10]#011train-rmse:0.28483#011validation-rmse:0.34086\u001b[0m\n",
      "\u001b[34m[11]#011train-rmse:0.27905#011validation-rmse:0.33747\u001b[0m\n",
      "\u001b[34m[12]#011train-rmse:0.27337#011validation-rmse:0.33530\u001b[0m\n",
      "\u001b[34m[13]#011train-rmse:0.26796#011validation-rmse:0.33227\u001b[0m\n",
      "\u001b[34m[14]#011train-rmse:0.26342#011validation-rmse:0.33031\u001b[0m\n",
      "\u001b[34m[15]#011train-rmse:0.26003#011validation-rmse:0.32943\u001b[0m\n",
      "\u001b[34m[16]#011train-rmse:0.25735#011validation-rmse:0.32828\u001b[0m\n",
      "\n",
      "2021-10-23 23:45:04 Uploading - Uploading generated training model\n",
      "2021-10-23 23:45:04 Completed - Training job completed\n",
      "\u001b[34m[17]#011train-rmse:0.25522#011validation-rmse:0.32744\u001b[0m\n",
      "\u001b[34m[18]#011train-rmse:0.25224#011validation-rmse:0.32700\u001b[0m\n",
      "\u001b[34m[19]#011train-rmse:0.25026#011validation-rmse:0.32696\u001b[0m\n",
      "Training seconds: 76\n",
      "Billable seconds: 76\n"
     ]
    }
   ],
   "source": [
    "run_number = 1\n",
    "\n",
    "for i in trial_hyperparameter_set:\n",
    "    hyperparams = i\n",
    "\n",
    "    # Create unique job name with hyperparameter and time\n",
    "    time_append = int(time.time())\n",
    "    hyp_append = \"-\".join([str(elm).replace(\".\", \"-\") for elm in i.values()])\n",
    "    training_job_name = f\"xgboost-credit-risk-training-{hyp_append}-{time_append}\"\n",
    "    trial_name = f\"trial-xgboost-credit-risk-training-{hyp_append}-{time_append}\"\n",
    "    trial_desc = f\"my-xgboost-credit-risk-run-{run_number}\"\n",
    "\n",
    "    # Create a new Trial\n",
    "    xgboost_credit_risk_trial = Trial.create(\n",
    "        trial_name=trial_name,\n",
    "        experiment_name=exp_10m_datapoints.experiment_name,\n",
    "        sagemaker_boto_client=sm,\n",
    "        tags=[{\"Key\": \"trial-desc\", \"Value\": trial_desc}])\n",
    "\n",
    "    # Create an experiment config that associates training job to the Trial\n",
    "    experiment_config = {\n",
    "        \"ExperimentName\": exp_10m_datapoints.experiment_name,\n",
    "        \"TrialName\": xgboost_credit_risk_trial.trial_name,\n",
    "        \"TrialComponentDisplayName\": training_job_name}\n",
    "    \n",
    "    xgboost_credit_risk_estimator = sagemaker.estimator.Estimator(\n",
    "                                    xgboost_container,\n",
    "                                    role, \n",
    "                                    instance_count=1, \n",
    "                                    instance_type='ml.m4.xlarge',\n",
    "                                    output_path=f's3://{bucket}/{prefix}/output',\n",
    "                                    sagemaker_session=sagemaker.Session(),\n",
    "                                    hyperparameters=hyperparams,\n",
    "                                    enable_sagemaker_metrics=True,\n",
    "                                    tags=[{\"Key\": \"trial-desc\", \"Value\": trial_desc}])\n",
    "\n",
    "\n",
    "    # Launch a training job\n",
    "    xgboost_credit_risk_estimator.fit(inputs, job_name=training_job_name, experiment_config=experiment_config)\n",
    "\n",
    "    # give it a while before dispatching the next training job\n",
    "    time.sleep(2)\n",
    "    run_number += 1"
   ]
  },
  {
   "cell_type": "markdown",
   "metadata": {},
   "source": [
    "## alternative training loop"
   ]
  },
  {
   "cell_type": "code",
   "execution_count": 2,
   "metadata": {},
   "outputs": [
    {
     "ename": "NameError",
     "evalue": "name 'time' is not defined",
     "output_type": "error",
     "traceback": [
      "\u001b[0;31m---------------------------------------------------------------------------\u001b[0m",
      "\u001b[0;31mNameError\u001b[0m                                 Traceback (most recent call last)",
      "\u001b[0;32m<ipython-input-2-f40bd3981dbf>\u001b[0m in \u001b[0;36m<module>\u001b[0;34m\u001b[0m\n\u001b[1;32m      5\u001b[0m \u001b[0;32mfor\u001b[0m \u001b[0mi\u001b[0m\u001b[0;34m,\u001b[0m \u001b[0mnum_cv\u001b[0m \u001b[0;32min\u001b[0m \u001b[0menumerate\u001b[0m\u001b[0;34m(\u001b[0m\u001b[0;34m[\u001b[0m\u001b[0;36m2\u001b[0m\u001b[0;34m,\u001b[0m \u001b[0;36m3\u001b[0m\u001b[0;34m,\u001b[0m \u001b[0;36m4\u001b[0m\u001b[0;34m,\u001b[0m \u001b[0;36m5\u001b[0m\u001b[0;34m,\u001b[0m \u001b[0;36m6\u001b[0m\u001b[0;34m]\u001b[0m\u001b[0;34m)\u001b[0m\u001b[0;34m:\u001b[0m\u001b[0;34m\u001b[0m\u001b[0;34m\u001b[0m\u001b[0m\n\u001b[1;32m      6\u001b[0m     \u001b[0;31m# create trial\u001b[0m\u001b[0;34m\u001b[0m\u001b[0;34m\u001b[0m\u001b[0;34m\u001b[0m\u001b[0m\n\u001b[0;32m----> 7\u001b[0;31m     \u001b[0mtrial_name\u001b[0m \u001b[0;34m=\u001b[0m \u001b[0;34mf\"cvs-training-job-{num_cv}-cv-{int(time.time())}\"\u001b[0m\u001b[0;34m\u001b[0m\u001b[0;34m\u001b[0m\u001b[0m\n\u001b[0m\u001b[1;32m      8\u001b[0m \u001b[0;34m\u001b[0m\u001b[0m\n\u001b[1;32m      9\u001b[0m     cvs_trial = Trial.create(\n",
      "\u001b[0;31mNameError\u001b[0m: name 'time' is not defined"
     ]
    }
   ],
   "source": [
    "from sklearn.model_selection import cross_val_score\n",
    "from sklearn.ensemble import GradientBoostingClassifier\n",
    "\n",
    "cvs_trial_name_map = {}\n",
    "\n",
    "for i, num_cv in enumerate([2, 3, 4, 5, 6]):\n",
    "    trial_name = f\"cvs-training-job-{num_cv}-cv-{int(time.time())}\"\n",
    "    cvs_trial = Trial.create(trial_name=trial_name,\n",
    "                             experiment_name=experiment_10m_datapoints.experiment_name,\n",
    "                             sagemaker_boto_client=sm,)\n",
    "    cvs_trial_name_map[num_cv] = trial_name\n",
    "    cvs_trial.add_trial_component(preprocessing_trial_component)\n",
    "\n",
    "    \n",
    "    \n",
    "    # all input configurations, parameters, and metrics in estimator are automatically tracked\n",
    "    estimator = GradientBoostingClassifier(\n",
    "                    role=role,\n",
    "                    sagemaker_session=sagemaker.Session(sagemaker_client=sm),\n",
    "                    instance_count=1,\n",
    "                    instance_type=\"ml.c4.xlarge\",\n",
    "                    enable_sagemaker_metrics=True,\n",
    "                    hyperparameters = {\"epochs\": 2,\n",
    "                                       \"backend\": \"gloo\",\n",
    "                                       \"hidden_channels\": num_hidden_channel,\n",
    "                                       \"dropout\": 0.2,\n",
    "                                       \"kernel_size\": 5,\n",
    "                                       \"optimizer\": \"sgd\",},\n",
    "                    metric_definitions=[{\"Name\": \"train:loss\", \"Regex\": \"Train Loss: (.*?);\"},\n",
    "                                        {\"Name\": \"test:loss\", \"Regex\": \"Test Average loss: (.*?),\"},\n",
    "                                        {\"Name\": \"test:accuracy\", \"Regex\": \"Test Accuracy: (.*?)%;\"},]))\n",
    "\n",
    "    \n",
    "    estimator = PyTorch(role=role,\n",
    "                        sagemaker_session=sagemaker.Session(sagemaker_client=sm),\n",
    "                        instance_count=1,\n",
    "                        instance_type=\"ml.c4.xlarge\",\n",
    "                        enable_sagemaker_metrics=True,\n",
    "                        framework_version=\"1.1.0\", #\n",
    "                        py_version=\"py3\", #\n",
    "                        entry_point=\"./mnist.py\", #\n",
    "                        hyperparameters = {\"epochs\": 2,\n",
    "                                           \"backend\": \"gloo\",\n",
    "                                           \"hidden_channels\": num_hidden_channel,\n",
    "                                           \"dropout\": 0.2,\n",
    "                                           \"kernel_size\": 5,\n",
    "                                           \"optimizer\": \"sgd\",},\n",
    "                        metric_definitions=[{\"Name\": \"train:loss\", \"Regex\": \"Train Loss: (.*?);\"},\n",
    "                                            {\"Name\": \"test:loss\", \"Regex\": \"Test Average loss: (.*?),\"},\n",
    "                                            {\"Name\": \"test:accuracy\", \"Regex\": \"Test Accuracy: (.*?)%;\"},])\n",
    "\n",
    "    \n",
    "    \n",
    "    \n",
    "    \n",
    "    \n",
    "    # Now associate the estimator with the Experiment and Trial\n",
    "    estimator.fit(inputs = {\"training\": inputs},\n",
    "                            job_name = \"cnn-training-job-{}\".format(int(time.time())),\n",
    "                            wait=True,\n",
    "                            experiment_config = {\"TrialName\": cnn_trial.trial_name,\n",
    "                                                 \"TrialComponentDisplayName\": \"Training\",})\n",
    "    time.sleep(2)"
   ]
  },
  {
   "cell_type": "markdown",
   "metadata": {
    "nteract": {
     "transient": {
      "deleting": false
     }
    }
   },
   "source": [
    "## Time test for running c_v_s() on GBC with untransformed data"
   ]
  },
  {
   "cell_type": "code",
   "execution_count": 14,
   "metadata": {
    "collapsed": true,
    "gather": {
     "logged": 1633572794372
    },
    "jupyter": {
     "outputs_hidden": true
    }
   },
   "outputs": [
    {
     "name": "stdout",
     "output_type": "stream",
     "text": [
      "0.692\n",
      "CPU times: user 1min 34s, sys: 44.4 ms, total: 1min 34s\n",
      "Wall time: 1min 35s\n"
     ]
    }
   ],
   "source": [
    "%%time\n",
    "from sklearn.model_selection import cross_val_score\n",
    "from sklearn.ensemble import GradientBoostingClassifier\n",
    "scoring = \"f1\"\n",
    "\n",
    "cv_results = cross_val_score(GradientBoostingClassifier(), X_03, y_03, cv=2, scoring=scoring)\n",
    "print(round(cv_results.mean(), 3))"
   ]
  },
  {
   "cell_type": "markdown",
   "metadata": {
    "nteract": {
     "transient": {
      "deleting": false
     }
    }
   },
   "source": [
    "## Testing running time for GridsearchCV() on GBC with untransformed data"
   ]
  },
  {
   "cell_type": "code",
   "execution_count": 11,
   "metadata": {
    "collapsed": true,
    "gather": {
     "logged": 1633816980651
    },
    "jupyter": {
     "outputs_hidden": true
    },
    "nteract": {
     "transient": {
      "deleting": false
     }
    }
   },
   "outputs": [
    {
     "data": {
      "text/plain": [
       "dict_keys(['ccp_alpha', 'criterion', 'init', 'learning_rate', 'loss', 'max_depth', 'max_features', 'max_leaf_nodes', 'min_impurity_decrease', 'min_impurity_split', 'min_samples_leaf', 'min_samples_split', 'min_weight_fraction_leaf', 'n_estimators', 'n_iter_no_change', 'presort', 'random_state', 'subsample', 'tol', 'validation_fraction', 'verbose', 'warm_start'])"
      ]
     },
     "execution_count": 11,
     "metadata": {},
     "output_type": "execute_result"
    }
   ],
   "source": [
    "model_gbc.get_params().keys()\n",
    "GradientBoostingClassifier().get_params().keys()"
   ]
  },
  {
   "cell_type": "code",
   "execution_count": 18,
   "metadata": {
    "collapsed": true,
    "gather": {
     "logged": 1633825045457
    },
    "jupyter": {
     "outputs_hidden": true
    },
    "nteract": {
     "transient": {
      "deleting": false
     }
    }
   },
   "outputs": [
    {
     "ename": "AttributeError",
     "evalue": "'numpy.ndarray' object has no attribute 'type'",
     "output_type": "error",
     "traceback": [
      "\u001b[0;31m---------------------------------------------------------------------------\u001b[0m",
      "\u001b[0;31mAttributeError\u001b[0m                            Traceback (most recent call last)",
      "\u001b[0;32m/tmp/ipykernel_3402/618504648.py\u001b[0m in \u001b[0;36m<module>\u001b[0;34m\u001b[0m\n\u001b[1;32m      1\u001b[0m \u001b[0mnp_X_03\u001b[0m \u001b[0;34m=\u001b[0m \u001b[0mX_03\u001b[0m\u001b[0;34m.\u001b[0m\u001b[0mvalues\u001b[0m\u001b[0;34m\u001b[0m\u001b[0;34m\u001b[0m\u001b[0m\n\u001b[1;32m      2\u001b[0m \u001b[0mnp_y_03\u001b[0m \u001b[0;34m=\u001b[0m \u001b[0my_03\u001b[0m\u001b[0;34m.\u001b[0m\u001b[0mvalues\u001b[0m\u001b[0;34m\u001b[0m\u001b[0;34m\u001b[0m\u001b[0m\n\u001b[0;32m----> 3\u001b[0;31m \u001b[0mdisplay\u001b[0m\u001b[0;34m(\u001b[0m\u001b[0mnp_X_03\u001b[0m\u001b[0;34m.\u001b[0m\u001b[0mtype\u001b[0m\u001b[0;34m)\u001b[0m\u001b[0;34m\u001b[0m\u001b[0;34m\u001b[0m\u001b[0m\n\u001b[0m",
      "\u001b[0;31mAttributeError\u001b[0m: 'numpy.ndarray' object has no attribute 'type'"
     ]
    }
   ],
   "source": [
    "np_X_03 = X_03.values\n",
    "np_y_03 = y_03.values\n",
    "display(np_X_03.type)"
   ]
  },
  {
   "cell_type": "code",
   "execution_count": 15,
   "metadata": {
    "collapsed": true,
    "jupyter": {
     "outputs_hidden": true
    },
    "nteract": {
     "transient": {
      "deleting": false
     }
    }
   },
   "outputs": [
    {
     "name": "stdout",
     "output_type": "stream",
     "text": [
      "highest mean cv score: 0.9021680962218668, with params: {'max_depth': 7, 'n_estimators': 600}\n",
      "CPU times: user 1h 34min 35s, sys: 356 ms, total: 1h 34min 35s\n",
      "Wall time: 1h 34min 35s\n"
     ]
    }
   ],
   "source": [
    "%%time\n",
    "from sklearn.model_selection import GridSearchCV\n",
    "model_gbc = GridSearchCV(estimator = GradientBoostingClassifier(), \n",
    "                         param_grid = {'max_depth': [4,6,7],\n",
    "                                       'n_estimators': [300,600]},\n",
    "                         cv=2,\n",
    "                         scoring = scoring)\n",
    "\n",
    "model_gbc.fit(np_X_03, np_y_03)\n",
    "print(f'highest mean cv score: {model_gbc.best_score_}, with params: {model_gbc.best_params_}')"
   ]
  },
  {
   "cell_type": "code",
   "execution_count": null,
   "metadata": {
    "collapsed": false,
    "jupyter": {
     "outputs_hidden": false,
     "source_hidden": false
    },
    "nteract": {
     "transient": {
      "deleting": false
     }
    }
   },
   "outputs": [],
   "source": []
  }
 ],
 "metadata": {
  "kernel_info": {
   "name": "python38-azureml"
  },
  "kernelspec": {
   "display_name": "Python 3 (Data Science)",
   "language": "python",
   "name": "python3__SAGEMAKER_INTERNAL__arn:aws:sagemaker:us-east-1:081325390199:image/datascience-1.0"
  },
  "language_info": {
   "codemirror_mode": {
    "name": "ipython",
    "version": 3
   },
   "file_extension": ".py",
   "mimetype": "text/x-python",
   "name": "python",
   "nbconvert_exporter": "python",
   "pygments_lexer": "ipython3",
   "version": "3.7.10"
  },
  "microsoft": {
   "host": {
    "AzureML": {
     "notebookHasBeenCompleted": true
    }
   }
  },
  "nteract": {
   "version": "nteract-front-end@1.0.0"
  }
 },
 "nbformat": 4,
 "nbformat_minor": 5
}
