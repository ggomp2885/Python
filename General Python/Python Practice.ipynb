{
 "cells": [
  {
   "cell_type": "markdown",
   "id": "50778d61-5490-4206-8b29-1b9c9b2f884f",
   "metadata": {},
   "source": [
    "## Century from Year"
   ]
  },
  {
   "cell_type": "code",
   "execution_count": 35,
   "id": "838f5373-f4a4-474e-b6e6-6493751bce48",
   "metadata": {},
   "outputs": [
    {
     "name": "stdout",
     "output_type": "stream",
     "text": [
      "length of year: 2\n",
      "loop running = 1 or 2\n",
      "1\n"
     ]
    }
   ],
   "source": [
    "def centuryFromYear(year):\n",
    "    print(f'length of year: {len(str(year))}')\n",
    "    \n",
    "    if len(str(year)) in [1,2]:\n",
    "        print('loop running = 1 or 2')\n",
    "        return 1\n",
    "        \n",
    "    if len(str(year)) == 3:\n",
    "        print('loop running = 3')\n",
    "        year = str(year)\n",
    "        if year[1:3] == '00':\n",
    "            return int(year[:1])\n",
    "        else:\n",
    "            return int(year[:1]) +1\n",
    "        \n",
    "    if len(str(year)) == 4:\n",
    "        print('loop running = 4')\n",
    "        year = str(year)\n",
    "        if year[2:4] == '00':\n",
    "            return int(year[:2])\n",
    "        else:\n",
    "            return int(year[:2]) +1\n",
    "        \n",
    "print(centuryFromYear(45))"
   ]
  },
  {
   "cell_type": "code",
   "execution_count": 41,
   "id": "450ea5b9-dc8b-402e-9267-ee10a52be565",
   "metadata": {},
   "outputs": [
    {
     "data": {
      "text/plain": [
       "2"
      ]
     },
     "execution_count": 41,
     "metadata": {},
     "output_type": "execute_result"
    }
   ],
   "source": [
    "def centuryFromYear(year):\n",
    "    return (year + 95) // 100\n",
    "centuryFromYear(201)"
   ]
  },
  {
   "cell_type": "markdown",
   "id": "90b9830e-dabf-45fa-96bd-7d516d3f49a7",
   "metadata": {},
   "source": [
    "So in this solution, its extremely simple to just use a basic math equation here, with the right operator, the floor divsion // operator makes this a breeze, and adding 99, makes it generalize to the edge cases"
   ]
  },
  {
   "cell_type": "markdown",
   "id": "a287e1c6-75fa-478d-bad7-d9666600d080",
   "metadata": {},
   "source": [
    "### Check for Palindromes"
   ]
  },
  {
   "cell_type": "code",
   "execution_count": 42,
   "id": "0eb31be3-50b5-4ce8-b2c5-ef5b6cd3cafc",
   "metadata": {},
   "outputs": [],
   "source": [
    "def checkPalindrome(inputString):\n",
    "    if inputString == inputString[::-1]:\n",
    "        return True\n",
    "    else: return False"
   ]
  },
  {
   "cell_type": "code",
   "execution_count": 43,
   "id": "82f3da44-bfb9-405c-8b0f-16bbe183b488",
   "metadata": {},
   "outputs": [],
   "source": [
    "def checkPalindrome(inputString):\n",
    "    return inputString == inputString[::-1]"
   ]
  },
  {
   "cell_type": "markdown",
   "id": "b647c277-e8f4-498c-96aa-300a3eb5b3f1",
   "metadata": {},
   "source": [
    "This solution is almost identical to mine, but reminds me that an if statement is not needed at all here, because it is already built into the \"equivalent to\" == operator returns a boolean True/False, by default."
   ]
  },
  {
   "cell_type": "code",
   "execution_count": 73,
   "id": "11a658ff-6501-403f-bdd7-ca4eb79393ed",
   "metadata": {},
   "outputs": [
    {
     "name": "stdout",
     "output_type": "stream",
     "text": [
      "['salad', 'egg']\n",
      "['egg', 'salad']\n"
     ]
    },
    {
     "data": {
      "text/plain": [
       "'dalas'"
      ]
     },
     "execution_count": 73,
     "metadata": {},
     "output_type": "execute_result"
    }
   ],
   "source": [
    "string = 'salad'\n",
    "string2 = 'egg'\n",
    "lst = [string, string2]\n",
    "integer = 1234\n",
    "\n",
    "print(lst)\n",
    "print(lst[::-1])\n",
    "string[::-1]"
   ]
  },
  {
   "cell_type": "markdown",
   "id": "aace77c9-e6cf-4798-9457-a43259cd4780",
   "metadata": {},
   "source": [
    "As far as this index method that looks like [::-1], just is a unique thing that was created to reverse strings/lists - infact the -1 is the \"step size\""
   ]
  },
  {
   "cell_type": "markdown",
   "id": "1ecca63e-b413-4281-8d83-6b37b961d106",
   "metadata": {},
   "source": [
    "## AdjacentElementsProduct"
   ]
  },
  {
   "cell_type": "code",
   "execution_count": 93,
   "id": "8deb9b9b-6c1d-41dc-97a3-62428307aa58",
   "metadata": {},
   "outputs": [
    {
     "data": {
      "text/plain": [
       "array([ 3,  6, -2, -5,  7,  3])"
      ]
     },
     "metadata": {},
     "output_type": "display_data"
    },
    {
     "data": {
      "text/plain": [
       "array([0., 0., 0., 0., 0.])"
      ]
     },
     "metadata": {},
     "output_type": "display_data"
    },
    {
     "data": {
      "text/plain": [
       "21.0"
      ]
     },
     "execution_count": 93,
     "metadata": {},
     "output_type": "execute_result"
    }
   ],
   "source": [
    "import numpy as np\n",
    "\n",
    "def adjacentElementsProduct(inputArray):\n",
    "    ans_array = np.zeros(len(inputArray)-1)\n",
    "    for i in range(len(inputArray)-1):\n",
    "        ans_array[i] = inputArray[i]*inputArray[i+1]\n",
    "    return ans_array.max()\n",
    "\n",
    "ans_array = np.zeros(len(mock_array)-1)\n",
    "mock_array = np.array([3,6,-2,-5,7,3])\n",
    "display(mock_array)\n",
    "display(ans_array)\n",
    "\n",
    "adjacentElementsProduct(mock_array)"
   ]
  },
  {
   "cell_type": "code",
   "execution_count": null,
   "id": "820bec43-a2ef-49e6-ac9f-0d7f40eac312",
   "metadata": {},
   "outputs": [],
   "source": [
    "def adjacentElementsProduct(inputArray):\n",
    "    return max([inputArray[i] * inputArray[i+1] for i in range(len(inputArray)-1)])"
   ]
  },
  {
   "cell_type": "code",
   "execution_count": null,
   "id": "f2816b0f-ae4f-467d-a495-f60c2b88e899",
   "metadata": {},
   "outputs": [],
   "source": [
    "def adjacentElementsProduct(inputArray):\n",
    "    return max([inputArray[i]*inputArray[i+1] for i in range(len(inputArray)-1)])"
   ]
  },
  {
   "cell_type": "markdown",
   "id": "f334364d-dc77-4988-ac66-4b851c7372d4",
   "metadata": {},
   "source": [
    "Okay so it looks like alot of these \"best solutions\" are\n",
    "1. just putting the actions of the function, directly in the return statement, instead of using variables to store this, and then returning the variable - that makes sense\n",
    "2. using \"list loops\", or list comprehensions instead of explicit for loops - I think this also makes sense because it simplifies 2 lines into 1 and creates a list by default\n",
    "\n",
    "I also just realized that list comps are just for loops that put the results into a list by default, and they just have the order switched around. Explicit for loops write the loop amount first, and then the action, whereas list comps just write the action first, and then the loop amount. Cool.\n",
    "\n",
    "And so now Im also realizing the similarity between lamda functions, and list comprehension loops, so instead of using a map() function on a lambda function, its just way simpler to use a list loop.\n",
    "\n",
    "Okay interesting, so this makes sense, a list comprehension is always faster than a for loop, about 50% faster with simple calculations, and then, the point of numpy is to not use loops at all, so a good understanding of the math functions available in numpy, will be faster than using a list comprehension. But however, if I am just using numpy arrays instead of lists, and not using the advanced features of numpy, then a list will actually be faster because numpy has some boot up time and is slighlty slower than a built-in list object\n",
    "\n",
    "Fastest execution time\n",
    "1. Numpy advanced functions\n",
    "2. List Comprehensions\n",
    "3. For loops with lists\n",
    "4. For loops with numpy arrays\n",
    "\n",
    "Wow, okay this is cool,"
   ]
  },
  {
   "cell_type": "markdown",
   "id": "2363c386-137d-4f4b-af30-c0ad761a81b7",
   "metadata": {},
   "source": [
    "## Shape Area"
   ]
  },
  {
   "cell_type": "code",
   "execution_count": 166,
   "id": "67157c74-6002-406f-b35f-09429a26866c",
   "metadata": {},
   "outputs": [
    {
     "name": "stdout",
     "output_type": "stream",
     "text": [
      "[1, 1, 1, 1, 1, 1, 1, 1]\n",
      "[1, 1, 5, 1, 1, 1, 1, 1]\n",
      "[1, 1, 5, 13, 1, 1, 1, 1]\n",
      "[1, 1, 5, 13, 25, 1, 1, 1]\n",
      "[1, 1, 5, 13, 25, 41, 1, 1]\n",
      "[1, 1, 5, 13, 25, 41, 61, 1]\n"
     ]
    },
    {
     "data": {
      "text/plain": [
       "61"
      ]
     },
     "execution_count": 166,
     "metadata": {},
     "output_type": "execute_result"
    }
   ],
   "source": [
    "def shapeArea(n):\n",
    "    lst = [1,1,1,1,1,1,1,1]\n",
    "    \n",
    "    for i in range(n):\n",
    "        lst[i+1] = lst[i]+4*(i)\n",
    "        print(lst)\n",
    "    return lst[n]\n",
    "\n",
    "shapeArea(6)"
   ]
  },
  {
   "cell_type": "code",
   "execution_count": null,
   "id": "09e76590-f4b1-419a-ac88-941fb5d65daa",
   "metadata": {},
   "outputs": [],
   "source": [
    "def shapeArea(n):\n",
    "    return n**2 + (n-1)**2"
   ]
  },
  {
   "cell_type": "markdown",
   "id": "660afb8e-97bf-4586-bf92-6941509b6d08",
   "metadata": {},
   "source": [
    "Ohh, okay so it looks like I should be multiplying by i here instead of n, because i is the number that changes on each iteration, n doesnt change.\n",
    "Okay, that makes sense, in this case, Id always want to multiply by i, and actually I dont even need to create a list here, just a simple\n",
    "\n",
    "result=1\n",
    "\n",
    "for i in range(n):\n",
    "\n",
    "result += 4*i works here\n",
    "\n",
    "Also, it makes sense that most of these types of math patterns are quadratic based, so I can literally just write down a simple n^2 + (n-1) as a base and experiment with this a few times to find the pattern in the return statement\n"
   ]
  },
  {
   "cell_type": "markdown",
   "id": "7c26037a-8fa7-4e05-9be6-89117ad85aa3",
   "metadata": {},
   "source": [
    "## Make Array Consecutive2"
   ]
  },
  {
   "cell_type": "code",
   "execution_count": 197,
   "id": "0c5219ee-152f-42dd-8e3e-7b92771ad131",
   "metadata": {},
   "outputs": [
    {
     "data": {
      "text/plain": [
       "3"
      ]
     },
     "execution_count": 197,
     "metadata": {},
     "output_type": "execute_result"
    }
   ],
   "source": [
    "statues = [6, 2, 3, 8]\n",
    "\n",
    "def makeArrayConsecutive2(statues):\n",
    "    statues.sort()\n",
    "    count = 0\n",
    "    \n",
    "    for i in range(len(statues)-1):\n",
    "        count += statues[i+1] - statues[i] -1\n",
    "    return count\n",
    "\n",
    "makeArrayConsecutive2(statues) "
   ]
  },
  {
   "cell_type": "code",
   "execution_count": 192,
   "id": "2ce8d66a-387e-4c0e-8897-5268ff04bf85",
   "metadata": {},
   "outputs": [],
   "source": [
    "def makeArrayConsecutive2(statues):\n",
    "    return max(statues) - min(statues) - len(statues) + 1"
   ]
  },
  {
   "cell_type": "code",
   "execution_count": null,
   "id": "035d16fc-7ff1-4ae1-a928-61f68023ccf7",
   "metadata": {},
   "outputs": [],
   "source": [
    "array[int, int, int, int]\n",
    "\n",
    "sort this array from least to greatest\n",
    "for i in range(len(statues))\n",
    "    if array[i+1] - array[i] > 1: count +=1\n",
    "return count"
   ]
  },
  {
   "cell_type": "markdown",
   "id": "b648c0dd-a1ce-49a9-925b-3eb4f0c4a7b7",
   "metadata": {},
   "source": [
    "Okay so actually I probably dont need a pen and paper, I can just write out the exact same thing right here in the editor as a rough draft, and all my code will be sitting there ready to merge together. I think the best way to write these is to write what works first, get it working, and then I can make it more concise, after I know that it works in the first place.\n",
    "\n",
    "Thoughts on solutions - \n",
    "\n",
    "Okay so whats cool is Ive been able to solve almost all of these so far, which is really what matters, and so looking at the best case solution is just extra credit, because my code works already, I would pass any coding challenge with it and get the job, because most people probably dont know these perfect solutions anyway. So getting a feel for these is really just my own passion for mastery, and mastery takes time... so do I want to \"master\" python, or do I want to \"master\" building models? Thats a good question actually. Ill come back to this, either way, alot of these best solutions come down to just reducing the length of the code, by thinking of a clever math relationship, instead of using a loop to manually do it... so thats just what this person did, instead of using a loop and debugging it with print statements to manually find the relationship, they said, hmm, okay, how can I use the numbers I have infront of me -\n",
    "\n",
    "The max() value of the array, \n",
    "the minimum value of the array, \n",
    "the length of the array, \n",
    "the mode of the array\n",
    "the average of the array\n",
    "etc\n",
    "\n",
    "To come up with a mathmatical relationship instead of a loop that does it one at a time"
   ]
  },
  {
   "cell_type": "markdown",
   "id": "23591985-10dd-42e9-9889-eba42b4461c8",
   "metadata": {},
   "source": [
    "## Almostincreasingsequence"
   ]
  },
  {
   "cell_type": "code",
   "execution_count": 219,
   "id": "fed2b737-58f3-4ffe-a31a-f37ff712945a",
   "metadata": {},
   "outputs": [
    {
     "name": "stdout",
     "output_type": "stream",
     "text": [
      "count:1 and going to break\n",
      "1\n",
      "count:2\n",
      "2\n"
     ]
    },
    {
     "data": {
      "text/plain": [
       "False"
      ]
     },
     "execution_count": 219,
     "metadata": {},
     "output_type": "execute_result"
    }
   ],
   "source": [
    "sequence = [1, 3, 2, 1]\n",
    "sequence2 = [1, 3, 2]\n",
    "sequence3 = [1, 2, 1, 2]\n",
    "\n",
    "def almostIncreasingSequence(sequence):\n",
    "    count = 0\n",
    "    for i in range(len(sequence) -1):\n",
    "        if sequence[i] >= sequence[i+1]:\n",
    "            if i == 0:\n",
    "                del sequence[i]\n",
    "                count += 1\n",
    "\n",
    "            elif sequence[i-1] >= sequence[i+1]:\n",
    "                del sequence[i+1]\n",
    "                count += 1\n",
    "\n",
    "            else:\n",
    "                del sequence[i]\n",
    "                count += 1\n",
    "            break\n",
    "\n",
    "    for i in range(len(sequence) -1):\n",
    "        if sequence[i] >= sequence[i+1]:   \n",
    "            count += 1\n",
    "\n",
    "    if count > 1: return False\n",
    "    else: return True\n",
    "\n",
    "almostIncreasingSequence(sequence3)\n"
   ]
  },
  {
   "cell_type": "code",
   "execution_count": 225,
   "id": "a89c9817-f299-46e9-86ee-7724125b0fae",
   "metadata": {},
   "outputs": [
    {
     "name": "stdout",
     "output_type": "stream",
     "text": [
      "[1, 3, 2]\n",
      "[3, 2, 1]\n",
      "\n",
      "[1, 3]\n",
      "[2, 1]\n"
     ]
    },
    {
     "data": {
      "text/plain": [
       "False"
      ]
     },
     "execution_count": 225,
     "metadata": {},
     "output_type": "execute_result"
    }
   ],
   "source": [
    "def almostIncreasingSequence(sequence):\n",
    "    f1 = sum([1 for a, b in zip(sequence[:-1], sequence[1:]) if a>=b ]) <= 1 \n",
    "    f2 = sum([1 for a, c in zip(sequence[:-2], sequence[2:]) if a>=c ]) <= 1\n",
    "    return f1 and f2\n",
    "\n",
    "print(sequence[:-1])\n",
    "print(sequence[1:])\n",
    "print()\n",
    "print(sequence[:-2])\n",
    "print(sequence[2:])\n",
    "almostIncreasingSequence(sequence)"
   ]
  },
  {
   "cell_type": "markdown",
   "id": "a76314b2-8fa9-4398-8dcb-90428835e2e2",
   "metadata": {},
   "source": [
    "There is a loop way to do this that will check each index,\n",
    "    for i in range(len(sequence) -1):\n",
    "        if sequence[i] > sequence[i+1]:\n",
    "        \n",
    "        count += 1\n",
    "        \n",
    "    if count > 1: return False\n",
    "    else: return True\n",
    "    \n",
    "Okay so this works as expected, and then there is an edge case where [1,2,1,2] and I need it to recognize that the count here is 1, but this still isnt allowed so how would I detect this? - so I could manually pull the first number, and then recheck it again,\n",
    "or I could see if all the numbers are unique? [4,3,2,5] no, uniqueness / mode doesnt matter here.\n",
    "\n",
    "Okay so I put in some code that would pull out this number once its been found, but depending on the case, sometimes its best to pull out the [i] and sometimes [i+1]\n",
    "\n",
    "Okay so Im learning that I can pretty much always find a manual way to do this, by just replicating the exact way that I would make the decisions as a human - yep, thats exactly what I did here, its what Ive done in the past, and it just works - but sometimes there is alot of manual steps involved, and therefore there is alot of code involved too...\n",
    "\n",
    "\n"
   ]
  },
  {
   "cell_type": "markdown",
   "id": "b9bbfe27-5087-4a6a-8a3d-deb26ac578a9",
   "metadata": {},
   "source": [
    "Now, just for fun, is there a math relationship I could come up with to solve this?\n",
    "example \n",
    "length = 5, max value = 10, min value = 1\n",
    "is there a function which can find the intervals in an array?\n",
    "for example, interval values = 1,2,-1,1,3 and from here Id know that this was false, because it has a negative, and the following number is >= abs(sequence[i])\n",
    "\n",
    "So that could be a pretty simple math way to do it, I didnt find any built-in functions that calculate the intervals between items in a list /array though, so Id have to make one\n",
    "\n",
    "Okay interesting, so the simpliest code to do this problem, has no code to physically remove the integer, it just has the code to make the necessary check of the comparison between [i-1] >= [i+1], and depending on the result of this, the answer is already known. No need to physically remove anything, just understand, if I \"was\" to remove it, on what logic would I decide to do it? - thats all, if the logic doesnt check out, it wont work. that makes sense.\n",
    "\n",
    "Yeah this makes a ton of sense - I couldve gotten to the answer in half the code. Great problem here, this was a biggie mac actually."
   ]
  },
  {
   "cell_type": "markdown",
   "id": "fc0fc614-b09c-46f4-b147-abfb5dc88ae4",
   "metadata": {},
   "source": [
    "## MatrixElementsSum"
   ]
  },
  {
   "cell_type": "code",
   "execution_count": 2,
   "id": "bc735b17-61e4-4c50-a879-82e13180db10",
   "metadata": {},
   "outputs": [],
   "source": [
    "matrix = [[0, 1, 1, 2], \n",
    "          [0, 5, 0, 0], \n",
    "          [2, 0, 3, 3]]"
   ]
  },
  {
   "cell_type": "code",
   "execution_count": 354,
   "id": "bd0ce7e6-8589-4bf5-acce-c8bf8fec844c",
   "metadata": {},
   "outputs": [
    {
     "name": "stdout",
     "output_type": "stream",
     "text": [
      "2.83 µs ± 264 ns per loop (mean ± std. dev. of 7 runs, 100000 loops each)\n"
     ]
    }
   ],
   "source": [
    "%%timeit\n",
    "def matrixElementsSum(matrix):\n",
    "    zero_lst = []\n",
    "    price_lst = []\n",
    "    for i, val1 in enumerate(matrix):\n",
    "#         print(f'i: {i}')\n",
    "#         print(f'val1: {val1}')\n",
    "        \n",
    "        for j, val2 in enumerate(matrix[i]):\n",
    "#             print(f'j: {j}')\n",
    "#             print(f'val2: {val2}')\n",
    "            \n",
    "            if val2 == 0:\n",
    "                zero_lst.append(j)\n",
    "#                 print(f'zero list: {zero_lst}')\n",
    "    \n",
    "            if val2 > 0:\n",
    "#                 print(f\"i,j: {i},{j}\")\n",
    "                if j not in zero_lst:\n",
    "                    price_lst.append(val2)\n",
    "#                     print(f'price_lst: {price_lst}')\n",
    "\n",
    "            \n",
    "#             if matrix[i][j] == 0:\n",
    "#                 zero_lst.append(matrix[i][i])\n",
    "#                 print(f'zero list: {zero_lst}')\n",
    "            \n",
    "#             if matrix[i][j] > 0:\n",
    "#                 price_lst.append(matrix[i][i])\n",
    "#                 print(f'price_lst: {price_lst}')\n",
    "#         print()\n",
    "#         print()\n",
    "            \n",
    "    return sum(price_lst)\n",
    "\n",
    "matrixElementsSum(matrix)"
   ]
  },
  {
   "cell_type": "code",
   "execution_count": 3,
   "id": "1a264c3f-67c2-4a59-ba37-1d493b1cb82f",
   "metadata": {},
   "outputs": [
    {
     "name": "stdout",
     "output_type": "stream",
     "text": [
      "[0, 0, 2, 3, 1]\n",
      "[]\n"
     ]
    }
   ],
   "source": [
    "def matrixElementsSum(matrix):\n",
    "    \n",
    "    zero_lst = [j \n",
    "                for i, val1 in enumerate(matrix)\n",
    "                for j, val2 in enumerate(matrix[i]) \n",
    "                if val2 == 0]\n",
    "    print(zero_lst)\n",
    "    \n",
    "    price_lst = [val2 \n",
    "                 for i, val1 in enumerate(matrix)\n",
    "                 for j, val2 in enumerate(matrix[i])\n",
    "                 if j not in zero_lst]\n",
    "    print(price_lst)\n",
    "    return\n",
    "\n",
    "matrixElementsSum(matrix)"
   ]
  },
  {
   "cell_type": "code",
   "execution_count": 359,
   "id": "1500d6df-6f24-47e0-a05e-c2975d49be7f",
   "metadata": {},
   "outputs": [
    {
     "name": "stdout",
     "output_type": "stream",
     "text": [
      "1.98 µs ± 65.9 ns per loop (mean ± std. dev. of 7 runs, 100000 loops each)\n"
     ]
    }
   ],
   "source": [
    "%%timeit\n",
    "def matrixElementsSum(m):\n",
    "    r = len(m)\n",
    "    c = len(m[0])\n",
    "    total=0\n",
    "    for j in range(c):\n",
    "        for i in range(r):\n",
    "            if m[i][j]!=0:\n",
    "                total+=m[i][j]\n",
    "            else:\n",
    "                break\n",
    "    return total\n",
    "\n",
    "matrixElementsSum(matrix)"
   ]
  },
  {
   "cell_type": "markdown",
   "id": "b14fad45-51cd-40d0-9d2f-cfc2ad12e33a",
   "metadata": {},
   "source": [
    "okay so, Im thinking that Ill want to find the index of any 0's in this list of lists\n",
    "for example, the first one is matrix[0][0], so I need to essentailly build a search function that saves the index of any 0's, and then essentially removes the items in each of the top index's that are also of that same index\n",
    "\n",
    "Im thinking this could be done in a simple for loop -> if statement setup, and since Im looking to get the sum of a resulting list, I can build this into a list comprehension setup\n",
    "Okay so this one is really pretty simple, its just about getting the nested for loop written properly, which ive done before, and the \"best\" solution probably has this written in a nested list comprehension, which I am excited to see implimented.\n",
    "\n",
    "I like this idea of drawing out a decision tree, lets try it here\n",
    "                    Look at Value\n",
    "               0                            #\n",
    "     record index to list           add value to variable\n",
    "     \n",
    "              Is next value in 0 list?\n",
    "      Yes                                No\n",
    "    Do nothing                      Is value 0?\n",
    "             \n",
    "                            Yes                        No\n",
    "                 record index to 0 list      Add value to variable\n",
    "               \n",
    "                   Repeat until out of items"
   ]
  },
  {
   "cell_type": "markdown",
   "id": "526691ab-1dbd-4ec4-8a85-4c199a384309",
   "metadata": {},
   "source": [
    "Okay so this decision tree diagram definitely helped me, and now I know that in these kinds of situations, running a for loop over a list of lists, this is where the for i, val in enumerate() loop comes in handy, because Im going to need the info about the index and the value separately\n",
    "\n",
    "Also, I just learned that this kind of solution cannot be done with a list comprehension - but wait, can list comprehensions hold \"else\" statments in them? because if so, then I probably could using this other method - so Ill look that up\n",
    "\n",
    "Thirdly, this top solution realized that he/she could build the loop in a way where it started checking values from the top-down, and would simply just add anything above 0, and just stop the loop going downwards when it found a 0 - this created a 25% speed increase compared to my solution of having to go through the entire matrix. So it seems like alot of these top solutions are doing that, they are hand crafting the algorithm to take the least amount of steps possible, whereas I am still needing to focus on the the syntax to write the brute force way in the first place... I am officially in the top 6% of coders going through these challenges --- so to take that into account - do I feel the need to be in the top .1% of python code? lol, not really, so yeah, that helps me realize the importance between solving more challenges which puts me up to the 94%+ range of coders, - I guess this is what I needed to see though, I wasnt sure if there were drastically better ways of writing things, and I hadnt an idea what they would even look like\n",
    "but now I am getting a feel for the general things going on in these top solutions, they are top solutions because they think for a long time on how to cut out 10-25% of the loop, and in a major industrial application, that is definitely worthy, so Ill continue understanding these general trends in the writing of the code solutions\n",
    "\n",
    "- I am now seeing what I needed to see"
   ]
  },
  {
   "cell_type": "markdown",
   "id": "29bd9124-4d4a-4488-ac6d-6eea26812798",
   "metadata": {},
   "source": [
    "## All longest strings"
   ]
  },
  {
   "cell_type": "code",
   "execution_count": null,
   "id": "282606c8-d5ef-462a-8a42-6485f1b8ec36",
   "metadata": {},
   "outputs": [],
   "source": [
    "def allLongestStrings(inputArray):\n",
    "    max_l = max([len(inputArray[i]) for i, val in \n",
    "                 enumerate(inputArray)])\n",
    "    return [val for i, val in enumerate(inputArray)\n",
    "            if len(inputArray[i]) == max_l]"
   ]
  },
  {
   "cell_type": "code",
   "execution_count": null,
   "id": "a23e0ca3-bd24-48c3-88ad-048cff1ca6d6",
   "metadata": {},
   "outputs": [],
   "source": [
    "def allLongestStrings(inputArray):\n",
    "return [i for i in inputArray if len(i) == len(max(inputArray, key=len))]"
   ]
  },
  {
   "cell_type": "markdown",
   "id": "b25732f4-5235-47b1-a827-39790710feb6",
   "metadata": {},
   "source": [
    "Cool, so I solved this one very quickly using two list comprehensions\n",
    "And now I can see that I can even write a normal for loop with the action infront without a list comp - for example:\n",
    "\n",
    "m = max(len(s) for s in inputArray)\n",
    "\n",
    "And then this max(object, key=len) thing is cool, first time Ive seen this, would make sense that some of these builtin functions have this capability to essentailly run a for loop looking for a common thing"
   ]
  },
  {
   "cell_type": "markdown",
   "id": "41240669-f738-4fce-aa7e-ad13a0fc2288",
   "metadata": {},
   "source": [
    "## CommonCharacterCount"
   ]
  },
  {
   "cell_type": "code",
   "execution_count": null,
   "id": "217a9e0f-1bdd-4051-9b93-70e2603ab9f9",
   "metadata": {},
   "outputs": [],
   "source": [
    "\n",
    "def commonCharacterCount(s1, s2):\n",
    "    l1 = [i for i in s1]\n",
    "    l2 = [i for i in s2]\n",
    "    count = 0\n",
    "    \n",
    "    for i in range(len(l1)):\n",
    "        if l1[i] in l2:\n",
    "            idx= l2.index(l1[i])\n",
    "            del l2[idx]\n",
    "            count +=1\n",
    "\n",
    "    return count"
   ]
  },
  {
   "cell_type": "code",
   "execution_count": 364,
   "id": "18e94c92-ff14-438a-bed9-22b8a0aa0bb0",
   "metadata": {},
   "outputs": [
    {
     "name": "stdout",
     "output_type": "stream",
     "text": [
      "['aabcc']\n"
     ]
    },
    {
     "data": {
      "text/plain": [
       "0"
      ]
     },
     "execution_count": 364,
     "metadata": {},
     "output_type": "execute_result"
    }
   ],
   "source": [
    "s1 = \"aabcc\"\n",
    "s2 = \"adcaa\"\n",
    "\n",
    "def commonCharacterCount(s1, s2):\n",
    "    l1 = [i for i in s1]\n",
    "    l2 = [i for i in s2]\n",
    "    count = 0\n",
    "    \n",
    "    for i in range(len(l1)):\n",
    "        if l1[i] in l2:\n",
    "            del l2[l2.index(l1[i])]\n",
    "            count +=1\n",
    "\n",
    "    return sum([1 for i in range(len(l1) if ])\n",
    "\n",
    "commonCharacterCount(s1,s2)"
   ]
  },
  {
   "cell_type": "code",
   "execution_count": 366,
   "id": "e8dd9055-4dc9-4fce-9c1b-6cb89b46a26a",
   "metadata": {},
   "outputs": [
    {
     "data": {
      "text/plain": [
       "3"
      ]
     },
     "execution_count": 366,
     "metadata": {},
     "output_type": "execute_result"
    }
   ],
   "source": [
    "def commonCharacterCount(s1, s2):\n",
    "    return sum([min(s1.count(i),s2.count(i)) for i in set(s1)])\n",
    "\n",
    "commonCharacterCount(s1,s2)"
   ]
  },
  {
   "cell_type": "code",
   "execution_count": 369,
   "id": "def0f270-4acd-42ec-bbaa-f632acf9076b",
   "metadata": {},
   "outputs": [
    {
     "name": "stdout",
     "output_type": "stream",
     "text": [
      "aabcc\n",
      "{'a', 'b', 'c'}\n",
      "[2, 0, 1]\n"
     ]
    }
   ],
   "source": [
    "print(s1)\n",
    "print(set(s1))\n",
    "\n",
    "print([min(s1.count(i),s2.count(i)) for i in set(s1)])"
   ]
  },
  {
   "cell_type": "markdown",
   "id": "fdd9d960-ba78-423a-8dc0-25f8bc1f83a9",
   "metadata": {},
   "source": [
    "Interesting, so putting something into a set(), creates a 'set' of only the unique values\n",
    "So this another place where I can use a built-in function to create exactly what I am looking for, without doing it manually... so technically this answer is the most concise way to write the answer, but its really doing the same thing... and in reality, theres going to be a million combinations of these built-in function nuances... so is it better for me to memorize these... or would it be better for me to just build what works in 3-4 different languages? Yeah thats a goood question actually.\n",
    "\n",
    "So I guess one thing I can take away from this is: \n",
    "anytime I am doing something manually, like creating a list of items in a string, or counting the number of items in a string, there is probably a built-in function to do this, of course there is... but actually, if I can do it more generalistically, that is probably useful in its own way as well, because that means I can take on any task, using just the base building blocks of the language, not just the most highly specialized tools, its like being able to use a heavy screw driver to bang in a nail, so that I can operate with less tools, but still get the job done as intended.\n",
    "\n",
    "Very interesting thought here...\n",
    "\n",
    "Okay yeah so this is all starting to make sense, essentially, all these millions of specialized tools are sitting on a virtual shelf, ready to be used, if I know where to look - so on one hand, I can build a personal shelf like I am kind of doing here, and with my ML document, which I can personally organize, but, this doesnt really seem to be working either... so lets see... the easiest thing I can think of  is\n",
    "I start off the probelm, and I think, okay what objects am I working with?\n",
    "strings\n",
    "okay. perfect. string.tab ---- lookup all tools on the shelf for this object\n",
    "that would be more efficent than pulling up the docs\n",
    "\n",
    "Yep. Thats it. I just figured it out."
   ]
  },
  {
   "cell_type": "markdown",
   "id": "ab24721f-29fb-4f73-b084-02a3adbb625d",
   "metadata": {},
   "source": [
    "## IsLucky"
   ]
  },
  {
   "cell_type": "code",
   "execution_count": 1,
   "id": "4926ca87-50a3-47cd-b651-a8080136f6a4",
   "metadata": {},
   "outputs": [
    {
     "data": {
      "text/plain": [
       "False"
      ]
     },
     "execution_count": 1,
     "metadata": {},
     "output_type": "execute_result"
    }
   ],
   "source": [
    "n1 = 1230\n",
    "n2 = 239017\n",
    "\n",
    "def isLucky(n):\n",
    "    n = [int(i) for i in str(n)]\n",
    "    half = int(len(n) /2)\n",
    "    return sum(n[:half]) == sum(n[half:])\n",
    "\n",
    "isLucky(n2)"
   ]
  },
  {
   "cell_type": "markdown",
   "id": "0da9df62-4dda-4d4b-ac04-b3bb27a288b7",
   "metadata": {},
   "source": [
    "Cool, so for this one I coded the same thing as the best solution\n",
    "\n",
    "When it comes to indexing integers, the only thing to do in python is to convert them to a string, since integers dont have any built-in indexing functions.\n",
    "In this case, I converted the single integer into a list of individual integers using a simple list comp, on which I can do all the indexing and math functions I need\n",
    "\n",
    "So its this function right here - that converts an integer into a list of integers - this will probably come in handy\n",
    "\n",
    "integer_lst = [int(i) for i in str(integer)]\n"
   ]
  },
  {
   "cell_type": "markdown",
   "id": "55fa7dd8-4e85-4eec-b6fa-1402eea0f4f3",
   "metadata": {},
   "source": [
    "# Python OOP Class Challenges"
   ]
  },
  {
   "cell_type": "markdown",
   "id": "3a70f8fc-01a2-4e5a-83ba-63ce42fc1cc9",
   "metadata": {},
   "source": [
    "### Video Streaming Plans"
   ]
  },
  {
   "cell_type": "code",
   "execution_count": 7,
   "id": "f70ef7b8-56f4-43ab-8866-321e8d5cce13",
   "metadata": {},
   "outputs": [
    {
     "name": "stdout",
     "output_type": "stream",
     "text": [
      "$15.99\n",
      "True\n"
     ]
    }
   ],
   "source": [
    "class BasicPlan:\n",
    "\tcan_stream = True\n",
    "\tcan_download = True\n",
    "\tnum_of_devices = 1\n",
    "\thas_SD = True\n",
    "\thas_HD = False\n",
    "\thas_UHD = False\n",
    "\tprice = '$8.99'\n",
    "class StandardPlan:\n",
    "\tcan_stream = True\n",
    "\tcan_download = True\n",
    "\thas_SD = True\n",
    "\thas_HD = True\n",
    "\thas_UHD = False\n",
    "\tnum_of_devices = 2\n",
    "\tprice = '$12.99'\n",
    "\n",
    "class PremiumPlan:\n",
    "\tcan_stream = True\n",
    "\tcan_download = True\n",
    "\thas_SD = True\n",
    "\thas_HD = True\n",
    "\thas_UHD = True\n",
    "\tnum_of_devices = 4\n",
    "\tprice = '$15.99'\n",
    "\t\n",
    "print(PremiumPlan.price)\n",
    "print(PremiumPlan.has_SD)"
   ]
  },
  {
   "cell_type": "code",
   "execution_count": null,
   "id": "2f173fe9-4069-4778-a4a8-7ddc549ca666",
   "metadata": {},
   "outputs": [],
   "source": []
  }
 ],
 "metadata": {
  "kernelspec": {
   "display_name": "Python 3",
   "language": "python",
   "name": "python3"
  },
  "language_info": {
   "codemirror_mode": {
    "name": "ipython",
    "version": 3
   },
   "file_extension": ".py",
   "mimetype": "text/x-python",
   "name": "python",
   "nbconvert_exporter": "python",
   "pygments_lexer": "ipython3",
   "version": "3.8.3"
  }
 },
 "nbformat": 4,
 "nbformat_minor": 5
}
