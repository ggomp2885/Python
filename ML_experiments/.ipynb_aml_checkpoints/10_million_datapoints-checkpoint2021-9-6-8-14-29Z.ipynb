{
  "cells": [
    {
      "cell_type": "code",
      "source": [
        "import pandas as pd\n",
        "import numpy as np\n",
        "import os  \n",
        "\n",
        "from sklearn.datasets import make_classification\n",
        "from sklearn.preprocessing import StandardScaler\n",
        "from sklearn.experimental import enable_iterative_imputer\n",
        "from sklearn.impute import IterativeImputer\n",
        "\n",
        "nb_dir = os.getcwd()"
      ],
      "outputs": [],
      "execution_count": 11,
      "metadata": {
        "gather": {
          "logged": 1633502640559
        }
      },
      "id": "0b99a866-ac83-4521-b066-b5303c60fa11"
    },
    {
      "cell_type": "code",
      "source": [
        "X, y = make_classification(n_samples=1_000_000, n_features=100, n_informative=80, \n",
        "                          n_redundant=10, n_repeated=5, n_classes=2, weights=[.7, .3], \n",
        "                          flip_y=.05, random_state=1)\n",
        "X = pd.DataFrame(X)\n",
        "y = pd.Series(y)\n",
        "\n",
        "display(y.tail(8))\n",
        "display(X.tail(5))"
      ],
      "outputs": [
        {
          "output_type": "display_data",
          "data": {
            "text/plain": "999992    1\n999993    0\n999994    0\n999995    0\n999996    0\n999997    0\n999998    0\n999999    0\ndtype: int64"
          },
          "metadata": {}
        },
        {
          "output_type": "display_data",
          "data": {
            "text/plain": "               0         1         2         3         4          5   \\\n999995   7.638479  0.147993 -0.374315 -1.905672  2.100724   4.876262   \n999996   4.952854 -4.907971 -3.874430  3.285434  1.330459   3.820075   \n999997  11.011109  2.142859  2.234868  6.290689 -1.949660 -11.516185   \n999998   3.451271  6.111332  0.207175 -1.531731 -1.647576  -3.079046   \n999999   1.207356 -2.188729  2.292431 -3.228291 -1.414930   2.512614   \n\n              6         7         8          9   ...         90        91  \\\n999995  3.539063  3.724045 -0.035807  12.583887  ... -27.349655  3.110569   \n999996 -4.343467 -0.446642  0.937792  -5.886366  ... -17.715663 -1.304413   \n999997 -1.778527  8.871909 -0.164823  14.109944  ... -23.813726 -4.862410   \n999998  0.488566  2.746394 -0.162541  17.769461  ...  35.495048  8.325566   \n999999 -0.476338 -1.169076  1.948679   7.196266  ... -10.082629  7.062203   \n\n              92        93        94        95        96        97        98  \\\n999995 -0.387177 -0.440046 -3.978399 -3.284399 -5.888020 -2.889172  1.054599   \n999996 -1.772847 -7.154627 -8.490058 -0.966438 -4.778945 -3.230334  4.550058   \n999997  0.013348 -5.801830 -1.499662  5.745617  7.858887  4.896642 -6.953329   \n999998 -1.254650 -7.690576 -1.708708  1.298043 -8.494639  3.796856  0.623049   \n999999  0.874893 -4.480021 -2.348454  5.003265  6.683871 -1.251950  2.403161   \n\n              99  \n999995  1.856324  \n999996  2.558468  \n999997  6.986822  \n999998  0.414741  \n999999  5.155323  \n\n[5 rows x 100 columns]",
            "text/html": "<div>\n<style scoped>\n    .dataframe tbody tr th:only-of-type {\n        vertical-align: middle;\n    }\n\n    .dataframe tbody tr th {\n        vertical-align: top;\n    }\n\n    .dataframe thead th {\n        text-align: right;\n    }\n</style>\n<table border=\"1\" class=\"dataframe\">\n  <thead>\n    <tr style=\"text-align: right;\">\n      <th></th>\n      <th>0</th>\n      <th>1</th>\n      <th>2</th>\n      <th>3</th>\n      <th>4</th>\n      <th>5</th>\n      <th>6</th>\n      <th>7</th>\n      <th>8</th>\n      <th>9</th>\n      <th>...</th>\n      <th>90</th>\n      <th>91</th>\n      <th>92</th>\n      <th>93</th>\n      <th>94</th>\n      <th>95</th>\n      <th>96</th>\n      <th>97</th>\n      <th>98</th>\n      <th>99</th>\n    </tr>\n  </thead>\n  <tbody>\n    <tr>\n      <th>999995</th>\n      <td>7.638479</td>\n      <td>0.147993</td>\n      <td>-0.374315</td>\n      <td>-1.905672</td>\n      <td>2.100724</td>\n      <td>4.876262</td>\n      <td>3.539063</td>\n      <td>3.724045</td>\n      <td>-0.035807</td>\n      <td>12.583887</td>\n      <td>...</td>\n      <td>-27.349655</td>\n      <td>3.110569</td>\n      <td>-0.387177</td>\n      <td>-0.440046</td>\n      <td>-3.978399</td>\n      <td>-3.284399</td>\n      <td>-5.888020</td>\n      <td>-2.889172</td>\n      <td>1.054599</td>\n      <td>1.856324</td>\n    </tr>\n    <tr>\n      <th>999996</th>\n      <td>4.952854</td>\n      <td>-4.907971</td>\n      <td>-3.874430</td>\n      <td>3.285434</td>\n      <td>1.330459</td>\n      <td>3.820075</td>\n      <td>-4.343467</td>\n      <td>-0.446642</td>\n      <td>0.937792</td>\n      <td>-5.886366</td>\n      <td>...</td>\n      <td>-17.715663</td>\n      <td>-1.304413</td>\n      <td>-1.772847</td>\n      <td>-7.154627</td>\n      <td>-8.490058</td>\n      <td>-0.966438</td>\n      <td>-4.778945</td>\n      <td>-3.230334</td>\n      <td>4.550058</td>\n      <td>2.558468</td>\n    </tr>\n    <tr>\n      <th>999997</th>\n      <td>11.011109</td>\n      <td>2.142859</td>\n      <td>2.234868</td>\n      <td>6.290689</td>\n      <td>-1.949660</td>\n      <td>-11.516185</td>\n      <td>-1.778527</td>\n      <td>8.871909</td>\n      <td>-0.164823</td>\n      <td>14.109944</td>\n      <td>...</td>\n      <td>-23.813726</td>\n      <td>-4.862410</td>\n      <td>0.013348</td>\n      <td>-5.801830</td>\n      <td>-1.499662</td>\n      <td>5.745617</td>\n      <td>7.858887</td>\n      <td>4.896642</td>\n      <td>-6.953329</td>\n      <td>6.986822</td>\n    </tr>\n    <tr>\n      <th>999998</th>\n      <td>3.451271</td>\n      <td>6.111332</td>\n      <td>0.207175</td>\n      <td>-1.531731</td>\n      <td>-1.647576</td>\n      <td>-3.079046</td>\n      <td>0.488566</td>\n      <td>2.746394</td>\n      <td>-0.162541</td>\n      <td>17.769461</td>\n      <td>...</td>\n      <td>35.495048</td>\n      <td>8.325566</td>\n      <td>-1.254650</td>\n      <td>-7.690576</td>\n      <td>-1.708708</td>\n      <td>1.298043</td>\n      <td>-8.494639</td>\n      <td>3.796856</td>\n      <td>0.623049</td>\n      <td>0.414741</td>\n    </tr>\n    <tr>\n      <th>999999</th>\n      <td>1.207356</td>\n      <td>-2.188729</td>\n      <td>2.292431</td>\n      <td>-3.228291</td>\n      <td>-1.414930</td>\n      <td>2.512614</td>\n      <td>-0.476338</td>\n      <td>-1.169076</td>\n      <td>1.948679</td>\n      <td>7.196266</td>\n      <td>...</td>\n      <td>-10.082629</td>\n      <td>7.062203</td>\n      <td>0.874893</td>\n      <td>-4.480021</td>\n      <td>-2.348454</td>\n      <td>5.003265</td>\n      <td>6.683871</td>\n      <td>-1.251950</td>\n      <td>2.403161</td>\n      <td>5.155323</td>\n    </tr>\n  </tbody>\n</table>\n<p>5 rows × 100 columns</p>\n</div>"
          },
          "metadata": {}
        }
      ],
      "execution_count": 2,
      "metadata": {
        "gather": {
          "logged": 1633502252131
        }
      },
      "id": "f8698c04-9dd8-4a22-9dc8-62cc34679d1e"
    },
    {
      "cell_type": "markdown",
      "source": [
        "## Exporting to CSV to check file size"
      ],
      "metadata": {
        "nteract": {
          "transient": {
            "deleting": false
          }
        }
      },
      "id": "a8a03aa9-b5c3-41f1-8bd8-992e9099942f"
    },
    {
      "cell_type": "code",
      "source": [
        "\r\n",
        "X.to_csv(f\"{nb_dir}/x_100m_combo_100f_rs1.csv\", index=False)\r\n",
        "y.to_csv(f\"{nb_dir}/y_100m_combo_100f_rs1.csv\", index=False)"
      ],
      "outputs": [],
      "execution_count": 12,
      "metadata": {
        "gather": {
          "logged": 1633502808592
        }
      },
      "id": "971c6a53-ff52-4d41-a64b-ac0c773d06c8"
    },
    {
      "cell_type": "markdown",
      "source": [
        "## Importing from CSV files"
      ],
      "metadata": {},
      "id": "422c7742-4c06-482c-8b4f-95639a7e5089"
    },
    {
      "cell_type": "code",
      "source": [
        "X = pd.read_csv(f\"{nb_dir}/x_100m_combo_100f_rs1.csv\")\n",
        "y = pd.read_csv(f\"{nb_dir}/y_100m_combo_100f_rs1.csv\")"
      ],
      "outputs": [],
      "execution_count": 13,
      "metadata": {
        "gather": {
          "logged": 1633502879783
        }
      },
      "id": "276318e9-12a5-4fc6-9ec2-3ef6d9854fb7"
    },
    {
      "cell_type": "code",
      "source": [
        "display(X.tail(5))"
      ],
      "outputs": [
        {
          "output_type": "display_data",
          "data": {
            "text/plain": "               0         1         2         3         4          5   \\\n999995   7.638479  0.147993 -0.374315 -1.905672  2.100724   4.876262   \n999996   4.952854 -4.907971 -3.874430  3.285434  1.330459   3.820075   \n999997  11.011109  2.142859  2.234868  6.290689 -1.949660 -11.516185   \n999998   3.451271  6.111332  0.207175 -1.531731 -1.647576  -3.079046   \n999999   1.207356 -2.188729  2.292431 -3.228291 -1.414930   2.512614   \n\n              6         7         8          9   ...         90        91  \\\n999995  3.539063  3.724045 -0.035807  12.583887  ... -27.349655  3.110569   \n999996 -4.343467 -0.446642  0.937792  -5.886366  ... -17.715663 -1.304413   \n999997 -1.778527  8.871909 -0.164823  14.109944  ... -23.813726 -4.862410   \n999998  0.488566  2.746394 -0.162541  17.769461  ...  35.495048  8.325566   \n999999 -0.476338 -1.169076  1.948679   7.196266  ... -10.082629  7.062203   \n\n              92        93        94        95        96        97        98  \\\n999995 -0.387177 -0.440046 -3.978399 -3.284399 -5.888020 -2.889172  1.054599   \n999996 -1.772847 -7.154627 -8.490058 -0.966438 -4.778945 -3.230334  4.550058   \n999997  0.013348 -5.801830 -1.499662  5.745617  7.858887  4.896642 -6.953329   \n999998 -1.254650 -7.690576 -1.708708  1.298043 -8.494639  3.796856  0.623049   \n999999  0.874893 -4.480021 -2.348454  5.003265  6.683871 -1.251950  2.403161   \n\n              99  \n999995  1.856324  \n999996  2.558468  \n999997  6.986822  \n999998  0.414741  \n999999  5.155323  \n\n[5 rows x 100 columns]",
            "text/html": "<div>\n<style scoped>\n    .dataframe tbody tr th:only-of-type {\n        vertical-align: middle;\n    }\n\n    .dataframe tbody tr th {\n        vertical-align: top;\n    }\n\n    .dataframe thead th {\n        text-align: right;\n    }\n</style>\n<table border=\"1\" class=\"dataframe\">\n  <thead>\n    <tr style=\"text-align: right;\">\n      <th></th>\n      <th>0</th>\n      <th>1</th>\n      <th>2</th>\n      <th>3</th>\n      <th>4</th>\n      <th>5</th>\n      <th>6</th>\n      <th>7</th>\n      <th>8</th>\n      <th>9</th>\n      <th>...</th>\n      <th>90</th>\n      <th>91</th>\n      <th>92</th>\n      <th>93</th>\n      <th>94</th>\n      <th>95</th>\n      <th>96</th>\n      <th>97</th>\n      <th>98</th>\n      <th>99</th>\n    </tr>\n  </thead>\n  <tbody>\n    <tr>\n      <th>999995</th>\n      <td>7.638479</td>\n      <td>0.147993</td>\n      <td>-0.374315</td>\n      <td>-1.905672</td>\n      <td>2.100724</td>\n      <td>4.876262</td>\n      <td>3.539063</td>\n      <td>3.724045</td>\n      <td>-0.035807</td>\n      <td>12.583887</td>\n      <td>...</td>\n      <td>-27.349655</td>\n      <td>3.110569</td>\n      <td>-0.387177</td>\n      <td>-0.440046</td>\n      <td>-3.978399</td>\n      <td>-3.284399</td>\n      <td>-5.888020</td>\n      <td>-2.889172</td>\n      <td>1.054599</td>\n      <td>1.856324</td>\n    </tr>\n    <tr>\n      <th>999996</th>\n      <td>4.952854</td>\n      <td>-4.907971</td>\n      <td>-3.874430</td>\n      <td>3.285434</td>\n      <td>1.330459</td>\n      <td>3.820075</td>\n      <td>-4.343467</td>\n      <td>-0.446642</td>\n      <td>0.937792</td>\n      <td>-5.886366</td>\n      <td>...</td>\n      <td>-17.715663</td>\n      <td>-1.304413</td>\n      <td>-1.772847</td>\n      <td>-7.154627</td>\n      <td>-8.490058</td>\n      <td>-0.966438</td>\n      <td>-4.778945</td>\n      <td>-3.230334</td>\n      <td>4.550058</td>\n      <td>2.558468</td>\n    </tr>\n    <tr>\n      <th>999997</th>\n      <td>11.011109</td>\n      <td>2.142859</td>\n      <td>2.234868</td>\n      <td>6.290689</td>\n      <td>-1.949660</td>\n      <td>-11.516185</td>\n      <td>-1.778527</td>\n      <td>8.871909</td>\n      <td>-0.164823</td>\n      <td>14.109944</td>\n      <td>...</td>\n      <td>-23.813726</td>\n      <td>-4.862410</td>\n      <td>0.013348</td>\n      <td>-5.801830</td>\n      <td>-1.499662</td>\n      <td>5.745617</td>\n      <td>7.858887</td>\n      <td>4.896642</td>\n      <td>-6.953329</td>\n      <td>6.986822</td>\n    </tr>\n    <tr>\n      <th>999998</th>\n      <td>3.451271</td>\n      <td>6.111332</td>\n      <td>0.207175</td>\n      <td>-1.531731</td>\n      <td>-1.647576</td>\n      <td>-3.079046</td>\n      <td>0.488566</td>\n      <td>2.746394</td>\n      <td>-0.162541</td>\n      <td>17.769461</td>\n      <td>...</td>\n      <td>35.495048</td>\n      <td>8.325566</td>\n      <td>-1.254650</td>\n      <td>-7.690576</td>\n      <td>-1.708708</td>\n      <td>1.298043</td>\n      <td>-8.494639</td>\n      <td>3.796856</td>\n      <td>0.623049</td>\n      <td>0.414741</td>\n    </tr>\n    <tr>\n      <th>999999</th>\n      <td>1.207356</td>\n      <td>-2.188729</td>\n      <td>2.292431</td>\n      <td>-3.228291</td>\n      <td>-1.414930</td>\n      <td>2.512614</td>\n      <td>-0.476338</td>\n      <td>-1.169076</td>\n      <td>1.948679</td>\n      <td>7.196266</td>\n      <td>...</td>\n      <td>-10.082629</td>\n      <td>7.062203</td>\n      <td>0.874893</td>\n      <td>-4.480021</td>\n      <td>-2.348454</td>\n      <td>5.003265</td>\n      <td>6.683871</td>\n      <td>-1.251950</td>\n      <td>2.403161</td>\n      <td>5.155323</td>\n    </tr>\n  </tbody>\n</table>\n<p>5 rows × 100 columns</p>\n</div>"
          },
          "metadata": {}
        }
      ],
      "execution_count": 3,
      "metadata": {
        "jupyter": {
          "source_hidden": false,
          "outputs_hidden": false
        },
        "nteract": {
          "transient": {
            "deleting": false
          }
        },
        "gather": {
          "logged": 1633499361576
        }
      },
      "id": "29e4c4d4-f311-4613-b1b7-e89bee07089e"
    },
    {
      "cell_type": "markdown",
      "source": [
        "## Creating Null values"
      ],
      "metadata": {},
      "id": "b14f7443-507f-4058-ac58-0c2d59fbd1ac"
    },
    {
      "cell_type": "code",
      "source": [
        "X = X.mask(np.random.random(X.shape) < .001)\n",
        "print(X.isnull().sum())"
      ],
      "outputs": [
        {
          "output_type": "stream",
          "name": "stdout",
          "text": "0     1007\n1      977\n2     1005\n3     1009\n4      971\n      ... \n95    1030\n96    1016\n97     996\n98     983\n99    1029\nLength: 100, dtype: int64\n"
        }
      ],
      "execution_count": 14,
      "metadata": {
        "gather": {
          "logged": 1633503101040
        }
      },
      "id": "ca3bb1db-36b0-4a69-a0b9-da6df72d33e8"
    },
    {
      "cell_type": "markdown",
      "source": [
        "## Dropping rows with null values"
      ],
      "metadata": {},
      "id": "c30e09ed-4bfc-4cb0-95f1-b44690e0ed61"
    },
    {
      "cell_type": "code",
      "source": [
        "# X.dropna(inplace=True)\n",
        "print(X.isnull().sum())\n",
        "print(X.shape)"
      ],
      "outputs": [
        {
          "output_type": "stream",
          "name": "stdout",
          "text": "0     0\n1     0\n2     0\n3     0\n4     0\n     ..\n95    0\n96    0\n97    0\n98    0\n99    0\nLength: 100, dtype: int64\n(819131, 100)\n"
        }
      ],
      "execution_count": 8,
      "metadata": {
        "gather": {
          "logged": 1633497794501
        },
        "jupyter": {
          "source_hidden": true,
          "outputs_hidden": true
        }
      },
      "id": "c66d094d-e0da-497c-bb36-d531bb9caba8"
    },
    {
      "cell_type": "code",
      "source": [
        "from sklearn.model_selection import train_test_split\r\n",
        "X_train, X_test, y_train, y_test = train_test_split(X,y, test_size=.2, random_state=1)\r\n",
        "\r\n",
        "display(X_test.tail(5))"
      ],
      "outputs": [
        {
          "output_type": "display_data",
          "data": {
            "text/plain": "               0         1         2         3         4         5         6  \\\n555867  1.556190  0.020741  0.594385  1.602179 -2.687061  7.625087  5.387809   \n30004   1.786718  0.842391  3.965639 -3.174068 -5.188345  2.015973 -4.584984   \n124730 -3.222011 -2.431973  4.345308  5.767431  0.497222 -1.337974 -3.637511   \n195783  1.681436  0.115790 -0.730524  5.119406  7.808748 -5.768200 -1.952731   \n32132   0.118524  1.635251 -2.128314 -5.030704  2.850023  7.090865 -3.217605   \n\n               7         8          9  ...         90         91        92  \\\n555867 -5.646649  1.606883  -8.464047  ... -19.094069  -3.341379 -0.106984   \n30004  -5.651028 -1.239148   2.752075  ...  -8.751383  -7.896658 -1.146884   \n124730  1.236147 -0.300381   5.997685  ...   9.550286   1.383661 -2.262372   \n195783 -6.920947  0.432778  11.822049  ...  31.971540  11.068442  1.350913   \n32132  -3.202147  1.142939  10.396271  ...  27.270797  -4.727120  0.120959   \n\n              93        94        95        96        97        98         99  \n555867 -1.739371 -5.572937  0.921987 -2.738149 -6.499573  9.266651   0.374013  \n30004   0.944707  4.804935  3.795107  2.522585  6.395679 -9.984395   4.980221  \n124730 -3.513557  2.771777 -4.568016 -8.681522 -6.421727 -1.138215  -1.814730  \n195783  6.448380  4.515823  2.133800  4.039534  0.323831 -5.551352  14.834031  \n32132   7.104006  6.068772  2.256933 -5.403182  3.784903 -7.736136  -2.790082  \n\n[5 rows x 100 columns]",
            "text/html": "<div>\n<style scoped>\n    .dataframe tbody tr th:only-of-type {\n        vertical-align: middle;\n    }\n\n    .dataframe tbody tr th {\n        vertical-align: top;\n    }\n\n    .dataframe thead th {\n        text-align: right;\n    }\n</style>\n<table border=\"1\" class=\"dataframe\">\n  <thead>\n    <tr style=\"text-align: right;\">\n      <th></th>\n      <th>0</th>\n      <th>1</th>\n      <th>2</th>\n      <th>3</th>\n      <th>4</th>\n      <th>5</th>\n      <th>6</th>\n      <th>7</th>\n      <th>8</th>\n      <th>9</th>\n      <th>...</th>\n      <th>90</th>\n      <th>91</th>\n      <th>92</th>\n      <th>93</th>\n      <th>94</th>\n      <th>95</th>\n      <th>96</th>\n      <th>97</th>\n      <th>98</th>\n      <th>99</th>\n    </tr>\n  </thead>\n  <tbody>\n    <tr>\n      <th>555867</th>\n      <td>1.556190</td>\n      <td>0.020741</td>\n      <td>0.594385</td>\n      <td>1.602179</td>\n      <td>-2.687061</td>\n      <td>7.625087</td>\n      <td>5.387809</td>\n      <td>-5.646649</td>\n      <td>1.606883</td>\n      <td>-8.464047</td>\n      <td>...</td>\n      <td>-19.094069</td>\n      <td>-3.341379</td>\n      <td>-0.106984</td>\n      <td>-1.739371</td>\n      <td>-5.572937</td>\n      <td>0.921987</td>\n      <td>-2.738149</td>\n      <td>-6.499573</td>\n      <td>9.266651</td>\n      <td>0.374013</td>\n    </tr>\n    <tr>\n      <th>30004</th>\n      <td>1.786718</td>\n      <td>0.842391</td>\n      <td>3.965639</td>\n      <td>-3.174068</td>\n      <td>-5.188345</td>\n      <td>2.015973</td>\n      <td>-4.584984</td>\n      <td>-5.651028</td>\n      <td>-1.239148</td>\n      <td>2.752075</td>\n      <td>...</td>\n      <td>-8.751383</td>\n      <td>-7.896658</td>\n      <td>-1.146884</td>\n      <td>0.944707</td>\n      <td>4.804935</td>\n      <td>3.795107</td>\n      <td>2.522585</td>\n      <td>6.395679</td>\n      <td>-9.984395</td>\n      <td>4.980221</td>\n    </tr>\n    <tr>\n      <th>124730</th>\n      <td>-3.222011</td>\n      <td>-2.431973</td>\n      <td>4.345308</td>\n      <td>5.767431</td>\n      <td>0.497222</td>\n      <td>-1.337974</td>\n      <td>-3.637511</td>\n      <td>1.236147</td>\n      <td>-0.300381</td>\n      <td>5.997685</td>\n      <td>...</td>\n      <td>9.550286</td>\n      <td>1.383661</td>\n      <td>-2.262372</td>\n      <td>-3.513557</td>\n      <td>2.771777</td>\n      <td>-4.568016</td>\n      <td>-8.681522</td>\n      <td>-6.421727</td>\n      <td>-1.138215</td>\n      <td>-1.814730</td>\n    </tr>\n    <tr>\n      <th>195783</th>\n      <td>1.681436</td>\n      <td>0.115790</td>\n      <td>-0.730524</td>\n      <td>5.119406</td>\n      <td>7.808748</td>\n      <td>-5.768200</td>\n      <td>-1.952731</td>\n      <td>-6.920947</td>\n      <td>0.432778</td>\n      <td>11.822049</td>\n      <td>...</td>\n      <td>31.971540</td>\n      <td>11.068442</td>\n      <td>1.350913</td>\n      <td>6.448380</td>\n      <td>4.515823</td>\n      <td>2.133800</td>\n      <td>4.039534</td>\n      <td>0.323831</td>\n      <td>-5.551352</td>\n      <td>14.834031</td>\n    </tr>\n    <tr>\n      <th>32132</th>\n      <td>0.118524</td>\n      <td>1.635251</td>\n      <td>-2.128314</td>\n      <td>-5.030704</td>\n      <td>2.850023</td>\n      <td>7.090865</td>\n      <td>-3.217605</td>\n      <td>-3.202147</td>\n      <td>1.142939</td>\n      <td>10.396271</td>\n      <td>...</td>\n      <td>27.270797</td>\n      <td>-4.727120</td>\n      <td>0.120959</td>\n      <td>7.104006</td>\n      <td>6.068772</td>\n      <td>2.256933</td>\n      <td>-5.403182</td>\n      <td>3.784903</td>\n      <td>-7.736136</td>\n      <td>-2.790082</td>\n    </tr>\n  </tbody>\n</table>\n<p>5 rows × 100 columns</p>\n</div>"
          },
          "metadata": {}
        }
      ],
      "execution_count": 15,
      "metadata": {
        "gather": {
          "logged": 1633503107805
        }
      },
      "id": "c2e0768a-c76d-40e6-8f61-9bc3ad889854"
    },
    {
      "cell_type": "markdown",
      "source": [
        "## StandardScaling the dataset"
      ],
      "metadata": {},
      "id": "7ec937eb-cffe-40fe-9841-86374d7a6dc2"
    },
    {
      "cell_type": "code",
      "source": [
        "from sklearn.preprocessing import StandardScaler\r\n",
        "scaler = StandardScaler()\r\n",
        "scaler.fit(X_train)\r\n",
        "X_train_s = pd.DataFrame(scaler.transform(X_train))\r\n",
        "X_test_s = pd.DataFrame(scaler.transform(X_test))\r\n",
        "\r\n",
        "display(X_test_s.tail(5))\r\n",
        "display(X_train_s.tail(5))\r\n"
      ],
      "outputs": [
        {
          "output_type": "display_data",
          "data": {
            "text/plain": "              0         1         2         3         4         5         6   \\\n199995  0.233894 -0.130800 -0.079946  0.499636 -0.343529  1.331197  1.009924   \n199996  0.280286  0.029543  0.585718 -0.415032 -0.852495  0.252191 -0.856923   \n199997 -0.727684 -0.609444  0.660685  1.297296  0.304414 -0.392997 -0.679562   \n199998  0.259099 -0.112252 -0.341553  1.173197  1.792175 -1.245224 -0.364181   \n199999 -0.055426  0.184269 -0.617551 -0.770584  0.783166  1.228430 -0.600958   \n\n              7         8         9   ...        90        91        92  \\\n199995 -1.220703  1.609091 -0.448792  ... -0.729773 -0.660671 -0.107167   \n199996 -1.221545 -1.238748  0.039487  ... -0.334633 -1.487887 -1.147038   \n199997  0.102831 -0.299384  0.180781  ...  0.364577  0.197372 -2.262495   \n199998 -1.465745  0.434240  0.434337  ...  1.221175  1.956079  1.350689   \n199999 -0.750635  1.144852  0.372268  ...  1.041584 -0.912315  0.120770   \n\n              93        94        95        96        97        98        99  \n199995 -0.261030 -1.109468  0.173475 -0.463186 -1.449952  1.919276  0.014393  \n199996  0.260377  0.953999  0.712899  0.533881  1.040989 -1.678611  0.907139  \n199997 -0.605681  0.549739 -0.857266 -1.589633 -1.434914 -0.025321 -0.409815  \n199998  1.329516  0.896514  0.400991  0.821388 -0.131893 -0.850106  2.816942  \n199999  1.456877  1.205292  0.424109 -0.968289  0.536673 -1.258427 -0.598851  \n\n[5 rows x 100 columns]",
            "text/html": "<div>\n<style scoped>\n    .dataframe tbody tr th:only-of-type {\n        vertical-align: middle;\n    }\n\n    .dataframe tbody tr th {\n        vertical-align: top;\n    }\n\n    .dataframe thead th {\n        text-align: right;\n    }\n</style>\n<table border=\"1\" class=\"dataframe\">\n  <thead>\n    <tr style=\"text-align: right;\">\n      <th></th>\n      <th>0</th>\n      <th>1</th>\n      <th>2</th>\n      <th>3</th>\n      <th>4</th>\n      <th>5</th>\n      <th>6</th>\n      <th>7</th>\n      <th>8</th>\n      <th>9</th>\n      <th>...</th>\n      <th>90</th>\n      <th>91</th>\n      <th>92</th>\n      <th>93</th>\n      <th>94</th>\n      <th>95</th>\n      <th>96</th>\n      <th>97</th>\n      <th>98</th>\n      <th>99</th>\n    </tr>\n  </thead>\n  <tbody>\n    <tr>\n      <th>199995</th>\n      <td>0.233894</td>\n      <td>-0.130800</td>\n      <td>-0.079946</td>\n      <td>0.499636</td>\n      <td>-0.343529</td>\n      <td>1.331197</td>\n      <td>1.009924</td>\n      <td>-1.220703</td>\n      <td>1.609091</td>\n      <td>-0.448792</td>\n      <td>...</td>\n      <td>-0.729773</td>\n      <td>-0.660671</td>\n      <td>-0.107167</td>\n      <td>-0.261030</td>\n      <td>-1.109468</td>\n      <td>0.173475</td>\n      <td>-0.463186</td>\n      <td>-1.449952</td>\n      <td>1.919276</td>\n      <td>0.014393</td>\n    </tr>\n    <tr>\n      <th>199996</th>\n      <td>0.280286</td>\n      <td>0.029543</td>\n      <td>0.585718</td>\n      <td>-0.415032</td>\n      <td>-0.852495</td>\n      <td>0.252191</td>\n      <td>-0.856923</td>\n      <td>-1.221545</td>\n      <td>-1.238748</td>\n      <td>0.039487</td>\n      <td>...</td>\n      <td>-0.334633</td>\n      <td>-1.487887</td>\n      <td>-1.147038</td>\n      <td>0.260377</td>\n      <td>0.953999</td>\n      <td>0.712899</td>\n      <td>0.533881</td>\n      <td>1.040989</td>\n      <td>-1.678611</td>\n      <td>0.907139</td>\n    </tr>\n    <tr>\n      <th>199997</th>\n      <td>-0.727684</td>\n      <td>-0.609444</td>\n      <td>0.660685</td>\n      <td>1.297296</td>\n      <td>0.304414</td>\n      <td>-0.392997</td>\n      <td>-0.679562</td>\n      <td>0.102831</td>\n      <td>-0.299384</td>\n      <td>0.180781</td>\n      <td>...</td>\n      <td>0.364577</td>\n      <td>0.197372</td>\n      <td>-2.262495</td>\n      <td>-0.605681</td>\n      <td>0.549739</td>\n      <td>-0.857266</td>\n      <td>-1.589633</td>\n      <td>-1.434914</td>\n      <td>-0.025321</td>\n      <td>-0.409815</td>\n    </tr>\n    <tr>\n      <th>199998</th>\n      <td>0.259099</td>\n      <td>-0.112252</td>\n      <td>-0.341553</td>\n      <td>1.173197</td>\n      <td>1.792175</td>\n      <td>-1.245224</td>\n      <td>-0.364181</td>\n      <td>-1.465745</td>\n      <td>0.434240</td>\n      <td>0.434337</td>\n      <td>...</td>\n      <td>1.221175</td>\n      <td>1.956079</td>\n      <td>1.350689</td>\n      <td>1.329516</td>\n      <td>0.896514</td>\n      <td>0.400991</td>\n      <td>0.821388</td>\n      <td>-0.131893</td>\n      <td>-0.850106</td>\n      <td>2.816942</td>\n    </tr>\n    <tr>\n      <th>199999</th>\n      <td>-0.055426</td>\n      <td>0.184269</td>\n      <td>-0.617551</td>\n      <td>-0.770584</td>\n      <td>0.783166</td>\n      <td>1.228430</td>\n      <td>-0.600958</td>\n      <td>-0.750635</td>\n      <td>1.144852</td>\n      <td>0.372268</td>\n      <td>...</td>\n      <td>1.041584</td>\n      <td>-0.912315</td>\n      <td>0.120770</td>\n      <td>1.456877</td>\n      <td>1.205292</td>\n      <td>0.424109</td>\n      <td>-0.968289</td>\n      <td>0.536673</td>\n      <td>-1.258427</td>\n      <td>-0.598851</td>\n    </tr>\n  </tbody>\n</table>\n<p>5 rows × 100 columns</p>\n</div>"
          },
          "metadata": {}
        },
        {
          "output_type": "display_data",
          "data": {
            "text/plain": "              0         1         2         3         4         5         6   \\\n799995 -0.109802  1.311169  0.250579 -0.066669 -1.062323 -1.270951 -2.257546   \n799996 -0.242428 -0.683938 -1.038703 -0.798367  0.587756 -0.141151 -0.939593   \n799997  1.053093  0.432570 -0.000269  1.199095 -0.300752 -0.782728  1.913427   \n799998 -0.887692  0.062279  1.322342 -0.474799  0.172678 -0.296932 -0.195002   \n799999  0.357023  0.104474 -0.532220 -0.065066  1.065065 -0.116713 -1.105216   \n\n              7         8         9   ...        90        91        92  \\\n799995  0.174368 -0.277687  0.509927  ...  1.738474  1.029674  0.248583   \n799996 -2.400886 -0.014191 -0.568090  ...  0.029768 -0.203482 -0.066537   \n799997  0.965863 -0.266340  1.847736  ... -0.713167 -0.471762 -1.189844   \n799998  1.331360 -1.431434  0.418261  ... -1.617856  0.085730  0.214741   \n799999 -0.416866  0.505567 -2.261887  ... -0.766374 -1.359885  1.582292   \n\n              93        94        95        96        97        98        99  \n799995 -1.180288 -0.794304 -0.446795 -1.150870  1.905028 -0.103278  0.427684  \n799996  1.182197 -1.158374  0.656266 -1.107350  0.202308 -0.534869 -1.292747  \n799997  0.795304 -0.654405 -0.820381  2.053129  0.623386  1.967418 -1.965333  \n799998  0.008294  1.259127  0.002429  0.131542 -1.188826 -0.710689 -0.046643  \n799999  0.023063  0.884696 -0.247716 -0.758353  1.448288  1.018068 -0.640923  \n\n[5 rows x 100 columns]",
            "text/html": "<div>\n<style scoped>\n    .dataframe tbody tr th:only-of-type {\n        vertical-align: middle;\n    }\n\n    .dataframe tbody tr th {\n        vertical-align: top;\n    }\n\n    .dataframe thead th {\n        text-align: right;\n    }\n</style>\n<table border=\"1\" class=\"dataframe\">\n  <thead>\n    <tr style=\"text-align: right;\">\n      <th></th>\n      <th>0</th>\n      <th>1</th>\n      <th>2</th>\n      <th>3</th>\n      <th>4</th>\n      <th>5</th>\n      <th>6</th>\n      <th>7</th>\n      <th>8</th>\n      <th>9</th>\n      <th>...</th>\n      <th>90</th>\n      <th>91</th>\n      <th>92</th>\n      <th>93</th>\n      <th>94</th>\n      <th>95</th>\n      <th>96</th>\n      <th>97</th>\n      <th>98</th>\n      <th>99</th>\n    </tr>\n  </thead>\n  <tbody>\n    <tr>\n      <th>799995</th>\n      <td>-0.109802</td>\n      <td>1.311169</td>\n      <td>0.250579</td>\n      <td>-0.066669</td>\n      <td>-1.062323</td>\n      <td>-1.270951</td>\n      <td>-2.257546</td>\n      <td>0.174368</td>\n      <td>-0.277687</td>\n      <td>0.509927</td>\n      <td>...</td>\n      <td>1.738474</td>\n      <td>1.029674</td>\n      <td>0.248583</td>\n      <td>-1.180288</td>\n      <td>-0.794304</td>\n      <td>-0.446795</td>\n      <td>-1.150870</td>\n      <td>1.905028</td>\n      <td>-0.103278</td>\n      <td>0.427684</td>\n    </tr>\n    <tr>\n      <th>799996</th>\n      <td>-0.242428</td>\n      <td>-0.683938</td>\n      <td>-1.038703</td>\n      <td>-0.798367</td>\n      <td>0.587756</td>\n      <td>-0.141151</td>\n      <td>-0.939593</td>\n      <td>-2.400886</td>\n      <td>-0.014191</td>\n      <td>-0.568090</td>\n      <td>...</td>\n      <td>0.029768</td>\n      <td>-0.203482</td>\n      <td>-0.066537</td>\n      <td>1.182197</td>\n      <td>-1.158374</td>\n      <td>0.656266</td>\n      <td>-1.107350</td>\n      <td>0.202308</td>\n      <td>-0.534869</td>\n      <td>-1.292747</td>\n    </tr>\n    <tr>\n      <th>799997</th>\n      <td>1.053093</td>\n      <td>0.432570</td>\n      <td>-0.000269</td>\n      <td>1.199095</td>\n      <td>-0.300752</td>\n      <td>-0.782728</td>\n      <td>1.913427</td>\n      <td>0.965863</td>\n      <td>-0.266340</td>\n      <td>1.847736</td>\n      <td>...</td>\n      <td>-0.713167</td>\n      <td>-0.471762</td>\n      <td>-1.189844</td>\n      <td>0.795304</td>\n      <td>-0.654405</td>\n      <td>-0.820381</td>\n      <td>2.053129</td>\n      <td>0.623386</td>\n      <td>1.967418</td>\n      <td>-1.965333</td>\n    </tr>\n    <tr>\n      <th>799998</th>\n      <td>-0.887692</td>\n      <td>0.062279</td>\n      <td>1.322342</td>\n      <td>-0.474799</td>\n      <td>0.172678</td>\n      <td>-0.296932</td>\n      <td>-0.195002</td>\n      <td>1.331360</td>\n      <td>-1.431434</td>\n      <td>0.418261</td>\n      <td>...</td>\n      <td>-1.617856</td>\n      <td>0.085730</td>\n      <td>0.214741</td>\n      <td>0.008294</td>\n      <td>1.259127</td>\n      <td>0.002429</td>\n      <td>0.131542</td>\n      <td>-1.188826</td>\n      <td>-0.710689</td>\n      <td>-0.046643</td>\n    </tr>\n    <tr>\n      <th>799999</th>\n      <td>0.357023</td>\n      <td>0.104474</td>\n      <td>-0.532220</td>\n      <td>-0.065066</td>\n      <td>1.065065</td>\n      <td>-0.116713</td>\n      <td>-1.105216</td>\n      <td>-0.416866</td>\n      <td>0.505567</td>\n      <td>-2.261887</td>\n      <td>...</td>\n      <td>-0.766374</td>\n      <td>-1.359885</td>\n      <td>1.582292</td>\n      <td>0.023063</td>\n      <td>0.884696</td>\n      <td>-0.247716</td>\n      <td>-0.758353</td>\n      <td>1.448288</td>\n      <td>1.018068</td>\n      <td>-0.640923</td>\n    </tr>\n  </tbody>\n</table>\n<p>5 rows × 100 columns</p>\n</div>"
          },
          "metadata": {}
        }
      ],
      "execution_count": 21,
      "metadata": {
        "gather": {
          "logged": 1633503412956
        }
      },
      "id": "cf6ae571-fe72-4648-a5c9-e99b445061d0"
    },
    {
      "cell_type": "markdown",
      "source": [
        "## MinMax Scaling the dataset"
      ],
      "metadata": {
        "nteract": {
          "transient": {
            "deleting": false
          }
        }
      },
      "id": "58b4acd2-685d-4f4e-9813-db0c8c199c1c"
    },
    {
      "cell_type": "code",
      "source": [
        "from sklearn.preprocessing import MinMaxScaler\r\n",
        "MMscaler = MinMaxScaler()\r\n",
        "MMscaler.fit(X_train_s_scaled)\r\n",
        "\r\n",
        "X_train_s_mm = pd.DataFrame(MMscaler.transform(X_train_s_scaled))\r\n",
        "X_test_s_mm = pd.DataFrame(MMscaler.transform(X_test_s_scaled))\r\n",
        "\r\n",
        "display(X_test_s_mm.tail(5))\r\n",
        "display(X_train_s_mm.tail(5))"
      ],
      "outputs": [
        {
          "output_type": "display_data",
          "data": {
            "text/plain": "              0         1         2         3         4         5         6   \\\n199995  0.537131  0.454154  0.518492  0.560652  0.494506  0.619928  0.589974   \n199996  0.541848  0.470346  0.585812  0.466083  0.445064  0.511950  0.393341   \n199997  0.439360  0.405818  0.593393  0.643123  0.557449  0.447385  0.412022   \n199998  0.539694  0.456027  0.492036  0.630292  0.701974  0.362101  0.445241   \n199999  0.507714  0.485971  0.464124  0.429322  0.603956  0.609644  0.420301   \n\n              7         8         9   ...        90        91        92  \\\n199995  0.360612  0.675717  0.455385  ...  0.399148  0.464638  0.522966   \n199996  0.360525  0.379102  0.505550  ...  0.440411  0.382849  0.410560   \n199997  0.498258  0.476941  0.520066  ...  0.513428  0.549474  0.289984   \n199998  0.335128  0.553351  0.546116  ...  0.602880  0.723361  0.680554   \n199999  0.409499  0.627364  0.539739  ...  0.584126  0.439757  0.547605   \n\n              93        94        95        96        97        98        99  \n199995  0.463583  0.390091  0.531989  0.449073  0.363569  0.725550  0.520679  \n199996  0.516995  0.610566  0.589461  0.556168  0.615147  0.354379  0.610304  \n199997  0.428277  0.567372  0.422169  0.328082  0.365088  0.524938  0.478091  \n199998  0.626517  0.604424  0.556229  0.587049  0.496689  0.439851  0.802035  \n199999  0.639564  0.637416  0.558692  0.394820  0.564212  0.397727  0.459113  \n\n[5 rows x 100 columns]",
            "text/html": "<div>\n<style scoped>\n    .dataframe tbody tr th:only-of-type {\n        vertical-align: middle;\n    }\n\n    .dataframe tbody tr th {\n        vertical-align: top;\n    }\n\n    .dataframe thead th {\n        text-align: right;\n    }\n</style>\n<table border=\"1\" class=\"dataframe\">\n  <thead>\n    <tr style=\"text-align: right;\">\n      <th></th>\n      <th>0</th>\n      <th>1</th>\n      <th>2</th>\n      <th>3</th>\n      <th>4</th>\n      <th>5</th>\n      <th>6</th>\n      <th>7</th>\n      <th>8</th>\n      <th>9</th>\n      <th>...</th>\n      <th>90</th>\n      <th>91</th>\n      <th>92</th>\n      <th>93</th>\n      <th>94</th>\n      <th>95</th>\n      <th>96</th>\n      <th>97</th>\n      <th>98</th>\n      <th>99</th>\n    </tr>\n  </thead>\n  <tbody>\n    <tr>\n      <th>199995</th>\n      <td>0.537131</td>\n      <td>0.454154</td>\n      <td>0.518492</td>\n      <td>0.560652</td>\n      <td>0.494506</td>\n      <td>0.619928</td>\n      <td>0.589974</td>\n      <td>0.360612</td>\n      <td>0.675717</td>\n      <td>0.455385</td>\n      <td>...</td>\n      <td>0.399148</td>\n      <td>0.464638</td>\n      <td>0.522966</td>\n      <td>0.463583</td>\n      <td>0.390091</td>\n      <td>0.531989</td>\n      <td>0.449073</td>\n      <td>0.363569</td>\n      <td>0.725550</td>\n      <td>0.520679</td>\n    </tr>\n    <tr>\n      <th>199996</th>\n      <td>0.541848</td>\n      <td>0.470346</td>\n      <td>0.585812</td>\n      <td>0.466083</td>\n      <td>0.445064</td>\n      <td>0.511950</td>\n      <td>0.393341</td>\n      <td>0.360525</td>\n      <td>0.379102</td>\n      <td>0.505550</td>\n      <td>...</td>\n      <td>0.440411</td>\n      <td>0.382849</td>\n      <td>0.410560</td>\n      <td>0.516995</td>\n      <td>0.610566</td>\n      <td>0.589461</td>\n      <td>0.556168</td>\n      <td>0.615147</td>\n      <td>0.354379</td>\n      <td>0.610304</td>\n    </tr>\n    <tr>\n      <th>199997</th>\n      <td>0.439360</td>\n      <td>0.405818</td>\n      <td>0.593393</td>\n      <td>0.643123</td>\n      <td>0.557449</td>\n      <td>0.447385</td>\n      <td>0.412022</td>\n      <td>0.498258</td>\n      <td>0.476941</td>\n      <td>0.520066</td>\n      <td>...</td>\n      <td>0.513428</td>\n      <td>0.549474</td>\n      <td>0.289984</td>\n      <td>0.428277</td>\n      <td>0.567372</td>\n      <td>0.422169</td>\n      <td>0.328082</td>\n      <td>0.365088</td>\n      <td>0.524938</td>\n      <td>0.478091</td>\n    </tr>\n    <tr>\n      <th>199998</th>\n      <td>0.539694</td>\n      <td>0.456027</td>\n      <td>0.492036</td>\n      <td>0.630292</td>\n      <td>0.701974</td>\n      <td>0.362101</td>\n      <td>0.445241</td>\n      <td>0.335128</td>\n      <td>0.553351</td>\n      <td>0.546116</td>\n      <td>...</td>\n      <td>0.602880</td>\n      <td>0.723361</td>\n      <td>0.680554</td>\n      <td>0.626517</td>\n      <td>0.604424</td>\n      <td>0.556229</td>\n      <td>0.587049</td>\n      <td>0.496689</td>\n      <td>0.439851</td>\n      <td>0.802035</td>\n    </tr>\n    <tr>\n      <th>199999</th>\n      <td>0.507714</td>\n      <td>0.485971</td>\n      <td>0.464124</td>\n      <td>0.429322</td>\n      <td>0.603956</td>\n      <td>0.609644</td>\n      <td>0.420301</td>\n      <td>0.409499</td>\n      <td>0.627364</td>\n      <td>0.539739</td>\n      <td>...</td>\n      <td>0.584126</td>\n      <td>0.439757</td>\n      <td>0.547605</td>\n      <td>0.639564</td>\n      <td>0.637416</td>\n      <td>0.558692</td>\n      <td>0.394820</td>\n      <td>0.564212</td>\n      <td>0.397727</td>\n      <td>0.459113</td>\n    </tr>\n  </tbody>\n</table>\n<p>5 rows × 100 columns</p>\n</div>"
          },
          "metadata": {}
        },
        {
          "output_type": "display_data",
          "data": {
            "text/plain": "              0         1         2         3         4         5         6   \\\n799995  0.502185  0.599771  0.551919  0.502100  0.424681  0.359527  0.245814   \n799996  0.488700  0.398295  0.421533  0.426449  0.584974  0.472588  0.384633   \n799997  0.620425  0.511046  0.526550  0.632970  0.498662  0.408384  0.685139   \n799998  0.423091  0.473652  0.660307  0.459903  0.544652  0.456999  0.463060   \n799999  0.549651  0.477913  0.472754  0.502266  0.631341  0.475033  0.367188   \n\n              7         8         9   ...        90        91        92  \\\n799995  0.505698  0.479201  0.553882  ...  0.656900  0.631765  0.561421   \n799996  0.237875  0.506645  0.443128  ...  0.478465  0.509841  0.527358   \n799997  0.588012  0.480382  0.691327  ...  0.400882  0.483316  0.405933   \n799998  0.626023  0.359033  0.544465  ...  0.306408  0.538436  0.557763   \n799999  0.444210  0.560780  0.269109  ...  0.395326  0.395505  0.705590   \n\n              93        94        95        96        97        98        99  \n799995  0.369414  0.423765  0.465902  0.375209  0.702412  0.516896  0.562170  \n799996  0.611426  0.384865  0.583427  0.379884  0.530442  0.472372  0.389451  \n799997  0.571793  0.438713  0.426099  0.719350  0.572970  0.730516  0.321928  \n799998  0.491172  0.643168  0.513765  0.512953  0.389942  0.454233  0.514551  \n799999  0.492685  0.603161  0.487113  0.417369  0.656282  0.632578  0.454889  \n\n[5 rows x 100 columns]",
            "text/html": "<div>\n<style scoped>\n    .dataframe tbody tr th:only-of-type {\n        vertical-align: middle;\n    }\n\n    .dataframe tbody tr th {\n        vertical-align: top;\n    }\n\n    .dataframe thead th {\n        text-align: right;\n    }\n</style>\n<table border=\"1\" class=\"dataframe\">\n  <thead>\n    <tr style=\"text-align: right;\">\n      <th></th>\n      <th>0</th>\n      <th>1</th>\n      <th>2</th>\n      <th>3</th>\n      <th>4</th>\n      <th>5</th>\n      <th>6</th>\n      <th>7</th>\n      <th>8</th>\n      <th>9</th>\n      <th>...</th>\n      <th>90</th>\n      <th>91</th>\n      <th>92</th>\n      <th>93</th>\n      <th>94</th>\n      <th>95</th>\n      <th>96</th>\n      <th>97</th>\n      <th>98</th>\n      <th>99</th>\n    </tr>\n  </thead>\n  <tbody>\n    <tr>\n      <th>799995</th>\n      <td>0.502185</td>\n      <td>0.599771</td>\n      <td>0.551919</td>\n      <td>0.502100</td>\n      <td>0.424681</td>\n      <td>0.359527</td>\n      <td>0.245814</td>\n      <td>0.505698</td>\n      <td>0.479201</td>\n      <td>0.553882</td>\n      <td>...</td>\n      <td>0.656900</td>\n      <td>0.631765</td>\n      <td>0.561421</td>\n      <td>0.369414</td>\n      <td>0.423765</td>\n      <td>0.465902</td>\n      <td>0.375209</td>\n      <td>0.702412</td>\n      <td>0.516896</td>\n      <td>0.562170</td>\n    </tr>\n    <tr>\n      <th>799996</th>\n      <td>0.488700</td>\n      <td>0.398295</td>\n      <td>0.421533</td>\n      <td>0.426449</td>\n      <td>0.584974</td>\n      <td>0.472588</td>\n      <td>0.384633</td>\n      <td>0.237875</td>\n      <td>0.506645</td>\n      <td>0.443128</td>\n      <td>...</td>\n      <td>0.478465</td>\n      <td>0.509841</td>\n      <td>0.527358</td>\n      <td>0.611426</td>\n      <td>0.384865</td>\n      <td>0.583427</td>\n      <td>0.379884</td>\n      <td>0.530442</td>\n      <td>0.472372</td>\n      <td>0.389451</td>\n    </tr>\n    <tr>\n      <th>799997</th>\n      <td>0.620425</td>\n      <td>0.511046</td>\n      <td>0.526550</td>\n      <td>0.632970</td>\n      <td>0.498662</td>\n      <td>0.408384</td>\n      <td>0.685139</td>\n      <td>0.588012</td>\n      <td>0.480382</td>\n      <td>0.691327</td>\n      <td>...</td>\n      <td>0.400882</td>\n      <td>0.483316</td>\n      <td>0.405933</td>\n      <td>0.571793</td>\n      <td>0.438713</td>\n      <td>0.426099</td>\n      <td>0.719350</td>\n      <td>0.572970</td>\n      <td>0.730516</td>\n      <td>0.321928</td>\n    </tr>\n    <tr>\n      <th>799998</th>\n      <td>0.423091</td>\n      <td>0.473652</td>\n      <td>0.660307</td>\n      <td>0.459903</td>\n      <td>0.544652</td>\n      <td>0.456999</td>\n      <td>0.463060</td>\n      <td>0.626023</td>\n      <td>0.359033</td>\n      <td>0.544465</td>\n      <td>...</td>\n      <td>0.306408</td>\n      <td>0.538436</td>\n      <td>0.557763</td>\n      <td>0.491172</td>\n      <td>0.643168</td>\n      <td>0.513765</td>\n      <td>0.512953</td>\n      <td>0.389942</td>\n      <td>0.454233</td>\n      <td>0.514551</td>\n    </tr>\n    <tr>\n      <th>799999</th>\n      <td>0.549651</td>\n      <td>0.477913</td>\n      <td>0.472754</td>\n      <td>0.502266</td>\n      <td>0.631341</td>\n      <td>0.475033</td>\n      <td>0.367188</td>\n      <td>0.444210</td>\n      <td>0.560780</td>\n      <td>0.269109</td>\n      <td>...</td>\n      <td>0.395326</td>\n      <td>0.395505</td>\n      <td>0.705590</td>\n      <td>0.492685</td>\n      <td>0.603161</td>\n      <td>0.487113</td>\n      <td>0.417369</td>\n      <td>0.656282</td>\n      <td>0.632578</td>\n      <td>0.454889</td>\n    </tr>\n  </tbody>\n</table>\n<p>5 rows × 100 columns</p>\n</div>"
          },
          "metadata": {}
        }
      ],
      "execution_count": 22,
      "metadata": {
        "jupyter": {
          "source_hidden": false,
          "outputs_hidden": false
        },
        "nteract": {
          "transient": {
            "deleting": false
          }
        },
        "gather": {
          "logged": 1633503425232
        }
      },
      "id": "878512ec-e40c-47db-b538-1720719a6890"
    },
    {
      "cell_type": "markdown",
      "source": [
        "## Imputing missing values with iterative imputer"
      ],
      "metadata": {},
      "id": "8e67897a-7586-4e94-84e8-f6179176c190"
    },
    {
      "cell_type": "code",
      "source": [
        "imputer = IterativeImputer()\n",
        "imputer.fit(X_test_s_mm)\n",
        "\n",
        "# X_train_s_mm_i = imputer.fit_transform(X_train_s_scaled_mm)\n",
        "# X_train_s_mm_i = pd.DataFrame(X_train_s_mm_i)\n",
        "# display(X.tail(5))\n",
        "# print(f'{X_train_s_mm_i.isnull().sum()}')"
      ],
      "outputs": [
        {
          "output_type": "stream",
          "name": "stderr",
          "text": "/anaconda/envs/azureml_py38/lib/python3.8/site-packages/sklearn/impute/_iterative.py:637: ConvergenceWarning: [IterativeImputer] Early stopping criterion not reached.\n  warnings.warn(\"[IterativeImputer] Early stopping criterion not\"\n"
        },
        {
          "output_type": "execute_result",
          "execution_count": 23,
          "data": {
            "text/plain": "IterativeImputer(add_indicator=False, estimator=None,\n                 imputation_order='ascending', initial_strategy='mean',\n                 max_iter=10, max_value=None, min_value=None,\n                 missing_values=nan, n_nearest_features=None, random_state=None,\n                 sample_posterior=False, skip_complete=False, tol=0.001,\n                 verbose=0)"
          },
          "metadata": {}
        }
      ],
      "execution_count": 23,
      "metadata": {
        "gather": {
          "logged": 1633506696592
        }
      },
      "id": "727d12e3-399f-4a25-9ddc-5b09d375c298"
    },
    {
      "cell_type": "code",
      "source": [
        "# X_test_s_mm_i = imputer.transform(X_test_s_mm)\r\n",
        "X_test_s_mm_i = pd.DataFrame(X_test_s_mm_i)\r\n",
        "\r\n",
        "display(X_test_s_mm_i.tail(5))\r\n",
        "print(f'{X_test_s_mm_i.isnull().sum()}')"
      ],
      "outputs": [
        {
          "output_type": "display_data",
          "data": {
            "text/plain": "              0         1         2         3         4         5         6   \\\n199995  0.537131  0.454154  0.518492  0.560652  0.494506  0.619928  0.589974   \n199996  0.541848  0.470346  0.585812  0.466083  0.445064  0.511950  0.393341   \n199997  0.439360  0.405818  0.593393  0.643123  0.557449  0.447385  0.412022   \n199998  0.539694  0.456027  0.492036  0.630292  0.701974  0.362101  0.445241   \n199999  0.507714  0.485971  0.464124  0.429322  0.603956  0.609644  0.420301   \n\n              7         8         9   ...        90        91        92  \\\n199995  0.360612  0.675717  0.455385  ...  0.399148  0.464638  0.522966   \n199996  0.360525  0.379102  0.505550  ...  0.440411  0.382849  0.410560   \n199997  0.498258  0.476941  0.520066  ...  0.513428  0.549474  0.289984   \n199998  0.335128  0.553351  0.546116  ...  0.602880  0.723361  0.680554   \n199999  0.409499  0.627364  0.539739  ...  0.584126  0.439757  0.547605   \n\n              93        94        95        96        97        98        99  \n199995  0.463583  0.390091  0.531989  0.449073  0.363569  0.725550  0.520679  \n199996  0.516995  0.610566  0.589461  0.556168  0.615147  0.354379  0.610304  \n199997  0.428277  0.567372  0.422169  0.328082  0.365088  0.524938  0.478091  \n199998  0.626517  0.604424  0.556229  0.587049  0.496689  0.439851  0.802035  \n199999  0.639564  0.637416  0.558692  0.394820  0.564212  0.397727  0.459113  \n\n[5 rows x 100 columns]",
            "text/html": "<div>\n<style scoped>\n    .dataframe tbody tr th:only-of-type {\n        vertical-align: middle;\n    }\n\n    .dataframe tbody tr th {\n        vertical-align: top;\n    }\n\n    .dataframe thead th {\n        text-align: right;\n    }\n</style>\n<table border=\"1\" class=\"dataframe\">\n  <thead>\n    <tr style=\"text-align: right;\">\n      <th></th>\n      <th>0</th>\n      <th>1</th>\n      <th>2</th>\n      <th>3</th>\n      <th>4</th>\n      <th>5</th>\n      <th>6</th>\n      <th>7</th>\n      <th>8</th>\n      <th>9</th>\n      <th>...</th>\n      <th>90</th>\n      <th>91</th>\n      <th>92</th>\n      <th>93</th>\n      <th>94</th>\n      <th>95</th>\n      <th>96</th>\n      <th>97</th>\n      <th>98</th>\n      <th>99</th>\n    </tr>\n  </thead>\n  <tbody>\n    <tr>\n      <th>199995</th>\n      <td>0.537131</td>\n      <td>0.454154</td>\n      <td>0.518492</td>\n      <td>0.560652</td>\n      <td>0.494506</td>\n      <td>0.619928</td>\n      <td>0.589974</td>\n      <td>0.360612</td>\n      <td>0.675717</td>\n      <td>0.455385</td>\n      <td>...</td>\n      <td>0.399148</td>\n      <td>0.464638</td>\n      <td>0.522966</td>\n      <td>0.463583</td>\n      <td>0.390091</td>\n      <td>0.531989</td>\n      <td>0.449073</td>\n      <td>0.363569</td>\n      <td>0.725550</td>\n      <td>0.520679</td>\n    </tr>\n    <tr>\n      <th>199996</th>\n      <td>0.541848</td>\n      <td>0.470346</td>\n      <td>0.585812</td>\n      <td>0.466083</td>\n      <td>0.445064</td>\n      <td>0.511950</td>\n      <td>0.393341</td>\n      <td>0.360525</td>\n      <td>0.379102</td>\n      <td>0.505550</td>\n      <td>...</td>\n      <td>0.440411</td>\n      <td>0.382849</td>\n      <td>0.410560</td>\n      <td>0.516995</td>\n      <td>0.610566</td>\n      <td>0.589461</td>\n      <td>0.556168</td>\n      <td>0.615147</td>\n      <td>0.354379</td>\n      <td>0.610304</td>\n    </tr>\n    <tr>\n      <th>199997</th>\n      <td>0.439360</td>\n      <td>0.405818</td>\n      <td>0.593393</td>\n      <td>0.643123</td>\n      <td>0.557449</td>\n      <td>0.447385</td>\n      <td>0.412022</td>\n      <td>0.498258</td>\n      <td>0.476941</td>\n      <td>0.520066</td>\n      <td>...</td>\n      <td>0.513428</td>\n      <td>0.549474</td>\n      <td>0.289984</td>\n      <td>0.428277</td>\n      <td>0.567372</td>\n      <td>0.422169</td>\n      <td>0.328082</td>\n      <td>0.365088</td>\n      <td>0.524938</td>\n      <td>0.478091</td>\n    </tr>\n    <tr>\n      <th>199998</th>\n      <td>0.539694</td>\n      <td>0.456027</td>\n      <td>0.492036</td>\n      <td>0.630292</td>\n      <td>0.701974</td>\n      <td>0.362101</td>\n      <td>0.445241</td>\n      <td>0.335128</td>\n      <td>0.553351</td>\n      <td>0.546116</td>\n      <td>...</td>\n      <td>0.602880</td>\n      <td>0.723361</td>\n      <td>0.680554</td>\n      <td>0.626517</td>\n      <td>0.604424</td>\n      <td>0.556229</td>\n      <td>0.587049</td>\n      <td>0.496689</td>\n      <td>0.439851</td>\n      <td>0.802035</td>\n    </tr>\n    <tr>\n      <th>199999</th>\n      <td>0.507714</td>\n      <td>0.485971</td>\n      <td>0.464124</td>\n      <td>0.429322</td>\n      <td>0.603956</td>\n      <td>0.609644</td>\n      <td>0.420301</td>\n      <td>0.409499</td>\n      <td>0.627364</td>\n      <td>0.539739</td>\n      <td>...</td>\n      <td>0.584126</td>\n      <td>0.439757</td>\n      <td>0.547605</td>\n      <td>0.639564</td>\n      <td>0.637416</td>\n      <td>0.558692</td>\n      <td>0.394820</td>\n      <td>0.564212</td>\n      <td>0.397727</td>\n      <td>0.459113</td>\n    </tr>\n  </tbody>\n</table>\n<p>5 rows × 100 columns</p>\n</div>"
          },
          "metadata": {}
        },
        {
          "output_type": "stream",
          "name": "stdout",
          "text": "0     0\n1     0\n2     0\n3     0\n4     0\n     ..\n95    0\n96    0\n97    0\n98    0\n99    0\nLength: 100, dtype: int64\n"
        }
      ],
      "execution_count": 25,
      "metadata": {
        "jupyter": {
          "source_hidden": false,
          "outputs_hidden": false
        },
        "nteract": {
          "transient": {
            "deleting": false
          }
        },
        "gather": {
          "logged": 1633507239752
        }
      },
      "id": "8482f707-28b7-4c14-8ffd-aef92f38c447"
    },
    {
      "cell_type": "markdown",
      "source": [
        "## Exporting dataset after stand/norm/II"
      ],
      "metadata": {
        "nteract": {
          "transient": {
            "deleting": false
          }
        }
      },
      "id": "a9a0d9f2-8b69-409b-947a-e54d2d4ac4db"
    },
    {
      "cell_type": "code",
      "source": [
        "X_test_s_mm_i.to_csv(f\"{nb_dir}/X_test_100m_combo_100f_rs1_smmi.csv\")"
      ],
      "outputs": [],
      "execution_count": 26,
      "metadata": {
        "jupyter": {
          "source_hidden": false,
          "outputs_hidden": false
        },
        "nteract": {
          "transient": {
            "deleting": false
          }
        },
        "gather": {
          "logged": 1633507597855
        }
      },
      "id": "ef1aabdc-4160-41d0-97b4-8ef01a588acb"
    },
    {
      "cell_type": "code",
      "source": [
        "pipe_model = ('XGB', Pipeline([(\"scaling\", StandardScaler()), (\"model\", xgb.XGBClassifier(use_label_encoder=False))]))\n",
        "print(pipe_model[0][1])"
      ],
      "outputs": [],
      "execution_count": null,
      "metadata": {},
      "id": "9e71fd47-c09c-414d-9767-2727144a3294"
    },
    {
      "cell_type": "code",
      "source": [],
      "outputs": [],
      "execution_count": null,
      "metadata": {},
      "id": "edb271e4-e16c-464b-8317-419e28ea0e4d"
    },
    {
      "cell_type": "code",
      "source": [
        "cv_results = cross_val_score(pipe_model[0][1], X, Y, cv=10, scoring=scoring)\n",
        "print(round(cv_results.mean(), 3))"
      ],
      "outputs": [],
      "execution_count": null,
      "metadata": {},
      "id": "1b1e29b6-d7b5-444b-bd31-38574385ccbb"
    }
  ],
  "metadata": {
    "kernelspec": {
      "name": "python38-azureml",
      "language": "python",
      "display_name": "Python 3.8 - AzureML"
    },
    "language_info": {
      "name": "python",
      "version": "3.8.1",
      "mimetype": "text/x-python",
      "codemirror_mode": {
        "name": "ipython",
        "version": 3
      },
      "pygments_lexer": "ipython3",
      "nbconvert_exporter": "python",
      "file_extension": ".py"
    },
    "kernel_info": {
      "name": "python38-azureml"
    },
    "nteract": {
      "version": "nteract-front-end@1.0.0"
    }
  },
  "nbformat": 4,
  "nbformat_minor": 5
}