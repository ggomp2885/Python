{
 "cells": [
  {
   "cell_type": "code",
   "execution_count": null,
   "metadata": {},
   "outputs": [],
   "source": [
    "\"\"\"\n",
    "Heaps, there it is!\n",
    "Heaps, there it is!\n",
    "\n",
    "Heaps are also known as \"priority queues\"\n",
    "\n",
    "\n",
    "A heap must be a \"complete\" tree,\n",
    "this is a tree that has all of levels full except for posssibly the last,\n",
    "and the nodes are always added as far left as possible each time (left, right, left, right)\n",
    "\n",
    "an existing array can be converted into a max/min heap in O(n) time\n",
    "using a python/java prebuilt implimentation for this\n",
    "\n",
    "\"In many problems, using a heap can improve an algorithm's\n",
    "time complexity from O(n^2) to O(n⋅logn), which is a massive improvement \n",
    "(for n = 1,000,000, this is 50,000 times faster).\n",
    "A heap is a great option whenever you need to find\n",
    "the maximum or minimum of something repeatedly\"\n",
    "\n",
    "Interesting, so a heap is like a \"self-sorting\" data structure\n",
    "I can just append a number into it, \n",
    "and it re-sorts itself every single time, perfectly\n",
    "in the fastest way possible.\n",
    "\"\"\""
   ]
  },
  {
   "cell_type": "code",
   "execution_count": null,
   "metadata": {},
   "outputs": [],
   "source": [
    "\"\"\"\n",
    "Honestly, compared to bfs and graphs, these problems may be laughably simple\n",
    "\n",
    "Okay yeah so its called a \"heap\", \n",
    "because I can literally think of it as a pile of elements\n",
    "although, yes technically its stored in an array underneath\n",
    "and all that really matters is that in (log n) time, \n",
    "I can find the min/max element, because this data structure is pre-sorted \n",
    "\n",
    "\n",
    "\"Python's heap implementation only implements min heaps\"\n",
    "\"In python, to simulate a max heap, \n",
    "we can just make all values we put on the heap negative.\"\n",
    "\n",
    "Okay right, so it seems like most of these problems start out with\n",
    "1. turning the input array into a heap, which is O(n) time\n",
    "\n",
    "2. running a while loop until \"xyz\" condition is met:\n",
    "    pulling max value\n",
    "    do something with this value\n",
    "    push the resulting value back into the heap\n",
    "    step += 1 (if you wanna be faaancy)\n",
    "\n",
    "Interesting, its like heaps, are the introduction to sorting algorithms\n",
    "\"\"\""
   ]
  },
  {
   "cell_type": "code",
   "execution_count": null,
   "metadata": {},
   "outputs": [],
   "source": [
    "\"\"\"\n",
    "side note: when this guy stops talking when he is coding\n",
    "and/or doesnt explain why he is doing something,\n",
    "I hate it, I hate it, because I feel like hes being a dick\n",
    "by not explaining things and helping my brain,\n",
    "like it hurts my brain to read his code without any explanation, ESPECIALLY\n",
    "because its INCOMPLETE\n",
    "\n",
    "hence why I almost just skipped him writing it, because I immediately thought it \n",
    "would be easier to understand when I can see the whole thing all at once,\n",
    "instead of having to go through the mental agony of watching it line by line,\n",
    "without proper explanation.\n",
    "damn. yeah okay so when I am with someone,\n",
    "It is so so so important that I code like I am making an instructional video for VG\n",
    "literally that kind of vibe, and I will nail it.\n",
    "\"\"\""
   ]
  },
  {
   "cell_type": "code",
   "execution_count": null,
   "metadata": {},
   "outputs": [],
   "source": [
    "\"\"\"\n",
    "Okay so even 2 heaps is pretty straight forward,\n",
    "these are most often for \"find the median\" problems\n",
    "\n",
    "basically, \n",
    "\n",
    "1. I initialize 2 heaps\n",
    "2. I create the order in which new numbers get added to one of the heaps\n",
    "^ because, the order of doing this doesnt actually matter, as long as theyre same length,\n",
    "3. Do a comparison of heaps sizes, \n",
    "    If one heap is longer:\n",
    "        this is the medianthe first index of the longer heap is going to be the median,\n",
    "    If same length, its first index of both heaps /2 is the median\n",
    "\n",
    "\n",
    "\"\"\""
   ]
  }
 ],
 "metadata": {
  "language_info": {
   "name": "python"
  },
  "orig_nbformat": 4
 },
 "nbformat": 4,
 "nbformat_minor": 2
}
