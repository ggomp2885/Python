{
 "cells": [
  {
   "cell_type": "markdown",
   "metadata": {},
   "source": [
    "# Pandas Exploration"
   ]
  },
  {
   "cell_type": "markdown",
   "metadata": {},
   "source": [
    "## Imports"
   ]
  },
  {
   "cell_type": "code",
   "execution_count": 3,
   "metadata": {},
   "outputs": [],
   "source": [
    "import pandas as pd\n",
    "\n",
    "import numpy as np                # for manipulation of examples\n",
    "#import cprint"
   ]
  },
  {
   "cell_type": "markdown",
   "metadata": {},
   "source": [
    "## DataFrame Setup"
   ]
  },
  {
   "cell_type": "code",
   "execution_count": null,
   "metadata": {},
   "outputs": [],
   "source": [
    "df = pd.DataFrame(np.array([[1, 2, 3], [4, 5, 6], [7, 8, 9]]),\n",
    "                   columns=['a', 'b', 'c'])                     # another way to do this is with a dictionary - write this down here too  \n",
    "display(df)"
   ]
  },
  {
   "cell_type": "markdown",
   "metadata": {},
   "source": [
    "## Mastery of Indexing\n",
    "AWLAYS RC - Rows, Columns\n",
    "\n",
    "Axis 0 = Rows\n",
    "\n",
    "Axis 1 = Columns\n",
    "\n",
    "The main thing here, is that pandas and numpy indexing IS very similar, really, the only difference is that pandas just requires the extra \".loc\", whereas numpy does not"
   ]
  },
  {
   "cell_type": "code",
   "execution_count": null,
   "metadata": {},
   "outputs": [],
   "source": [
    "# common indexing command\n",
    "df.iloc[:,:10]\n",
    "df = df.iloc[:,:10]\n",
    "# when using this command, the # here, is exactly the number of columns I want in the final dataset\n",
    "# just think, how many columns do I want to be in this calculation? ---- that is the number here\n",
    "\n",
    "# now, if I want to only keep rows that fit a specific \"threshold\"\n",
    "df = (df.iloc[:,:10] >= -.2) & (df.iloc[:,:10] <= .2)  # This syntax returns a dataframe full of true/false\n",
    "\n",
    "# these do the exact same thing\n",
    "df = df[(df.iloc[:,:10] >= -.2) & (df.iloc[:,:10] <= .2)] # This extra df[] infront, converts these true/false values, back into otheir original values, because it is literally indexing the orignal dataframe with the results of the conditionals\n",
    "df = df.where((df.iloc[:,:10] >= -.2) & (df.iloc[:,:10] <= .2)) # df.where() actually is the exact same function as df[]\n"
   ]
  },
  {
   "cell_type": "markdown",
   "metadata": {},
   "source": [
    "## Simple dataframe things"
   ]
  },
  {
   "cell_type": "code",
   "execution_count": 4,
   "metadata": {
    "tags": []
   },
   "outputs": [
    {
     "data": {
      "text/html": [
       "<div>\n",
       "<style scoped>\n",
       "    .dataframe tbody tr th:only-of-type {\n",
       "        vertical-align: middle;\n",
       "    }\n",
       "\n",
       "    .dataframe tbody tr th {\n",
       "        vertical-align: top;\n",
       "    }\n",
       "\n",
       "    .dataframe thead th {\n",
       "        text-align: right;\n",
       "    }\n",
       "</style>\n",
       "<table border=\"1\" class=\"dataframe\">\n",
       "  <thead>\n",
       "    <tr style=\"text-align: right;\">\n",
       "      <th></th>\n",
       "      <th>a</th>\n",
       "      <th>b</th>\n",
       "      <th>c</th>\n",
       "    </tr>\n",
       "  </thead>\n",
       "  <tbody>\n",
       "    <tr>\n",
       "      <th>0</th>\n",
       "      <td>1</td>\n",
       "      <td>2</td>\n",
       "      <td>3</td>\n",
       "    </tr>\n",
       "    <tr>\n",
       "      <th>1</th>\n",
       "      <td>4</td>\n",
       "      <td>5</td>\n",
       "      <td>6</td>\n",
       "    </tr>\n",
       "    <tr>\n",
       "      <th>2</th>\n",
       "      <td>7</td>\n",
       "      <td>8</td>\n",
       "      <td>9</td>\n",
       "    </tr>\n",
       "  </tbody>\n",
       "</table>\n",
       "</div>"
      ],
      "text/plain": [
       "   a  b  c\n",
       "0  1  2  3\n",
       "1  4  5  6\n",
       "2  7  8  9"
      ]
     },
     "metadata": {},
     "output_type": "display_data"
    },
    {
     "name": "stdout",
     "output_type": "stream",
     "text": [
      "rounding all values in a dataframe: \n",
      "    a   b   c\n",
      "0   0   0   0\n",
      "1   0   0  10\n",
      "2  10  10  10\n",
      "\n",
      "unique values in \"a\": [1 4 7]\n",
      "\n",
      "number of unique values in a: 3 \n",
      "\n",
      "count of each unique value column \"a\": \n",
      "7    1\n",
      "1    1\n",
      "4    1\n",
      "Name: a, dtype: int64 \n",
      "\n",
      "percentage of each unique value in colunn \"a\": \n",
      "7    0.333333\n",
      "1    0.333333\n",
      "4    0.333333\n",
      "Name: a, dtype: float64 \n",
      "\n"
     ]
    }
   ],
   "source": [
    "display(df)\n",
    "\n",
    "print(f'rounding all values in a dataframe: \\n{df.round(-1)}\\n')\n",
    "\n",
    "print(f'unique values in \"a\": {pd.unique(df[\"a\"])}\\n')\n",
    "\n",
    "print(f'number of unique values in a: {len(pd.unique(df[\"a\"]))} \\n')\n",
    "\n",
    "#cprint(f'number of unique values in all columns: \\n{df.nunique(axis=0)} \\n', 'blue')\n",
    "\n",
    "print(f'count of each unique value column \"a\": \\n{df[\"a\"].value_counts()} \\n')\n",
    "\n",
    "print(f'percentage of each unique value in colunn \"a\": \\n{df[\"a\"].value_counts(normalize=True)} \\n')"
   ]
  },
  {
   "cell_type": "markdown",
   "metadata": {},
   "source": [
    "### concatinating dataframes ---- this function can do all the types of \"joins/appends\" needed"
   ]
  },
  {
   "cell_type": "code",
   "execution_count": null,
   "metadata": {},
   "outputs": [],
   "source": [
    "pd.concat([df_1, df_2])            # when no axis is specified, this is an \"append\" statement\n",
    "\n",
    "pd.concat([df_1, df_2], axis=1)    # when axis = 1, this is a \"join\" statement, an \"outer join\" by default"
   ]
  }
 ],
 "metadata": {
  "instance_type": "ml.t3.medium",
  "kernelspec": {
   "display_name": "Python 3 (Data Science)",
   "language": "python",
   "name": "python3__SAGEMAKER_INTERNAL__arn:aws:sagemaker:us-east-1:081325390199:image/datascience-1.0"
  },
  "language_info": {
   "codemirror_mode": {
    "name": "ipython",
    "version": 3
   },
   "file_extension": ".py",
   "mimetype": "text/x-python",
   "name": "python",
   "nbconvert_exporter": "python",
   "pygments_lexer": "ipython3",
   "version": "3.7.10"
  }
 },
 "nbformat": 4,
 "nbformat_minor": 5
}
