{
 "cells": [
  {
   "cell_type": "markdown",
   "metadata": {},
   "source": [
    "### Linked Lists"
   ]
  },
  {
   "cell_type": "code",
   "execution_count": 1,
   "metadata": {},
   "outputs": [
    {
     "name": "stdout",
     "output_type": "stream",
     "text": [
      "1\n",
      "2\n",
      "3\n"
     ]
    }
   ],
   "source": [
    "class ListNode:\n",
    "    def __init__(self, val):\n",
    "        self.val = val\n",
    "        self.next = None\n",
    "    \n",
    "one = ListNode(1)\n",
    "two = ListNode(2)\n",
    "three = ListNode(3)\n",
    "one.next = two\n",
    "two.next = three\n",
    "head = one\n",
    "\n",
    "print(head.val)\n",
    "print(head.next.val)\n",
    "print(head.next.next.val)"
   ]
  },
  {
   "cell_type": "code",
   "execution_count": null,
   "metadata": {},
   "outputs": [],
   "source": [
    "\"\"\"A linked list is literally just like,\n",
    "a bunch of vars,\n",
    "Its like an \"object,\" that stores 2 vars in it,\n",
    "And basically can be 100,000+ of these 2 var objects\n",
    "\n",
    "Im kind of interested to see how an array is built compared to this,\n",
    "for example, like how is an array written, to make sure that the vars are stored contigously?\n",
    "---- This is actually too low level, even for this material, very interesting.\n",
    "\"\"\"\n"
   ]
  },
  {
   "cell_type": "code",
   "execution_count": null,
   "metadata": {},
   "outputs": [],
   "source": [
    "\"\"\"How is building an list in python from scratch, \n",
    "different than a linked list?\n",
    "remember, an \"array\" in python, is a list\n",
    "\n",
    "Oh wow, with an example array of [0,0,0,0,1]\n",
    "python actually only stores this as 2 numbers under the hood,\n",
    "because of these kinds of concepts, python is literally THIS optimized\n",
    "ALL python programmers on the planet benefit from these concepts\n",
    "\n",
    "very interesting, so I dont see a single article that goes into\n",
    "the low level of actually creating a list item itself...\n",
    "one has written a class that basically takes one list item,\n",
    "and appends another list item to itself, but it seems like going\n",
    "to the level of this, is so far below, that its not even relevant in\n",
    "these kinds of interviews, so that is basically the floor of this material\n",
    "okay interesting, like a linked list is literally 1000 saved vars, +1000 saved index vars,\n",
    "that dont have to be contiguous in memory, thats really all it is.\n",
    "leegoo.\n",
    "\n",
    "I want to be heading home by 930 Im going to just call thomas at that point and say goodnight.\n",
    "\n",
    "Okay so the main advantage of creating a \"linked\" list,\n",
    "is that insertions dont have to completely rewrite the whole thing,\n",
    "\n",
    "Linked List: insertions are now O(1),\n",
    "(ONLY IF YOU HAVE THE VALUE/REFERENCE var OF THE PREVIOUS NODE in a singly linked list)\n",
    " - this makes it not that much more efficient \n",
    "Ohhh ---- thats why when these are actually used, its really only in a queue/stack situation,\n",
    "the only way to take advantage of the speed increase\n",
    "is to insert into the very front or the very end\n",
    "but now search is O(n),\n",
    "---- unless your literally pulling from very front or very end,\n",
    "then, everything is O(1)\n",
    "so in these cases it actually is quite efficient\n",
    "\n",
    "List: insertions are O(n), and search is O(1)\n",
    "\n",
    "\n",
    "Interesting, because in real life, most times, the time taken to find an item,\n",
    "is more important than the time taken to put it away,\n",
    "its like unorganized people use a linked list strategy,\n",
    "Whereas someone who likes organization intuitively uses a list strategy\n",
    "Someone who likes organization is often rearranging the array,\n",
    "Someone who doesnt like organizations is often searching, lol. damn this is real af.\n",
    "\n",
    "Oh, but no there are cases where it is more important to\n",
    "insert the item quickly, because you know youll have more time to search/sort later.\n",
    "\n",
    "creating a \"doubly linked\" list, is as simple as setting\n",
    "node.next = 2\n",
    "node.prev = 0\n",
    "\"a doubly linked list is more generally more useful than a singly linked list\"\n",
    "\"\"\"\n"
   ]
  },
  {
   "cell_type": "code",
   "execution_count": null,
   "metadata": {},
   "outputs": [],
   "source": [
    "\"\"\"Okay so it says that just using node.prev and node.next\n",
    "by themselves, will cause \"out of index\" errors,\n",
    "so all LinkedLists are setup with a blank head, and blank tail node\n",
    "so a linked list with 2 nodes actually has [head, 0, 1, tail]\n",
    "\n",
    "And it says a simple convention when traversing the list, \n",
    "is to use another variable called \"current\"\n",
    "to be set to the value of \"head\" so that the actual \"head\" variable doesnt get re-written\n",
    "\n",
    "It says the point of most linked list problems is to show that I know how to \n",
    "move the pointers around when adding/removing an element\n",
    "\"\"\""
   ]
  },
  {
   "cell_type": "code",
   "execution_count": null,
   "metadata": {},
   "outputs": [],
   "source": [
    "\"\"\" 10/18/22 ---- Find the middle of a linked list\n",
    "Time = O(n), space = O(1)\"\"\"\n",
    "\n",
    "class Solution(object):\n",
    "    def middleNode(self, head):\n",
    "        # okay so because this is linkedlist, \n",
    "        # generally fast and slow pointers is the best method\n",
    "        \n",
    "        slow = head\n",
    "        fast = head\n",
    "        while fast and fast.next:\n",
    "            slow = slow.next\n",
    "            fast = fast.next.next\n",
    "        return slow\n",
    "\n",
    "\"\"\"Interesting, so returning slow, actually returns an array that starts with\n",
    "the value of the slow pointer, and returns all the rest of the values until\n",
    "the end of the linked list\n",
    "\n",
    "Whereas, returning slow.val, returns the actual value,\n",
    "so something about linked lists, basically returns the remainder of the list,\n",
    "after wherever the pointer landed. alright\"\"\""
   ]
  },
  {
   "cell_type": "code",
   "execution_count": null,
   "metadata": {},
   "outputs": [],
   "source": [
    "\"\"\"10/18/22 ---- removing duplicates from a -- linked list\n",
    "Time = O(n), space = O(1)\"\"\"\n",
    "\n",
    "class Solution(object):\n",
    "    def deleteDuplicates(self, head):\n",
    "        current = head\n",
    "        while current and current.next:\n",
    "            if current.val == current.next.val:\n",
    "                current.next = current.next.next\n",
    "            else:\n",
    "                current = current.next\n",
    "                \n",
    "        return head\n",
    "\n",
    "    # [0,1,2,2,3,4,5,6]\n",
    "    # [1,1,1]\n",
    "\n",
    "    \"\"\"Okay so the trick with this one is to realize that the linked list is already sorted,\n",
    "    because its sorted, it makes it extremely simple, no need to record any numbers,\n",
    "    all I have to do is just check the next element\n",
    "    \n",
    "    The \"while current and current.next\" is needed, because technically the \"current\" is\n",
    "    just here to catch the edge case, when the linked list is empty\n",
    "    okay, got it.\n",
    "    \n",
    "    Im not exactly sure how this is beating the [1,1,1] case...\n",
    "    oooohhh... okay yeah I see it, so basically it either moves the current.next or the current\n",
    "    each iteration, and that eventually makes current.next == null, and stops the iterations\n",
    "    with only [1] left in the head\n",
    "    Hell yeah, I just got that shit.\n",
    "    \"\"\"\n",
    "\n"
   ]
  },
  {
   "cell_type": "code",
   "execution_count": null,
   "metadata": {},
   "outputs": [],
   "source": [
    "\"\"\"10/19/22 ---- Reversing a linked list ----\n",
    "Time = O(n), space = O(1)\"\"\"\n",
    "\n",
    "def reverse_list(head):\n",
    "    prev = None  # this is necessary\n",
    "    curr = head  # this is necessary\n",
    "    while curr:\n",
    "        next_node = curr.next # first, make sure we don't lose the next node\n",
    "        curr.next = prev      # reverse the direction of the pointer\n",
    "        prev = curr           # set the current node to prev for the next node\n",
    "        curr = next_node      # move on\n",
    "        \n",
    "    return prev\n",
    "\n",
    "\"\"\"Okay so whats really interesting here, is that in doing these 4 operations\n",
    "the values themselves stay in exactly the same place the whole time, aka\n",
    "[1-> 2-> 3-> 4-> 5] numbers same spot, changes to [1 <-2 <-3 <-4 <-5]\n",
    "And then, when I \"print\" head,\n",
    "python looks at the pointers, and prints this as [5, 4, 3, 2, 1]\n",
    "very interesting, thats why this is done completely different than a normal list\"\"\"\n",
    "\n",
    "\n",
    "\"\"\" Reversing a linked list from one specific position to another specific position\n",
    "Same time complexity as above, same basic operation\"\"\"\n",
    "def reverseBetween(self, head, m, n):\n",
    "        # catch empty list case\n",
    "        if not head:\n",
    "            return None\n",
    "\n",
    "        # Move the two pointers until they reach the proper starting point in the list.\n",
    "        cur = head\n",
    "        prev = None\n",
    "        for _ in range(m-1):\n",
    "        # while m > 1:\n",
    "            prev = cur\n",
    "            cur = cur.next\n",
    "            # m -= 1\n",
    "            # n -= 1\n",
    "\n",
    "        # The two pointers that will fix the final connections.\n",
    "        tail = cur\n",
    "        con = prev\n",
    "\n",
    "        # Iteratively reverse the nodes until n becomes 0.\n",
    "        for _ in range(m, n+1):\n",
    "        # while n:\n",
    "            third = cur.next\n",
    "            cur.next = prev\n",
    "            prev = cur\n",
    "            cur = third\n",
    "            # n -= 1\n",
    "\n",
    "        # Adjust the final connections as explained in the algorithm\n",
    "        if con:\n",
    "            con.next = prev\n",
    "        else:\n",
    "            head = prev\n",
    "        tail.next = cur\n",
    "        return head\n",
    "\n",
    "\"\"\"This can be written with the for loops above as well, aka\n",
    " for _ in range(m-1) and then the other logic n -= 1 logic isnt needed,\n",
    "Image for this is in my RL: ML, but basically this works very simply because:\n",
    "\n",
    "con originally gets set to the position -before- the reversal (exclusive)\n",
    "then con.next gets set to the \"prev\" pointer,\n",
    "the \"prev\" pointer is the last node that got reversed.\n",
    "So con starts outside the reversal, and actually stays in the same spot\n",
    "---- this makes enough sense\n",
    "\n",
    "tail originally gets set to the node where the first reversal occurs (inclusive)\n",
    "then, this gets set to the \"curr\" pointer,\n",
    "where the curr pointer ends up being the first position outside of the reversal\n",
    "tail starts at the first reversal, and after the \"flip\", ends up at the end, touching the normal numbers\n",
    "---- okay, this makes enough sense\n",
    "\n",
    "I think it makes sense, imagine just taking the interior portion,\n",
    "and spinning it 180 degrees, and then think,\n",
    "what would the node.next connections outside of the reversal, have to be, to do that?\n",
    "\"\"\""
   ]
  },
  {
   "cell_type": "code",
   "execution_count": null,
   "metadata": {},
   "outputs": [],
   "source": [
    "\"\"\"10/19/22 ---- Palindrome Linked List\n",
    "Time = O(n), space = O(1)\"\"\"\n",
    "\n",
    "class Solution(object):\n",
    "    def isPalindrome(self, head):\n",
    "        \"\"\"okay so this will probably end up using 2 pointers\n",
    "        lets walk through this\"\"\"\n",
    "        \n",
    "        curr1 = head\n",
    "        curr2 = head\n",
    "        prev = None\n",
    "        print(prev)\n",
    "        print(head)\n",
    "        \n",
    "        while curr2:\n",
    "            third = curr2.next\n",
    "            curr2.next = prev\n",
    "            prev = curr2\n",
    "            curr2 = third\n",
    "        print(prev)\n",
    "        print(head)\n",
    "        print(curr1)\n",
    "        print(curr2)\n",
    "        print('')\n",
    "        while prev:\n",
    "            print(curr1.val)\n",
    "            print(curr1.next)\n",
    "            print('')\n",
    "            print(head)\n",
    "            print(head.next)\n",
    "            print('')\n",
    "            print(prev.val)\n",
    "            print(prev.next)\n",
    "            if curr1.val == prev.val:\n",
    "                print('one iteration')\n",
    "                curr1 = curr1.next\n",
    "                prev = prev.next\n",
    "                if prev == None:\n",
    "                    print('2nd if loop entered')\n",
    "                    return True\n",
    "            else:\n",
    "                return False\n",
    "\n",
    "\n",
    "\"\"\"I can definitely watch some videos going over the way that python shares references to values\n",
    "because that was the only thing stopping me from getting the answer here,\n",
    "sounds like I just need to manually build a copy \"\"\"\n",
    "\n",
    "\n",
    "\"\"\"Solution implimentation\"\"\"\n",
    "class Solution:\n",
    "    def isPalindrome(self, head: ListNode) -> bool:\n",
    "        if head is None:\n",
    "            return True\n",
    "\n",
    "        # Find the end of first half and reverse second half.\n",
    "        first_half_end = self.end_of_first_half(head)\n",
    "        second_half_start = self.reverse_list(first_half_end.next)\n",
    "\n",
    "        # Check whether or not there's a palindrome.\n",
    "        # this is the only original code here, and its very simple, I got this exact logic myself\n",
    "        result = True\n",
    "        first_position = head\n",
    "        second_position = second_half_start\n",
    "        while result and second_position is not None:\n",
    "            if first_position.val != second_position.val:\n",
    "                result = False\n",
    "            first_position = first_position.next\n",
    "            second_position = second_position.next\n",
    "\n",
    "        # Restore the list and return the result.\n",
    "        first_half_end.next = self.reverse_list(second_half_start)\n",
    "        return result    \n",
    "\n",
    "    # the same fast and slow pointers technique to find the middle of a linkedlist\n",
    "    def end_of_first_half(self, head):\n",
    "        fast = head\n",
    "        slow = head\n",
    "        while fast.next is not None and fast.next.next is not None:\n",
    "            fast = fast.next.next\n",
    "            slow = slow.next\n",
    "        return slow\n",
    "\n",
    "    # the same reverse list function Ive come to know and love\n",
    "    def reverse_list(self, head):\n",
    "        previous = None\n",
    "        current = head\n",
    "        while current is not None:\n",
    "            next_node = current.next\n",
    "            current.next = previous\n",
    "            previous = current\n",
    "            current = next_node\n",
    "        return previous\n",
    "\n",
    "\"\"\"wow, okay so this variable names that point to the same \"reference\" in python is nuts\n",
    "I remember Ive encountered this, but in this case without being able to just use .copy(),\n",
    "its a bit more of an issue, lol\"\"\"\n",
    "\n",
    "\"\"\"okay but it looks like, with the scope of this problem, even a sub optimal solution\n",
    "like the one I have created will work, its the same time complexity, just uses O(n) space\n",
    "\n",
    "I actually like how this solution creates its own functions to redo the same operation,\n",
    "especially returning the list back to its original state, that is a nice touch,\n",
    "this is a 4/4 right here.\"\"\""
   ]
  },
  {
   "cell_type": "code",
   "execution_count": null,
   "metadata": {},
   "outputs": [],
   "source": [
    "\"\"\"10/20/22 ---- “Pointer Aliasing”\n",
    "This is what it's called in python when\n",
    "multiple variables get assigned to the same object in memory\"\"\""
   ]
  },
  {
   "cell_type": "code",
   "execution_count": 16,
   "metadata": {},
   "outputs": [
    {
     "name": "stdout",
     "output_type": "stream",
     "text": [
      "[10, 2, 3, 4]\n",
      "[1, 2, 3, 4]\n"
     ]
    }
   ],
   "source": [
    "\"\"\"This works perfectly fine\"\"\"\n",
    "var1 = [1,2,3,4]\n",
    "var2 = [1,2,3,4]\n",
    "var2[0] = 10\n",
    "print(var2)\n",
    "print(var1)"
   ]
  },
  {
   "cell_type": "code",
   "execution_count": 17,
   "metadata": {},
   "outputs": [
    {
     "name": "stdout",
     "output_type": "stream",
     "text": [
      "[10, 2, 3, 4]\n",
      "[10, 2, 3, 4]\n"
     ]
    }
   ],
   "source": [
    "\"\"\"This is what creates a pointer\"\"\"\n",
    "var3 = var1\n",
    "var3[0] = 10\n",
    "print(var1)\n",
    "print(var3)"
   ]
  },
  {
   "cell_type": "code",
   "execution_count": 18,
   "metadata": {},
   "outputs": [
    {
     "name": "stdout",
     "output_type": "stream",
     "text": [
      "[10, 2, 3]\n",
      "[1, 2, 3]\n"
     ]
    }
   ],
   "source": [
    "\"\"\"So the easiest way around this, that Ive used before, is:\"\"\"\n",
    "\"\"\"and this works fine in most cases, ie,\"\"\"\n",
    "var4 = [1,2,3]\n",
    "var5 = var4.copy()\n",
    "\n",
    "var5[0] = 10\n",
    "print(var5)\n",
    "print(var4)"
   ]
  },
  {
   "cell_type": "code",
   "execution_count": 19,
   "metadata": {},
   "outputs": [
    {
     "name": "stdout",
     "output_type": "stream",
     "text": [
      "[[1, 2, 10], [3, 4]]\n",
      "[[1, 2, 10], [3, 4]]\n"
     ]
    }
   ],
   "source": [
    "\"\"\"But, this doesn't work, when there are “pointers inside of pointers\n",
    "In a case like the following, .deepcopy() must be used”\"\"\"\n",
    "var6 = [[1,2],[3,4]]\n",
    "var7 = var6.copy()\n",
    "var7[0].append(10)\n",
    "print(var7)\n",
    "print(var6)"
   ]
  },
  {
   "cell_type": "code",
   "execution_count": 25,
   "metadata": {},
   "outputs": [
    {
     "name": "stdout",
     "output_type": "stream",
     "text": [
      "[[1, 2, 10], [3, 4]]\n",
      "[[1, 2], [3, 4]]\n"
     ]
    }
   ],
   "source": [
    "\"\"\"Cool, so .copy() is built in, but deepcopy is not, deepcopy is now actually an import\n",
    "and a explicit syntax.\"\"\"\n",
    "import copy\n",
    "var6 = [[1,2],[3,4]]\n",
    "var7 = copy.deepcopy(var6)\n",
    "var7[0].append(10)\n",
    "print(var7)\n",
    "print(var6)"
   ]
  },
  {
   "cell_type": "code",
   "execution_count": 32,
   "metadata": {},
   "outputs": [
    {
     "name": "stdout",
     "output_type": "stream",
     "text": [
      "[10, [3, 4]]\n",
      "[[1, 2], [3, 4]]\n"
     ]
    }
   ],
   "source": [
    "\"\"\"The difference here is that using an \"=\" is assignment, \n",
    "and assignment actually \"re-assigns\" the pointer\n",
    "still have to use .copy() though\"\"\"\n",
    "var6 = [[1,2],[3,4]]\n",
    "# var7 = var6  # this will end up getting pointed at the alias\n",
    "var7 = var6.copy()\n",
    "var7[0] = 10\n",
    "print(var7)\n",
    "print(var6)"
   ]
  },
  {
   "cell_type": "code",
   "execution_count": 37,
   "metadata": {},
   "outputs": [
    {
     "name": "stdout",
     "output_type": "stream",
     "text": [
      "(1, 2, 3)\n",
      "(1, 2, 3)\n"
     ]
    }
   ],
   "source": [
    "\"\"\"By design, anything that is a tuple, will have to be completely recreated\n",
    "when one is modified.\"\"\"\n",
    "var8 = (1,2,3)\n",
    "var9 = (1,2,3)\n",
    "# var9[0] = 10    # actually this throws an error, and sets have no .append() function either\n",
    "print(var9)\n",
    "print(var8)"
   ]
  },
  {
   "cell_type": "code",
   "execution_count": 30,
   "metadata": {},
   "outputs": [
    {
     "name": "stdout",
     "output_type": "stream",
     "text": [
      "1950664164480\n",
      "1950627192576\n",
      "True\n",
      "False\n"
     ]
    },
    {
     "data": {
      "text/plain": [
       "0"
      ]
     },
     "execution_count": 30,
     "metadata": {},
     "output_type": "execute_result"
    }
   ],
   "source": [
    "\"\"\"I can always use the id(variable_name) function to check this if this is happening\"\"\"\n",
    "print(id(var1))\n",
    "print(id(var2))\n",
    "\n",
    "\"\"\"the difference between '=' and 'is' comparisons\"\"\"\n",
    "print(var1 == var2)   # looks at the values of the object\n",
    "print(var1 is var2)   # looks at the addresses of the objects in memory\n",
    "\n",
    "\"\"\"Thats cool, I can actually turn on the python garbage collector anytime I want\"\"\"\n",
    "import gc\n",
    "gc.collect()  # when I first ran this it deleted 226 variables, second time, was 0"
   ]
  },
  {
   "cell_type": "code",
   "execution_count": 49,
   "metadata": {},
   "outputs": [
    {
     "name": "stdout",
     "output_type": "stream",
     "text": [
      "Object `df.columns` not found.\n"
     ]
    },
    {
     "name": "stdout",
     "output_type": "stream",
     "text": [
      "\u001b[1;31mSignature:\u001b[0m \u001b[0mlist\u001b[0m\u001b[1;33m.\u001b[0m\u001b[0mappend\u001b[0m\u001b[1;33m(\u001b[0m\u001b[0mself\u001b[0m\u001b[1;33m,\u001b[0m \u001b[0mobject\u001b[0m\u001b[1;33m,\u001b[0m \u001b[1;33m/\u001b[0m\u001b[1;33m)\u001b[0m\u001b[1;33m\u001b[0m\u001b[1;33m\u001b[0m\u001b[0m\n",
      "\u001b[1;31mDocstring:\u001b[0m Append object to the end of the list.\n",
      "\u001b[1;31mType:\u001b[0m      method_descriptor\n"
     ]
    }
   ],
   "source": [
    "\"\"\"also, just a reminder that Ali brought up that the \"?\" can be used on any function\n",
    "without having to go all the way to the documentation, even aws functions, obscure library\n",
    "functions, literally anything, and, double \"??\" will show the source code, like I \n",
    "saw with Ravi the other day on Thursday\"\"\"\n",
    "\n",
    "\"\"\"I can play around more with this as I go, \n",
    "I think this is a very powerful habit to build\"\"\"\n",
    "df.columns?\n",
    "list.append??\n",
    "list.append?"
   ]
  },
  {
   "cell_type": "code",
   "execution_count": null,
   "metadata": {},
   "outputs": [],
   "source": [
    "\"\"\"Okay cool so yeah I just did a solid dive into \"pointer aliasing\" in python,\n",
    "definitely learned some dope things here. At this point feeling good to roll right\n",
    "into youtubes on hash maps\"\"\""
   ]
  },
  {
   "cell_type": "markdown",
   "metadata": {},
   "source": [
    "Test snippets of python code ---- can delete after 30 days"
   ]
  },
  {
   "cell_type": "code",
   "execution_count": 2,
   "metadata": {},
   "outputs": [
    {
     "name": "stdout",
     "output_type": "stream",
     "text": [
      "5\n"
     ]
    }
   ],
   "source": [
    "# 10/19/22\n",
    "var1 = 1\n",
    "var2 = 5\n",
    "print(var1 and var2)"
   ]
  },
  {
   "cell_type": "code",
   "execution_count": 3,
   "metadata": {},
   "outputs": [
    {
     "name": "stdout",
     "output_type": "stream",
     "text": [
      "5\n",
      "4\n",
      "3\n",
      "2\n",
      "1\n"
     ]
    }
   ],
   "source": [
    "# \"while n:\" is another way of saying \"while n > 1:\"\n",
    "n = 5\n",
    "while n:\n",
    "    print(n)\n",
    "    n -= 1"
   ]
  },
  {
   "cell_type": "code",
   "execution_count": null,
   "metadata": {},
   "outputs": [],
   "source": []
  }
 ],
 "metadata": {
  "kernelspec": {
   "display_name": "Python 3.9.7 64-bit",
   "language": "python",
   "name": "python3"
  },
  "language_info": {
   "codemirror_mode": {
    "name": "ipython",
    "version": 3
   },
   "file_extension": ".py",
   "mimetype": "text/x-python",
   "name": "python",
   "nbconvert_exporter": "python",
   "pygments_lexer": "ipython3",
   "version": "3.9.7"
  },
  "orig_nbformat": 4,
  "vscode": {
   "interpreter": {
    "hash": "81794d4967e6c3204c66dcd87b604927b115b27c00565d3d43f05ba2f3a2cb0d"
   }
  }
 },
 "nbformat": 4,
 "nbformat_minor": 2
}
