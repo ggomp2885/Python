{
 "cells": [
  {
   "cell_type": "code",
   "execution_count": 53,
   "id": "0b99a866-ac83-4521-b066-b5303c60fa11",
   "metadata": {},
   "outputs": [],
   "source": [
    "import pandas as pd\n",
    "import numpy as np\n",
    "\n",
    "from sklearn.datasets import make_classification\n",
    "from sklearn.preprocessing import StandardScaler\n",
    "from sklearn.experimental import enable_iterative_imputer\n",
    "from sklearn.impute import IterativeImputer"
   ]
  },
  {
   "cell_type": "code",
   "execution_count": 50,
   "id": "f8698c04-9dd8-4a22-9dc8-62cc34679d1e",
   "metadata": {},
   "outputs": [
    {
     "data": {
      "text/html": [
       "<div>\n",
       "<style scoped>\n",
       "    .dataframe tbody tr th:only-of-type {\n",
       "        vertical-align: middle;\n",
       "    }\n",
       "\n",
       "    .dataframe tbody tr th {\n",
       "        vertical-align: top;\n",
       "    }\n",
       "\n",
       "    .dataframe thead th {\n",
       "        text-align: right;\n",
       "    }\n",
       "</style>\n",
       "<table border=\"1\" class=\"dataframe\">\n",
       "  <thead>\n",
       "    <tr style=\"text-align: right;\">\n",
       "      <th></th>\n",
       "      <th>0</th>\n",
       "      <th>1</th>\n",
       "      <th>2</th>\n",
       "      <th>3</th>\n",
       "      <th>4</th>\n",
       "      <th>5</th>\n",
       "      <th>6</th>\n",
       "      <th>7</th>\n",
       "      <th>8</th>\n",
       "      <th>9</th>\n",
       "      <th>...</th>\n",
       "      <th>90</th>\n",
       "      <th>91</th>\n",
       "      <th>92</th>\n",
       "      <th>93</th>\n",
       "      <th>94</th>\n",
       "      <th>95</th>\n",
       "      <th>96</th>\n",
       "      <th>97</th>\n",
       "      <th>98</th>\n",
       "      <th>99</th>\n",
       "    </tr>\n",
       "  </thead>\n",
       "  <tbody>\n",
       "    <tr>\n",
       "      <th>999995</th>\n",
       "      <td>7.638479</td>\n",
       "      <td>0.147993</td>\n",
       "      <td>-0.374315</td>\n",
       "      <td>-1.905672</td>\n",
       "      <td>2.100724</td>\n",
       "      <td>4.876262</td>\n",
       "      <td>3.539063</td>\n",
       "      <td>3.724045</td>\n",
       "      <td>-0.035807</td>\n",
       "      <td>12.583887</td>\n",
       "      <td>...</td>\n",
       "      <td>-27.349655</td>\n",
       "      <td>3.110569</td>\n",
       "      <td>-0.387177</td>\n",
       "      <td>-0.440046</td>\n",
       "      <td>-3.978399</td>\n",
       "      <td>-3.284399</td>\n",
       "      <td>-5.888020</td>\n",
       "      <td>-2.889172</td>\n",
       "      <td>1.054599</td>\n",
       "      <td>1.856324</td>\n",
       "    </tr>\n",
       "    <tr>\n",
       "      <th>999996</th>\n",
       "      <td>4.952854</td>\n",
       "      <td>-4.907971</td>\n",
       "      <td>-3.874430</td>\n",
       "      <td>3.285434</td>\n",
       "      <td>1.330459</td>\n",
       "      <td>3.820075</td>\n",
       "      <td>-4.343467</td>\n",
       "      <td>-0.446642</td>\n",
       "      <td>0.937792</td>\n",
       "      <td>-5.886366</td>\n",
       "      <td>...</td>\n",
       "      <td>-17.715663</td>\n",
       "      <td>-1.304413</td>\n",
       "      <td>-1.772847</td>\n",
       "      <td>-7.154627</td>\n",
       "      <td>-8.490058</td>\n",
       "      <td>-0.966438</td>\n",
       "      <td>-4.778945</td>\n",
       "      <td>-3.230334</td>\n",
       "      <td>4.550058</td>\n",
       "      <td>2.558468</td>\n",
       "    </tr>\n",
       "    <tr>\n",
       "      <th>999997</th>\n",
       "      <td>11.011109</td>\n",
       "      <td>2.142859</td>\n",
       "      <td>2.234868</td>\n",
       "      <td>6.290689</td>\n",
       "      <td>-1.949660</td>\n",
       "      <td>-11.516185</td>\n",
       "      <td>-1.778527</td>\n",
       "      <td>8.871909</td>\n",
       "      <td>-0.164823</td>\n",
       "      <td>14.109944</td>\n",
       "      <td>...</td>\n",
       "      <td>-23.813726</td>\n",
       "      <td>-4.862410</td>\n",
       "      <td>0.013348</td>\n",
       "      <td>-5.801830</td>\n",
       "      <td>-1.499662</td>\n",
       "      <td>5.745617</td>\n",
       "      <td>7.858887</td>\n",
       "      <td>4.896642</td>\n",
       "      <td>-6.953329</td>\n",
       "      <td>6.986822</td>\n",
       "    </tr>\n",
       "    <tr>\n",
       "      <th>999998</th>\n",
       "      <td>3.451271</td>\n",
       "      <td>6.111332</td>\n",
       "      <td>0.207175</td>\n",
       "      <td>-1.531731</td>\n",
       "      <td>-1.647576</td>\n",
       "      <td>-3.079046</td>\n",
       "      <td>0.488566</td>\n",
       "      <td>2.746394</td>\n",
       "      <td>-0.162541</td>\n",
       "      <td>17.769461</td>\n",
       "      <td>...</td>\n",
       "      <td>35.495048</td>\n",
       "      <td>8.325566</td>\n",
       "      <td>-1.254650</td>\n",
       "      <td>-7.690576</td>\n",
       "      <td>-1.708708</td>\n",
       "      <td>1.298043</td>\n",
       "      <td>-8.494639</td>\n",
       "      <td>3.796856</td>\n",
       "      <td>0.623049</td>\n",
       "      <td>0.414741</td>\n",
       "    </tr>\n",
       "    <tr>\n",
       "      <th>999999</th>\n",
       "      <td>1.207356</td>\n",
       "      <td>-2.188729</td>\n",
       "      <td>2.292431</td>\n",
       "      <td>-3.228291</td>\n",
       "      <td>-1.414930</td>\n",
       "      <td>2.512614</td>\n",
       "      <td>-0.476338</td>\n",
       "      <td>-1.169076</td>\n",
       "      <td>1.948679</td>\n",
       "      <td>7.196266</td>\n",
       "      <td>...</td>\n",
       "      <td>-10.082629</td>\n",
       "      <td>7.062203</td>\n",
       "      <td>0.874893</td>\n",
       "      <td>-4.480021</td>\n",
       "      <td>-2.348454</td>\n",
       "      <td>5.003265</td>\n",
       "      <td>6.683871</td>\n",
       "      <td>-1.251950</td>\n",
       "      <td>2.403161</td>\n",
       "      <td>5.155323</td>\n",
       "    </tr>\n",
       "  </tbody>\n",
       "</table>\n",
       "<p>5 rows × 100 columns</p>\n",
       "</div>"
      ],
      "text/plain": [
       "               0         1         2         3         4          5   \\\n",
       "999995   7.638479  0.147993 -0.374315 -1.905672  2.100724   4.876262   \n",
       "999996   4.952854 -4.907971 -3.874430  3.285434  1.330459   3.820075   \n",
       "999997  11.011109  2.142859  2.234868  6.290689 -1.949660 -11.516185   \n",
       "999998   3.451271  6.111332  0.207175 -1.531731 -1.647576  -3.079046   \n",
       "999999   1.207356 -2.188729  2.292431 -3.228291 -1.414930   2.512614   \n",
       "\n",
       "              6         7         8          9   ...         90        91  \\\n",
       "999995  3.539063  3.724045 -0.035807  12.583887  ... -27.349655  3.110569   \n",
       "999996 -4.343467 -0.446642  0.937792  -5.886366  ... -17.715663 -1.304413   \n",
       "999997 -1.778527  8.871909 -0.164823  14.109944  ... -23.813726 -4.862410   \n",
       "999998  0.488566  2.746394 -0.162541  17.769461  ...  35.495048  8.325566   \n",
       "999999 -0.476338 -1.169076  1.948679   7.196266  ... -10.082629  7.062203   \n",
       "\n",
       "              92        93        94        95        96        97        98  \\\n",
       "999995 -0.387177 -0.440046 -3.978399 -3.284399 -5.888020 -2.889172  1.054599   \n",
       "999996 -1.772847 -7.154627 -8.490058 -0.966438 -4.778945 -3.230334  4.550058   \n",
       "999997  0.013348 -5.801830 -1.499662  5.745617  7.858887  4.896642 -6.953329   \n",
       "999998 -1.254650 -7.690576 -1.708708  1.298043 -8.494639  3.796856  0.623049   \n",
       "999999  0.874893 -4.480021 -2.348454  5.003265  6.683871 -1.251950  2.403161   \n",
       "\n",
       "              99  \n",
       "999995  1.856324  \n",
       "999996  2.558468  \n",
       "999997  6.986822  \n",
       "999998  0.414741  \n",
       "999999  5.155323  \n",
       "\n",
       "[5 rows x 100 columns]"
      ]
     },
     "metadata": {},
     "output_type": "display_data"
    },
    {
     "data": {
      "text/plain": [
       "999995    0\n",
       "999996    0\n",
       "999997    0\n",
       "999998    0\n",
       "999999    0\n",
       "dtype: int32"
      ]
     },
     "metadata": {},
     "output_type": "display_data"
    },
    {
     "name": "stdout",
     "output_type": "stream",
     "text": [
      "Wall time: 6.29 s\n"
     ]
    }
   ],
   "source": [
    "%%time\n",
    "X, y = make_classification(n_samples=1_000_000, n_features=100, n_informative=80, \n",
    "                          n_redundant=10, n_repeated=5, n_classes=2, weights=[.7, .3], \n",
    "                          flip_y=.05, random_state=1)\n",
    "X = pd.DataFrame(X)\n",
    "y = pd.Series(y)\n",
    "\n",
    "display(X.tail(5))\n",
    "display(y.tail(5))"
   ]
  },
  {
   "cell_type": "markdown",
   "id": "a8a03aa9-b5c3-41f1-8bd8-992e9099942f",
   "metadata": {},
   "source": [
    "## Exporting to CSV to check file size"
   ]
  },
  {
   "cell_type": "code",
   "execution_count": 30,
   "id": "971c6a53-ff52-4d41-a64b-ac0c773d06c8",
   "metadata": {},
   "outputs": [],
   "source": [
    "X.to_csv(r\".\\processed_datasets\\100m_combo_100f.csv\", index=False)"
   ]
  },
  {
   "cell_type": "code",
   "execution_count": 31,
   "id": "b440de56-5a97-404e-8a32-928fd8722dd8",
   "metadata": {},
   "outputs": [],
   "source": [
    "y.to_csv(r\".\\processed_datasets\\y_100m_combo_100f_rs1.csv\", index=False)"
   ]
  },
  {
   "cell_type": "markdown",
   "id": "b14f7443-507f-4058-ac58-0c2d59fbd1ac",
   "metadata": {},
   "source": [
    "## Creating Null values"
   ]
  },
  {
   "cell_type": "code",
   "execution_count": 51,
   "id": "ca3bb1db-36b0-4a69-a0b9-da6df72d33e8",
   "metadata": {},
   "outputs": [
    {
     "name": "stdout",
     "output_type": "stream",
     "text": [
      "0      976\n",
      "1     1045\n",
      "2     1004\n",
      "3      978\n",
      "4      970\n",
      "      ... \n",
      "95    1022\n",
      "96    1030\n",
      "97     973\n",
      "98     986\n",
      "99    1019\n",
      "Length: 100, dtype: int64\n",
      "Wall time: 1.91 s\n"
     ]
    }
   ],
   "source": [
    "%%time\n",
    "X = X.mask(np.random.random(X.shape) < .001)\n",
    "\n",
    "print(X.isnull().sum())"
   ]
  },
  {
   "cell_type": "markdown",
   "id": "c30e09ed-4bfc-4cb0-95f1-b44690e0ed61",
   "metadata": {},
   "source": [
    "## Dropping rows with null values"
   ]
  },
  {
   "cell_type": "code",
   "execution_count": 44,
   "id": "c66d094d-e0da-497c-bb36-d531bb9caba8",
   "metadata": {},
   "outputs": [
    {
     "name": "stdout",
     "output_type": "stream",
     "text": [
      "0     0\n",
      "1     0\n",
      "2     0\n",
      "3     0\n",
      "4     0\n",
      "     ..\n",
      "95    0\n",
      "96    0\n",
      "97    0\n",
      "98    0\n",
      "99    0\n",
      "Length: 100, dtype: int64\n",
      "(25, 100)\n",
      "Wall time: 286 ms\n"
     ]
    }
   ],
   "source": [
    "%%time\n",
    "X.dropna(inplace=True)\n",
    "print(X.isnull().sum())\n",
    "print(X.shape)"
   ]
  },
  {
   "cell_type": "code",
   "execution_count": null,
   "id": "c2e0768a-c76d-40e6-8f61-9bc3ad889854",
   "metadata": {},
   "outputs": [],
   "source": [
    "X_train, y_train, X_test, y_test = sklearn.traintestsplit"
   ]
  },
  {
   "cell_type": "markdown",
   "id": "7ec937eb-cffe-40fe-9841-86374d7a6dc2",
   "metadata": {},
   "source": [
    "## StandardScaling the dataset"
   ]
  },
  {
   "cell_type": "code",
   "execution_count": null,
   "id": "cf6ae571-fe72-4648-a5c9-e99b445061d0",
   "metadata": {},
   "outputs": [],
   "source": []
  },
  {
   "cell_type": "markdown",
   "id": "8e67897a-7586-4e94-84e8-f6179176c190",
   "metadata": {},
   "source": [
    "## Imputing missing values with iterative imputer"
   ]
  },
  {
   "cell_type": "code",
   "execution_count": 52,
   "id": "727d12e3-399f-4a25-9ddc-5b09d375c298",
   "metadata": {},
   "outputs": [
    {
     "ename": "KeyboardInterrupt",
     "evalue": "",
     "output_type": "error",
     "traceback": [
      "\u001b[1;31m---------------------------------------------------------------------------\u001b[0m",
      "\u001b[1;31mKeyboardInterrupt\u001b[0m                         Traceback (most recent call last)",
      "\u001b[1;32m<timed exec>\u001b[0m in \u001b[0;36m<module>\u001b[1;34m\u001b[0m\n",
      "\u001b[1;32m~\\anaconda3\\lib\\site-packages\\sklearn\\impute\\_iterative.py\u001b[0m in \u001b[0;36mfit_transform\u001b[1;34m(self, X, y)\u001b[0m\n\u001b[0;32m    655\u001b[0m                                                                 \u001b[0mfeat_idx\u001b[0m\u001b[1;33m,\u001b[0m\u001b[1;33m\u001b[0m\u001b[1;33m\u001b[0m\u001b[0m\n\u001b[0;32m    656\u001b[0m                                                                 abs_corr_mat)\n\u001b[1;32m--> 657\u001b[1;33m                 Xt, estimator = self._impute_one_feature(\n\u001b[0m\u001b[0;32m    658\u001b[0m                     \u001b[0mXt\u001b[0m\u001b[1;33m,\u001b[0m \u001b[0mmask_missing_values\u001b[0m\u001b[1;33m,\u001b[0m \u001b[0mfeat_idx\u001b[0m\u001b[1;33m,\u001b[0m \u001b[0mneighbor_feat_idx\u001b[0m\u001b[1;33m,\u001b[0m\u001b[1;33m\u001b[0m\u001b[1;33m\u001b[0m\u001b[0m\n\u001b[0;32m    659\u001b[0m                     estimator=None, fit_mode=True)\n",
      "\u001b[1;32m~\\anaconda3\\lib\\site-packages\\sklearn\\impute\\_iterative.py\u001b[0m in \u001b[0;36m_impute_one_feature\u001b[1;34m(self, X_filled, mask_missing_values, feat_idx, neighbor_feat_idx, estimator, fit_mode)\u001b[0m\n\u001b[0;32m    314\u001b[0m \u001b[1;33m\u001b[0m\u001b[0m\n\u001b[0;32m    315\u001b[0m         \u001b[1;31m# get posterior samples if there is at least one missing value\u001b[0m\u001b[1;33m\u001b[0m\u001b[1;33m\u001b[0m\u001b[1;33m\u001b[0m\u001b[0m\n\u001b[1;32m--> 316\u001b[1;33m         X_test = _safe_indexing(X_filled[:, neighbor_feat_idx],\n\u001b[0m\u001b[0;32m    317\u001b[0m                                 missing_row_mask)\n\u001b[0;32m    318\u001b[0m         \u001b[1;32mif\u001b[0m \u001b[0mself\u001b[0m\u001b[1;33m.\u001b[0m\u001b[0msample_posterior\u001b[0m\u001b[1;33m:\u001b[0m\u001b[1;33m\u001b[0m\u001b[1;33m\u001b[0m\u001b[0m\n",
      "\u001b[1;31mKeyboardInterrupt\u001b[0m: "
     ]
    }
   ],
   "source": [
    "%%time\n",
    "imputer = IterativeImputer()\n",
    "\n",
    "X = imputer.fit_transform(X)\n",
    "X = pd.DataFrame(X)\n",
    "display(X.tail(5))\n",
    "print(f'{train_mvp_c.isnull().sum()}')"
   ]
  },
  {
   "cell_type": "code",
   "execution_count": null,
   "id": "9e71fd47-c09c-414d-9767-2727144a3294",
   "metadata": {},
   "outputs": [],
   "source": [
    "pipe_model = ('XGB', Pipeline([(\"scaling\", StandardScaler()), (\"model\", xgb.XGBClassifier(use_label_encoder=False))]))\n",
    "print(pipe_model[0][1])"
   ]
  },
  {
   "cell_type": "code",
   "execution_count": null,
   "id": "edb271e4-e16c-464b-8317-419e28ea0e4d",
   "metadata": {},
   "outputs": [],
   "source": []
  },
  {
   "cell_type": "code",
   "execution_count": null,
   "id": "1b1e29b6-d7b5-444b-bd31-38574385ccbb",
   "metadata": {},
   "outputs": [],
   "source": [
    "cv_results = cross_val_score(pipe_model[0][1], X, Y, cv=10, scoring=scoring)\n",
    "print(round(cv_results.mean(), 3))"
   ]
  }
 ],
 "metadata": {
  "kernelspec": {
   "display_name": "Python 3 (ipykernel)",
   "language": "python",
   "name": "python3"
  },
  "language_info": {
   "codemirror_mode": {
    "name": "ipython",
    "version": 3
   },
   "file_extension": ".py",
   "mimetype": "text/x-python",
   "name": "python",
   "nbconvert_exporter": "python",
   "pygments_lexer": "ipython3",
   "version": "3.8.11"
  }
 },
 "nbformat": 4,
 "nbformat_minor": 5
}
