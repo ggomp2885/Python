{
 "cells": [
  {
   "cell_type": "markdown",
   "id": "01ed3076-6ba7-4ff5-88c5-84b73dd1a945",
   "metadata": {},
   "source": [
    "## Seaborn Plot Mastery"
   ]
  },
  {
   "cell_type": "markdown",
   "id": "b15d1624-ea53-4ed0-a6c2-59333665d6b7",
   "metadata": {},
   "source": [
    "### Imports"
   ]
  },
  {
   "cell_type": "code",
   "execution_count": 100,
   "id": "bc4bef6a-c23d-4a9d-a88b-4725739700a5",
   "metadata": {},
   "outputs": [
    {
     "data": {
      "text/plain": [
       "\u001b[1;31mSignature:\u001b[0m\n",
       "\u001b[0msns\u001b[0m\u001b[1;33m.\u001b[0m\u001b[0mset_theme\u001b[0m\u001b[1;33m(\u001b[0m\u001b[1;33m\n",
       "\u001b[0m    \u001b[0mcontext\u001b[0m\u001b[1;33m=\u001b[0m\u001b[1;34m'notebook'\u001b[0m\u001b[1;33m,\u001b[0m\u001b[1;33m\n",
       "\u001b[0m    \u001b[0mstyle\u001b[0m\u001b[1;33m=\u001b[0m\u001b[1;34m'darkgrid'\u001b[0m\u001b[1;33m,\u001b[0m\u001b[1;33m\n",
       "\u001b[0m    \u001b[0mpalette\u001b[0m\u001b[1;33m=\u001b[0m\u001b[1;34m'deep'\u001b[0m\u001b[1;33m,\u001b[0m\u001b[1;33m\n",
       "\u001b[0m    \u001b[0mfont\u001b[0m\u001b[1;33m=\u001b[0m\u001b[1;34m'sans-serif'\u001b[0m\u001b[1;33m,\u001b[0m\u001b[1;33m\n",
       "\u001b[0m    \u001b[0mfont_scale\u001b[0m\u001b[1;33m=\u001b[0m\u001b[1;36m1\u001b[0m\u001b[1;33m,\u001b[0m\u001b[1;33m\n",
       "\u001b[0m    \u001b[0mcolor_codes\u001b[0m\u001b[1;33m=\u001b[0m\u001b[1;32mTrue\u001b[0m\u001b[1;33m,\u001b[0m\u001b[1;33m\n",
       "\u001b[0m    \u001b[0mrc\u001b[0m\u001b[1;33m=\u001b[0m\u001b[1;32mNone\u001b[0m\u001b[1;33m,\u001b[0m\u001b[1;33m\n",
       "\u001b[0m\u001b[1;33m)\u001b[0m\u001b[1;33m\u001b[0m\u001b[1;33m\u001b[0m\u001b[0m\n",
       "\u001b[1;31mDocstring:\u001b[0m\n",
       "Set multiple theme parameters in one step.\n",
       "\n",
       "Each set of parameters can be set directly or temporarily, see the\n",
       "referenced functions below for more information.\n",
       "\n",
       "Parameters\n",
       "----------\n",
       "context : string or dict\n",
       "    Plotting context parameters, see :func:`plotting_context`.\n",
       "style : string or dict\n",
       "    Axes style parameters, see :func:`axes_style`.\n",
       "palette : string or sequence\n",
       "    Color palette, see :func:`color_palette`.\n",
       "font : string\n",
       "    Font family, see matplotlib font manager.\n",
       "font_scale : float, optional\n",
       "    Separate scaling factor to independently scale the size of the\n",
       "    font elements.\n",
       "color_codes : bool\n",
       "    If ``True`` and ``palette`` is a seaborn palette, remap the shorthand\n",
       "    color codes (e.g. \"b\", \"g\", \"r\", etc.) to the colors from this palette.\n",
       "rc : dict or None\n",
       "    Dictionary of rc parameter mappings to override the above.\n",
       "\u001b[1;31mFile:\u001b[0m      c:\\users\\ggomp\\anaconda3\\lib\\site-packages\\seaborn\\rcmod.py\n",
       "\u001b[1;31mType:\u001b[0m      function\n"
      ]
     },
     "metadata": {},
     "output_type": "display_data"
    }
   ],
   "source": [
    "import matplotlib.pyplot as plt\n",
    "import seaborn as sns\n",
    "sns.set_theme(context='notebook',  # default #for quick use # sets font scale, lines width, and axis numbers, to a small/med/large/xlarge level, can be a little unpredictable\n",
    "              font ='sans-serif',\n",
    "              font_scale=1, \n",
    "              style='darkgrid',    # default\n",
    "              palette='deep',\n",
    "              rc={\"lines.linewidth\" : 1})\n",
    "\n",
    "sns.set_theme?\n",
    "plt.\n",
    "\n",
    "# this must be set or else the plots dont work, this is the only \"set_\" function\n",
    "# I need to use, because it holds all of the relevant functions\n",
    "# (sns.set_style('darkgrid') and sns.set_context('talk') are redundant functions for\n",
    "# setting only one of these parameters)\n",
    "\n",
    "# ahh, so I see the reason why they have specific set_functions,\n",
    "# its for when you want to keep all the other settings the same,\n",
    "# but just change 1 at time ---- so I can have an initial setup command that sets the long term things, and then a small setup that I c&p into a cell for custom manipulations\n",
    "# but in order to do this, this small C&P setup would have to use multiple of the smaller \"set_()\" functions\n",
    "\n",
    "# also, all of these settings statements have to be run above the sns.plot() function, \n",
    "# they have to be set before the \"display\" command"
   ]
  },
  {
   "cell_type": "markdown",
   "id": "fb67d3bc-b017-4636-84a0-17c3dd88374b",
   "metadata": {},
   "source": [
    "## Loading example dataset"
   ]
  },
  {
   "cell_type": "code",
   "execution_count": 68,
   "id": "87f9b171-30a0-4191-9105-68e665223fde",
   "metadata": {},
   "outputs": [
    {
     "data": {
      "text/html": [
       "<div>\n",
       "<style scoped>\n",
       "    .dataframe tbody tr th:only-of-type {\n",
       "        vertical-align: middle;\n",
       "    }\n",
       "\n",
       "    .dataframe tbody tr th {\n",
       "        vertical-align: top;\n",
       "    }\n",
       "\n",
       "    .dataframe thead th {\n",
       "        text-align: right;\n",
       "    }\n",
       "</style>\n",
       "<table border=\"1\" class=\"dataframe\">\n",
       "  <thead>\n",
       "    <tr style=\"text-align: right;\">\n",
       "      <th></th>\n",
       "      <th>species</th>\n",
       "      <th>island</th>\n",
       "      <th>bill_length_mm</th>\n",
       "      <th>bill_depth_mm</th>\n",
       "      <th>flipper_length_mm</th>\n",
       "      <th>body_mass_g</th>\n",
       "      <th>sex</th>\n",
       "    </tr>\n",
       "  </thead>\n",
       "  <tbody>\n",
       "    <tr>\n",
       "      <th>0</th>\n",
       "      <td>Adelie</td>\n",
       "      <td>Torgersen</td>\n",
       "      <td>39.1</td>\n",
       "      <td>18.7</td>\n",
       "      <td>181.0</td>\n",
       "      <td>3750.0</td>\n",
       "      <td>Male</td>\n",
       "    </tr>\n",
       "    <tr>\n",
       "      <th>1</th>\n",
       "      <td>Adelie</td>\n",
       "      <td>Torgersen</td>\n",
       "      <td>39.5</td>\n",
       "      <td>17.4</td>\n",
       "      <td>186.0</td>\n",
       "      <td>3800.0</td>\n",
       "      <td>Female</td>\n",
       "    </tr>\n",
       "    <tr>\n",
       "      <th>2</th>\n",
       "      <td>Adelie</td>\n",
       "      <td>Torgersen</td>\n",
       "      <td>40.3</td>\n",
       "      <td>18.0</td>\n",
       "      <td>195.0</td>\n",
       "      <td>3250.0</td>\n",
       "      <td>Female</td>\n",
       "    </tr>\n",
       "    <tr>\n",
       "      <th>3</th>\n",
       "      <td>Adelie</td>\n",
       "      <td>Torgersen</td>\n",
       "      <td>NaN</td>\n",
       "      <td>NaN</td>\n",
       "      <td>NaN</td>\n",
       "      <td>NaN</td>\n",
       "      <td>NaN</td>\n",
       "    </tr>\n",
       "    <tr>\n",
       "      <th>4</th>\n",
       "      <td>Adelie</td>\n",
       "      <td>Torgersen</td>\n",
       "      <td>36.7</td>\n",
       "      <td>19.3</td>\n",
       "      <td>193.0</td>\n",
       "      <td>3450.0</td>\n",
       "      <td>Female</td>\n",
       "    </tr>\n",
       "  </tbody>\n",
       "</table>\n",
       "</div>"
      ],
      "text/plain": [
       "  species     island  bill_length_mm  bill_depth_mm  flipper_length_mm  \\\n",
       "0  Adelie  Torgersen            39.1           18.7              181.0   \n",
       "1  Adelie  Torgersen            39.5           17.4              186.0   \n",
       "2  Adelie  Torgersen            40.3           18.0              195.0   \n",
       "3  Adelie  Torgersen             NaN            NaN                NaN   \n",
       "4  Adelie  Torgersen            36.7           19.3              193.0   \n",
       "\n",
       "   body_mass_g     sex  \n",
       "0       3750.0    Male  \n",
       "1       3800.0  Female  \n",
       "2       3250.0  Female  \n",
       "3          NaN     NaN  \n",
       "4       3450.0  Female  "
      ]
     },
     "metadata": {},
     "output_type": "display_data"
    },
    {
     "data": {
      "text/plain": [
       "(344, 7)"
      ]
     },
     "metadata": {},
     "output_type": "display_data"
    },
    {
     "data": {
      "text/plain": [
       "pandas.core.frame.DataFrame"
      ]
     },
     "metadata": {},
     "output_type": "display_data"
    }
   ],
   "source": [
    "#sns.get_dataset_names()    #shows example datasets available from seaborn\n",
    "\n",
    "df = sns.load_dataset('penguins')\n",
    "display(df.head(), df.shape, type(df))"
   ]
  },
  {
   "cell_type": "markdown",
   "id": "d2e23999-91ec-4bd7-ab63-0cf55d3e8664",
   "metadata": {},
   "source": [
    "## Mock Plot to show size / style changing"
   ]
  },
  {
   "cell_type": "markdown",
   "id": "d5a06517-a605-4916-a87e-7462ea3006fa",
   "metadata": {},
   "source": [
    "run above cell, first, to load in a dataframe"
   ]
  },
  {
   "cell_type": "code",
   "execution_count": 98,
   "id": "c7ea5f78-9bb4-4d9c-9697-b39964dd1672",
   "metadata": {},
   "outputs": [
    {
     "name": "stdout",
     "output_type": "stream",
     "text": [
      " countplot (counts number of rows with each entry) AxesSubplot(0.125,0.125;0.775x0.755)\n"
     ]
    },
    {
     "data": {
      "image/png": "[encoded data removed]",
      "text/plain": [
       "<Figure size 576x576 with 1 Axes>"
      ]
     },
     "metadata": {},
     "output_type": "display_data"
    }
   ],
   "source": [
    "sns.set_theme(context='poster',  # this sets the font scaling, doesnt affect actual size) \n",
    "              font ='sans-serif',\n",
    "              font_scale=1, \n",
    "              style='darkgrid', \n",
    "              palette='deep')\n",
    "\n",
    "# sns.set_theme(context='poster',  # this sets the font scaling, doesnt affect actual size) \n",
    "#               font ='sans-serif',\n",
    "#               font_scale=1, \n",
    "#               style='darkgrid', \n",
    "#               palette='deep')\n",
    "plt.figure(figsize=(8,8))        # this has to be in the same cell as the plot being made for it to work\n",
    "\n",
    "print(f' countplot (counts number of rows with each entry) {sns.countplot(x=\"sex\", data=df)}')"
   ]
  },
  {
   "cell_type": "markdown",
   "id": "ea8ed80b-2254-4648-9ad2-e33f3abdf30a",
   "metadata": {},
   "source": [
    "# Seaborn functions and plots I have mastered:\n",
    "\n",
    "#### 1. Plot styling and sizing\n",
    "    1. Yep, figured out Im just going to save a version of sns.set_theme() to load into all notebooks in the begininng, and realized that plt.figure(figsize=(#,#)) must be in same cell to work, going to play around with the poster / paper / text_scale arugments now and see if there is any difference, then maybe look into the arguments included in plt.figure()\n",
    "\n",
    "#### 1. Countplots and histplots are basically the same thing\n",
    "    1. a countplot is pre-setup to work better with discrete numbers,\n",
    "    1. a histplot is pre-setup to work better with continous values\n",
    "    \n",
    "#### 1. barplot with double relationship\n",
    "    1. \n",
    "\n",
    "#### 1. Awesome looking heatmap)\n",
    "\n",
    "#### 1. Line plots (train/val curve plots)\n",
    "    \n",
    "    "
   ]
  },
  {
   "cell_type": "code",
   "execution_count": null,
   "id": "4da576d2-a65f-4988-b864-c9e3d7b93a11",
   "metadata": {},
   "outputs": [],
   "source": []
  },
  {
   "cell_type": "code",
   "execution_count": null,
   "id": "5fe8a229-e5fd-4776-a671-df1a78f03056",
   "metadata": {},
   "outputs": [],
   "source": []
  }
 ],
 "metadata": {
  "kernelspec": {
   "display_name": "Python 3",
   "language": "python",
   "name": "python3"
  },
  "language_info": {
   "codemirror_mode": {
    "name": "ipython",
    "version": 3
   },
   "file_extension": ".py",
   "mimetype": "text/x-python",
   "name": "python",
   "nbconvert_exporter": "python",
   "pygments_lexer": "ipython3",
   "version": "3.8.8"
  }
 },
 "nbformat": 4,
 "nbformat_minor": 5
}
