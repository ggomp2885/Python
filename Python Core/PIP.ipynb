{
 "cells": [
  {
   "cell_type": "markdown",
   "metadata": {},
   "source": [
    "### Known explorations with PIP Python packadge installer"
   ]
  },
  {
   "cell_type": "markdown",
   "metadata": {},
   "source": [
    "PIP may run into an issue when uninstalling/reinstalling packadges if any local IDE is open ---- for example, if I have kernals running in JupyterLab ---- shutting down these kernals fixes this issue"
   ]
  },
  {
   "cell_type": "markdown",
   "metadata": {},
   "source": [
    "## common commands for PIP"
   ]
  },
  {
   "cell_type": "code",
   "execution_count": null,
   "metadata": {},
   "outputs": [],
   "source": [
    "# command to reinstall any package with a different version\n",
    "pip install --force-reinstall scikit-learn==0.23.2 --user\n",
    "\n",
    "# command to upgrade any package\n",
    "pip install --upgrade scikit-learn"
   ]
  },
  {
   "cell_type": "markdown",
   "metadata": {},
   "source": [
    "## running pip commands directly in JL / sagemaker"
   ]
  },
  {
   "cell_type": "code",
   "execution_count": null,
   "metadata": {},
   "outputs": [],
   "source": [
    "!{sys.executable} -m pip install --upgrade sagemaker"
   ]
  },
  {
   "cell_type": "markdown",
   "metadata": {},
   "source": [
    "## tags for PIP"
   ]
  },
  {
   "cell_type": "code",
   "execution_count": null,
   "metadata": {},
   "outputs": [],
   "source": [
    "# tags are used at the very end of the entire command\n",
    "\n",
    "-q                  # stands for \"quiet\", reduces the output text, can be used up to 3 times, ie, \"-qqq\" for least output"
   ]
  }
 ],
 "metadata": {
  "kernelspec": {
   "display_name": "Python 3",
   "language": "python",
   "name": "python3"
  },
  "language_info": {
   "codemirror_mode": {
    "name": "ipython",
    "version": 3
   },
   "file_extension": ".py",
   "mimetype": "text/x-python",
   "name": "python",
   "nbconvert_exporter": "python",
   "pygments_lexer": "ipython3",
   "version": "3.8.8"
  }
 },
 "nbformat": 4,
 "nbformat_minor": 5
}
