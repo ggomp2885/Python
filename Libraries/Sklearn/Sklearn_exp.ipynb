{
 "cells": [
  {
   "cell_type": "markdown",
   "id": "9380e004-38a4-46bb-9b21-a41c74fc48a0",
   "metadata": {},
   "source": [
    "# Sklearn Mastery"
   ]
  },
  {
   "cell_type": "markdown",
   "id": "bfb1aa15-c0b7-4199-947b-01fff8c709fd",
   "metadata": {},
   "source": [
    "# Imports"
   ]
  },
  {
   "cell_type": "code",
   "execution_count": 1,
   "id": "8d2a0543-11cc-4cc3-bda1-56d905277cb8",
   "metadata": {},
   "outputs": [],
   "source": [
    "import sklearn"
   ]
  },
  {
   "cell_type": "markdown",
   "id": "1d691f16-70b8-4520-a1e7-f0c366576ce4",
   "metadata": {},
   "source": [
    "### Learning Curve()"
   ]
  },
  {
   "cell_type": "code",
   "execution_count": null,
   "id": "dc14c3c5-98f8-4514-8115-dd0095304091",
   "metadata": {},
   "outputs": [],
   "source": []
  }
 ],
 "metadata": {
  "kernelspec": {
   "display_name": "Python 3",
   "language": "python",
   "name": "python3"
  },
  "language_info": {
   "codemirror_mode": {
    "name": "ipython",
    "version": 3
   },
   "file_extension": ".py",
   "mimetype": "text/x-python",
   "name": "python",
   "nbconvert_exporter": "python",
   "pygments_lexer": "ipython3",
   "version": "3.8.8"
  }
 },
 "nbformat": 4,
 "nbformat_minor": 5
}
