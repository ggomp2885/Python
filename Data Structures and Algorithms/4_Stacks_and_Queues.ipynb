{
 "cells": [
  {
   "cell_type": "markdown",
   "metadata": {},
   "source": [
    "#### Stacks and Queues\n",
    "It doesnt matter how I impliment a stack, it is just an abstract interface\n",
    "\n",
    "A \"stack\" just has a Last in First Out setup, LIFO,\n",
    "\n",
    "Just like a stack of heavy plates,\n",
    " I can only put one onto the top, or pull one off"
   ]
  },
  {
   "cell_type": "code",
   "execution_count": null,
   "metadata": {},
   "outputs": [],
   "source": [
    "\"\"\"11/10/22 --- time = O(n), space = O(n)\n",
    "Given a string path, which is an absolute path (starting with a slash '/')\n",
    "to a file or directory in a Unix-style file system,\n",
    "convert it to the simplified canonical path.\"\"\"\n",
    "\n",
    "class Solution:\n",
    "    def simplifyPath(self, path: str) -> str:\n",
    "        # not sure what the brute force method for this would be\n",
    "        # but as far as using a stack, \n",
    "        # Im going to loop through the string\n",
    "        # and each time char in dict:\n",
    "        # stack.append(char)\n",
    "        # when char is stack[-1]\n",
    "        # stack.pop()\n",
    "\n",
    "#         stack = []\n",
    "#         conical = []\n",
    "#         dict = {\"/\": \"/\", \".\": \".\"}\n",
    "#         for char in path:\n",
    "#             if char == stack[-1]:\n",
    "#                 removed_char = stack.pop()\n",
    "#             if char in dict:\n",
    "#                 stack.append(char)\n",
    "#             conical.append(char)\n",
    "            \n",
    "        \"\"\"Okay so above is my initial thoughts, basically this would have worked\n",
    "        if the operations to be done were the same for each case found,\n",
    "        but, with different operations, these each must be caught and handled\n",
    "        one at a time\"\"\"\n",
    "\n",
    "        # Initialize a stack\n",
    "        stack = []\n",
    "        # Split the input string on \"/\" as the delimiter\n",
    "        # and process each portion one by one\n",
    "        for portion in path.split(\"/\"):\n",
    "            # If the current component is a \"..\", then\n",
    "            # we pop an entry from the stack if it's non-empty\n",
    "            if portion == \"..\":\n",
    "                if stack:\n",
    "                    stack.pop()\n",
    "            elif portion == \".\" or not portion:\n",
    "                # A no-op for a \".\" or an empty string\n",
    "                continue\n",
    "            else:\n",
    "                # Finally, a legitimate directory name, so we add it\n",
    "                # to our stack\n",
    "                stack.append(portion)\n",
    "\n",
    "        # Stich together all the directory names together\n",
    "        final_str = \"/\" + \"/\".join(stack)\n",
    "        return final_str\n",
    "\n",
    "\"\"\"Okay, so this is a little trick here to realize that right off\n",
    "the bat, the easiest way is to .split(\"/\") and then have 3 if\n",
    "statements to handle each different operation\n",
    "\n",
    "Lastly, the stack list, legitimately holds the\n",
    "final return value, I just append to this stack each time\n",
    "then I just return it with one \"/\" + \"/\".join(stack) syntax\n",
    "Thing to note is, I never want to do any operations on a string,\n",
    "except for adding it into a list, with only 3 commands,\n",
    ".append and .pop and then at the end, .join\n",
    "\"\"\"\n"
   ]
  },
  {
   "cell_type": "code",
   "execution_count": null,
   "metadata": {},
   "outputs": [],
   "source": [
    "\"\"\"11/11/22 --- Make The String Great\n",
    "Given a string s of lower and upper case English letters.\n",
    "A good string is a string which doesn't have two adjacent characters s[i] and s[i + 1]\"\"\"\n",
    "\n",
    "class Solution:\n",
    "    def makeGood(self, s: str) -> str:\n",
    "        \"\"\"\n",
    "        A brute force approach for this would be to run a loop over the string,\n",
    "        checking to see s[i] and s[i+1]\n",
    "        this loop would have to run multiple times over the string to catch all\n",
    "        the occurances as elements were removed and new pairs came together,\n",
    "        Im not exactly sure what the time complexity would be here but likely n^2 or n^3\n",
    "        I will pay attention to the brute force explanation from now on,\n",
    "        I feel these are very simple once I actually pay attention to it\n",
    "        \n",
    "        Okay so if stack[-1] == char.lower() | char.upper()\n",
    "        del s[char]\n",
    "        oh now wait a sec, small thing here but point is to build the stack as the return value\n",
    "        and therefore, not do operations on the string as these are O(n) time\n",
    "        \n",
    "        so I believe the default action I want to take here is to append each char\n",
    "        and just pop chars out as needed\n",
    "        \n",
    "        \"\"\"\n",
    "        stack = []\n",
    "        for char in s:\n",
    "            if stack:\n",
    "                if char == stack[-1]:\n",
    "                    pass\n",
    "                elif char == stack[-1].upper() or char == stack[-1].lower():\n",
    "                    stack.pop()\n",
    "                    continue\n",
    "                    \n",
    "            stack.append(char)\n",
    "        return \"\".join(stack)\n",
    "\n",
    "# Input: s = \"abBAhhcCd\"\n",
    "# Output: \"hhd\" \n",
    "            \n",
    "\"\"\"Time complexity is O(n), Space complexity is O(n) in worst case\n",
    "I also have a feeling that 2 pointers could work here, \n",
    "also in the same way of adding to a list when the condition is met\"\"\"\n",
    "\n",
    "\"\"\"Key things I have learned here are:\n",
    "1. stack mechanics\n",
    "2. the \"continue\" statement which will go to next iteration of loop whenever used\n",
    "3. conditionals like and/or in python need to be explicit on both sides of the and/or\n",
    "\"\"\"\n",
    "\n",
    "class Solution:\n",
    "    def makeGood(self, s: str) -> str:\n",
    "        stack = []\n",
    "        \n",
    "        for curr_char in list(s):\n",
    "            if stack and abs(ord(curr_char) - ord(stack[-1])) == 32:\n",
    "                stack.pop()\n",
    "            else:\n",
    "                stack.append(curr_char)\n",
    "        \n",
    "        return \"\".join(stack)\n",
    "\n",
    "\"\"\"Okay so this is the same solution, but it puts the if statements together\n",
    "with an \"and\" so thats cool, this is good to keep in mind for future,\n",
    "if I have 2 simple if statements in a row, these can be combined into one\n",
    "\n",
    "Besides that, when using the ord() function,\n",
    "this returns the ASCII code for the character,\n",
    "And from now on, I can know that each lower case letter is exactly\n",
    "32 away from its uppercase version\n",
    "if abs(ord(curr_char) - ord(stack[-1])) == 32:\n",
    "    stack.pop()\n",
    "So this is cool, Ill probably end up needing this in a future case\n",
    "\n",
    "It also says that the 2 pointers method is only an optimal solution in C++\n",
    "because in C++ strings are mutable, but in python this would take too much time\n",
    "to rewrite the string each time in this process, okay cool.\"\"\""
   ]
  },
  {
   "cell_type": "markdown",
   "metadata": {},
   "source": [
    "#### Queues\n",
    "Queues are also an abstract concept,\n",
    "\n",
    "A queue is just defined by a data structure in which\n",
    "\n",
    "adding and removing is done from opposite sides of the data structure\n",
    "\n",
    "Queues are first in first out, FIFO\n",
    "\n",
    "Just like a line at a restuarant or a printer queue"
   ]
  },
  {
   "cell_type": "code",
   "execution_count": null,
   "metadata": {},
   "outputs": [],
   "source": [
    "\"\"\"\n",
    "\"dequeue\"  removing from the front\n",
    "\"enqueue\"  adding to the back\n",
    "\"deque\" (deck) a double ended queue that can delete or add at front or back\n",
    "\n",
    "for a queue, if I just use a dynamic array,\n",
    "then insertions to the front are O(n),\n",
    "so the most efficient way to impliment a queue structure\n",
    "is by using a doubly-linked list\n",
    "which has O(1) insertions and O(1) deletions\n",
    "\n",
    "for algorithm problems,\n",
    "\"a queue is mostly used to impliment a Breadth-First Search, BFS\"\n",
    "\n",
    "\"\"\""
   ]
  },
  {
   "cell_type": "code",
   "execution_count": 1,
   "metadata": {},
   "outputs": [
    {
     "name": "stdout",
     "output_type": "stream",
     "text": [
      "1\n",
      "2\n",
      "3\n",
      "Queue is empty!\n"
     ]
    }
   ],
   "source": [
    "from collections import deque\n",
    "\n",
    "queue = deque()\n",
    "queue.append(1)\n",
    "queue.append(2)\n",
    "queue.append(3)\n",
    "\n",
    "while queue:\n",
    "    print(queue.popleft())\n",
    "    \n",
    "if not queue:\n",
    "    print(\"Queue is empty!\")"
   ]
  },
  {
   "cell_type": "code",
   "execution_count": null,
   "metadata": {},
   "outputs": [],
   "source": [
    "\"\"\"\n",
    "Okay so there was just an example of the ping solution,\n",
    "Ill come back to this, guessing this will be used in one\n",
    "of the upcoming problems\n",
    "\"\"\""
   ]
  },
  {
   "cell_type": "code",
   "execution_count": null,
   "metadata": {},
   "outputs": [],
   "source": [
    "\"\"\"\n",
    "Monotonic means that something never increases or decreases\n",
    "Okay so I get the \"days until temp is higher\" problem\n",
    " \"\"\""
   ]
  },
  {
   "cell_type": "markdown",
   "metadata": {},
   "source": [
    "#### experimentation code"
   ]
  },
  {
   "cell_type": "code",
   "execution_count": 8,
   "metadata": {},
   "outputs": [
    {
     "name": "stdout",
     "output_type": "stream",
     "text": [
      "stack is true\n",
      "['a']\n",
      "string is false\n"
     ]
    }
   ],
   "source": [
    "stack = []\n",
    "stack.append('a')\n",
    "if stack:\n",
    "    print('stack is true')\n",
    "    print(stack)\n",
    "else:\n",
    "    print('stack is untrue')\n",
    "    print(stack)\n",
    "\n",
    "\"\"\" Okay so a list is true if it has values in it,\n",
    "A list is false if its empty.\"\"\"\n",
    "\n",
    "string = \"\"\n",
    "\n",
    "if string:\n",
    "    print('string is true')\n",
    "else:\n",
    "    print('string is false')\n",
    "\n",
    "\"\"\"Interesting, same thing with a string, if its empty its false\n",
    "if it has anything inside of it, even a space, its true\"\"\""
   ]
  },
  {
   "cell_type": "code",
   "execution_count": null,
   "metadata": {},
   "outputs": [],
   "source": []
  }
 ],
 "metadata": {
  "kernelspec": {
   "display_name": "Python 3.11.0 64-bit",
   "language": "python",
   "name": "python3"
  },
  "language_info": {
   "codemirror_mode": {
    "name": "ipython",
    "version": 3
   },
   "file_extension": ".py",
   "mimetype": "text/x-python",
   "name": "python",
   "nbconvert_exporter": "python",
   "pygments_lexer": "ipython3",
   "version": "3.11.0"
  },
  "orig_nbformat": 4,
  "vscode": {
   "interpreter": {
    "hash": "aee8b7b246df8f9039afb4144a1f6fd8d2ca17a180786b69acc140d282b71a49"
   }
  }
 },
 "nbformat": 4,
 "nbformat_minor": 2
}
