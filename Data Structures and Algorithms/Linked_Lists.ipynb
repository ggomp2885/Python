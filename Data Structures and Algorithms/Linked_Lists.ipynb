{
 "cells": [
  {
   "cell_type": "markdown",
   "metadata": {},
   "source": [
    "### Linked Lists"
   ]
  },
  {
   "cell_type": "code",
   "execution_count": 1,
   "metadata": {},
   "outputs": [
    {
     "name": "stdout",
     "output_type": "stream",
     "text": [
      "1\n",
      "2\n",
      "3\n"
     ]
    }
   ],
   "source": [
    "class ListNode:\n",
    "    def __init__(self, val):\n",
    "        self.val = val\n",
    "        self.next = None\n",
    "    \n",
    "one = ListNode(1)\n",
    "two = ListNode(2)\n",
    "three = ListNode(3)\n",
    "one.next = two\n",
    "two.next = three\n",
    "head = one\n",
    "\n",
    "print(head.val)\n",
    "print(head.next.val)\n",
    "print(head.next.next.val)"
   ]
  },
  {
   "cell_type": "code",
   "execution_count": null,
   "metadata": {},
   "outputs": [],
   "source": [
    "\"\"\"A linked list is literally just like,\n",
    "a bunch of variables,\n",
    "Its like an \"object,\" that stores 2 variables in it,\n",
    "And basically can be 100,000+ of these 2 variable objects\n",
    "\n",
    "Im kind of interested to see how an array is built compared to this,\n",
    "for example, like how is an array written, to make sure that the variables are stored contigously?\n",
    "---- This is actually too low level, even for this material, very interesting.\n",
    "\"\"\"\n"
   ]
  },
  {
   "cell_type": "code",
   "execution_count": null,
   "metadata": {},
   "outputs": [],
   "source": [
    "\"\"\"How is building an list in python from scratch, \n",
    "different than a linked list?\n",
    "remember, an \"array\" in python, is a list\n",
    "\n",
    "Oh wow, with an example array of [0,0,0,0,1]\n",
    "python actually only stores this as 2 numbers under the hood,\n",
    "because of these kinds of concepts, python is literally THIS optimized\n",
    "ALL python programmers on the planet benefit from these concepts\n",
    "\n",
    "very interesting, so I dont see a single article that goes into\n",
    "the low level of actually creating a list item itself...\n",
    "one has written a class that basically takes one list item,\n",
    "and appends another list item to itself, but it seems like going\n",
    "to the level of this, is so far below, that its not even relevant in\n",
    "these kinds of interviews, so that is basically the floor of this material\n",
    "okay interesting, like a linked list is literally 1000 saved variables, +1000 saved index variables,\n",
    "that dont have to be contiguous in memory, thats really all it is.\n",
    "leegoo.\n",
    "\n",
    "I want to be heading home by 930 Im going to just call thomas at that point and say goodnight.\n",
    "\n",
    "Okay so the main advantage of creating a \"linked\" list,\n",
    "is that insertions dont have to completely rewrite the whole thing,\n",
    "\n",
    "Linked List: insertions are now O(1),\n",
    "(ONLY IF YOU HAVE THE VALUE/REFERENCE VARIABLE OF THE PREVIOUS NODE in a singly linked list)\n",
    " - this makes it not that much more efficient \n",
    "Ohhh ---- thats why when these are actually used, its really only in a queue/stack situation,\n",
    "the only way to take advantage of the speed increase\n",
    "is to insert into the very front or the very end\n",
    "but now search is O(n),\n",
    "---- unless your literally pulling from very front or very end,\n",
    "then, everything is O(1)\n",
    "so in these cases it actually is quite efficient\n",
    "\n",
    "List: insertions are O(n), and search is O(1)\n",
    "\n",
    "\n",
    "Interesting, because in real life, most times, the time taken to find an item,\n",
    "is more important than the time taken to put it away,\n",
    "its like unorganized people use a linked list strategy,\n",
    "Whereas someone who likes organization intuitively uses a list strategy\n",
    "Someone who likes organization is often rearranging the array,\n",
    "Someone who doesnt like organizations is often searching, lol. damn this is real af.\n",
    "\n",
    "Oh, but no there are cases where it is more important to\n",
    "insert the item first, because you know youll have time to search/sort later.\n",
    "\n",
    "\n",
    "creating a \"doubly linked\" list, is as simple as setting\n",
    "node.next = 2\n",
    "node.prev = 0\n",
    "\"a doubly linked list is more generally more useful than a singly linked list\"\n",
    "\"\"\"\n"
   ]
  },
  {
   "cell_type": "code",
   "execution_count": null,
   "metadata": {},
   "outputs": [],
   "source": [
    "\"\"\"Okay so it says that just using node.prev and node.next\n",
    "by themselves, will cause \"out of index\" errors,\n",
    "so all LinkedLists are setup with a blank head, and blank tail node\n",
    "so a linked list with 2 nodes actually has [head, 0, 1, tail]\n",
    "\n",
    "And it says a simple convention when traversing the list, \n",
    "is to use another variable called \"dummy\"\n",
    "to be set to the value of \"head\" so that the actual \"head\" variable doesnt get re-written\n",
    "\n",
    "It says the point of most linked list problems is to show that I know how to \n",
    "move the pointers around when adding/removing an element\n",
    "\"\"\""
   ]
  },
  {
   "cell_type": "code",
   "execution_count": null,
   "metadata": {},
   "outputs": [],
   "source": [
    "\"\"\" 10/18/22 ---- Find the middle of a linked list\n",
    "Time = O(n), space = O(1)\"\"\"\n",
    "\n",
    "class Solution(object):\n",
    "    def middleNode(self, head):\n",
    "        # okay so because this is linkedlist, generally fast and slow pointers is the best method\n",
    "        \n",
    "        slow = head\n",
    "        fast = head\n",
    "        while fast and fast.next:\n",
    "            slow = slow.next\n",
    "            fast = fast.next.next\n",
    "        return slow\n",
    "\n",
    "\"\"\"Interesting, so returning slow, actually returns an array that starts with\n",
    "the value of the slow pointer, and returns all the rest of the values until\n",
    "the end of the linked list\n",
    "\n",
    "But, returning slow.val, returns the actual value,\n",
    "so something about linked lists, basically returns the remainder of the list,\n",
    "after wherever the pointer landed. alright.\n",
    "I guess returning one node of the linked list, \n",
    "returns that node, and the remainder of the linked list \"\"\""
   ]
  },
  {
   "cell_type": "code",
   "execution_count": null,
   "metadata": {},
   "outputs": [],
   "source": [
    "\"\"\"10/18/22 ---- removing duplicates from linked list\n",
    "Time = O(n), space = O(1)\"\"\"\n",
    "\n",
    "class Solution(object):\n",
    "    def deleteDuplicates(self, head):\n",
    "        current = head\n",
    "        while current and current.next:\n",
    "            if current.val == current.next.val:\n",
    "                current.next = current.next.next\n",
    "            else:\n",
    "                current = current.next\n",
    "                \n",
    "        return head\n",
    "\n",
    "    # [0,1,2,2,3,4,5,6]\n",
    "    # [1,1,1]\n",
    "\n",
    "    \"\"\"Okay so the trick with this one is to realize that the linked list is already sorted,\n",
    "    because its sorted, it makes it extremely simple, no need to record any numbers,\n",
    "    all I have to do is just check the next element\n",
    "    \n",
    "    The \"while current and current.next\" is needed, because technically the \"current\" is\n",
    "    just here to catch the edge case, when the linked list is empty\n",
    "    okay, got it.\n",
    "    \n",
    "    Im not exactly sure how this is beating the [1,1,1] case...\n",
    "    oooohhh... okay yeah I see it, so basically it either moves the current.next or the current\n",
    "    each iteration, and that eventually makes current.next == null, and stops the iterations\n",
    "    with only [1] left in the head\n",
    "    \"\"\"\n",
    "\n"
   ]
  },
  {
   "cell_type": "code",
   "execution_count": 2,
   "metadata": {},
   "outputs": [
    {
     "name": "stdout",
     "output_type": "stream",
     "text": [
      "5\n"
     ]
    }
   ],
   "source": [
    "var1 = 1\n",
    "var2 = 5\n",
    "print(var1 and var2)"
   ]
  },
  {
   "cell_type": "code",
   "execution_count": null,
   "metadata": {},
   "outputs": [],
   "source": []
  }
 ],
 "metadata": {
  "kernelspec": {
   "display_name": "Python 3.9.7 64-bit",
   "language": "python",
   "name": "python3"
  },
  "language_info": {
   "codemirror_mode": {
    "name": "ipython",
    "version": 3
   },
   "file_extension": ".py",
   "mimetype": "text/x-python",
   "name": "python",
   "nbconvert_exporter": "python",
   "pygments_lexer": "ipython3",
   "version": "3.9.7"
  },
  "orig_nbformat": 4,
  "vscode": {
   "interpreter": {
    "hash": "81794d4967e6c3204c66dcd87b604927b115b27c00565d3d43f05ba2f3a2cb0d"
   }
  }
 },
 "nbformat": 4,
 "nbformat_minor": 2
}
