{
 "cells": [
  {
   "cell_type": "markdown",
   "id": "6ea0f846-b87a-49cf-ab89-a6bc8564f7ad",
   "metadata": {},
   "source": [
    "### Known explorations with PIP Python packadge installer"
   ]
  },
  {
   "cell_type": "markdown",
   "id": "2a342b47-b67e-4d04-a607-e5664d67fa49",
   "metadata": {},
   "source": [
    "PIP may run into an issue when uninstalling/reinstalling packadges if any local IDE is open like if I have kernals running in JupyterLab, so closing these kernals fixes this issue"
   ]
  },
  {
   "cell_type": "code",
   "execution_count": null,
   "id": "ed03702e-5474-4285-b90f-796d4823727e",
   "metadata": {},
   "outputs": [],
   "source": [
    "# command to reinstall any packadge with a different version\n",
    "pip install --force-reinstall scikit-learn==0.23.2 --user"
   ]
  }
 ],
 "metadata": {
  "kernelspec": {
   "display_name": "Python 3",
   "language": "python",
   "name": "python3"
  },
  "language_info": {
   "codemirror_mode": {
    "name": "ipython",
    "version": 3
   },
   "file_extension": ".py",
   "mimetype": "text/x-python",
   "name": "python",
   "nbconvert_exporter": "python",
   "pygments_lexer": "ipython3",
   "version": "3.8.8"
  }
 },
 "nbformat": 4,
 "nbformat_minor": 5
}
