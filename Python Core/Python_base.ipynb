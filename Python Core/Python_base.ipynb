{
 "cells": [
  {
   "cell_type": "markdown",
   "metadata": {},
   "source": [
    "# General nature of python, and most used functions in the base python library"
   ]
  },
  {
   "cell_type": "markdown",
   "metadata": {},
   "source": [
    "## PIP Python packadge installer"
   ]
  },
  {
   "cell_type": "markdown",
   "metadata": {},
   "source": [
    "PIP may run into an issue when uninstalling/reinstalling packadges if any local IDE is open ---- for example, if I have kernals running in JupyterLab ---- shutting down these kernals fixes this issue"
   ]
  },
  {
   "cell_type": "markdown",
   "metadata": {},
   "source": [
    "### common commands for PIP"
   ]
  },
  {
   "cell_type": "code",
   "execution_count": null,
   "metadata": {},
   "outputs": [],
   "source": [
    "# command to reinstall any package with a different version\n",
    "pip install --force-reinstall scikit-learn==0.23.2 --user\n",
    "\n",
    "# command to upgrade any package\n",
    "pip install --upgrade scikit-learn"
   ]
  },
  {
   "cell_type": "markdown",
   "metadata": {},
   "source": [
    "### running pip commands directly in JL / sagemaker"
   ]
  },
  {
   "cell_type": "code",
   "execution_count": null,
   "metadata": {},
   "outputs": [],
   "source": [
    "!{sys.executable} -m pip install --upgrade sagemaker"
   ]
  },
  {
   "cell_type": "markdown",
   "metadata": {},
   "source": [
    "### tags for PIP"
   ]
  },
  {
   "cell_type": "code",
   "execution_count": null,
   "metadata": {},
   "outputs": [],
   "source": [
    "# tags are used at the very end of the entire command\n",
    "\n",
    "-q                  # stands for \"quiet\", reduces the output text, can be used up to 3 times, ie, \"-qqq\" for least output"
   ]
  },
  {
   "cell_type": "markdown",
   "metadata": {},
   "source": [
    "## Data Types\n",
    "##### If conditional statements seem to \"not be working\", it is likely that the data types of the two things being compared are not compatible, so check this early on, because sometimes Ill need to use == integer, and, or, or also \"if x in [1,2]\""
   ]
  },
  {
   "cell_type": "markdown",
   "metadata": {},
   "source": [
    "## resetting library functions by accident"
   ]
  },
  {
   "cell_type": "markdown",
   "metadata": {},
   "source": [
    "For example, the correct syntax for this function is: plt.xlabel('number of examples')\n",
    "\n",
    "if I accidentally type ---- plt.xlabel = 'this string'\n",
    "\n",
    "its literally going to change the meaning of this library function to this exact string, so Ill literally have to restart the kernal and rerun the cells if this happens"
   ]
  },
  {
   "cell_type": "markdown",
   "metadata": {},
   "source": [
    "## Imports\n",
    "so modules can be imported in a function, but in python, they are then local in scope to that function, \n",
    "\n",
    "I can declare the module name as a \"global\" variable, as shown below this, but this duplicates the amount of code by putting a \"global\" statement before each import, so this is probably not really necessary or efficient, most documentation just says to run the imports at the begining of the script.\n",
    "\n",
    "\n",
    "global np\n",
    "\n",
    "import numpy as np"
   ]
  },
  {
   "cell_type": "code",
   "execution_count": 2,
   "metadata": {},
   "outputs": [],
   "source": [
    "import numpy as np\n",
    "import pandas as pd\n",
    "import webbrowser\n",
    "#webbrowser.open('https://google.com')\n",
    "\n",
    "from functools import reduce\n",
    "from termcolor import cprint"
   ]
  },
  {
   "cell_type": "markdown",
   "metadata": {},
   "source": [
    "## Simple syntax eqivalents"
   ]
  },
  {
   "cell_type": "code",
   "execution_count": 6,
   "metadata": {},
   "outputs": [
    {
     "name": "stdout",
     "output_type": "stream",
     "text": [
      "1000000.0\n",
      "bird is the word\n",
      "this is one long string \n",
      "\n",
      "builtin- python function to get the object type of anything: <class 'int'>\n",
      "\n",
      "\u001b[1m\u001b[34mthis string is blue and bold\u001b[0m\n"
     ]
    }
   ],
   "source": [
    "# these are both equal\n",
    "a = 5\n",
    "b = 10\n",
    "a,b = 5, 10\n",
    "\n",
    "# these are all equal (after python 3.6)\n",
    "var = 1000000\n",
    "var = 1_000_000\n",
    "var = 1e6\n",
    "print(var)\n",
    "\n",
    "# no need for plus sign to add strings together\n",
    "var = 'bird is the ' 'word'\n",
    "print(var)\n",
    "\n",
    "# multi-line strings\n",
    "var = '''this is one \\\n",
    "long string \\n'''\n",
    "print(var)\n",
    "\n",
    "# multt-line comments\n",
    "''' this is a\n",
    "long comment'''\n",
    "\n",
    "print(f'builtin- python function to get the object type of anything: {type(a)}\\n')\n",
    "\n",
    "cprint('this string is blue and bold','blue', attrs=['bold'])"
   ]
  },
  {
   "cell_type": "markdown",
   "metadata": {},
   "source": [
    "## Simple Indexing things"
   ]
  },
  {
   "cell_type": "code",
   "execution_count": 37,
   "metadata": {},
   "outputs": [
    {
     "name": "stdout",
     "output_type": "stream",
     "text": [
      "reverses a list or a string: [3, 2, 1]\n"
     ]
    }
   ],
   "source": [
    "# mock varaibles for testing these functions\n",
    "lst = [1,2,3]\n",
    "\n",
    "print(f'reverses a list or a string: {lst[::-1]}')"
   ]
  },
  {
   "cell_type": "markdown",
   "metadata": {},
   "source": [
    "## Built-in Functions"
   ]
  },
  {
   "cell_type": "code",
   "execution_count": 38,
   "metadata": {},
   "outputs": [
    {
     "name": "stdout",
     "output_type": "stream",
     "text": [
      "Hello 5 and 6 I'm Pytutorial I'm 7 years old\n",
      "<function <lambda> at 0x00000264F246D430>\n",
      "[5, 6, 7, 8]\n"
     ]
    },
    {
     "data": {
      "text/plain": [
       "[25, 36, 49, 64]"
      ]
     },
     "metadata": {},
     "output_type": "display_data"
    },
    {
     "data": {
      "text/plain": [
       "[25, 36, 49, 64]"
      ]
     },
     "metadata": {},
     "output_type": "display_data"
    },
    {
     "data": {
      "text/plain": [
       "list"
      ]
     },
     "metadata": {},
     "output_type": "display_data"
    },
    {
     "data": {
      "text/plain": [
       "[6, 8]"
      ]
     },
     "metadata": {},
     "output_type": "display_data"
    },
    {
     "data": {
      "text/plain": [
       "26"
      ]
     },
     "metadata": {},
     "output_type": "display_data"
    },
    {
     "name": "stdout",
     "output_type": "stream",
     "text": [
      "rounding numbers: 10.0\n",
      "\n",
      "find the count of an item in a list/string/tuple: 0\n",
      "\n",
      "finding substring index location in another string: 6\n",
      "\n",
      "find item index in a list: 1\n",
      "\n"
     ]
    },
    {
     "ename": "NameError",
     "evalue": "name 'lst' is not defined",
     "output_type": "error",
     "traceback": [
      "\u001b[1;31m---------------------------------------------------------------------------\u001b[0m",
      "\u001b[1;31mNameError\u001b[0m                                 Traceback (most recent call last)",
      "\u001b[1;32m<ipython-input-38-6094d152e26b>\u001b[0m in \u001b[0;36m<module>\u001b[1;34m\u001b[0m\n\u001b[0;32m     52\u001b[0m \u001b[1;32mif\u001b[0m \u001b[1;34m'lst'\u001b[0m \u001b[1;32min\u001b[0m \u001b[0mlocals\u001b[0m\u001b[1;33m(\u001b[0m\u001b[1;33m)\u001b[0m\u001b[1;33m:\u001b[0m\u001b[1;33m\u001b[0m\u001b[1;33m\u001b[0m\u001b[0m\n\u001b[0;32m     53\u001b[0m     \u001b[1;32mdel\u001b[0m \u001b[0mlst\u001b[0m\u001b[1;33m\u001b[0m\u001b[1;33m\u001b[0m\u001b[0m\n\u001b[1;32m---> 54\u001b[1;33m \u001b[0mprint\u001b[0m\u001b[1;33m(\u001b[0m\u001b[0mlst\u001b[0m\u001b[1;33m)\u001b[0m\u001b[1;33m\u001b[0m\u001b[1;33m\u001b[0m\u001b[0m\n\u001b[0m",
      "\u001b[1;31mNameError\u001b[0m: name 'lst' is not defined"
     ]
    }
   ],
   "source": [
    "# Functions\n",
    "#mock variables for testing these functions\n",
    "a, b, c, d = 5, 6, 7, 8\n",
    "\n",
    "lst = [a,b,c,d]\n",
    "string1 = 'salad'\n",
    "\n",
    "#printing f strings\n",
    "print(f\"Hello {a} and {b} I'm Pytutorial I'm {c} years old\")\n",
    "# Ahaah, f strings will work with df['column'], I just have to use a single ' for the main string, and a double \" for inside the function.\n",
    "\n",
    "#lambda functions\n",
    "print(lambda a, b : a*b)      # just as a regular function, it starts with arguments, then the statement to be executed\n",
    "\n",
    "\n",
    "                    # most common functions that replace for loops\n",
    "# map function\n",
    "print(lst)\n",
    "new_lst = list(map(lambda a: a**2, lst))\n",
    "display(new_lst)\n",
    "\n",
    "# list comp version of map function\n",
    "new_lst = [lst[i]**2 for i in range(len(lst))]\n",
    "display(new_lst)\n",
    "display(type(new_lst))\n",
    "\n",
    "#filter function\n",
    "new_lst = list(filter(lambda a: a % 2 == 0, lst))\n",
    "display(new_lst)\n",
    "\n",
    "#reduce function\n",
    "new_lst = reduce(lambda a,b: a+b, lst)    # this one requires 2 inputs and returns only one cumulative result\n",
    "display(new_lst)                     \n",
    "\n",
    "print(f'rounding numbers: {round(10.5519, -1)}\\n')        # rounds to even number when on .5 cases\n",
    "\n",
    "\n",
    "print(f'find the count of an item in a list/string/tuple: {lst.count(1)}\\n')\n",
    "                            #string methods\n",
    "\n",
    "print(f'finding substring index location in another string: {\"youtube\".find(\"e\")}\\n')\n",
    "\n",
    "                            #list methods\n",
    "print(f'find item index in a list: {lst.index(b)}\\n')\n",
    "\n",
    "\n",
    "# deletes a stored variable\n",
    "if 'lst' in locals():\n",
    "    del lst\n",
    "print(lst)  "
   ]
  },
  {
   "cell_type": "markdown",
   "metadata": {},
   "source": [
    "## Lists"
   ]
  },
  {
   "cell_type": "markdown",
   "metadata": {
    "jupyter": {
     "source_hidden": true
    },
    "tags": []
   },
   "source": [
    "###### General notes:\n",
    "* List indexing does not work as well as indexing with a Numpy array, so convert to np array, and then indexing will work as expected, then back to a list if needed.\n"
   ]
  },
  {
   "cell_type": "code",
   "execution_count": 14,
   "metadata": {
    "collapsed": true,
    "jupyter": {
     "outputs_hidden": true,
     "source_hidden": true
    },
    "tags": []
   },
   "outputs": [
    {
     "data": {
      "text/plain": [
       "[0, 1, 2, 3, 4, 5, 6, 7, 8, 9, 10, 11, 12, 13, 14, 15, 16, 17, 18, 19]"
      ]
     },
     "metadata": {},
     "output_type": "display_data"
    },
    {
     "data": {
      "text/plain": [
       "[19, 18, 17, 16, 15, 14, 13, 12, 11, 10, 9, 8, 7, 6, 5, 4, 3, 2, 1, 0]"
      ]
     },
     "metadata": {},
     "output_type": "display_data"
    }
   ],
   "source": [
    "# list functions\n",
    "#dirs_ = [i.replace('_cf','') for i in dirs]   -  removing characters from each item of a list\n",
    "#dirs_25 = [i + \"_25\" for i in dirs_]          -  adding characters to the end of each item of a list\n",
    "\n",
    "# List comprehensions\n",
    "# These are just like lambda functions\n",
    "lst = [x for x in range(20)]     # This will create a list of integers from 0 to 19\n",
    "display(lst)\n",
    "# a longer \"list comprehension\"\n",
    "lst = [inputArray[i] * inputArray[i+1] for i in range(len(inputArray)-1)]\n",
    "\n",
    "\n",
    "# reversing a list\n",
    "lst.reverse()\n",
    "display(lst)"
   ]
  },
  {
   "cell_type": "markdown",
   "metadata": {},
   "source": [
    "## Conditionals"
   ]
  },
  {
   "cell_type": "code",
   "execution_count": 1,
   "metadata": {
    "tags": []
   },
   "outputs": [
    {
     "name": "stdout",
     "output_type": "stream",
     "text": [
      "yes\n"
     ]
    }
   ],
   "source": [
    "# If statements can be written on one line\n",
    "if 'you' in 'youtube': print('yes')"
   ]
  },
  {
   "cell_type": "markdown",
   "metadata": {},
   "source": [
    "A set of if/elif statements are actually faster than a implimenting a dictionary to hold these responses, although the dictionary way appears neater with less code. \n",
    "\n",
    "(twice as fast in this example 1.2 micro seconds vs .6 microseconds)"
   ]
  },
  {
   "cell_type": "code",
   "execution_count": 2,
   "metadata": {
    "tags": []
   },
   "outputs": [],
   "source": [
    "names = ['John', 'Mary', 'Jack', 'Jill', 'Julip']\n",
    "\n",
    "def likes(names):\n",
    "    if len(names) == 0:\n",
    "        return \"no one likes this\"\n",
    "    elif len(names) == 1:\n",
    "        return \"%s likes this\" % names[0]\n",
    "    elif len(names) == 2:\n",
    "        return \"%s and %s like this\" % (names[0], names[1])\n",
    "    elif len(names) == 3:\n",
    "        return \"%s, %s and %s like this\" % (names[0], names[1], names[2])\n",
    "    else:\n",
    "        return \"%s, %s and %s others like this\" % (names[0], names[1], len(names)-2)"
   ]
  },
  {
   "cell_type": "code",
   "execution_count": 3,
   "metadata": {},
   "outputs": [
    {
     "name": "stdout",
     "output_type": "stream",
     "text": [
      "CPU times: user 6 µs, sys: 0 ns, total: 6 µs\n",
      "Wall time: 8.58 µs\n"
     ]
    },
    {
     "data": {
      "text/plain": [
       "'John, Mary and 3 others like this'"
      ]
     },
     "execution_count": 3,
     "metadata": {},
     "output_type": "execute_result"
    }
   ],
   "source": [
    "%%time\n",
    "likes(names)"
   ]
  },
  {
   "cell_type": "code",
   "execution_count": 4,
   "metadata": {},
   "outputs": [],
   "source": [
    "def likes(names):\n",
    "    n = len(names)\n",
    "    return {\n",
    "        0: 'no one likes this',\n",
    "        1: '{} likes this', \n",
    "        2: '{} and {} like this', \n",
    "        3: '{}, {} and {} like this', \n",
    "        4: '{}, {} and {others} others like this'\n",
    "    }[min(4, n)].format(*names[:3], others=n-2)"
   ]
  },
  {
   "cell_type": "code",
   "execution_count": 5,
   "metadata": {},
   "outputs": [
    {
     "name": "stdout",
     "output_type": "stream",
     "text": [
      "CPU times: user 11 µs, sys: 0 ns, total: 11 µs\n",
      "Wall time: 16 µs\n"
     ]
    },
    {
     "data": {
      "text/plain": [
       "'John, Mary and 3 others like this'"
      ]
     },
     "execution_count": 5,
     "metadata": {},
     "output_type": "execute_result"
    }
   ],
   "source": [
    "%%time\n",
    "likes(names)"
   ]
  },
  {
   "cell_type": "markdown",
   "metadata": {},
   "source": [
    "### \"List Comprehensions\""
   ]
  },
  {
   "cell_type": "markdown",
   "metadata": {
    "jupyter": {
     "source_hidden": true
    },
    "tags": []
   },
   "source": [
    "There is nothing special about \"list comprehensions\", they are just a normal for loop, \n",
    "\n",
    "1. where the action to be taken is written before the for loop, instead of after it\n",
    "2. everything is contained in brackets\n",
    "3. A list is returned"
   ]
  },
  {
   "cell_type": "markdown",
   "metadata": {},
   "source": [
    "## Decorators"
   ]
  },
  {
   "cell_type": "code",
   "execution_count": 1,
   "metadata": {
    "collapsed": true,
    "jupyter": {
     "outputs_hidden": true,
     "source_hidden": true
    },
    "tags": []
   },
   "outputs": [
    {
     "ename": "NameError",
     "evalue": "name 'make_pretty' is not defined",
     "output_type": "error",
     "traceback": [
      "\u001b[1;31m---------------------------------------------------------------------------\u001b[0m",
      "\u001b[1;31mNameError\u001b[0m                                 Traceback (most recent call last)",
      "\u001b[1;32m<ipython-input-1-b01a6c3fc052>\u001b[0m in \u001b[0;36m<module>\u001b[1;34m\u001b[0m\n\u001b[1;32m----> 1\u001b[1;33m \u001b[1;33m@\u001b[0m\u001b[0mmake_pretty\u001b[0m\u001b[1;33m\u001b[0m\u001b[1;33m\u001b[0m\u001b[0m\n\u001b[0m\u001b[0;32m      2\u001b[0m \u001b[1;32mdef\u001b[0m \u001b[0mordinary\u001b[0m\u001b[1;33m(\u001b[0m\u001b[1;33m)\u001b[0m\u001b[1;33m:\u001b[0m\u001b[1;33m\u001b[0m\u001b[1;33m\u001b[0m\u001b[0m\n\u001b[0;32m      3\u001b[0m     \u001b[0mprint\u001b[0m\u001b[1;33m(\u001b[0m\u001b[1;34m\"I am ordinary\"\u001b[0m\u001b[1;33m)\u001b[0m\u001b[1;33m\u001b[0m\u001b[1;33m\u001b[0m\u001b[0m\n\u001b[0;32m      4\u001b[0m \u001b[1;33m\u001b[0m\u001b[0m\n\u001b[0;32m      5\u001b[0m     \u001b[1;31m# is equivalent to\u001b[0m\u001b[1;33m\u001b[0m\u001b[1;33m\u001b[0m\u001b[1;33m\u001b[0m\u001b[0m\n",
      "\u001b[1;31mNameError\u001b[0m: name 'make_pretty' is not defined"
     ]
    }
   ],
   "source": [
    "@make_pretty\n",
    "def ordinary():\n",
    "    print(\"I am ordinary\")\n",
    "\n",
    "    # is equivalent to\n",
    "\n",
    "def ordinary():\n",
    "    print(\"I am ordinary\")\n",
    "ordinary = make_pretty(ordinary)"
   ]
  },
  {
   "cell_type": "markdown",
   "metadata": {
    "jupyter": {
     "source_hidden": true
    },
    "tags": []
   },
   "source": [
    "So decorators are just a pretty way to use a function on another function. \n",
    "Theyre called \"decorators\" because they \"decorate\" other functions by adding some new functionality.\n",
    "The original function stays exactly the same, its just that now this outer function is run on top of the original.\n",
    "\n",
    "Okay, so as soon as theirs a decorator @outer_func_name on top of the code, calling this original function will always run the decorator function first, these are now considered joined, there is no way to run the original by itself anymore."
   ]
  },
  {
   "cell_type": "code",
   "execution_count": null,
   "metadata": {
    "jupyter": {
     "source_hidden": true
    },
    "tags": []
   },
   "outputs": [],
   "source": [
    "def smart_divide(func):\n",
    "    def inner(a, b):\n",
    "        print(\"I am going to divide\", a, \"and\", b)\n",
    "        if b == 0:\n",
    "            print(\"Whoops! cannot divide\")\n",
    "            return\n",
    "\n",
    "        return func(a, b)\n",
    "    return inner\n",
    "\n",
    "\n",
    "@smart_divide\n",
    "def divide(a, b):\n",
    "    print(a/b)"
   ]
  },
  {
   "cell_type": "code",
   "execution_count": null,
   "metadata": {
    "jupyter": {
     "source_hidden": true
    },
    "tags": []
   },
   "outputs": [],
   "source": [
    "#From Fastapi example in MLOps course\n",
    "@app.get(\"/my-endpoint\")\n",
    "def handle_endpoint():"
   ]
  },
  {
   "cell_type": "markdown",
   "metadata": {
    "jupyter": {
     "source_hidden": true
    },
    "tags": []
   },
   "source": [
    "Looks like decorators can also have specific function calls on them as well, infact, this decorator actually kind of looks like a class?, yes its got to be a class if it has a method directly on it."
   ]
  }
 ],
 "metadata": {
  "instance_type": "ml.t3.medium",
  "kernelspec": {
   "display_name": "Python 3 (Data Science)",
   "language": "python",
   "name": "python3__SAGEMAKER_INTERNAL__arn:aws:sagemaker:us-east-1:081325390199:image/datascience-1.0"
  },
  "language_info": {
   "codemirror_mode": {
    "name": "ipython",
    "version": 3
   },
   "file_extension": ".py",
   "mimetype": "text/x-python",
   "name": "python",
   "nbconvert_exporter": "python",
   "pygments_lexer": "ipython3",
   "version": "3.7.10"
  }
 },
 "nbformat": 4,
 "nbformat_minor": 4
}
