{
 "cells": [
  {
   "cell_type": "code",
   "execution_count": 12,
   "id": "20ca86c6-3f4e-4d3a-b40a-e68933d802bb",
   "metadata": {},
   "outputs": [],
   "source": [
    "import time\n",
    "from selenium import webdriver\n",
    "from selenium.webdriver.common.keys import Keys\n",
    "\n",
    "browser = webdriver.Chrome(r'C:\\Users\\ggomp\\Downloads\\chromedriver\\chromedriver.exe')\n",
    "browser.get('https://www.google.com')\n",
    "\n",
    "elem = browser.find_element_by_name('q')\n",
    "elem.send_keys('python')\n",
    "elem.send_keys(Keys.RETURN)\n",
    "time.sleep(2)\n",
    "\n",
    "for i in range(5):\n",
    "    browser.execute_script(\"window.scrollTo(0, document.body.scrollHeight/4);\")\n",
    "    time.sleep(2)\n",
    "    browser.execute_script(\"window.scrollTo(0, 0);\")\n",
    "    time.sleep(2)\n",
    "    browser.execute_script(\"window.scrollTo(0, document.body.scrollHeight/2);\")\n",
    "    time.sleep(2)\n",
    "    browser.execute_script(\"window.scrollTo(0, document.body.scrollHeight/1.3);\")\n",
    "    time.sleep(2)"
   ]
  }
 ],
 "metadata": {
  "kernelspec": {
   "display_name": "Python 3",
   "language": "python",
   "name": "python3"
  },
  "language_info": {
   "codemirror_mode": {
    "name": "ipython",
    "version": 3
   },
   "file_extension": ".py",
   "mimetype": "text/x-python",
   "name": "python",
   "nbconvert_exporter": "python",
   "pygments_lexer": "ipython3",
   "version": "3.8.8"
  }
 },
 "nbformat": 4,
 "nbformat_minor": 5
}
