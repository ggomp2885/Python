{
 "cells": [
  {
   "cell_type": "markdown",
   "metadata": {},
   "source": [
    "## Leet Code Data Structures and Algorithms"
   ]
  },
  {
   "cell_type": "markdown",
   "metadata": {},
   "source": [
    "Things learned from Leetcode built in editor:\n",
    "f strings are not supported"
   ]
  },
  {
   "cell_type": "code",
   "execution_count": 5,
   "metadata": {},
   "outputs": [
    {
     "data": {
      "text/plain": [
       "['o', 'l', 'l', 'e', 'h']"
      ]
     },
     "execution_count": 5,
     "metadata": {},
     "output_type": "execute_result"
    }
   ],
   "source": [
    "# 9/22/22 ---- reverse a string, in O(n) time and O(1) space\n",
    "\n",
    "class Solution(object):\n",
    "    def reverseString(self, s):\n",
    "        # two pointers for this? ---- I dont think so, \n",
    "        # if I were to do this manually, how would I do this?\n",
    "        # ahh - this is 2 pointers\n",
    "        \n",
    "        left = 0\n",
    "        right = 0\n",
    "        while left < len(s)/2:\n",
    "            # print(len(s)/2)\n",
    "            left_value = s[left]\n",
    "            # print(left_value)\n",
    "            s[left] = s[right-1]\n",
    "            # print(s[left])\n",
    "            s[right-1] = left_value\n",
    "            # print(s[right-1])\n",
    "            left += 1\n",
    "            right -= 1\n",
    "            # print(left)\n",
    "        return s\n",
    "\n",
    "solution_instance = Solution()\n",
    "solution_instance.reverseString([\"h\",\"e\",\"l\",\"l\",\"o\"])\n",
    "\n",
    "# Above solution used 2 pointers method, and a temp variable to swap values\n",
    "# this is the built in, reverse() function in python"
   ]
  },
  {
   "cell_type": "code",
   "execution_count": 1,
   "metadata": {},
   "outputs": [
    {
     "data": {
      "text/plain": [
       "49"
      ]
     },
     "execution_count": 1,
     "metadata": {},
     "output_type": "execute_result"
    }
   ],
   "source": [
    "# 9/28/22 ---- Container with most water, in O(n) time and O(1) space\n",
    "class Solution(object):\n",
    "    def maxArea(self, height):\n",
    "        \"\"\":type height: List[int]\"\"\"\n",
    "        # two pointers probably\n",
    "        # how would I do this manually?\n",
    "        # first I would find the min of the two pointers, then I multiply this with the distance between the 2 pointers and I repeat this, until a variable has its max number replaced, if the result of this iteration is larger than any other previous iteration.\n",
    "        # but when would I hold a \"9\" per-se, instead of moving to the next 2? --- I wouldnt\n",
    "        # the way this works is that the largest number always gets held onto until its\n",
    "        # replaced by a larger number, in this way, this alg ends up doing the calculation \n",
    "        # with the 2 largest numbers in the array eventually, they may make the biggest area, \n",
    "        # or they may not.\n",
    "        \n",
    "        left = 0\n",
    "        right = len(height) - 1\n",
    "        area = 0\n",
    "        while left < right:\n",
    "            width = right - left\n",
    "            min_of_pointers = min(height[left], height[right])\n",
    "            if min_of_pointers*width > area:\n",
    "                area = min_of_pointers*width\n",
    "            if height[left] < height[right]:\n",
    "                left +=1\n",
    "            else:\n",
    "                right -=1\n",
    "        return area\n",
    "\n",
    "sol_instance = Solution()\n",
    "sol_instance.maxArea([1,8,6,2,5,4,8,3,7])"
   ]
  },
  {
   "cell_type": "code",
   "execution_count": null,
   "metadata": {},
   "outputs": [],
   "source": []
  }
 ],
 "metadata": {
  "kernelspec": {
   "display_name": "Python 3.9.7 64-bit",
   "language": "python",
   "name": "python3"
  },
  "language_info": {
   "codemirror_mode": {
    "name": "ipython",
    "version": 3
   },
   "file_extension": ".py",
   "mimetype": "text/x-python",
   "name": "python",
   "nbconvert_exporter": "python",
   "pygments_lexer": "ipython3",
   "version": "3.9.7"
  },
  "orig_nbformat": 4,
  "vscode": {
   "interpreter": {
    "hash": "81794d4967e6c3204c66dcd87b604927b115b27c00565d3d43f05ba2f3a2cb0d"
   }
  }
 },
 "nbformat": 4,
 "nbformat_minor": 2
}
