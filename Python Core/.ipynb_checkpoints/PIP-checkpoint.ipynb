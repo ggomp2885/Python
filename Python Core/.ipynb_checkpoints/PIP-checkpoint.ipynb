{
 "cells": [
  {
   "cell_type": "markdown",
   "id": "6ea0f846-b87a-49cf-ab89-a6bc8564f7ad",
   "metadata": {},
   "source": [
    "Known explorations with PIP Python packadge installer"
   ]
  },
  {
   "cell_type": "code",
   "execution_count": null,
   "id": "ed03702e-5474-4285-b90f-796d4823727e",
   "metadata": {},
   "outputs": [],
   "source": [
    "# command to reinstall any packadge with a different version\n",
    "pip install --force-reinstall scikit-learn==0.23.2 --user"
   ]
  }
 ],
 "metadata": {
  "kernelspec": {
   "display_name": "Python 3",
   "language": "python",
   "name": "python3"
  },
  "language_info": {
   "codemirror_mode": {
    "name": "ipython",
    "version": 3
   },
   "file_extension": ".py",
   "mimetype": "text/x-python",
   "name": "python",
   "nbconvert_exporter": "python",
   "pygments_lexer": "ipython3",
   "version": "3.8.8"
  }
 },
 "nbformat": 4,
 "nbformat_minor": 5
}
