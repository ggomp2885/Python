{
 "cells": [
  {
   "cell_type": "markdown",
   "id": "cf2ab568-a7bc-4311-8b2b-ac4b60d3f193",
   "metadata": {},
   "source": [
    "# Pandas Exploration"
   ]
  },
  {
   "cell_type": "markdown",
   "id": "7ec33ba7-8eed-411f-9ea1-c67eb38df97f",
   "metadata": {},
   "source": [
    "## Imports"
   ]
  },
  {
   "cell_type": "code",
   "execution_count": 5,
   "id": "2e49aed8-3de1-48f3-ba8e-b965e13ff4b0",
   "metadata": {},
   "outputs": [],
   "source": [
    "import pandas as pd\n",
    "\n",
    "import numpy as np                # for manipulation of examples"
   ]
  },
  {
   "cell_type": "markdown",
   "id": "f7e41697-1c53-4b89-a8a4-f13b19f46319",
   "metadata": {},
   "source": [
    "## Simple dataframe things"
   ]
  },
  {
   "cell_type": "code",
   "execution_count": 10,
   "id": "a5d9cbc5-34d3-44ab-886a-affd071582e0",
   "metadata": {
    "tags": []
   },
   "outputs": [
    {
     "data": {
      "text/html": [
       "<div>\n",
       "<style scoped>\n",
       "    .dataframe tbody tr th:only-of-type {\n",
       "        vertical-align: middle;\n",
       "    }\n",
       "\n",
       "    .dataframe tbody tr th {\n",
       "        vertical-align: top;\n",
       "    }\n",
       "\n",
       "    .dataframe thead th {\n",
       "        text-align: right;\n",
       "    }\n",
       "</style>\n",
       "<table border=\"1\" class=\"dataframe\">\n",
       "  <thead>\n",
       "    <tr style=\"text-align: right;\">\n",
       "      <th></th>\n",
       "      <th>a</th>\n",
       "      <th>b</th>\n",
       "      <th>c</th>\n",
       "    </tr>\n",
       "  </thead>\n",
       "  <tbody>\n",
       "    <tr>\n",
       "      <th>0</th>\n",
       "      <td>1</td>\n",
       "      <td>2</td>\n",
       "      <td>3</td>\n",
       "    </tr>\n",
       "    <tr>\n",
       "      <th>1</th>\n",
       "      <td>4</td>\n",
       "      <td>5</td>\n",
       "      <td>6</td>\n",
       "    </tr>\n",
       "    <tr>\n",
       "      <th>2</th>\n",
       "      <td>7</td>\n",
       "      <td>8</td>\n",
       "      <td>9</td>\n",
       "    </tr>\n",
       "  </tbody>\n",
       "</table>\n",
       "</div>"
      ],
      "text/plain": [
       "   a  b  c\n",
       "0  1  2  3\n",
       "1  4  5  6\n",
       "2  7  8  9"
      ]
     },
     "metadata": {},
     "output_type": "display_data"
    },
    {
     "name": "stdout",
     "output_type": "stream",
     "text": [
      "rounding all values in a dataframe: \n",
      "    a   b   c\n",
      "0   0   0   0\n",
      "1   0   0  10\n",
      "2  10  10  10\n",
      "\n",
      "unique values in \"a\": [1 4 7]\n",
      "\n",
      "number of unique values in a: 3 \n",
      "\n"
     ]
    },
    {
     "ename": "NameError",
     "evalue": "name 'cprint' is not defined",
     "output_type": "error",
     "traceback": [
      "\u001b[1;31m---------------------------------------------------------------------------\u001b[0m",
      "\u001b[1;31mNameError\u001b[0m                                 Traceback (most recent call last)",
      "\u001b[1;32m<ipython-input-10-5a15a2532a9e>\u001b[0m in \u001b[0;36m<module>\u001b[1;34m\u001b[0m\n\u001b[0;32m      9\u001b[0m \u001b[0mprint\u001b[0m\u001b[1;33m(\u001b[0m\u001b[1;34mf'number of unique values in a: {len(pd.unique(df[\"a\"]))} \\n'\u001b[0m\u001b[1;33m)\u001b[0m\u001b[1;33m\u001b[0m\u001b[1;33m\u001b[0m\u001b[0m\n\u001b[0;32m     10\u001b[0m \u001b[1;33m\u001b[0m\u001b[0m\n\u001b[1;32m---> 11\u001b[1;33m \u001b[0mcprint\u001b[0m\u001b[1;33m(\u001b[0m\u001b[1;34mf'number of unique values in all columns: \\n{df.nunique(axis=0)} \\n'\u001b[0m\u001b[1;33m,\u001b[0m \u001b[1;34m'blue'\u001b[0m\u001b[1;33m)\u001b[0m\u001b[1;33m\u001b[0m\u001b[1;33m\u001b[0m\u001b[0m\n\u001b[0m\u001b[0;32m     12\u001b[0m \u001b[1;33m\u001b[0m\u001b[0m\n\u001b[0;32m     13\u001b[0m \u001b[0mprint\u001b[0m\u001b[1;33m(\u001b[0m\u001b[1;34mf'count of each unique value column \"a\": \\n{df[\"a\"].value_counts()} \\n'\u001b[0m\u001b[1;33m)\u001b[0m\u001b[1;33m\u001b[0m\u001b[1;33m\u001b[0m\u001b[0m\n",
      "\u001b[1;31mNameError\u001b[0m: name 'cprint' is not defined"
     ]
    }
   ],
   "source": [
    "df = pd.DataFrame(np.array([[1, 2, 3], [4, 5, 6], [7, 8, 9]]),\n",
    "                   columns=['a', 'b', 'c'])\n",
    "display(df)\n",
    "\n",
    "print(f'rounding all values in a dataframe: \\n{df.round(-1)}\\n')\n",
    "\n",
    "print(f'unique values in \"a\": {pd.unique(df[\"a\"])}\\n')\n",
    "\n",
    "print(f'number of unique values in a: {len(pd.unique(df[\"a\"]))} \\n')\n",
    "\n",
    "cprint(f'number of unique values in all columns: \\n{df.nunique(axis=0)} \\n', 'blue')\n",
    "\n",
    "print(f'count of each unique value column \"a\": \\n{df[\"a\"].value_counts()} \\n')\n",
    "\n",
    "print(f'percentage of each unique value in colunn \"a\": \\n{df[\"a\"].value_counts(normalize=True)} \\n')"
   ]
  },
  {
   "cell_type": "code",
   "execution_count": null,
   "id": "490cf3a7-5fda-4ee1-899c-b6f854b28329",
   "metadata": {},
   "outputs": [],
   "source": []
  }
 ],
 "metadata": {
  "kernelspec": {
   "display_name": "Python 3",
   "language": "python",
   "name": "python3"
  },
  "language_info": {
   "codemirror_mode": {
    "name": "ipython",
    "version": 3
   },
   "file_extension": ".py",
   "mimetype": "text/x-python",
   "name": "python",
   "nbconvert_exporter": "python",
   "pygments_lexer": "ipython3",
   "version": "3.8.8"
  }
 },
 "nbformat": 4,
 "nbformat_minor": 5
}
