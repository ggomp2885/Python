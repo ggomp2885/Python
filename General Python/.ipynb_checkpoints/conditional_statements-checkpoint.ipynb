{
 "cells": [
  {
   "cell_type": "markdown",
   "id": "49a3a6ab-1684-4c72-996e-d83ac8478f85",
   "metadata": {},
   "source": [
    "Simple things"
   ]
  },
  {
   "cell_type": "code",
   "execution_count": 1,
   "id": "151be83e-dd23-4c5a-a613-f4a6bb01df79",
   "metadata": {},
   "outputs": [
    {
     "name": "stdout",
     "output_type": "stream",
     "text": [
      "yes\n"
     ]
    }
   ],
   "source": [
    "# If statements can be written on one line\n",
    "if 'you' in 'youtube': print('yes')"
   ]
  },
  {
   "cell_type": "markdown",
   "id": "c30a86bc-4485-4528-bfad-320b4994e0e8",
   "metadata": {},
   "source": [
    "Tested 7/16/21:\n",
    "\n",
    "A set of if/elif statements are actually faster than a implimenting a dictionary to hold these responses, although the dictionary way appears neater with less code."
   ]
  },
  {
   "cell_type": "code",
   "execution_count": 8,
   "id": "da51913c-d064-4baa-b4cb-696f9287b79b",
   "metadata": {},
   "outputs": [],
   "source": [
    "names = ['John', 'Mary', 'Jack', 'Jill', 'Julip']"
   ]
  },
  {
   "cell_type": "code",
   "execution_count": 10,
   "id": "9ba5f577-dbba-458b-bdf4-1ff4f1df24a5",
   "metadata": {
    "tags": []
   },
   "outputs": [],
   "source": [
    "def likes(names):\n",
    "    if len(names) == 0:\n",
    "        return \"no one likes this\"\n",
    "    elif len(names) == 1:\n",
    "        return \"%s likes this\" % names[0]\n",
    "    elif len(names) == 2:\n",
    "        return \"%s and %s like this\" % (names[0], names[1])\n",
    "    elif len(names) == 3:\n",
    "        return \"%s, %s and %s like this\" % (names[0], names[1], names[2])\n",
    "    else:\n",
    "        return \"%s, %s and %s others like this\" % (names[0], names[1], len(names)-2)"
   ]
  },
  {
   "cell_type": "code",
   "execution_count": 11,
   "id": "235111f0-674d-49de-b48a-e7ca205e2b00",
   "metadata": {},
   "outputs": [
    {
     "name": "stdout",
     "output_type": "stream",
     "text": [
      "664 ns ± 11.7 ns per loop (mean ± std. dev. of 7 runs, 1000000 loops each)\n"
     ]
    }
   ],
   "source": [
    "%%timeit\n",
    "likes(names)"
   ]
  },
  {
   "cell_type": "code",
   "execution_count": 7,
   "id": "46b52610-7577-4e11-a5ae-fbf582dbfe5c",
   "metadata": {},
   "outputs": [],
   "source": [
    "def likes(names):\n",
    "    n = len(names)\n",
    "    return {\n",
    "        0: 'no one likes this',\n",
    "        1: '{} likes this', \n",
    "        2: '{} and {} like this', \n",
    "        3: '{}, {} and {} like this', \n",
    "        4: '{}, {} and {others} others like this'\n",
    "    }[min(4, n)].format(*names[:3], others=n-2)"
   ]
  },
  {
   "cell_type": "code",
   "execution_count": 9,
   "id": "699447c7-7eeb-4ed2-9e3e-7def185906e0",
   "metadata": {},
   "outputs": [
    {
     "name": "stdout",
     "output_type": "stream",
     "text": [
      "1.21 µs ± 100 ns per loop (mean ± std. dev. of 7 runs, 1000000 loops each)\n"
     ]
    }
   ],
   "source": [
    "%%timeit\n",
    "likes(names)"
   ]
  }
 ],
 "metadata": {
  "kernelspec": {
   "display_name": "Python 3",
   "language": "python",
   "name": "python3"
  },
  "language_info": {
   "codemirror_mode": {
    "name": "ipython",
    "version": 3
   },
   "file_extension": ".py",
   "mimetype": "text/x-python",
   "name": "python",
   "nbconvert_exporter": "python",
   "pygments_lexer": "ipython3",
   "version": "3.8.3"
  }
 },
 "nbformat": 4,
 "nbformat_minor": 5
}
