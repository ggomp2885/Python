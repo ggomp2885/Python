{
 "cells": [
  {
   "cell_type": "markdown",
   "metadata": {},
   "source": [
    "### This file includes all of my experiential knowledge of the most used functions in the base python library"
   ]
  },
  {
   "cell_type": "markdown",
   "metadata": {},
   "source": [
    "# General notes\n",
    "\n",
    "The OS library is super useful when working with file paths in python, because python has issues with windows formatting. Backslashes are an \"escape\" character in python, so a simple replace command on a file path, will not work. Its not worth writing these \"path\" functions out by hand, because there is a large list of errors and exceptions inherent in these operations that are best left to the OS lib.\n"
   ]
  },
  {
   "cell_type": "markdown",
   "metadata": {},
   "source": [
    "##### Data Types\n",
    "###### If conditional statements seem to \"not be working\", it is likely that the data types of the two things being compared are not compatible, so check this early on"
   ]
  },
  {
   "cell_type": "code",
   "execution_count": null,
   "metadata": {},
   "outputs": [],
   "source": [
    "# Operators"
   ]
  },
  {
   "cell_type": "code",
   "execution_count": 16,
   "metadata": {},
   "outputs": [],
   "source": [
    "# Imports\n",
    "import webbrowser\n",
    "webbrowser.open('https://google.com')\n",
    "\n",
    "from functools import reduce\n"
   ]
  },
  {
   "cell_type": "code",
   "execution_count": 13,
   "metadata": {},
   "outputs": [
    {
     "name": "stdout",
     "output_type": "stream",
     "text": [
      "1000000\n",
      "bird is the word\n",
      "this is one long string\n",
      "this is one long string\n"
     ]
    }
   ],
   "source": [
    "# Simple things\n",
    "\n",
    "# Variable assignment\n",
    "a = 5\n",
    "b = 10\n",
    "# is equal to \n",
    "a,b = 5, 10\n",
    "\n",
    "\n",
    "# typing in numbers\n",
    "var = 1000000\n",
    "# is equal to \n",
    "var = 1_000_000\n",
    "print(var)\n",
    "\n",
    "# no need for plus sign to add strings together\n",
    "var = 'bird is the ' 'word'\n",
    "print(var)\n",
    "\n",
    "# multi-line strings\n",
    "var = '''this is one \\\n",
    "long string'''\n",
    "print(var)\n",
    "\n",
    "# multt-line comments\n",
    "''' this is a\n",
    "long comment'''\n",
    "print(var)\n"
   ]
  },
  {
   "cell_type": "code",
   "execution_count": 49,
   "metadata": {},
   "outputs": [
    {
     "name": "stdout",
     "output_type": "stream",
     "text": [
      "Hello 1 and 2 I'm Pytutorial I'm 3 years old\n",
      "<function <lambda> at 0x0000011B5EF06B80>\n",
      "[1, 2, 3, 4]\n"
     ]
    },
    {
     "data": {
      "text/plain": [
       "[1, 4, 9, 16]"
      ]
     },
     "metadata": {},
     "output_type": "display_data"
    },
    {
     "data": {
      "text/plain": [
       "[2, 4]"
      ]
     },
     "metadata": {},
     "output_type": "display_data"
    },
    {
     "data": {
      "text/plain": [
       "10"
      ]
     },
     "metadata": {},
     "output_type": "display_data"
    },
    {
     "name": "stdout",
     "output_type": "stream",
     "text": [
      "10\n"
     ]
    },
    {
     "ename": "NameError",
     "evalue": "name 'lst' is not defined",
     "output_type": "error",
     "traceback": [
      "\u001b[1;31m---------------------------------------------------------------------------\u001b[0m",
      "\u001b[1;31mNameError\u001b[0m                                 Traceback (most recent call last)",
      "\u001b[1;32m<ipython-input-49-021f92633efb>\u001b[0m in \u001b[0;36m<module>\u001b[1;34m\u001b[0m\n\u001b[0;32m     35\u001b[0m \u001b[1;32mif\u001b[0m \u001b[1;34m'lst'\u001b[0m \u001b[1;32min\u001b[0m \u001b[0mlocals\u001b[0m\u001b[1;33m(\u001b[0m\u001b[1;33m)\u001b[0m\u001b[1;33m:\u001b[0m\u001b[1;33m\u001b[0m\u001b[1;33m\u001b[0m\u001b[0m\n\u001b[0;32m     36\u001b[0m     \u001b[1;32mdel\u001b[0m \u001b[0mlst\u001b[0m\u001b[1;33m\u001b[0m\u001b[1;33m\u001b[0m\u001b[0m\n\u001b[1;32m---> 37\u001b[1;33m \u001b[0mprint\u001b[0m\u001b[1;33m(\u001b[0m\u001b[0mlst\u001b[0m\u001b[1;33m)\u001b[0m\u001b[1;33m\u001b[0m\u001b[1;33m\u001b[0m\u001b[0m\n\u001b[0m\u001b[0;32m     38\u001b[0m \u001b[1;33m\u001b[0m\u001b[0m\n",
      "\u001b[1;31mNameError\u001b[0m: name 'lst' is not defined"
     ]
    }
   ],
   "source": [
    "# Best practice Functions\n",
    "#mock variables for testing these functions\n",
    "a = 1\n",
    "b = 2\n",
    "c = 3\n",
    "d = 4\n",
    "lst = [a,b,c,d]\n",
    "\n",
    "\n",
    "#printing strings\n",
    "print(f\"Hello {a} and {b} I'm Pytutorial I'm {c} years old\")\n",
    "\n",
    "\n",
    "#lambda functions\n",
    "print(lambda a, b : a*b)      # just as a regular function, it starts with arguments, then the statement to be executed\n",
    "\n",
    "\n",
    "# most common functions that replace for loops\n",
    "print(lst)\n",
    "new_lst = list(map(lambda a: a**2, lst))\n",
    "display(new_lst)\n",
    "\n",
    "new_lst = list(filter(lambda a: a % 2 == 0, lst))\n",
    "display(new_lst)\n",
    "\n",
    "new_lst = reduce(lambda a,b: a+b, lst)\n",
    "display(new_lst)                     # this one returns only one cumulative result\n",
    "\n",
    "#rounding numbers\n",
    "print(round(10.5))              # rounds to even number when on .5 cases\n",
    "\n",
    "\n",
    "# deletes a stored variable\n",
    "if 'lst' in locals():\n",
    "    del lst\n",
    "print(lst)\n",
    "            "
   ]
  },
  {
   "cell_type": "code",
   "execution_count": 25,
   "metadata": {},
   "outputs": [
    {
     "data": {
      "text/plain": [
       "6"
      ]
     },
     "execution_count": 25,
     "metadata": {},
     "output_type": "execute_result"
    }
   ],
   "source": [
    "'youtube'.find('e')\n"
   ]
  },
  {
   "cell_type": "markdown",
   "metadata": {},
   "source": [
    "### Lists"
   ]
  },
  {
   "cell_type": "markdown",
   "metadata": {},
   "source": [
    "###### General notes:\n",
    "* List indexing does not work as well as indexing with a Numpy array, so convert to np array, and then indexing will work as expected, then back to a list if needed.\n"
   ]
  },
  {
   "cell_type": "code",
   "execution_count": 14,
   "metadata": {},
   "outputs": [
    {
     "data": {
      "text/plain": [
       "[0, 1, 2, 3, 4, 5, 6, 7, 8, 9, 10, 11, 12, 13, 14, 15, 16, 17, 18, 19]"
      ]
     },
     "metadata": {},
     "output_type": "display_data"
    },
    {
     "data": {
      "text/plain": [
       "[19, 18, 17, 16, 15, 14, 13, 12, 11, 10, 9, 8, 7, 6, 5, 4, 3, 2, 1, 0]"
      ]
     },
     "metadata": {},
     "output_type": "display_data"
    }
   ],
   "source": [
    "\n",
    "# list functions\n",
    "#dirs_ = [i.replace('_cf','') for i in dirs]   -  removing characters from each item of a list\n",
    "#dirs_25 = [i + \"_25\" for i in dirs_]          -  adding characters to the end of each item of a list\n",
    "\n",
    "# List comprehensions\n",
    "# These are just like lambda functions\n",
    "lst = [x for x in range(20)]     # This will create a list of integers from 0 to 19\n",
    "display(lst)\n",
    "\n",
    "# reversing a list\n",
    "lst.reverse()\n",
    "display(lst)"
   ]
  },
  {
   "cell_type": "code",
   "execution_count": null,
   "metadata": {},
   "outputs": [],
   "source": []
  }
 ],
 "metadata": {
  "kernelspec": {
   "display_name": "Python 3",
   "language": "python",
   "name": "python3"
  },
  "language_info": {
   "codemirror_mode": {
    "name": "ipython",
    "version": 3
   },
   "file_extension": ".py",
   "mimetype": "text/x-python",
   "name": "python",
   "nbconvert_exporter": "python",
   "pygments_lexer": "ipython3",
   "version": "3.8.3"
  }
 },
 "nbformat": 4,
 "nbformat_minor": 4
}
