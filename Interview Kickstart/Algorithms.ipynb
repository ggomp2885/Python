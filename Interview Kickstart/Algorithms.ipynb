{
 "cells": [
  {
   "cell_type": "code",
   "execution_count": 16,
   "metadata": {},
   "outputs": [
    {
     "name": "stdout",
     "output_type": "stream",
     "text": [
      "hello world\n",
      "current_lowest: 9\n",
      "new value of current_lowest has been found: 2\n",
      "current_lowest: 8\n",
      "new value of current_lowest has been found: 5\n",
      "current_lowest: 10\n",
      "new value of current_lowest has been found: 2\n",
      "current_lowest: 5\n",
      "new value of current_lowest has been found: 2\n",
      "current_lowest: 5\n",
      "new value of current_lowest has been found: 2\n",
      "[2, 2, 2, 2, 2, 1]\n"
     ]
    }
   ],
   "source": [
    "print('hello world')\n",
    "item_list = [5,2,9,8,10,1]\n",
    "\n",
    "def selection_sort(list_of_items):\n",
    "    for i in range(1000):\n",
    "        for i in range(len(item_list) -1):\n",
    "                if current_lowest > item_list[i+1]\n",
    "                    print(f'current_lowest: {current_lowest}')\n",
    "                    current_lowest = item_list[i]\n",
    "                    old_first_item = item_list[0]\n",
    "                    item_list[0] = current_lowest\n",
    "                    item_list[current_lowest_i_value] = old_first_item\n",
    "                    print(f'new value of current_lowest has been found: {current_lowest}')\n",
    "\n",
    "    return item_list\n",
    "\n",
    "sorted_list = selection_sort(item_list)\n",
    "print(sorted_list)"
   ]
  },
  {
   "cell_type": "code",
   "execution_count": null,
   "metadata": {},
   "outputs": [],
   "source": []
  }
 ],
 "metadata": {
  "interpreter": {
   "hash": "81794d4967e6c3204c66dcd87b604927b115b27c00565d3d43f05ba2f3a2cb0d"
  },
  "kernelspec": {
   "display_name": "Python 3.9.7 64-bit",
   "language": "python",
   "name": "python3"
  },
  "language_info": {
   "codemirror_mode": {
    "name": "ipython",
    "version": 3
   },
   "file_extension": ".py",
   "mimetype": "text/x-python",
   "name": "python",
   "nbconvert_exporter": "python",
   "pygments_lexer": "ipython3",
   "version": "3.9.7"
  },
  "orig_nbformat": 4
 },
 "nbformat": 4,
 "nbformat_minor": 2
}
