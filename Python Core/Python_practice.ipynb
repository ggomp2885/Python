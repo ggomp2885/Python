{
 "cells": [
  {
   "cell_type": "markdown",
   "metadata": {},
   "source": [
    "# General python practice on top, and OOP practice problems start around the middle of the page"
   ]
  },
  {
   "cell_type": "markdown",
   "metadata": {},
   "source": [
    "## Century from Year"
   ]
  },
  {
   "cell_type": "code",
   "execution_count": 35,
   "metadata": {},
   "outputs": [
    {
     "name": "stdout",
     "output_type": "stream",
     "text": [
      "length of year: 2\n",
      "loop running = 1 or 2\n",
      "1\n"
     ]
    }
   ],
   "source": [
    "def centuryFromYear(year):\n",
    "    print(f'length of year: {len(str(year))}')\n",
    "    \n",
    "    if len(str(year)) in [1,2]:\n",
    "        print('loop running = 1 or 2')\n",
    "        return 1\n",
    "        \n",
    "    if len(str(year)) == 3:\n",
    "        print('loop running = 3')\n",
    "        year = str(year)\n",
    "        if year[1:3] == '00':\n",
    "            return int(year[:1])\n",
    "        else:\n",
    "            return int(year[:1]) +1\n",
    "        \n",
    "    if len(str(year)) == 4:\n",
    "        print('loop running = 4')\n",
    "        year = str(year)\n",
    "        if year[2:4] == '00':\n",
    "            return int(year[:2])\n",
    "        else:\n",
    "            return int(year[:2]) +1\n",
    "        \n",
    "print(centuryFromYear(45))"
   ]
  },
  {
   "cell_type": "code",
   "execution_count": 41,
   "metadata": {},
   "outputs": [
    {
     "data": {
      "text/plain": [
       "2"
      ]
     },
     "execution_count": 41,
     "metadata": {},
     "output_type": "execute_result"
    }
   ],
   "source": [
    "def centuryFromYear(year):\n",
    "    return (year + 95) // 100\n",
    "centuryFromYear(201)"
   ]
  },
  {
   "cell_type": "markdown",
   "metadata": {},
   "source": [
    "So in this solution, its extremely simple to just use a basic math equation here, with the right operator, the floor divsion // operator makes this a breeze, and adding 99, makes it generalize to the edge cases"
   ]
  },
  {
   "cell_type": "markdown",
   "metadata": {},
   "source": [
    "### Check for Palindromes"
   ]
  },
  {
   "cell_type": "code",
   "execution_count": 42,
   "metadata": {},
   "outputs": [],
   "source": [
    "def checkPalindrome(inputString):\n",
    "    if inputString == inputString[::-1]:\n",
    "        return True\n",
    "    else: return False"
   ]
  },
  {
   "cell_type": "code",
   "execution_count": 43,
   "metadata": {},
   "outputs": [],
   "source": [
    "def checkPalindrome(inputString):\n",
    "    return inputString == inputString[::-1]"
   ]
  },
  {
   "cell_type": "markdown",
   "metadata": {},
   "source": [
    "This solution is almost identical to mine, but reminds me that an if statement is not needed at all here, because it is already built into the \"equivalent to\" == operator returns a boolean True/False, by default."
   ]
  },
  {
   "cell_type": "code",
   "execution_count": 73,
   "metadata": {},
   "outputs": [
    {
     "name": "stdout",
     "output_type": "stream",
     "text": [
      "['salad', 'egg']\n",
      "['egg', 'salad']\n"
     ]
    },
    {
     "data": {
      "text/plain": [
       "'dalas'"
      ]
     },
     "execution_count": 73,
     "metadata": {},
     "output_type": "execute_result"
    }
   ],
   "source": [
    "string = 'salad'\n",
    "string2 = 'egg'\n",
    "lst = [string, string2]\n",
    "integer = 1234\n",
    "\n",
    "print(lst)\n",
    "print(lst[::-1])\n",
    "string[::-1]"
   ]
  },
  {
   "cell_type": "markdown",
   "metadata": {},
   "source": [
    "As far as this index method that looks like [::-1], just is a unique thing that was created to reverse strings/lists - infact the -1 is the \"step size\""
   ]
  },
  {
   "cell_type": "markdown",
   "metadata": {},
   "source": [
    "## AdjacentElementsProduct"
   ]
  },
  {
   "cell_type": "code",
   "execution_count": 93,
   "metadata": {},
   "outputs": [
    {
     "data": {
      "text/plain": [
       "array([ 3,  6, -2, -5,  7,  3])"
      ]
     },
     "metadata": {},
     "output_type": "display_data"
    },
    {
     "data": {
      "text/plain": [
       "array([0., 0., 0., 0., 0.])"
      ]
     },
     "metadata": {},
     "output_type": "display_data"
    },
    {
     "data": {
      "text/plain": [
       "21.0"
      ]
     },
     "execution_count": 93,
     "metadata": {},
     "output_type": "execute_result"
    }
   ],
   "source": [
    "import numpy as np\n",
    "\n",
    "def adjacentElementsProduct(inputArray):\n",
    "    ans_array = np.zeros(len(inputArray)-1)\n",
    "    for i in range(len(inputArray)-1):\n",
    "        ans_array[i] = inputArray[i]*inputArray[i+1]\n",
    "    return ans_array.max()\n",
    "\n",
    "ans_array = np.zeros(len(mock_array)-1)\n",
    "mock_array = np.array([3,6,-2,-5,7,3])\n",
    "display(mock_array)\n",
    "display(ans_array)\n",
    "\n",
    "adjacentElementsProduct(mock_array)"
   ]
  },
  {
   "cell_type": "code",
   "execution_count": null,
   "metadata": {},
   "outputs": [],
   "source": [
    "def adjacentElementsProduct(inputArray):\n",
    "    return max([inputArray[i] * inputArray[i+1] for i in range(len(inputArray)-1)])"
   ]
  },
  {
   "cell_type": "code",
   "execution_count": null,
   "metadata": {},
   "outputs": [],
   "source": [
    "def adjacentElementsProduct(inputArray):\n",
    "    return max([inputArray[i]*inputArray[i+1] for i in range(len(inputArray)-1)])"
   ]
  },
  {
   "cell_type": "markdown",
   "metadata": {},
   "source": [
    "Okay so it looks like alot of these \"best solutions\" are\n",
    "1. just putting the actions of the function, directly in the return statement, instead of using variables to store this, and then returning the variable - that makes sense\n",
    "2. using \"list loops\", or list comprehensions instead of explicit for loops - I think this also makes sense because it simplifies 2 lines into 1 and creates a list by default\n",
    "\n",
    "I also just realized that list comps are just for loops that put the results into a list by default, and they just have the order switched around. Explicit for loops write the loop amount first, and then the action, whereas list comps just write the action first, and then the loop amount. Cool.\n",
    "\n",
    "And so now Im also realizing the similarity between lamda functions, and list comprehension loops, so instead of using a map() function on a lambda function, its just way simpler to use a list loop.\n",
    "\n",
    "Okay interesting, so this makes sense, a list comprehension is always faster than a for loop, about 50% faster with simple calculations, and then, the point of numpy is to not use loops at all, so a good understanding of the math functions available in numpy, will be faster than using a list comprehension. But however, if I am just using numpy arrays instead of lists, and not using the advanced features of numpy, then a list will actually be faster because numpy has some boot up time and is slighlty slower than a built-in list object\n",
    "\n",
    "Fastest execution time\n",
    "1. Numpy advanced functions\n",
    "2. List Comprehensions\n",
    "3. For loops with lists\n",
    "4. For loops with numpy arrays\n",
    "\n",
    "Wow, okay this is cool,"
   ]
  },
  {
   "cell_type": "markdown",
   "metadata": {},
   "source": [
    "## Shape Area"
   ]
  },
  {
   "cell_type": "code",
   "execution_count": 166,
   "metadata": {},
   "outputs": [
    {
     "name": "stdout",
     "output_type": "stream",
     "text": [
      "[1, 1, 1, 1, 1, 1, 1, 1]\n",
      "[1, 1, 5, 1, 1, 1, 1, 1]\n",
      "[1, 1, 5, 13, 1, 1, 1, 1]\n",
      "[1, 1, 5, 13, 25, 1, 1, 1]\n",
      "[1, 1, 5, 13, 25, 41, 1, 1]\n",
      "[1, 1, 5, 13, 25, 41, 61, 1]\n"
     ]
    },
    {
     "data": {
      "text/plain": [
       "61"
      ]
     },
     "execution_count": 166,
     "metadata": {},
     "output_type": "execute_result"
    }
   ],
   "source": [
    "def shapeArea(n):\n",
    "    lst = [1,1,1,1,1,1,1,1]\n",
    "    \n",
    "    for i in range(n):\n",
    "        lst[i+1] = lst[i]+4*(i)\n",
    "        print(lst)\n",
    "    return lst[n]\n",
    "\n",
    "shapeArea(6)"
   ]
  },
  {
   "cell_type": "code",
   "execution_count": null,
   "metadata": {},
   "outputs": [],
   "source": [
    "def shapeArea(n):\n",
    "    return n**2 + (n-1)**2"
   ]
  },
  {
   "cell_type": "markdown",
   "metadata": {},
   "source": [
    "Ohh, okay so it looks like I should be multiplying by i here instead of n, because i is the number that changes on each iteration, n doesnt change.\n",
    "Okay, that makes sense, in this case, Id always want to multiply by i, and actually I dont even need to create a list here, just a simple\n",
    "\n",
    "result=1\n",
    "\n",
    "for i in range(n):\n",
    "\n",
    "result += 4*i works here\n",
    "\n",
    "Also, it makes sense that most of these types of math patterns are quadratic based, so I can literally just write down a simple n^2 + (n-1) as a base and experiment with this a few times to find the pattern in the return statement\n"
   ]
  },
  {
   "cell_type": "markdown",
   "metadata": {},
   "source": [
    "## Make Array Consecutive2"
   ]
  },
  {
   "cell_type": "code",
   "execution_count": 197,
   "metadata": {},
   "outputs": [
    {
     "data": {
      "text/plain": [
       "3"
      ]
     },
     "execution_count": 197,
     "metadata": {},
     "output_type": "execute_result"
    }
   ],
   "source": [
    "statues = [6, 2, 3, 8]\n",
    "\n",
    "def makeArrayConsecutive2(statues):\n",
    "    statues.sort()\n",
    "    count = 0\n",
    "    \n",
    "    for i in range(len(statues)-1):\n",
    "        count += statues[i+1] - statues[i] -1\n",
    "    return count\n",
    "\n",
    "makeArrayConsecutive2(statues) "
   ]
  },
  {
   "cell_type": "code",
   "execution_count": 192,
   "metadata": {},
   "outputs": [],
   "source": [
    "def makeArrayConsecutive2(statues):\n",
    "    return max(statues) - min(statues) - len(statues) + 1"
   ]
  },
  {
   "cell_type": "code",
   "execution_count": null,
   "metadata": {},
   "outputs": [],
   "source": [
    "array[int, int, int, int]\n",
    "\n",
    "sort this array from least to greatest\n",
    "for i in range(len(statues))\n",
    "    if array[i+1] - array[i] > 1: count +=1\n",
    "return count"
   ]
  },
  {
   "cell_type": "markdown",
   "metadata": {},
   "source": [
    "Okay so actually I probably dont need a pen and paper, I can just write out the exact same thing right here in the editor as a rough draft, and all my code will be sitting there ready to merge together. I think the best way to write these is to write what works first, get it working, and then I can make it more concise, after I know that it works in the first place.\n",
    "\n",
    "Thoughts on solutions - \n",
    "\n",
    "Okay so whats cool is Ive been able to solve almost all of these so far, which is really what matters, and so looking at the best case solution is just extra credit, because my code works already, I would pass any coding challenge with it and get the job, because most people probably dont know these perfect solutions anyway. So getting a feel for these is really just my own passion for mastery, and mastery takes time... so do I want to \"master\" python, or do I want to \"master\" building models? Thats a good question actually. Ill come back to this, either way, alot of these best solutions come down to just reducing the length of the code, by thinking of a clever math relationship, instead of using a loop to manually do it... so thats just what this person did, instead of using a loop and debugging it with print statements to manually find the relationship, they said, hmm, okay, how can I use the numbers I have infront of me -\n",
    "\n",
    "The max() value of the array, \n",
    "the minimum value of the array, \n",
    "the length of the array, \n",
    "the mode of the array\n",
    "the average of the array\n",
    "etc\n",
    "\n",
    "To come up with a mathmatical relationship instead of a loop that does it one at a time"
   ]
  },
  {
   "cell_type": "markdown",
   "metadata": {},
   "source": [
    "## Almostincreasingsequence"
   ]
  },
  {
   "cell_type": "code",
   "execution_count": 219,
   "metadata": {},
   "outputs": [
    {
     "name": "stdout",
     "output_type": "stream",
     "text": [
      "count:1 and going to break\n",
      "1\n",
      "count:2\n",
      "2\n"
     ]
    },
    {
     "data": {
      "text/plain": [
       "False"
      ]
     },
     "execution_count": 219,
     "metadata": {},
     "output_type": "execute_result"
    }
   ],
   "source": [
    "sequence = [1, 3, 2, 1]\n",
    "sequence2 = [1, 3, 2]\n",
    "sequence3 = [1, 2, 1, 2]\n",
    "\n",
    "def almostIncreasingSequence(sequence):\n",
    "    count = 0\n",
    "    for i in range(len(sequence) -1):\n",
    "        if sequence[i] >= sequence[i+1]:\n",
    "            if i == 0:\n",
    "                del sequence[i]\n",
    "                count += 1\n",
    "\n",
    "            elif sequence[i-1] >= sequence[i+1]:\n",
    "                del sequence[i+1]\n",
    "                count += 1\n",
    "\n",
    "            else:\n",
    "                del sequence[i]\n",
    "                count += 1\n",
    "            break\n",
    "\n",
    "    for i in range(len(sequence) -1):\n",
    "        if sequence[i] >= sequence[i+1]:   \n",
    "            count += 1\n",
    "\n",
    "    if count > 1: return False\n",
    "    else: return True\n",
    "\n",
    "almostIncreasingSequence(sequence3)\n"
   ]
  },
  {
   "cell_type": "code",
   "execution_count": 225,
   "metadata": {},
   "outputs": [
    {
     "name": "stdout",
     "output_type": "stream",
     "text": [
      "[1, 3, 2]\n",
      "[3, 2, 1]\n",
      "\n",
      "[1, 3]\n",
      "[2, 1]\n"
     ]
    },
    {
     "data": {
      "text/plain": [
       "False"
      ]
     },
     "execution_count": 225,
     "metadata": {},
     "output_type": "execute_result"
    }
   ],
   "source": [
    "def almostIncreasingSequence(sequence):\n",
    "    f1 = sum([1 for a, b in zip(sequence[:-1], sequence[1:]) if a>=b ]) <= 1 \n",
    "    f2 = sum([1 for a, c in zip(sequence[:-2], sequence[2:]) if a>=c ]) <= 1\n",
    "    return f1 and f2\n",
    "\n",
    "print(sequence[:-1])\n",
    "print(sequence[1:])\n",
    "print()\n",
    "print(sequence[:-2])\n",
    "print(sequence[2:])\n",
    "almostIncreasingSequence(sequence)"
   ]
  },
  {
   "cell_type": "markdown",
   "metadata": {},
   "source": [
    "There is a loop way to do this that will check each index,\n",
    "    for i in range(len(sequence) -1):\n",
    "        if sequence[i] > sequence[i+1]:\n",
    "        \n",
    "        count += 1\n",
    "        \n",
    "    if count > 1: return False\n",
    "    else: return True\n",
    "    \n",
    "Okay so this works as expected, and then there is an edge case where [1,2,1,2] and I need it to recognize that the count here is 1, but this still isnt allowed so how would I detect this? - so I could manually pull the first number, and then recheck it again,\n",
    "or I could see if all the numbers are unique? [4,3,2,5] no, uniqueness / mode doesnt matter here.\n",
    "\n",
    "Okay so I put in some code that would pull out this number once its been found, but depending on the case, sometimes its best to pull out the [i] and sometimes [i+1]\n",
    "\n",
    "Okay so Im learning that I can pretty much always find a manual way to do this, by just replicating the exact way that I would make the decisions as a human - yep, thats exactly what I did here, its what Ive done in the past, and it just works - but sometimes there is alot of manual steps involved, and therefore there is alot of code involved too...\n",
    "\n",
    "\n"
   ]
  },
  {
   "cell_type": "markdown",
   "metadata": {},
   "source": [
    "Now, just for fun, is there a math relationship I could come up with to solve this?\n",
    "example \n",
    "length = 5, max value = 10, min value = 1\n",
    "is there a function which can find the intervals in an array?\n",
    "for example, interval values = 1,2,-1,1,3 and from here Id know that this was false, because it has a negative, and the following number is >= abs(sequence[i])\n",
    "\n",
    "So that could be a pretty simple math way to do it, I didnt find any built-in functions that calculate the intervals between items in a list /array though, so Id have to make one\n",
    "\n",
    "Okay interesting, so the simpliest code to do this problem, has no code to physically remove the integer, it just has the code to make the necessary check of the comparison between [i-1] >= [i+1], and depending on the result of this, the answer is already known. No need to physically remove anything, just understand, if I \"was\" to remove it, on what logic would I decide to do it? - thats all, if the logic doesnt check out, it wont work. that makes sense.\n",
    "\n",
    "Yeah this makes a ton of sense - I couldve gotten to the answer in half the code. Great problem here, this was a biggie mac actually."
   ]
  },
  {
   "cell_type": "markdown",
   "metadata": {},
   "source": [
    "## MatrixElementsSum"
   ]
  },
  {
   "cell_type": "code",
   "execution_count": 2,
   "metadata": {},
   "outputs": [],
   "source": [
    "matrix = [[0, 1, 1, 2], \n",
    "          [0, 5, 0, 0], \n",
    "          [2, 0, 3, 3]]"
   ]
  },
  {
   "cell_type": "code",
   "execution_count": 354,
   "metadata": {},
   "outputs": [
    {
     "name": "stdout",
     "output_type": "stream",
     "text": [
      "2.83 µs ± 264 ns per loop (mean ± std. dev. of 7 runs, 100000 loops each)\n"
     ]
    }
   ],
   "source": [
    "%%timeit\n",
    "def matrixElementsSum(matrix):\n",
    "    zero_lst = []\n",
    "    price_lst = []\n",
    "    for i, val1 in enumerate(matrix):\n",
    "#         print(f'i: {i}')\n",
    "#         print(f'val1: {val1}')\n",
    "        \n",
    "        for j, val2 in enumerate(matrix[i]):\n",
    "#             print(f'j: {j}')\n",
    "#             print(f'val2: {val2}')\n",
    "            \n",
    "            if val2 == 0:\n",
    "                zero_lst.append(j)\n",
    "#                 print(f'zero list: {zero_lst}')\n",
    "    \n",
    "            if val2 > 0:\n",
    "#                 print(f\"i,j: {i},{j}\")\n",
    "                if j not in zero_lst:\n",
    "                    price_lst.append(val2)\n",
    "#                     print(f'price_lst: {price_lst}')\n",
    "\n",
    "            \n",
    "#             if matrix[i][j] == 0:\n",
    "#                 zero_lst.append(matrix[i][i])\n",
    "#                 print(f'zero list: {zero_lst}')\n",
    "            \n",
    "#             if matrix[i][j] > 0:\n",
    "#                 price_lst.append(matrix[i][i])\n",
    "#                 print(f'price_lst: {price_lst}')\n",
    "#         print()\n",
    "#         print()\n",
    "            \n",
    "    return sum(price_lst)\n",
    "\n",
    "matrixElementsSum(matrix)"
   ]
  },
  {
   "cell_type": "code",
   "execution_count": 3,
   "metadata": {},
   "outputs": [
    {
     "name": "stdout",
     "output_type": "stream",
     "text": [
      "[0, 0, 2, 3, 1]\n",
      "[]\n"
     ]
    }
   ],
   "source": [
    "def matrixElementsSum(matrix):\n",
    "    \n",
    "    zero_lst = [j \n",
    "                for i, val1 in enumerate(matrix)\n",
    "                for j, val2 in enumerate(matrix[i]) \n",
    "                if val2 == 0]\n",
    "    print(zero_lst)\n",
    "    \n",
    "    price_lst = [val2 \n",
    "                 for i, val1 in enumerate(matrix)\n",
    "                 for j, val2 in enumerate(matrix[i])\n",
    "                 if j not in zero_lst]\n",
    "    print(price_lst)\n",
    "    return\n",
    "\n",
    "matrixElementsSum(matrix)"
   ]
  },
  {
   "cell_type": "code",
   "execution_count": 359,
   "metadata": {},
   "outputs": [
    {
     "name": "stdout",
     "output_type": "stream",
     "text": [
      "1.98 µs ± 65.9 ns per loop (mean ± std. dev. of 7 runs, 100000 loops each)\n"
     ]
    }
   ],
   "source": [
    "%%timeit\n",
    "def matrixElementsSum(m):\n",
    "    r = len(m)\n",
    "    c = len(m[0])\n",
    "    total=0\n",
    "    for j in range(c):\n",
    "        for i in range(r):\n",
    "            if m[i][j]!=0:\n",
    "                total+=m[i][j]\n",
    "            else:\n",
    "                break\n",
    "    return total\n",
    "\n",
    "matrixElementsSum(matrix)"
   ]
  },
  {
   "cell_type": "markdown",
   "metadata": {},
   "source": [
    "okay so, Im thinking that Ill want to find the index of any 0's in this list of lists\n",
    "for example, the first one is matrix[0][0], so I need to essentailly build a search function that saves the index of any 0's, and then essentially removes the items in each of the top index's that are also of that same index\n",
    "\n",
    "Im thinking this could be done in a simple for loop -> if statement setup, and since Im looking to get the sum of a resulting list, I can build this into a list comprehension setup\n",
    "Okay so this one is really pretty simple, its just about getting the nested for loop written properly, which ive done before, and the \"best\" solution probably has this written in a nested list comprehension, which I am excited to see implimented.\n",
    "\n",
    "I like this idea of drawing out a decision tree, lets try it here\n",
    "                    Look at Value\n",
    "               0                            #\n",
    "     record index to list           add value to variable\n",
    "     \n",
    "              Is next value in 0 list?\n",
    "      Yes                                No\n",
    "    Do nothing                      Is value 0?\n",
    "             \n",
    "                            Yes                        No\n",
    "                 record index to 0 list      Add value to variable\n",
    "               \n",
    "                   Repeat until out of items"
   ]
  },
  {
   "cell_type": "markdown",
   "metadata": {},
   "source": [
    "Okay so this decision tree diagram definitely helped me, and now I know that in these kinds of situations, running a for loop over a list of lists, this is where the for i, val in enumerate() loop comes in handy, because Im going to need the info about the index and the value separately\n",
    "\n",
    "Also, I just learned that this kind of solution cannot be done with a list comprehension - but wait, can list comprehensions hold \"else\" statments in them? because if so, then I probably could using this other method - so Ill look that up\n",
    "\n",
    "Thirdly, this top solution realized that he/she could build the loop in a way where it started checking values from the top-down, and would simply just add anything above 0, and just stop the loop going downwards when it found a 0 - this created a 25% speed increase compared to my solution of having to go through the entire matrix. So it seems like alot of these top solutions are doing that, they are hand crafting the algorithm to take the least amount of steps possible, whereas I am still needing to focus on the the syntax to write the brute force way in the first place... I am officially in the top 6% of coders going through these challenges --- so to take that into account - do I feel the need to be in the top .1% of python code? lol, not really, so yeah, that helps me realize the importance between solving more challenges which puts me up to the 94%+ range of coders, - I guess this is what I needed to see though, I wasnt sure if there were drastically better ways of writing things, and I hadnt an idea what they would even look like\n",
    "but now I am getting a feel for the general things going on in these top solutions, they are top solutions because they think for a long time on how to cut out 10-25% of the loop, and in a major industrial application, that is definitely worthy, so Ill continue understanding these general trends in the writing of the code solutions\n",
    "\n",
    "- I am now seeing what I needed to see"
   ]
  },
  {
   "cell_type": "markdown",
   "metadata": {},
   "source": [
    "## All longest strings"
   ]
  },
  {
   "cell_type": "code",
   "execution_count": null,
   "metadata": {},
   "outputs": [],
   "source": [
    "def allLongestStrings(inputArray):\n",
    "    max_l = max([len(inputArray[i]) for i, val in \n",
    "                 enumerate(inputArray)])\n",
    "    return [val for i, val in enumerate(inputArray)\n",
    "            if len(inputArray[i]) == max_l]"
   ]
  },
  {
   "cell_type": "code",
   "execution_count": null,
   "metadata": {},
   "outputs": [],
   "source": [
    "def allLongestStrings(inputArray):\n",
    "return [i for i in inputArray if len(i) == len(max(inputArray, key=len))]"
   ]
  },
  {
   "cell_type": "markdown",
   "metadata": {},
   "source": [
    "Cool, so I solved this one very quickly using two list comprehensions\n",
    "And now I can see that I can even write a normal for loop with the action infront without a list comp - for example:\n",
    "\n",
    "m = max(len(s) for s in inputArray)\n",
    "\n",
    "And then this max(object, key=len) thing is cool, first time Ive seen this, would make sense that some of these builtin functions have this capability to essentailly run a for loop looking for a common thing"
   ]
  },
  {
   "cell_type": "markdown",
   "metadata": {},
   "source": [
    "## CommonCharacterCount"
   ]
  },
  {
   "cell_type": "code",
   "execution_count": null,
   "metadata": {},
   "outputs": [],
   "source": [
    "\n",
    "def commonCharacterCount(s1, s2):\n",
    "    l1 = [i for i in s1]\n",
    "    l2 = [i for i in s2]\n",
    "    count = 0\n",
    "    \n",
    "    for i in range(len(l1)):\n",
    "        if l1[i] in l2:\n",
    "            idx= l2.index(l1[i])\n",
    "            del l2[idx]\n",
    "            count +=1\n",
    "\n",
    "    return count"
   ]
  },
  {
   "cell_type": "code",
   "execution_count": 364,
   "metadata": {},
   "outputs": [
    {
     "name": "stdout",
     "output_type": "stream",
     "text": [
      "['aabcc']\n"
     ]
    },
    {
     "data": {
      "text/plain": [
       "0"
      ]
     },
     "execution_count": 364,
     "metadata": {},
     "output_type": "execute_result"
    }
   ],
   "source": [
    "s1 = \"aabcc\"\n",
    "s2 = \"adcaa\"\n",
    "\n",
    "def commonCharacterCount(s1, s2):\n",
    "    l1 = [i for i in s1]\n",
    "    l2 = [i for i in s2]\n",
    "    count = 0\n",
    "    \n",
    "    for i in range(len(l1)):\n",
    "        if l1[i] in l2:\n",
    "            del l2[l2.index(l1[i])]\n",
    "            count +=1\n",
    "\n",
    "    return sum([1 for i in range(len(l1) if ])\n",
    "\n",
    "commonCharacterCount(s1,s2)"
   ]
  },
  {
   "cell_type": "code",
   "execution_count": 366,
   "metadata": {},
   "outputs": [
    {
     "data": {
      "text/plain": [
       "3"
      ]
     },
     "execution_count": 366,
     "metadata": {},
     "output_type": "execute_result"
    }
   ],
   "source": [
    "def commonCharacterCount(s1, s2):\n",
    "    return sum([min(s1.count(i),s2.count(i)) for i in set(s1)])\n",
    "\n",
    "commonCharacterCount(s1,s2)"
   ]
  },
  {
   "cell_type": "code",
   "execution_count": 369,
   "metadata": {},
   "outputs": [
    {
     "name": "stdout",
     "output_type": "stream",
     "text": [
      "aabcc\n",
      "{'a', 'b', 'c'}\n",
      "[2, 0, 1]\n"
     ]
    }
   ],
   "source": [
    "print(s1)\n",
    "print(set(s1))\n",
    "\n",
    "print([min(s1.count(i),s2.count(i)) for i in set(s1)])"
   ]
  },
  {
   "cell_type": "markdown",
   "metadata": {},
   "source": [
    "Interesting, so putting something into a set(), creates a 'set' of only the unique values\n",
    "So this another place where I can use a built-in function to create exactly what I am looking for, without doing it manually... so technically this answer is the most concise way to write the answer, but its really doing the same thing... and in reality, theres going to be a million combinations of these built-in function nuances... so is it better for me to memorize these... or would it be better for me to just build what works in 3-4 different languages? Yeah thats a goood question actually.\n",
    "\n",
    "So I guess one thing I can take away from this is: \n",
    "anytime I am doing something manually, like creating a list of items in a string, or counting the number of items in a string, there is probably a built-in function to do this, of course there is... but actually, if I can do it more generalistically, that is probably useful in its own way as well, because that means I can take on any task, using just the base building blocks of the language, not just the most highly specialized tools, its like being able to use a heavy screw driver to bang in a nail, so that I can operate with less tools, but still get the job done as intended.\n",
    "\n",
    "Very interesting thought here...\n",
    "\n",
    "Okay yeah so this is all starting to make sense, essentially, all these millions of specialized tools are sitting on a virtual shelf, ready to be used, if I know where to look - so on one hand, I can build a personal shelf like I am kind of doing here, and with my ML document, which I can personally organize, but, this doesnt really seem to be working either... so lets see... the easiest thing I can think of  is\n",
    "I start off the probelm, and I think, okay what objects am I working with?\n",
    "strings\n",
    "okay. perfect. string.tab ---- lookup all tools on the shelf for this object\n",
    "that would be more efficent than pulling up the docs\n",
    "\n",
    "Yep. Thats it. I just figured it out."
   ]
  },
  {
   "cell_type": "markdown",
   "metadata": {},
   "source": [
    "## IsLucky"
   ]
  },
  {
   "cell_type": "code",
   "execution_count": 1,
   "metadata": {},
   "outputs": [
    {
     "data": {
      "text/plain": [
       "False"
      ]
     },
     "execution_count": 1,
     "metadata": {},
     "output_type": "execute_result"
    }
   ],
   "source": [
    "n1 = 1230\n",
    "n2 = 239017\n",
    "\n",
    "def isLucky(n):\n",
    "    n = [int(i) for i in str(n)]\n",
    "    half = int(len(n) /2)\n",
    "    return sum(n[:half]) == sum(n[half:])\n",
    "\n",
    "isLucky(n2)"
   ]
  },
  {
   "cell_type": "markdown",
   "metadata": {},
   "source": [
    "Cool, so for this one I coded the same thing as the best solution\n",
    "\n",
    "When it comes to indexing integers, the only thing to do in python is to convert them to a string, since integers dont have any built-in indexing functions.\n",
    "In this case, I converted the single integer into a list of individual integers using a simple list comp, on which I can do all the indexing and math functions I need\n",
    "\n",
    "So its this function right here - that converts an integer into a list of integers - this will probably come in handy\n",
    "\n",
    "integer_lst = [int(i) for i in str(integer)]\n"
   ]
  },
  {
   "cell_type": "markdown",
   "metadata": {},
   "source": [
    "## Sort list with unmovable items"
   ]
  },
  {
   "cell_type": "code",
   "execution_count": 23,
   "metadata": {},
   "outputs": [
    {
     "data": {
      "text/plain": [
       "[-1, 150, 160, 170, -1, -1, 180, 190]"
      ]
     },
     "execution_count": 23,
     "metadata": {},
     "output_type": "execute_result"
    }
   ],
   "source": [
    "def sortByHeight(a):\n",
    "    # sorted_lst = [i for i in a if ]\n",
    "    for i in range(5):\n",
    "        print('loop start')\n",
    "        for i in range(len(a) -1):\n",
    "            if a[i] > -1: \n",
    "                if a[i] > a[i+1] and a[i+1] != -1:\n",
    "                    print('move condition met')\n",
    "                    stored = a[i]\n",
    "                    a[i] = a[i+1]\n",
    "                    a[i+1] = stored\n",
    "                    print(f'new a: {a}')\n",
    "    return a\n",
    "\n",
    "\n",
    "# okay scratch notes:\n",
    "# so Ive got a list of integers here, and the goal is to move some of these integers from least to greatest, while keeping the others in the same place. \n",
    "# okay so ive got the loop written that checks the integers right next to each other, but I need to write the code that can look at a list of all the values that are >-1, sort those, and then maybe reinsert the -1's where they were\n",
    "# that would look like\n",
    "\n",
    "def sortByHeight(a):\n",
    "    lst_tree = [i for i, val in enumerate(a) if val == -1]\n",
    "    lst_person = sorted([i for i in a if i > -1])\n",
    "    for i, val in enumerate(lst_tree):\n",
    "        lst_person.insert(lst_tree[i], -1)\n",
    "    return lst_person\n",
    "\n",
    "a = [-1, 150, 190, 170, -1, -1, 160, 180]\n",
    "sortByHeight(a)\n"
   ]
  },
  {
   "cell_type": "markdown",
   "metadata": {},
   "source": [
    "Cool, yep so this second method worked alot better and alot cleaner, so this is great to keep in mind for future sorting tasks, writing a manual sorting function is probably not needed, also my solution is the same as the top solution, just written in slightly different syntax, sweet.\n",
    "\n",
    "The .insert() function works very well, and the .sorted() function works on any iterable in python!"
   ]
  },
  {
   "cell_type": "markdown",
   "metadata": {},
   "source": [
    "## Reverse in String"
   ]
  },
  {
   "cell_type": "code",
   "execution_count": 28,
   "metadata": {},
   "outputs": [
    {
     "name": "stdout",
     "output_type": "stream",
     "text": [
      "[3, 7]\n",
      "[11, 12]\n",
      ")zab(\n",
      "\n",
      "foo(bar)zab(blim\n",
      "\n",
      "foo(baz)rab(blim\n"
     ]
    },
    {
     "data": {
      "text/plain": [
       "'foobazrabblim'"
      ]
     },
     "execution_count": 28,
     "metadata": {},
     "output_type": "execute_result"
    }
   ],
   "source": [
    "def reverseInParentheses(inputString):\n",
    "\n",
    "    lst_o = [i for i, val in enumerate(inputString) if val == '(']\n",
    "    lst_c = [i for i, val in enumerate(inputString) if val == ')']\n",
    "    print(lst_o)\n",
    "    print(lst_c)\n",
    "    if len(lst_o) == 1:\n",
    "        rev = inputString[0:lst_o[0]] + inputString[lst_o[0]:lst_c[0]+1][::-1] + inputString[lst_c[0]+1:]\n",
    "        rev = rev.replace('(','')\n",
    "        rev = rev.replace(')','')\n",
    "    if len(lst_o) == 2:\n",
    "        inner = inputString[lst_o[1]:lst_c[0]+1][::-1]\n",
    "        print(inner)\n",
    "        print()\n",
    "        rev = inputString[0:lst_o[1]] + inner + inputString[lst_c[1]+1:]\n",
    "        print(rev)\n",
    "        print()\n",
    "        \n",
    "        rev = rev[0:lst_o[0]] + rev[lst_o[0]:lst_c[0]+1][::-1] + rev[lst_c[0]+1:]\n",
    "        print(rev)\n",
    "        rev = rev.replace('(','')\n",
    "        rev = rev.replace(')','')\n",
    "    return rev\n",
    "\n",
    "string1 = 'foo(bar)blim'\n",
    "string2 = 'foo(bar(baz))blim'\n",
    "reverseInParentheses(string2)"
   ]
  },
  {
   "cell_type": "markdown",
   "metadata": {},
   "source": [
    "Okay so my solution above didnt work, because there were test cases where the parenthesis were not nested, and also, my code was only setup to handle cases with 1 or 2 sets of parenthasies, so this code wouldnt scale to any larger use cases. - So thats something to always keep in mind, writing code in a way that scales to 100s of examples of all types of lengths and orientations\n"
   ]
  },
  {
   "cell_type": "code",
   "execution_count": null,
   "metadata": {},
   "outputs": [],
   "source": [
    "def reverseInParentheses(s):\n",
    "    for i in range(len(s)):\n",
    "        if s[i] == \"(\":\n",
    "            start = i\n",
    "        if s[i] == \")\":\n",
    "            end = i\n",
    "            return reverseInParentheses(s[:start] + s[start+1:end][::-1] + s[end+1:])\n",
    "    return s\n",
    "\n",
    "foo(bar(baz))blim"
   ]
  },
  {
   "cell_type": "markdown",
   "metadata": {},
   "source": [
    "The reason why this solution works is because, hmm Ive never seen anyone return the function that they are actually building... but it looks like this is possible, since its essentially just rerunning the same function, with a new, and acceptable input, I guess this is similar to just re-writing this exact same for loop and if statements here... oh, and he just uses the end of the slicing operator as the ), so it just removes it right there, that makes sense, no need to include it back into the string, and therefore theres no steps needed to remove them. Thats smart. - makes sense, if youre going to do something / remove something in a string, you can always just index slice it out, no need for a .replace function for empty spaces.\n",
    "\n",
    "Ahh, okay, and I see with the nested parenthesis structure, that this loop just overwrites the \"start\" variable once it reaches the 2nd open paranthesis, and then it (breaks) (goes into the second loop), after it reaches the first closed paranthesis. Okay, I wasnt sure how that would work, but it does, this method works for dealing with any number of nested /un nested operators like (,{, or [], etc.\n",
    "\n",
    "Cool, this seems like this could come in handy down the line."
   ]
  },
  {
   "cell_type": "code",
   "execution_count": 32,
   "metadata": {},
   "outputs": [
    {
     "data": {
      "text/plain": [
       "'foobazrabblim'"
      ]
     },
     "execution_count": 32,
     "metadata": {},
     "output_type": "execute_result"
    }
   ],
   "source": [
    "def reverseInParentheses(s):\n",
    "    return eval('\"' + s.replace('(', '\"+(\"').replace(')', '\")[::-1]+\"') + '\"')\n",
    "reverseInParentheses(string2)"
   ]
  },
  {
   "cell_type": "code",
   "execution_count": 37,
   "metadata": {},
   "outputs": [
    {
     "data": {
      "text/plain": [
       "'foo\"+(\"bar\"+(\"baz\")[::-1])\")[::-1])blim'"
      ]
     },
     "execution_count": 37,
     "metadata": {},
     "output_type": "execute_result"
    }
   ],
   "source": [
    "def reverseInParentheses(s):\n",
    "    return  s.replace('(', '\"+(\"').replace(')', '\")[::-1])')\n",
    "reverseInParentheses(string2)"
   ]
  },
  {
   "cell_type": "markdown",
   "metadata": {},
   "source": [
    "Now this \"top\" solution kind of seems gimic'y, but I wonder why this would need an eval statement to run?\n",
    "Ohh, so I see what this is doing, this is actually a super interesting way to write code... Im going to look into this more, wow. kind of game changer"
   ]
  },
  {
   "cell_type": "code",
   "execution_count": null,
   "metadata": {},
   "outputs": [],
   "source": []
  },
  {
   "cell_type": "code",
   "execution_count": null,
   "metadata": {},
   "outputs": [],
   "source": []
  },
  {
   "cell_type": "code",
   "execution_count": null,
   "metadata": {},
   "outputs": [],
   "source": []
  },
  {
   "cell_type": "code",
   "execution_count": null,
   "metadata": {},
   "outputs": [],
   "source": []
  },
  {
   "cell_type": "code",
   "execution_count": null,
   "metadata": {},
   "outputs": [],
   "source": []
  },
  {
   "cell_type": "code",
   "execution_count": null,
   "metadata": {},
   "outputs": [],
   "source": []
  },
  {
   "cell_type": "markdown",
   "metadata": {},
   "source": [
    "# Python OOP Class Challenges"
   ]
  },
  {
   "cell_type": "markdown",
   "metadata": {},
   "source": [
    "### Video Streaming Plans"
   ]
  },
  {
   "cell_type": "code",
   "execution_count": 1,
   "metadata": {},
   "outputs": [
    {
     "name": "stdout",
     "output_type": "stream",
     "text": [
      "$15.99\n",
      "True\n"
     ]
    }
   ],
   "source": [
    "class BasicPlan:\n",
    "\tcan_stream = True\n",
    "\tcan_download = True\n",
    "\tnum_of_devices = 1\n",
    "\thas_SD = True\n",
    "\thas_HD = False\n",
    "\thas_UHD = False\n",
    "\tprice = '$8.99'\n",
    "class StandardPlan:\n",
    "\tcan_stream = True\n",
    "\tcan_download = True\n",
    "\thas_SD = True\n",
    "\thas_HD = True\n",
    "\thas_UHD = False\n",
    "\tnum_of_devices = 2\n",
    "\tprice = '$12.99'\n",
    "\n",
    "class PremiumPlan:\n",
    "\tcan_stream = True\n",
    "\tcan_download = True\n",
    "\thas_SD = True\n",
    "\thas_HD = True\n",
    "\thas_UHD = True\n",
    "\tnum_of_devices = 4\n",
    "\tprice = '$15.99'\n",
    "\t\n",
    "print(PremiumPlan.price)\n",
    "print(PremiumPlan.has_SD)"
   ]
  },
  {
   "cell_type": "markdown",
   "metadata": {},
   "source": [
    "### Circle Class"
   ]
  },
  {
   "cell_type": "code",
   "execution_count": 5,
   "metadata": {},
   "outputs": [
    {
     "name": "stdout",
     "output_type": "stream",
     "text": [
      "78.53981633974483\n",
      "31.41592653589793\n"
     ]
    }
   ],
   "source": [
    "import math\n",
    "\n",
    "class Circle:\n",
    "\n",
    "\tdef __init__(self, r):\n",
    "\t\tself.r = r\n",
    "\t\n",
    "\tdef getArea(self):\n",
    "\t\treturn self.r**2*math.pi\n",
    "\t\t\n",
    "\tdef getPerimeter(self):\n",
    "\t\treturn self.r*2*math.pi\n",
    "\n",
    "circle = Circle(5)\n",
    "print(circle.getArea())\n",
    "print(circle.getPerimeter())"
   ]
  },
  {
   "cell_type": "markdown",
   "metadata": {},
   "source": [
    "### Older than me"
   ]
  },
  {
   "cell_type": "code",
   "execution_count": 6,
   "metadata": {},
   "outputs": [
    {
     "name": "stdout",
     "output_type": "stream",
     "text": [
      "Joel is older than me\n",
      "Samuel is younger than me\n",
      "Lily is the same age as me\n"
     ]
    }
   ],
   "source": [
    "class Person:\n",
    "\tdef __init__(self, name, age):\n",
    "\t\tself.name = name\n",
    "\t\tself.age = age\n",
    "\n",
    "\tdef compare_age(self, other):\n",
    "\t\tif self.age > other.age:\n",
    "\t\t\treturn print('{} is younger than me'.format(other.name))\n",
    "\t\telif self.age < other.age:\n",
    "\t\t\treturn print('{} is older than me'.format(other.name))\n",
    "\t\telse:\n",
    "\t\t\treturn print('{} is the same age as me'.format(other.name))\n",
    "        \n",
    "p1 = Person(\"Samuel\", 24)\n",
    "p2 = Person(\"Joel\", 36)\n",
    "p3 = Person(\"Lily\", 24)\n",
    "\n",
    "p1.compare_age(p2)\n",
    "p2.compare_age(p1)\n",
    "p1.compare_age(p3)"
   ]
  },
  {
   "cell_type": "markdown",
   "metadata": {},
   "source": [
    "Okay so this practice problem just wanted the answer returned in the form of string, so the print() function, removes the quotes from any string, whereas you can just return a string by itself, and it will keep the quotes in the output, good to know"
   ]
  },
  {
   "cell_type": "markdown",
   "metadata": {},
   "source": [
    "### OOP calculator class"
   ]
  },
  {
   "cell_type": "code",
   "execution_count": 7,
   "metadata": {},
   "outputs": [],
   "source": [
    "class Calculator:\n",
    "# add, subtract, multiply, and divide\n",
    "\tdef add(self, n1,n2):\n",
    "\t\treturn n1+n2\n",
    "    \n",
    "\tdef subtract(self, n1,n2):\n",
    "\t\treturn n1-n2\n",
    "    \n",
    "\tdef multiply(self, n1,n2):\n",
    "\t\treturn n1*n2\n",
    "    \n",
    "\tdef divide(self, n1,n2):\n",
    "\t\treturn n1/n2"
   ]
  },
  {
   "cell_type": "markdown",
   "metadata": {},
   "source": [
    "So all the functions(methods) created inside of a class must start off with the (self,) argument, regardless of whether or not they use it. This is also good to know."
   ]
  },
  {
   "cell_type": "markdown",
   "metadata": {},
   "source": [
    "## OOP counter of objects in class"
   ]
  },
  {
   "cell_type": "code",
   "execution_count": null,
   "metadata": {},
   "outputs": [],
   "source": [
    "class User:\n",
    "\tuser_count = 0\n",
    "\t\n",
    "\tdef __init__(self, username):\n",
    "\t\tself.username = username\n",
    "\t\tUser.user_count += 1"
   ]
  },
  {
   "cell_type": "markdown",
   "metadata": {},
   "source": [
    "Okay cool, so this is new, to create a counter of how many objects have been made from a class, Ill want to instantiate the variable under the \"global\" class, and then, I can change any \"global\" class variable, under any of the following functions - \n",
    "\n",
    "by just writing, classname.variablename +=1\n",
    "\n",
    "And since the I know the __init__ function runs everytime a new object is created, that is the one to use here for this case of counting objects."
   ]
  },
  {
   "cell_type": "markdown",
   "metadata": {},
   "source": [
    "## Second example of counter in class objects"
   ]
  },
  {
   "cell_type": "code",
   "execution_count": 8,
   "metadata": {},
   "outputs": [],
   "source": [
    "class Composer:\n",
    "\tcount = 0\n",
    "\t\n",
    "\tdef __init__(self, name, dob, country):\n",
    "\t\tself.name = name\n",
    "\t\tself.dob = dob\n",
    "\t\tself.country = country\n",
    "\t\tComposer.count += 1"
   ]
  },
  {
   "cell_type": "code",
   "execution_count": 9,
   "metadata": {},
   "outputs": [],
   "source": [
    "c1 = Composer(\"Austen Eckhart\", 1997, \"USA\")"
   ]
  },
  {
   "cell_type": "code",
   "execution_count": 10,
   "metadata": {},
   "outputs": [
    {
     "data": {
      "text/plain": [
       "'Austen Eckhart'"
      ]
     },
     "execution_count": 10,
     "metadata": {},
     "output_type": "execute_result"
    }
   ],
   "source": [
    "c1.name"
   ]
  },
  {
   "cell_type": "markdown",
   "metadata": {},
   "source": [
    "## Implementation of OOP with best DRY solution"
   ]
  },
  {
   "cell_type": "code",
   "execution_count": 2,
   "metadata": {},
   "outputs": [],
   "source": [
    "class Person:\n",
    "\t\n",
    "\tdef __init__ (self,name,likes,hates):\n",
    "\t\tself.name = name\n",
    "\t\tself.likes = likes\n",
    "\t\tself.hates = hates\n",
    "\t\t\n",
    "\tdef taste(self,food):\n",
    "\t\tif food in self.likes: add = \" and loves it\"\n",
    "\t\telif food in self.hates: add = \" and hates it\"\n",
    "\t\telse: add=\"\"\n",
    "\t\treturn self.name + \" eats the \" + food + add + \"!\""
   ]
  },
  {
   "cell_type": "markdown",
   "metadata": {},
   "source": [
    "So this implemenation is just a good example of identifying the parts of the string that stay the same, and instead of writing 3 return functions in the if statements, I can just create a variable that stores the different ending response, and then place that variable in the proper location on a final return statement, that is not inside any of the if statements. Makes perfect sense."
   ]
  },
  {
   "cell_type": "markdown",
   "metadata": {},
   "source": [
    "## IceCream Flavor dictionary from OOP class"
   ]
  },
  {
   "cell_type": "code",
   "execution_count": 1,
   "metadata": {},
   "outputs": [],
   "source": [
    "# included class\n",
    "class IceCream:\n",
    "\tdef __init__(self, flavor, num_sprinkles):\n",
    "\t\tself.flavor = flavor\n",
    "\t\tself.num_sprinkles = num_sprinkles"
   ]
  },
  {
   "cell_type": "code",
   "execution_count": 2,
   "metadata": {},
   "outputs": [],
   "source": [
    "# new function\n",
    "def sweetest_icecream(lst):\n",
    "\tflavor_values = {\n",
    "\t\t'Plain' : 0,\n",
    "\t\t'Vanilla' : 5,\n",
    "\t\t'ChocolateChip' : 5,\n",
    "\t\t'Strawberry' : 10,\n",
    "\t\t'Chocolate' : 10}\n",
    "\treturn max([i.num_sprinkles + flavor_values[i.flavor] for i in lst])"
   ]
  },
  {
   "cell_type": "markdown",
   "metadata": {},
   "source": [
    "So this one is new, because its using a function to find the max of values from an outside class - now, realistically, this would probably best be created as a method in the class itself, but this example shows that it doesnt have to be\n",
    "\n",
    "essentially a list is passed in to this function, and this function uses a for loop with i.attribute to do its calculations\n",
    "\n",
    "as a twist, the original integer values are not included in the original class, so here is a perfect place to build a dictionary of values, and then simply index that dictionary with the string returned from i.attribute \n",
    "\n",
    "This is a good reminder that any dictionary works by just dict['string'] and it returns the value associated with that key string"
   ]
  },
  {
   "cell_type": "markdown",
   "metadata": {},
   "source": [
    "## Python Classes Mini Challange - del function and compare by sorted list"
   ]
  },
  {
   "cell_type": "code",
   "execution_count": 6,
   "metadata": {},
   "outputs": [],
   "source": [
    "class programmer:\n",
    "    def __init__ (self, salary, work_hours):\n",
    "        self.salary = salary\n",
    "        self.work_hours = work_hours\n",
    "    \n",
    "    def __del__ (self):\n",
    "        return 'oof, ' + str(self.salary) + \", \" + str(self.work_hours)\n",
    "    \n",
    "    def compare (self, p2):\n",
    "        if self.salary > p2.salary: return p2\n",
    "        if self.salary < p2.salary: return self\n",
    "        if self.work_hours > p2.work_hours: return p2\n",
    "        return self"
   ]
  },
  {
   "cell_type": "code",
   "execution_count": 7,
   "metadata": {},
   "outputs": [],
   "source": [
    "class programmer:\n",
    "\tdef __init__ (self,s,w):\n",
    "\t\tself.salary= s\n",
    "\t\tself.work_hours=w\n",
    "        \n",
    "\tdef __del__ (self):\n",
    "\t\treturn \"oof, {}, {}\".format(self.salary, self.work_hours)\n",
    "    \n",
    "\tdef compare (self,other):\n",
    "\t\treturn sorted([self, other], key = lambda x: x.salary)[0]"
   ]
  },
  {
   "cell_type": "markdown",
   "metadata": {},
   "source": [
    "This is the first time Ive seen the __ del __ builtin function used for a class, cool thing to see here is that it already deletes whatever you specify in the argument, no need to write anything in\n",
    "\n",
    "Also cool, is that instead of using an if statement here to compare individual objects, this guy just sorted the list of objects.attribute, and returned the object at the [0] index, that makes perfect sense, and is a solution that can scale."
   ]
  },
  {
   "cell_type": "markdown",
   "metadata": {},
   "source": [
    "### Is Big Country? Class"
   ]
  },
  {
   "cell_type": "code",
   "execution_count": 1,
   "metadata": {},
   "outputs": [],
   "source": [
    "class Country:\n",
    "\n",
    "\tdef __init__(self, name, population, area):\n",
    "\t\tself.name = name\n",
    "\t\tself.population = population\n",
    "\t\tself.area = area\n",
    "\t\tif self.population > 250000000 or self.area > 3000000:\n",
    "\t\t    self.is_big = True\n",
    "\t\telse: self.is_big = False\n",
    "\t\t\n",
    "\tdef compare_pd(self, other):\n",
    "\t\tif sorted([self, other], key = lambda x: x.population / x.area)[0] == self:\n",
    "\t\t  comp = 'smaller'\n",
    "\t\telse: comp = \"larger\"\n",
    "\t\treturn '{} has a {} population density than {}'.format(self.name, comp, other.name)"
   ]
  },
  {
   "cell_type": "code",
   "execution_count": 2,
   "metadata": {},
   "outputs": [],
   "source": [
    "class Country:\n",
    "\n",
    "\tdef __init__(self, name, population, area):\n",
    "\t\tself.name = name\n",
    "\t\tself.population = population\n",
    "\t\tself.area = area\n",
    "\t\tself.density = self.population / self.area\n",
    "\t\tself.is_big = population > 25e7 or area > 3e6\n",
    "\t\t\n",
    "\tdef compare_pd(self, other):\n",
    "\t\tresult = ['smaller', 'larger'][self.density > other.density]\n",
    "\t\treturn '{} has a {} population density than {}'.format(self.name, result, other.name)"
   ]
  },
  {
   "cell_type": "code",
   "execution_count": 3,
   "metadata": {},
   "outputs": [
    {
     "name": "stdout",
     "output_type": "stream",
     "text": [
      "smaller\n"
     ]
    }
   ],
   "source": [
    "result = ['smaller', 'larger'][1 > 2]\n",
    "print(result)\n"
   ]
  },
  {
   "cell_type": "markdown",
   "metadata": {
    "tags": []
   },
   "source": [
    "Okay cool, 3 new things here, \n",
    "\n",
    "1. large numbers can be easily written as 1e6 for 1 mill\n",
    "\n",
    "1. if statement is not needed to assign boolean values, so I can just write self.attribute = population >2.5e8 or area > 3e6 - this is really cool, python understands that if these conditions are met, then it returns it as a true/false\n",
    "\n",
    "1. thirdly, this dude just wrote var = [item1, item2][conditional]  ---- ahh okay python is literally interpreting the conditional as a 0 or a 1, so it literally becomes an index value to this list! lol! so it says list[1>2] = list[0]  ---- wow what a cool little trick to know, way cleaner than an if statement, although if statements work just the same as well"
   ]
  },
  {
   "cell_type": "code",
   "execution_count": null,
   "metadata": {},
   "outputs": [],
   "source": []
  }
 ],
 "metadata": {
  "kernelspec": {
   "display_name": "Python 3",
   "language": "python",
   "name": "python3"
  },
  "language_info": {
   "codemirror_mode": {
    "name": "ipython",
    "version": 3
   },
   "file_extension": ".py",
   "mimetype": "text/x-python",
   "name": "python",
   "nbconvert_exporter": "python",
   "pygments_lexer": "ipython3",
   "version": "3.8.3"
  }
 },
 "nbformat": 4,
 "nbformat_minor": 5
}
