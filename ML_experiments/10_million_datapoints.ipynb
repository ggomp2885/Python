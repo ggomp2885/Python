{
 "cells": [
  {
   "cell_type": "markdown",
   "metadata": {},
   "source": [
    "## Imports"
   ]
  },
  {
   "cell_type": "code",
   "execution_count": 6,
   "metadata": {
    "gather": {
     "logged": 1633839602723
    }
   },
   "outputs": [
    {
     "name": "stdout",
     "output_type": "stream",
     "text": [
      "CPU times: user 436 ms, sys: 44.5 ms, total: 480 ms\n",
      "Wall time: 702 ms\n"
     ]
    }
   ],
   "source": [
    "%%time\n",
    "#python and datascience imports\n",
    "import pandas as pd\n",
    "import numpy as np\n",
    "import os\n",
    "import sys\n",
    "import time\n",
    "import itertools\n",
    "\n",
    "from sklearn.model_selection import train_test_split\n",
    "from sklearn.datasets import make_classification\n",
    "from sklearn.preprocessing import StandardScaler\n",
    "from sklearn.experimental import enable_iterative_imputer\n",
    "from sklearn.impute import IterativeImputer\n",
    "from sagemaker import image_uris\n",
    "\n",
    "\n",
    "# AWS S3 Imports\n",
    "import boto3\n",
    "import sagemaker\n",
    "from sagemaker import get_execution_role\n",
    "from sagemaker.session import Session\n",
    "from sagemaker.inputs import TrainingInput\n",
    "\n",
    "sess = boto3.Session()\n",
    "sm = sess.client(\"sagemaker\")\n",
    "role = get_execution_role()\n",
    "region = boto3.Session().region_name\n",
    "account_id = sess.client(\"sts\").get_caller_identity()[\"Account\"]\n",
    "\n",
    "\n",
    "# AWS Experiment Imports\n",
    "from smexperiments.tracker import Tracker\n",
    "from smexperiments.experiment import Experiment\n",
    "from smexperiments.trial import Trial\n",
    "from smexperiments.trial_component import TrialComponent\n",
    "\n",
    "\n",
    "# personal notebook settings\n",
    "%config Completer.use_jedi = False\n",
    "nb_dir = os.getcwd()"
   ]
  },
  {
   "cell_type": "markdown",
   "metadata": {},
   "source": [
    "## Pip installs"
   ]
  },
  {
   "cell_type": "code",
   "execution_count": 5,
   "metadata": {
    "collapsed": true,
    "jupyter": {
     "outputs_hidden": true
    }
   },
   "outputs": [
    {
     "name": "stdout",
     "output_type": "stream",
     "text": [
      "/opt/conda/lib/python3.7/site-packages/secretstorage/dhcrypto.py:16: CryptographyDeprecationWarning: int_from_bytes is deprecated, use int.from_bytes instead\n",
      "  from cryptography.utils import int_from_bytes\n",
      "/opt/conda/lib/python3.7/site-packages/secretstorage/util.py:25: CryptographyDeprecationWarning: int_from_bytes is deprecated, use int.from_bytes instead\n",
      "  from cryptography.utils import int_from_bytes\n",
      "Collecting sagemaker-experiments==0.1.24\n",
      "  Using cached sagemaker_experiments-0.1.24-py3-none-any.whl (36 kB)\n",
      "Requirement already satisfied: boto3>=1.12.8 in /opt/conda/lib/python3.7/site-packages (from sagemaker-experiments==0.1.24) (1.18.51)\n",
      "Requirement already satisfied: s3transfer<0.6.0,>=0.5.0 in /opt/conda/lib/python3.7/site-packages (from boto3>=1.12.8->sagemaker-experiments==0.1.24) (0.5.0)\n",
      "Requirement already satisfied: jmespath<1.0.0,>=0.7.1 in /opt/conda/lib/python3.7/site-packages (from boto3>=1.12.8->sagemaker-experiments==0.1.24) (0.10.0)\n",
      "Requirement already satisfied: botocore<1.22.0,>=1.21.51 in /opt/conda/lib/python3.7/site-packages (from boto3>=1.12.8->sagemaker-experiments==0.1.24) (1.21.51)\n",
      "Requirement already satisfied: urllib3<1.27,>=1.25.4 in /opt/conda/lib/python3.7/site-packages (from botocore<1.22.0,>=1.21.51->boto3>=1.12.8->sagemaker-experiments==0.1.24) (1.26.7)\n",
      "Requirement already satisfied: python-dateutil<3.0.0,>=2.1 in /opt/conda/lib/python3.7/site-packages (from botocore<1.22.0,>=1.21.51->boto3>=1.12.8->sagemaker-experiments==0.1.24) (2.8.1)\n",
      "Requirement already satisfied: six>=1.5 in /opt/conda/lib/python3.7/site-packages (from python-dateutil<3.0.0,>=2.1->botocore<1.22.0,>=1.21.51->boto3>=1.12.8->sagemaker-experiments==0.1.24) (1.14.0)\n",
      "Installing collected packages: sagemaker-experiments\n",
      "Successfully installed sagemaker-experiments-0.1.24\n",
      "\u001b[33mWARNING: Running pip as the 'root' user can result in broken permissions and conflicting behaviour with the system package manager. It is recommended to use a virtual environment instead: https://pip.pypa.io/warnings/venv\u001b[0m\n",
      "\u001b[33mWARNING: You are using pip version 21.2.4; however, version 21.3.1 is available.\n",
      "You should consider upgrading via the '/opt/conda/bin/python -m pip install --upgrade pip' command.\u001b[0m\n",
      "/opt/conda/lib/python3.7/site-packages/secretstorage/dhcrypto.py:16: CryptographyDeprecationWarning: int_from_bytes is deprecated, use int.from_bytes instead\n",
      "  from cryptography.utils import int_from_bytes\n",
      "/opt/conda/lib/python3.7/site-packages/secretstorage/util.py:25: CryptographyDeprecationWarning: int_from_bytes is deprecated, use int.from_bytes instead\n",
      "  from cryptography.utils import int_from_bytes\n",
      "Requirement already satisfied: sagemaker in /opt/conda/lib/python3.7/site-packages (2.59.5)\n",
      "Collecting sagemaker\n",
      "  Using cached sagemaker-2.65.0-py2.py3-none-any.whl\n",
      "Requirement already satisfied: boto3>=1.16.32 in /opt/conda/lib/python3.7/site-packages (from sagemaker) (1.18.51)\n",
      "Requirement already satisfied: pandas in /opt/conda/lib/python3.7/site-packages (from sagemaker) (1.0.1)\n",
      "Requirement already satisfied: attrs in /opt/conda/lib/python3.7/site-packages (from sagemaker) (19.3.0)\n",
      "Requirement already satisfied: pathos in /opt/conda/lib/python3.7/site-packages (from sagemaker) (0.2.8)\n",
      "Requirement already satisfied: protobuf3-to-dict>=0.1.5 in /opt/conda/lib/python3.7/site-packages (from sagemaker) (0.1.5)\n",
      "Requirement already satisfied: smdebug-rulesconfig==1.0.1 in /opt/conda/lib/python3.7/site-packages (from sagemaker) (1.0.1)\n",
      "Requirement already satisfied: protobuf>=3.1 in /opt/conda/lib/python3.7/site-packages (from sagemaker) (3.18.0)\n",
      "Requirement already satisfied: google-pasta in /opt/conda/lib/python3.7/site-packages (from sagemaker) (0.2.0)\n",
      "Requirement already satisfied: importlib-metadata>=1.4.0 in /opt/conda/lib/python3.7/site-packages (from sagemaker) (1.5.0)\n",
      "Requirement already satisfied: packaging>=20.0 in /opt/conda/lib/python3.7/site-packages (from sagemaker) (20.1)\n",
      "Requirement already satisfied: numpy>=1.9.0 in /opt/conda/lib/python3.7/site-packages (from sagemaker) (1.20.3)\n",
      "Requirement already satisfied: jmespath<1.0.0,>=0.7.1 in /opt/conda/lib/python3.7/site-packages (from boto3>=1.16.32->sagemaker) (0.10.0)\n",
      "Requirement already satisfied: s3transfer<0.6.0,>=0.5.0 in /opt/conda/lib/python3.7/site-packages (from boto3>=1.16.32->sagemaker) (0.5.0)\n",
      "Requirement already satisfied: botocore<1.22.0,>=1.21.51 in /opt/conda/lib/python3.7/site-packages (from boto3>=1.16.32->sagemaker) (1.21.51)\n",
      "Requirement already satisfied: python-dateutil<3.0.0,>=2.1 in /opt/conda/lib/python3.7/site-packages (from botocore<1.22.0,>=1.21.51->boto3>=1.16.32->sagemaker) (2.8.1)\n",
      "Requirement already satisfied: urllib3<1.27,>=1.25.4 in /opt/conda/lib/python3.7/site-packages (from botocore<1.22.0,>=1.21.51->boto3>=1.16.32->sagemaker) (1.26.7)\n",
      "Requirement already satisfied: zipp>=0.5 in /opt/conda/lib/python3.7/site-packages (from importlib-metadata>=1.4.0->sagemaker) (2.2.0)\n",
      "Requirement already satisfied: six in /opt/conda/lib/python3.7/site-packages (from packaging>=20.0->sagemaker) (1.14.0)\n",
      "Requirement already satisfied: pyparsing>=2.0.2 in /opt/conda/lib/python3.7/site-packages (from packaging>=20.0->sagemaker) (2.4.6)\n",
      "Requirement already satisfied: pytz>=2017.2 in /opt/conda/lib/python3.7/site-packages (from pandas->sagemaker) (2019.3)\n",
      "Requirement already satisfied: dill>=0.3.4 in /opt/conda/lib/python3.7/site-packages (from pathos->sagemaker) (0.3.4)\n",
      "Requirement already satisfied: multiprocess>=0.70.12 in /opt/conda/lib/python3.7/site-packages (from pathos->sagemaker) (0.70.12.2)\n",
      "Requirement already satisfied: pox>=0.3.0 in /opt/conda/lib/python3.7/site-packages (from pathos->sagemaker) (0.3.0)\n",
      "Requirement already satisfied: ppft>=1.6.6.4 in /opt/conda/lib/python3.7/site-packages (from pathos->sagemaker) (1.6.6.4)\n",
      "Installing collected packages: sagemaker\n",
      "  Attempting uninstall: sagemaker\n",
      "    Found existing installation: sagemaker 2.59.5\n",
      "    Uninstalling sagemaker-2.59.5:\n",
      "      Successfully uninstalled sagemaker-2.59.5\n",
      "Successfully installed sagemaker-2.65.0\n",
      "\u001b[33mWARNING: Running pip as the 'root' user can result in broken permissions and conflicting behaviour with the system package manager. It is recommended to use a virtual environment instead: https://pip.pypa.io/warnings/venv\u001b[0m\n",
      "\u001b[33mWARNING: You are using pip version 21.2.4; however, version 21.3.1 is available.\n",
      "You should consider upgrading via the '/opt/conda/bin/python -m pip install --upgrade pip' command.\u001b[0m\n"
     ]
    }
   ],
   "source": [
    "!{sys.executable} -m pip install sagemaker-experiments==0.1.24\n",
    "!{sys.executable} -m pip install --upgrade sagemaker"
   ]
  },
  {
   "cell_type": "markdown",
   "metadata": {},
   "source": [
    "## Creating mock classification data"
   ]
  },
  {
   "cell_type": "code",
   "execution_count": 24,
   "metadata": {},
   "outputs": [
    {
     "data": {
      "text/html": [
       "<div>\n",
       "<style scoped>\n",
       "    .dataframe tbody tr th:only-of-type {\n",
       "        vertical-align: middle;\n",
       "    }\n",
       "\n",
       "    .dataframe tbody tr th {\n",
       "        vertical-align: top;\n",
       "    }\n",
       "\n",
       "    .dataframe thead th {\n",
       "        text-align: right;\n",
       "    }\n",
       "</style>\n",
       "<table border=\"1\" class=\"dataframe\">\n",
       "  <thead>\n",
       "    <tr style=\"text-align: right;\">\n",
       "      <th></th>\n",
       "      <th>target</th>\n",
       "    </tr>\n",
       "  </thead>\n",
       "  <tbody>\n",
       "    <tr>\n",
       "      <th>2998</th>\n",
       "      <td>0</td>\n",
       "    </tr>\n",
       "    <tr>\n",
       "      <th>2999</th>\n",
       "      <td>0</td>\n",
       "    </tr>\n",
       "  </tbody>\n",
       "</table>\n",
       "</div>"
      ],
      "text/plain": [
       "      target\n",
       "2998       0\n",
       "2999       0"
      ]
     },
     "metadata": {},
     "output_type": "display_data"
    },
    {
     "data": {
      "text/html": [
       "<div>\n",
       "<style scoped>\n",
       "    .dataframe tbody tr th:only-of-type {\n",
       "        vertical-align: middle;\n",
       "    }\n",
       "\n",
       "    .dataframe tbody tr th {\n",
       "        vertical-align: top;\n",
       "    }\n",
       "\n",
       "    .dataframe thead th {\n",
       "        text-align: right;\n",
       "    }\n",
       "</style>\n",
       "<table border=\"1\" class=\"dataframe\">\n",
       "  <thead>\n",
       "    <tr style=\"text-align: right;\">\n",
       "      <th></th>\n",
       "      <th>0</th>\n",
       "      <th>1</th>\n",
       "      <th>2</th>\n",
       "      <th>3</th>\n",
       "      <th>4</th>\n",
       "      <th>5</th>\n",
       "      <th>6</th>\n",
       "      <th>7</th>\n",
       "      <th>8</th>\n",
       "      <th>9</th>\n",
       "      <th>...</th>\n",
       "      <th>90</th>\n",
       "      <th>91</th>\n",
       "      <th>92</th>\n",
       "      <th>93</th>\n",
       "      <th>94</th>\n",
       "      <th>95</th>\n",
       "      <th>96</th>\n",
       "      <th>97</th>\n",
       "      <th>98</th>\n",
       "      <th>99</th>\n",
       "    </tr>\n",
       "  </thead>\n",
       "  <tbody>\n",
       "    <tr>\n",
       "      <th>2998</th>\n",
       "      <td>1.368399</td>\n",
       "      <td>-16.812201</td>\n",
       "      <td>-4.412622</td>\n",
       "      <td>2.016503</td>\n",
       "      <td>3.703630</td>\n",
       "      <td>-0.996428</td>\n",
       "      <td>2.381283</td>\n",
       "      <td>5.307479</td>\n",
       "      <td>2.067333</td>\n",
       "      <td>4.584327</td>\n",
       "      <td>...</td>\n",
       "      <td>10.700337</td>\n",
       "      <td>7.676720</td>\n",
       "      <td>-4.681452</td>\n",
       "      <td>2.636612</td>\n",
       "      <td>-0.889695</td>\n",
       "      <td>3.067163</td>\n",
       "      <td>-3.243097</td>\n",
       "      <td>5.944349</td>\n",
       "      <td>-3.207697</td>\n",
       "      <td>-3.007382</td>\n",
       "    </tr>\n",
       "    <tr>\n",
       "      <th>2999</th>\n",
       "      <td>-4.072657</td>\n",
       "      <td>16.561551</td>\n",
       "      <td>-8.531204</td>\n",
       "      <td>1.008424</td>\n",
       "      <td>2.985258</td>\n",
       "      <td>1.717147</td>\n",
       "      <td>3.219443</td>\n",
       "      <td>5.040150</td>\n",
       "      <td>0.286600</td>\n",
       "      <td>4.644330</td>\n",
       "      <td>...</td>\n",
       "      <td>-4.244946</td>\n",
       "      <td>1.545331</td>\n",
       "      <td>-0.131956</td>\n",
       "      <td>0.523349</td>\n",
       "      <td>-7.898914</td>\n",
       "      <td>-2.540815</td>\n",
       "      <td>6.386694</td>\n",
       "      <td>-0.439816</td>\n",
       "      <td>45.347969</td>\n",
       "      <td>-10.111725</td>\n",
       "    </tr>\n",
       "  </tbody>\n",
       "</table>\n",
       "<p>2 rows × 100 columns</p>\n",
       "</div>"
      ],
      "text/plain": [
       "            0          1         2         3         4         5         6   \\\n",
       "2998  1.368399 -16.812201 -4.412622  2.016503  3.703630 -0.996428  2.381283   \n",
       "2999 -4.072657  16.561551 -8.531204  1.008424  2.985258  1.717147  3.219443   \n",
       "\n",
       "            7         8         9   ...         90        91        92  \\\n",
       "2998  5.307479  2.067333  4.584327  ...  10.700337  7.676720 -4.681452   \n",
       "2999  5.040150  0.286600  4.644330  ...  -4.244946  1.545331 -0.131956   \n",
       "\n",
       "            93        94        95        96        97         98         99  \n",
       "2998  2.636612 -0.889695  3.067163 -3.243097  5.944349  -3.207697  -3.007382  \n",
       "2999  0.523349 -7.898914 -2.540815  6.386694 -0.439816  45.347969 -10.111725  \n",
       "\n",
       "[2 rows x 100 columns]"
      ]
     },
     "metadata": {},
     "output_type": "display_data"
    },
    {
     "name": "stdout",
     "output_type": "stream",
     "text": [
      "CPU times: user 70.2 ms, sys: 12.7 ms, total: 82.9 ms\n",
      "Wall time: 69.5 ms\n"
     ]
    }
   ],
   "source": [
    "%%time\n",
    "n_samples = 3_000\n",
    "data_size = \"300k\"\n",
    "\n",
    "X, y = make_classification(n_samples=n_samples, n_features=100, n_informative=80, \n",
    "                          n_redundant=10, n_repeated=5, n_classes=2, weights=[.7, .3], \n",
    "                          flip_y=.05, random_state=1)\n",
    "\n",
    "X = pd.DataFrame(X)\n",
    "y = pd.DataFrame(y, columns=['target'])\n",
    "\n",
    "display(y.tail(2))\n",
    "display(X.tail(2))"
   ]
  },
  {
   "cell_type": "markdown",
   "metadata": {
    "nteract": {
     "transient": {
      "deleting": false
     }
    }
   },
   "source": [
    "## Splitting data down to a fraction to test compute times"
   ]
  },
  {
   "cell_type": "code",
   "execution_count": 5,
   "metadata": {
    "collapsed": true,
    "gather": {
     "logged": 1633813412420
    },
    "jupyter": {
     "outputs_hidden": true
    },
    "nteract": {
     "transient": {
      "deleting": false
     }
    }
   },
   "outputs": [
    {
     "name": "stdout",
     "output_type": "stream",
     "text": [
      "(100000, 100)\n",
      "(100000,)\n",
      "(30000, 100)\n",
      "(30000,)\n"
     ]
    }
   ],
   "source": [
    "# 10%\n",
    "X_10 = X[:100000][:]\n",
    "y_10 = y[:100000][:]\n",
    "print(X_10.shape)\n",
    "print(y_10.shape)\n",
    "\n",
    "\n",
    "X_03 = X[:30000][:]\n",
    "y_03 = y[:30000][:]\n",
    "print(X_03.shape)\n",
    "print(y_03.shape)"
   ]
  },
  {
   "cell_type": "markdown",
   "metadata": {},
   "source": [
    "## Splitting data into train / val sets"
   ]
  },
  {
   "cell_type": "code",
   "execution_count": 25,
   "metadata": {},
   "outputs": [
    {
     "data": {
      "text/html": [
       "<div>\n",
       "<style scoped>\n",
       "    .dataframe tbody tr th:only-of-type {\n",
       "        vertical-align: middle;\n",
       "    }\n",
       "\n",
       "    .dataframe tbody tr th {\n",
       "        vertical-align: top;\n",
       "    }\n",
       "\n",
       "    .dataframe thead th {\n",
       "        text-align: right;\n",
       "    }\n",
       "</style>\n",
       "<table border=\"1\" class=\"dataframe\">\n",
       "  <thead>\n",
       "    <tr style=\"text-align: right;\">\n",
       "      <th></th>\n",
       "      <th>target</th>\n",
       "      <th>0</th>\n",
       "      <th>1</th>\n",
       "      <th>2</th>\n",
       "      <th>3</th>\n",
       "      <th>4</th>\n",
       "      <th>5</th>\n",
       "      <th>6</th>\n",
       "      <th>7</th>\n",
       "      <th>8</th>\n",
       "      <th>...</th>\n",
       "      <th>90</th>\n",
       "      <th>91</th>\n",
       "      <th>92</th>\n",
       "      <th>93</th>\n",
       "      <th>94</th>\n",
       "      <th>95</th>\n",
       "      <th>96</th>\n",
       "      <th>97</th>\n",
       "      <th>98</th>\n",
       "      <th>99</th>\n",
       "    </tr>\n",
       "  </thead>\n",
       "  <tbody>\n",
       "    <tr>\n",
       "      <th>1315</th>\n",
       "      <td>0</td>\n",
       "      <td>-6.168686</td>\n",
       "      <td>-17.614621</td>\n",
       "      <td>-7.499313</td>\n",
       "      <td>-1.900653</td>\n",
       "      <td>4.005093</td>\n",
       "      <td>-9.565418</td>\n",
       "      <td>3.303863</td>\n",
       "      <td>-4.085375</td>\n",
       "      <td>-0.030977</td>\n",
       "      <td>...</td>\n",
       "      <td>-0.532509</td>\n",
       "      <td>1.321488</td>\n",
       "      <td>4.185370</td>\n",
       "      <td>13.430650</td>\n",
       "      <td>-6.473629</td>\n",
       "      <td>-1.642542</td>\n",
       "      <td>-4.972049</td>\n",
       "      <td>-5.626168</td>\n",
       "      <td>32.109856</td>\n",
       "      <td>1.313670</td>\n",
       "    </tr>\n",
       "    <tr>\n",
       "      <th>433</th>\n",
       "      <td>0</td>\n",
       "      <td>-7.549080</td>\n",
       "      <td>42.270498</td>\n",
       "      <td>11.822999</td>\n",
       "      <td>12.466024</td>\n",
       "      <td>1.169312</td>\n",
       "      <td>-4.665666</td>\n",
       "      <td>-6.139349</td>\n",
       "      <td>5.679117</td>\n",
       "      <td>-1.168651</td>\n",
       "      <td>...</td>\n",
       "      <td>0.784451</td>\n",
       "      <td>1.047477</td>\n",
       "      <td>-5.201379</td>\n",
       "      <td>-6.339365</td>\n",
       "      <td>-1.925634</td>\n",
       "      <td>5.058573</td>\n",
       "      <td>-1.653160</td>\n",
       "      <td>6.006666</td>\n",
       "      <td>16.754022</td>\n",
       "      <td>-5.664521</td>\n",
       "    </tr>\n",
       "  </tbody>\n",
       "</table>\n",
       "<p>2 rows × 101 columns</p>\n",
       "</div>"
      ],
      "text/plain": [
       "      target         0          1          2          3         4         5  \\\n",
       "1315       0 -6.168686 -17.614621  -7.499313  -1.900653  4.005093 -9.565418   \n",
       "433        0 -7.549080  42.270498  11.822999  12.466024  1.169312 -4.665666   \n",
       "\n",
       "             6         7         8  ...        90        91        92  \\\n",
       "1315  3.303863 -4.085375 -0.030977  ... -0.532509  1.321488  4.185370   \n",
       "433  -6.139349  5.679117 -1.168651  ...  0.784451  1.047477 -5.201379   \n",
       "\n",
       "             93        94        95        96        97         98        99  \n",
       "1315  13.430650 -6.473629 -1.642542 -4.972049 -5.626168  32.109856  1.313670  \n",
       "433   -6.339365 -1.925634  5.058573 -1.653160  6.006666  16.754022 -5.664521  \n",
       "\n",
       "[2 rows x 101 columns]"
      ]
     },
     "metadata": {},
     "output_type": "display_data"
    },
    {
     "data": {
      "text/plain": [
       "(2700, 101)"
      ]
     },
     "metadata": {},
     "output_type": "display_data"
    },
    {
     "data": {
      "text/html": [
       "<div>\n",
       "<style scoped>\n",
       "    .dataframe tbody tr th:only-of-type {\n",
       "        vertical-align: middle;\n",
       "    }\n",
       "\n",
       "    .dataframe tbody tr th {\n",
       "        vertical-align: top;\n",
       "    }\n",
       "\n",
       "    .dataframe thead th {\n",
       "        text-align: right;\n",
       "    }\n",
       "</style>\n",
       "<table border=\"1\" class=\"dataframe\">\n",
       "  <thead>\n",
       "    <tr style=\"text-align: right;\">\n",
       "      <th></th>\n",
       "      <th>target</th>\n",
       "      <th>0</th>\n",
       "      <th>1</th>\n",
       "      <th>2</th>\n",
       "      <th>3</th>\n",
       "      <th>4</th>\n",
       "      <th>5</th>\n",
       "      <th>6</th>\n",
       "      <th>7</th>\n",
       "      <th>8</th>\n",
       "      <th>...</th>\n",
       "      <th>90</th>\n",
       "      <th>91</th>\n",
       "      <th>92</th>\n",
       "      <th>93</th>\n",
       "      <th>94</th>\n",
       "      <th>95</th>\n",
       "      <th>96</th>\n",
       "      <th>97</th>\n",
       "      <th>98</th>\n",
       "      <th>99</th>\n",
       "    </tr>\n",
       "  </thead>\n",
       "  <tbody>\n",
       "    <tr>\n",
       "      <th>2653</th>\n",
       "      <td>1</td>\n",
       "      <td>0.534191</td>\n",
       "      <td>0.829328</td>\n",
       "      <td>-6.754786</td>\n",
       "      <td>3.163261</td>\n",
       "      <td>5.585273</td>\n",
       "      <td>0.472490</td>\n",
       "      <td>0.475165</td>\n",
       "      <td>3.241727</td>\n",
       "      <td>-1.496660</td>\n",
       "      <td>...</td>\n",
       "      <td>-3.388694</td>\n",
       "      <td>4.549834</td>\n",
       "      <td>-10.361358</td>\n",
       "      <td>-0.403238</td>\n",
       "      <td>-3.296943</td>\n",
       "      <td>0.302710</td>\n",
       "      <td>-3.925656</td>\n",
       "      <td>-10.895416</td>\n",
       "      <td>23.462419</td>\n",
       "      <td>-6.517114</td>\n",
       "    </tr>\n",
       "    <tr>\n",
       "      <th>1504</th>\n",
       "      <td>0</td>\n",
       "      <td>-2.411463</td>\n",
       "      <td>-2.369805</td>\n",
       "      <td>5.077662</td>\n",
       "      <td>-2.736486</td>\n",
       "      <td>-7.490427</td>\n",
       "      <td>4.484497</td>\n",
       "      <td>-8.009583</td>\n",
       "      <td>-4.343945</td>\n",
       "      <td>-0.504486</td>\n",
       "      <td>...</td>\n",
       "      <td>9.327888</td>\n",
       "      <td>-0.056883</td>\n",
       "      <td>-3.091176</td>\n",
       "      <td>-3.163054</td>\n",
       "      <td>9.345843</td>\n",
       "      <td>4.149592</td>\n",
       "      <td>-1.065436</td>\n",
       "      <td>-7.291638</td>\n",
       "      <td>-65.948721</td>\n",
       "      <td>1.048596</td>\n",
       "    </tr>\n",
       "  </tbody>\n",
       "</table>\n",
       "<p>2 rows × 101 columns</p>\n",
       "</div>"
      ],
      "text/plain": [
       "      target         0         1         2         3         4         5  \\\n",
       "2653       1  0.534191  0.829328 -6.754786  3.163261  5.585273  0.472490   \n",
       "1504       0 -2.411463 -2.369805  5.077662 -2.736486 -7.490427  4.484497   \n",
       "\n",
       "             6         7         8  ...        90        91         92  \\\n",
       "2653  0.475165  3.241727 -1.496660  ... -3.388694  4.549834 -10.361358   \n",
       "1504 -8.009583 -4.343945 -0.504486  ...  9.327888 -0.056883  -3.091176   \n",
       "\n",
       "            93        94        95        96         97         98        99  \n",
       "2653 -0.403238 -3.296943  0.302710 -3.925656 -10.895416  23.462419 -6.517114  \n",
       "1504 -3.163054  9.345843  4.149592 -1.065436  -7.291638 -65.948721  1.048596  \n",
       "\n",
       "[2 rows x 101 columns]"
      ]
     },
     "metadata": {},
     "output_type": "display_data"
    },
    {
     "data": {
      "text/plain": [
       "(300, 101)"
      ]
     },
     "metadata": {},
     "output_type": "display_data"
    },
    {
     "name": "stdout",
     "output_type": "stream",
     "text": [
      "CPU times: user 77.4 ms, sys: 10.7 ms, total: 88.1 ms\n",
      "Wall time: 91.5 ms\n"
     ]
    }
   ],
   "source": [
    "%%time\n",
    "X_train, X_test, y_train, y_test = train_test_split(X, y, test_size=.1, stratify=y, random_state=1)\n",
    "\n",
    "df_train = pd.concat([y_train, X_train], axis=1)\n",
    "df_val = pd.concat([y_test, X_test], axis=1)\n",
    "\n",
    "display(df_train.tail(1), df_train.shape)\n",
    "display(df_val.tail(1), df_val.shape)"
   ]
  },
  {
   "cell_type": "markdown",
   "metadata": {
    "nteract": {
     "transient": {
      "deleting": false
     }
    }
   },
   "source": [
    "## Exporting to CSV to check file size"
   ]
  },
  {
   "cell_type": "code",
   "execution_count": 4,
   "metadata": {
    "collapsed": true,
    "gather": {
     "logged": 1633502808592
    },
    "jupyter": {
     "outputs_hidden": true,
     "source_hidden": true
    }
   },
   "outputs": [
    {
     "name": "stdout",
     "output_type": "stream",
     "text": [
      "CPU times: user 3min 20s, sys: 2.28 s, total: 3min 22s\n",
      "Wall time: 3min 52s\n"
     ]
    }
   ],
   "source": [
    "%%time\n",
    "X.to_csv(f\"{nb_dir}/x_350m_combo_100f_rs1.csv\", index=False)\n",
    "# y.to_csv(f\"{nb_dir}/y_350m_combo_100f_rs1.csv\", index=False)"
   ]
  },
  {
   "cell_type": "markdown",
   "metadata": {},
   "source": [
    "## Exporting to Parque, and Uploading to S3, and then removing from notebook storage"
   ]
  },
  {
   "cell_type": "code",
   "execution_count": 34,
   "metadata": {},
   "outputs": [
    {
     "name": "stdout",
     "output_type": "stream",
     "text": [
      "Notebook Directories are already created\n",
      "input spec: s3://sagemaker-experiments-10mill-us-east-1-570124035543/300k\n",
      "CPU times: user 333 ms, sys: 17.2 ms, total: 350 ms\n",
      "Wall time: 846 ms\n"
     ]
    }
   ],
   "source": [
    "%%time\n",
    "df_train.columns = df_train.columns.map(str)\n",
    "df_val.columns = df_val.columns.map(str)\n",
    "\n",
    "# creating directory to hold parquet files\n",
    "try:\n",
    "    os.mkdir(f'{nb_dir}/{data_size}')\n",
    "    os.mkdir(f'{nb_dir}/{data_size}/train')\n",
    "    os.mkdir(f'{nb_dir}/{data_size}/val')\n",
    "except:\n",
    "    print(\"Notebook Directories are already created\")\n",
    "\n",
    "# to parquet\n",
    "df_train.to_parquet(f\"{nb_dir}/{data_size}/train/train_{data_size}_100f_rs1.parquet\", index=False)\n",
    "df_val.to_parquet(f\"{nb_dir}/{data_size}/val/val_{data_size}_100f_rs1.parquet\", index=False)\n",
    "\n",
    "# creating S3 bucket (if not already created)\n",
    "bucket = f\"sagemaker-experiments-10mill-{sess.region_name}-{account_id}\"\n",
    "sess.client(\"s3\").create_bucket(Bucket=bucket)\n",
    "\n",
    "# Uploading EFS folder \"3mill\" to S3 bucket\n",
    "prefix = data_size\n",
    "tracker_input_location = sagemaker.Session().upload_data(path=prefix, bucket=bucket, key_prefix=prefix)\n",
    "print(f\"input spec: {tracker_input_location}\")\n",
    "\n",
    "# deleting files in EFS\n",
    "os.remove(f\"{nb_dir}/{data_size}/train/train_{data_size}_100f_rs1.parquet\")\n",
    "os.remove(f\"{nb_dir}/{data_size}/val/val_{data_size}_100f_rs1.parquet\")"
   ]
  },
  {
   "cell_type": "markdown",
   "metadata": {},
   "source": [
    "## Importing from CSV files"
   ]
  },
  {
   "cell_type": "code",
   "execution_count": 32,
   "metadata": {
    "gather": {
     "logged": 1633508337147
    },
    "jupyter": {
     "source_hidden": true
    }
   },
   "outputs": [],
   "source": [
    "X = pd.read_csv(f\"{nb_dir}/x_100m_combo_100f_rs1.csv\")\n",
    "y = pd.read_csv(f\"{nb_dir}/y_100m_combo_100f_rs1.csv\")"
   ]
  },
  {
   "cell_type": "markdown",
   "metadata": {
    "nteract": {
     "transient": {
      "deleting": false
     }
    }
   },
   "source": [
    "## Displaying X dataframe after export / import"
   ]
  },
  {
   "cell_type": "code",
   "execution_count": 3,
   "metadata": {
    "collapsed": true,
    "gather": {
     "logged": 1633499361576
    },
    "jupyter": {
     "outputs_hidden": true,
     "source_hidden": true
    },
    "nteract": {
     "transient": {
      "deleting": false
     }
    }
   },
   "outputs": [
    {
     "data": {
      "text/html": [
       "<div>\n",
       "<style scoped>\n",
       "    .dataframe tbody tr th:only-of-type {\n",
       "        vertical-align: middle;\n",
       "    }\n",
       "\n",
       "    .dataframe tbody tr th {\n",
       "        vertical-align: top;\n",
       "    }\n",
       "\n",
       "    .dataframe thead th {\n",
       "        text-align: right;\n",
       "    }\n",
       "</style>\n",
       "<table border=\"1\" class=\"dataframe\">\n",
       "  <thead>\n",
       "    <tr style=\"text-align: right;\">\n",
       "      <th></th>\n",
       "      <th>0</th>\n",
       "      <th>1</th>\n",
       "      <th>2</th>\n",
       "      <th>3</th>\n",
       "      <th>4</th>\n",
       "      <th>5</th>\n",
       "      <th>6</th>\n",
       "      <th>7</th>\n",
       "      <th>8</th>\n",
       "      <th>9</th>\n",
       "      <th>...</th>\n",
       "      <th>90</th>\n",
       "      <th>91</th>\n",
       "      <th>92</th>\n",
       "      <th>93</th>\n",
       "      <th>94</th>\n",
       "      <th>95</th>\n",
       "      <th>96</th>\n",
       "      <th>97</th>\n",
       "      <th>98</th>\n",
       "      <th>99</th>\n",
       "    </tr>\n",
       "  </thead>\n",
       "  <tbody>\n",
       "    <tr>\n",
       "      <th>999995</th>\n",
       "      <td>7.638479</td>\n",
       "      <td>0.147993</td>\n",
       "      <td>-0.374315</td>\n",
       "      <td>-1.905672</td>\n",
       "      <td>2.100724</td>\n",
       "      <td>4.876262</td>\n",
       "      <td>3.539063</td>\n",
       "      <td>3.724045</td>\n",
       "      <td>-0.035807</td>\n",
       "      <td>12.583887</td>\n",
       "      <td>...</td>\n",
       "      <td>-27.349655</td>\n",
       "      <td>3.110569</td>\n",
       "      <td>-0.387177</td>\n",
       "      <td>-0.440046</td>\n",
       "      <td>-3.978399</td>\n",
       "      <td>-3.284399</td>\n",
       "      <td>-5.888020</td>\n",
       "      <td>-2.889172</td>\n",
       "      <td>1.054599</td>\n",
       "      <td>1.856324</td>\n",
       "    </tr>\n",
       "    <tr>\n",
       "      <th>999996</th>\n",
       "      <td>4.952854</td>\n",
       "      <td>-4.907971</td>\n",
       "      <td>-3.874430</td>\n",
       "      <td>3.285434</td>\n",
       "      <td>1.330459</td>\n",
       "      <td>3.820075</td>\n",
       "      <td>-4.343467</td>\n",
       "      <td>-0.446642</td>\n",
       "      <td>0.937792</td>\n",
       "      <td>-5.886366</td>\n",
       "      <td>...</td>\n",
       "      <td>-17.715663</td>\n",
       "      <td>-1.304413</td>\n",
       "      <td>-1.772847</td>\n",
       "      <td>-7.154627</td>\n",
       "      <td>-8.490058</td>\n",
       "      <td>-0.966438</td>\n",
       "      <td>-4.778945</td>\n",
       "      <td>-3.230334</td>\n",
       "      <td>4.550058</td>\n",
       "      <td>2.558468</td>\n",
       "    </tr>\n",
       "    <tr>\n",
       "      <th>999997</th>\n",
       "      <td>11.011109</td>\n",
       "      <td>2.142859</td>\n",
       "      <td>2.234868</td>\n",
       "      <td>6.290689</td>\n",
       "      <td>-1.949660</td>\n",
       "      <td>-11.516185</td>\n",
       "      <td>-1.778527</td>\n",
       "      <td>8.871909</td>\n",
       "      <td>-0.164823</td>\n",
       "      <td>14.109944</td>\n",
       "      <td>...</td>\n",
       "      <td>-23.813726</td>\n",
       "      <td>-4.862410</td>\n",
       "      <td>0.013348</td>\n",
       "      <td>-5.801830</td>\n",
       "      <td>-1.499662</td>\n",
       "      <td>5.745617</td>\n",
       "      <td>7.858887</td>\n",
       "      <td>4.896642</td>\n",
       "      <td>-6.953329</td>\n",
       "      <td>6.986822</td>\n",
       "    </tr>\n",
       "    <tr>\n",
       "      <th>999998</th>\n",
       "      <td>3.451271</td>\n",
       "      <td>6.111332</td>\n",
       "      <td>0.207175</td>\n",
       "      <td>-1.531731</td>\n",
       "      <td>-1.647576</td>\n",
       "      <td>-3.079046</td>\n",
       "      <td>0.488566</td>\n",
       "      <td>2.746394</td>\n",
       "      <td>-0.162541</td>\n",
       "      <td>17.769461</td>\n",
       "      <td>...</td>\n",
       "      <td>35.495048</td>\n",
       "      <td>8.325566</td>\n",
       "      <td>-1.254650</td>\n",
       "      <td>-7.690576</td>\n",
       "      <td>-1.708708</td>\n",
       "      <td>1.298043</td>\n",
       "      <td>-8.494639</td>\n",
       "      <td>3.796856</td>\n",
       "      <td>0.623049</td>\n",
       "      <td>0.414741</td>\n",
       "    </tr>\n",
       "    <tr>\n",
       "      <th>999999</th>\n",
       "      <td>1.207356</td>\n",
       "      <td>-2.188729</td>\n",
       "      <td>2.292431</td>\n",
       "      <td>-3.228291</td>\n",
       "      <td>-1.414930</td>\n",
       "      <td>2.512614</td>\n",
       "      <td>-0.476338</td>\n",
       "      <td>-1.169076</td>\n",
       "      <td>1.948679</td>\n",
       "      <td>7.196266</td>\n",
       "      <td>...</td>\n",
       "      <td>-10.082629</td>\n",
       "      <td>7.062203</td>\n",
       "      <td>0.874893</td>\n",
       "      <td>-4.480021</td>\n",
       "      <td>-2.348454</td>\n",
       "      <td>5.003265</td>\n",
       "      <td>6.683871</td>\n",
       "      <td>-1.251950</td>\n",
       "      <td>2.403161</td>\n",
       "      <td>5.155323</td>\n",
       "    </tr>\n",
       "  </tbody>\n",
       "</table>\n",
       "<p>5 rows × 100 columns</p>\n",
       "</div>"
      ],
      "text/plain": [
       "               0         1         2         3         4          5   \\\n",
       "999995   7.638479  0.147993 -0.374315 -1.905672  2.100724   4.876262   \n",
       "999996   4.952854 -4.907971 -3.874430  3.285434  1.330459   3.820075   \n",
       "999997  11.011109  2.142859  2.234868  6.290689 -1.949660 -11.516185   \n",
       "999998   3.451271  6.111332  0.207175 -1.531731 -1.647576  -3.079046   \n",
       "999999   1.207356 -2.188729  2.292431 -3.228291 -1.414930   2.512614   \n",
       "\n",
       "              6         7         8          9   ...         90        91  \\\n",
       "999995  3.539063  3.724045 -0.035807  12.583887  ... -27.349655  3.110569   \n",
       "999996 -4.343467 -0.446642  0.937792  -5.886366  ... -17.715663 -1.304413   \n",
       "999997 -1.778527  8.871909 -0.164823  14.109944  ... -23.813726 -4.862410   \n",
       "999998  0.488566  2.746394 -0.162541  17.769461  ...  35.495048  8.325566   \n",
       "999999 -0.476338 -1.169076  1.948679   7.196266  ... -10.082629  7.062203   \n",
       "\n",
       "              92        93        94        95        96        97        98  \\\n",
       "999995 -0.387177 -0.440046 -3.978399 -3.284399 -5.888020 -2.889172  1.054599   \n",
       "999996 -1.772847 -7.154627 -8.490058 -0.966438 -4.778945 -3.230334  4.550058   \n",
       "999997  0.013348 -5.801830 -1.499662  5.745617  7.858887  4.896642 -6.953329   \n",
       "999998 -1.254650 -7.690576 -1.708708  1.298043 -8.494639  3.796856  0.623049   \n",
       "999999  0.874893 -4.480021 -2.348454  5.003265  6.683871 -1.251950  2.403161   \n",
       "\n",
       "              99  \n",
       "999995  1.856324  \n",
       "999996  2.558468  \n",
       "999997  6.986822  \n",
       "999998  0.414741  \n",
       "999999  5.155323  \n",
       "\n",
       "[5 rows x 100 columns]"
      ]
     },
     "metadata": {},
     "output_type": "display_data"
    }
   ],
   "source": [
    "display(X.tail(5))"
   ]
  },
  {
   "cell_type": "markdown",
   "metadata": {},
   "source": [
    "## Creating Null values"
   ]
  },
  {
   "cell_type": "code",
   "execution_count": 3,
   "metadata": {
    "collapsed": true,
    "gather": {
     "logged": 1633570896761
    },
    "jupyter": {
     "outputs_hidden": true,
     "source_hidden": true
    }
   },
   "outputs": [
    {
     "name": "stdout",
     "output_type": "stream",
     "text": [
      "0      954\n",
      "1      893\n",
      "2     1045\n",
      "3     1029\n",
      "4      968\n",
      "      ... \n",
      "95    1026\n",
      "96    1021\n",
      "97     969\n",
      "98    1021\n",
      "99     985\n",
      "Length: 100, dtype: int64\n"
     ]
    }
   ],
   "source": [
    "X = X.mask(np.random.random(X.shape) < .001)\n",
    "print(X.isnull().sum())"
   ]
  },
  {
   "cell_type": "markdown",
   "metadata": {},
   "source": [
    "## Dropping rows with null values"
   ]
  },
  {
   "cell_type": "code",
   "execution_count": 8,
   "metadata": {
    "collapsed": true,
    "gather": {
     "logged": 1633497794501
    },
    "jupyter": {
     "outputs_hidden": true,
     "source_hidden": true
    }
   },
   "outputs": [
    {
     "name": "stdout",
     "output_type": "stream",
     "text": [
      "0     0\n",
      "1     0\n",
      "2     0\n",
      "3     0\n",
      "4     0\n",
      "     ..\n",
      "95    0\n",
      "96    0\n",
      "97    0\n",
      "98    0\n",
      "99    0\n",
      "Length: 100, dtype: int64\n",
      "(819131, 100)\n"
     ]
    }
   ],
   "source": [
    "# X.dropna(inplace=True)\n",
    "print(X.isnull().sum())\n",
    "print(X.shape)"
   ]
  },
  {
   "cell_type": "markdown",
   "metadata": {
    "nteract": {
     "transient": {
      "deleting": false
     }
    }
   },
   "source": [
    "## Train / Test Split for standardization and normalization datasets"
   ]
  },
  {
   "cell_type": "code",
   "execution_count": 4,
   "metadata": {
    "collapsed": true,
    "gather": {
     "logged": 1633839630320
    },
    "jupyter": {
     "outputs_hidden": true,
     "source_hidden": true
    }
   },
   "outputs": [
    {
     "data": {
      "text/html": [
       "<div>\n",
       "<style scoped>\n",
       "    .dataframe tbody tr th:only-of-type {\n",
       "        vertical-align: middle;\n",
       "    }\n",
       "\n",
       "    .dataframe tbody tr th {\n",
       "        vertical-align: top;\n",
       "    }\n",
       "\n",
       "    .dataframe thead th {\n",
       "        text-align: right;\n",
       "    }\n",
       "</style>\n",
       "<table border=\"1\" class=\"dataframe\">\n",
       "  <thead>\n",
       "    <tr style=\"text-align: right;\">\n",
       "      <th></th>\n",
       "      <th>0</th>\n",
       "      <th>1</th>\n",
       "      <th>2</th>\n",
       "      <th>3</th>\n",
       "      <th>4</th>\n",
       "      <th>5</th>\n",
       "      <th>6</th>\n",
       "      <th>7</th>\n",
       "      <th>8</th>\n",
       "      <th>9</th>\n",
       "      <th>...</th>\n",
       "      <th>90</th>\n",
       "      <th>91</th>\n",
       "      <th>92</th>\n",
       "      <th>93</th>\n",
       "      <th>94</th>\n",
       "      <th>95</th>\n",
       "      <th>96</th>\n",
       "      <th>97</th>\n",
       "      <th>98</th>\n",
       "      <th>99</th>\n",
       "    </tr>\n",
       "  </thead>\n",
       "  <tbody>\n",
       "    <tr>\n",
       "      <th>555867</th>\n",
       "      <td>1.556190</td>\n",
       "      <td>0.020741</td>\n",
       "      <td>0.594385</td>\n",
       "      <td>1.602179</td>\n",
       "      <td>-2.687061</td>\n",
       "      <td>7.625087</td>\n",
       "      <td>5.387809</td>\n",
       "      <td>-5.646649</td>\n",
       "      <td>1.606883</td>\n",
       "      <td>-8.464047</td>\n",
       "      <td>...</td>\n",
       "      <td>-19.094069</td>\n",
       "      <td>-3.341379</td>\n",
       "      <td>-0.106984</td>\n",
       "      <td>-1.739371</td>\n",
       "      <td>-5.572937</td>\n",
       "      <td>0.921987</td>\n",
       "      <td>-2.738149</td>\n",
       "      <td>-6.499573</td>\n",
       "      <td>9.266651</td>\n",
       "      <td>0.374013</td>\n",
       "    </tr>\n",
       "    <tr>\n",
       "      <th>30004</th>\n",
       "      <td>1.786718</td>\n",
       "      <td>0.842391</td>\n",
       "      <td>3.965639</td>\n",
       "      <td>-3.174068</td>\n",
       "      <td>-5.188345</td>\n",
       "      <td>2.015973</td>\n",
       "      <td>-4.584984</td>\n",
       "      <td>-5.651028</td>\n",
       "      <td>-1.239148</td>\n",
       "      <td>2.752075</td>\n",
       "      <td>...</td>\n",
       "      <td>-8.751383</td>\n",
       "      <td>-7.896658</td>\n",
       "      <td>-1.146884</td>\n",
       "      <td>0.944707</td>\n",
       "      <td>4.804935</td>\n",
       "      <td>3.795107</td>\n",
       "      <td>2.522585</td>\n",
       "      <td>6.395679</td>\n",
       "      <td>-9.984395</td>\n",
       "      <td>4.980221</td>\n",
       "    </tr>\n",
       "    <tr>\n",
       "      <th>124730</th>\n",
       "      <td>-3.222011</td>\n",
       "      <td>-2.431973</td>\n",
       "      <td>4.345308</td>\n",
       "      <td>5.767431</td>\n",
       "      <td>0.497222</td>\n",
       "      <td>-1.337974</td>\n",
       "      <td>-3.637511</td>\n",
       "      <td>1.236147</td>\n",
       "      <td>-0.300381</td>\n",
       "      <td>5.997685</td>\n",
       "      <td>...</td>\n",
       "      <td>9.550286</td>\n",
       "      <td>1.383661</td>\n",
       "      <td>-2.262372</td>\n",
       "      <td>-3.513557</td>\n",
       "      <td>2.771777</td>\n",
       "      <td>-4.568016</td>\n",
       "      <td>-8.681522</td>\n",
       "      <td>-6.421727</td>\n",
       "      <td>-1.138215</td>\n",
       "      <td>-1.814730</td>\n",
       "    </tr>\n",
       "    <tr>\n",
       "      <th>195783</th>\n",
       "      <td>1.681436</td>\n",
       "      <td>0.115790</td>\n",
       "      <td>-0.730524</td>\n",
       "      <td>5.119406</td>\n",
       "      <td>7.808748</td>\n",
       "      <td>-5.768200</td>\n",
       "      <td>-1.952731</td>\n",
       "      <td>-6.920947</td>\n",
       "      <td>0.432778</td>\n",
       "      <td>11.822049</td>\n",
       "      <td>...</td>\n",
       "      <td>31.971540</td>\n",
       "      <td>11.068442</td>\n",
       "      <td>1.350913</td>\n",
       "      <td>6.448380</td>\n",
       "      <td>4.515823</td>\n",
       "      <td>2.133800</td>\n",
       "      <td>4.039534</td>\n",
       "      <td>0.323831</td>\n",
       "      <td>-5.551352</td>\n",
       "      <td>14.834031</td>\n",
       "    </tr>\n",
       "    <tr>\n",
       "      <th>32132</th>\n",
       "      <td>0.118524</td>\n",
       "      <td>1.635251</td>\n",
       "      <td>-2.128314</td>\n",
       "      <td>-5.030704</td>\n",
       "      <td>2.850023</td>\n",
       "      <td>7.090865</td>\n",
       "      <td>-3.217605</td>\n",
       "      <td>-3.202147</td>\n",
       "      <td>1.142939</td>\n",
       "      <td>10.396271</td>\n",
       "      <td>...</td>\n",
       "      <td>27.270797</td>\n",
       "      <td>-4.727120</td>\n",
       "      <td>0.120959</td>\n",
       "      <td>7.104006</td>\n",
       "      <td>6.068772</td>\n",
       "      <td>2.256933</td>\n",
       "      <td>-5.403182</td>\n",
       "      <td>3.784903</td>\n",
       "      <td>-7.736136</td>\n",
       "      <td>-2.790082</td>\n",
       "    </tr>\n",
       "  </tbody>\n",
       "</table>\n",
       "<p>5 rows × 100 columns</p>\n",
       "</div>"
      ],
      "text/plain": [
       "              0         1         2         3         4         5         6   \\\n",
       "555867  1.556190  0.020741  0.594385  1.602179 -2.687061  7.625087  5.387809   \n",
       "30004   1.786718  0.842391  3.965639 -3.174068 -5.188345  2.015973 -4.584984   \n",
       "124730 -3.222011 -2.431973  4.345308  5.767431  0.497222 -1.337974 -3.637511   \n",
       "195783  1.681436  0.115790 -0.730524  5.119406  7.808748 -5.768200 -1.952731   \n",
       "32132   0.118524  1.635251 -2.128314 -5.030704  2.850023  7.090865 -3.217605   \n",
       "\n",
       "              7         8          9   ...         90         91        92  \\\n",
       "555867 -5.646649  1.606883  -8.464047  ... -19.094069  -3.341379 -0.106984   \n",
       "30004  -5.651028 -1.239148   2.752075  ...  -8.751383  -7.896658 -1.146884   \n",
       "124730  1.236147 -0.300381   5.997685  ...   9.550286   1.383661 -2.262372   \n",
       "195783 -6.920947  0.432778  11.822049  ...  31.971540  11.068442  1.350913   \n",
       "32132  -3.202147  1.142939  10.396271  ...  27.270797  -4.727120  0.120959   \n",
       "\n",
       "              93        94        95        96        97        98         99  \n",
       "555867 -1.739371 -5.572937  0.921987 -2.738149 -6.499573  9.266651   0.374013  \n",
       "30004   0.944707  4.804935  3.795107  2.522585  6.395679 -9.984395   4.980221  \n",
       "124730 -3.513557  2.771777 -4.568016 -8.681522 -6.421727 -1.138215  -1.814730  \n",
       "195783  6.448380  4.515823  2.133800  4.039534  0.323831 -5.551352  14.834031  \n",
       "32132   7.104006  6.068772  2.256933 -5.403182  3.784903 -7.736136  -2.790082  \n",
       "\n",
       "[5 rows x 100 columns]"
      ]
     },
     "metadata": {},
     "output_type": "display_data"
    }
   ],
   "source": [
    "X_train, X_test, y_train, y_test = train_test_split(X, y, test_size=.2, random_state=1)\n",
    "display(X_test.tail(5))"
   ]
  },
  {
   "cell_type": "markdown",
   "metadata": {},
   "source": [
    "## StandardScaling the dataset"
   ]
  },
  {
   "cell_type": "code",
   "execution_count": 5,
   "metadata": {
    "collapsed": true,
    "gather": {
     "logged": 1633572519880
    },
    "jupyter": {
     "outputs_hidden": true,
     "source_hidden": true
    }
   },
   "outputs": [
    {
     "data": {
      "text/html": [
       "<div>\n",
       "<style scoped>\n",
       "    .dataframe tbody tr th:only-of-type {\n",
       "        vertical-align: middle;\n",
       "    }\n",
       "\n",
       "    .dataframe tbody tr th {\n",
       "        vertical-align: top;\n",
       "    }\n",
       "\n",
       "    .dataframe thead th {\n",
       "        text-align: right;\n",
       "    }\n",
       "</style>\n",
       "<table border=\"1\" class=\"dataframe\">\n",
       "  <thead>\n",
       "    <tr style=\"text-align: right;\">\n",
       "      <th></th>\n",
       "      <th>0</th>\n",
       "      <th>1</th>\n",
       "      <th>2</th>\n",
       "      <th>3</th>\n",
       "      <th>4</th>\n",
       "      <th>5</th>\n",
       "      <th>6</th>\n",
       "      <th>7</th>\n",
       "      <th>8</th>\n",
       "      <th>9</th>\n",
       "      <th>...</th>\n",
       "      <th>90</th>\n",
       "      <th>91</th>\n",
       "      <th>92</th>\n",
       "      <th>93</th>\n",
       "      <th>94</th>\n",
       "      <th>95</th>\n",
       "      <th>96</th>\n",
       "      <th>97</th>\n",
       "      <th>98</th>\n",
       "      <th>99</th>\n",
       "    </tr>\n",
       "  </thead>\n",
       "  <tbody>\n",
       "    <tr>\n",
       "      <th>199995</th>\n",
       "      <td>0.233911</td>\n",
       "      <td>-0.130826</td>\n",
       "      <td>-0.080120</td>\n",
       "      <td>0.499653</td>\n",
       "      <td>-0.343484</td>\n",
       "      <td>1.331276</td>\n",
       "      <td>NaN</td>\n",
       "      <td>-1.220713</td>\n",
       "      <td>1.609098</td>\n",
       "      <td>-0.448855</td>\n",
       "      <td>...</td>\n",
       "      <td>-0.729704</td>\n",
       "      <td>-0.660655</td>\n",
       "      <td>-0.107167</td>\n",
       "      <td>-0.261025</td>\n",
       "      <td>-1.109475</td>\n",
       "      <td>0.173521</td>\n",
       "      <td>-0.463218</td>\n",
       "      <td>-1.449980</td>\n",
       "      <td>1.919288</td>\n",
       "      <td>0.014306</td>\n",
       "    </tr>\n",
       "    <tr>\n",
       "      <th>199996</th>\n",
       "      <td>0.280302</td>\n",
       "      <td>0.029519</td>\n",
       "      <td>0.585562</td>\n",
       "      <td>-0.415024</td>\n",
       "      <td>-0.852435</td>\n",
       "      <td>0.252221</td>\n",
       "      <td>-0.856933</td>\n",
       "      <td>-1.221555</td>\n",
       "      <td>-1.238648</td>\n",
       "      <td>0.039377</td>\n",
       "      <td>...</td>\n",
       "      <td>-0.334577</td>\n",
       "      <td>-1.487878</td>\n",
       "      <td>-1.147050</td>\n",
       "      <td>0.260386</td>\n",
       "      <td>0.953966</td>\n",
       "      <td>0.712951</td>\n",
       "      <td>0.533857</td>\n",
       "      <td>1.040999</td>\n",
       "      <td>-1.678566</td>\n",
       "      <td>0.907074</td>\n",
       "    </tr>\n",
       "    <tr>\n",
       "      <th>199997</th>\n",
       "      <td>-0.727635</td>\n",
       "      <td>-0.609473</td>\n",
       "      <td>0.660531</td>\n",
       "      <td>1.297321</td>\n",
       "      <td>0.304441</td>\n",
       "      <td>-0.392995</td>\n",
       "      <td>-0.679574</td>\n",
       "      <td>0.102822</td>\n",
       "      <td>-0.299315</td>\n",
       "      <td>0.180656</td>\n",
       "      <td>...</td>\n",
       "      <td>0.364610</td>\n",
       "      <td>0.197396</td>\n",
       "      <td>-2.262521</td>\n",
       "      <td>-0.605680</td>\n",
       "      <td>0.549712</td>\n",
       "      <td>-0.857230</td>\n",
       "      <td>-1.589675</td>\n",
       "      <td>-1.434942</td>\n",
       "      <td>-0.025291</td>\n",
       "      <td>-0.409913</td>\n",
       "    </tr>\n",
       "    <tr>\n",
       "      <th>199998</th>\n",
       "      <td>0.259115</td>\n",
       "      <td>-0.112277</td>\n",
       "      <td>-0.341734</td>\n",
       "      <td>1.173220</td>\n",
       "      <td>1.792161</td>\n",
       "      <td>-1.245261</td>\n",
       "      <td>-0.364197</td>\n",
       "      <td>-1.465756</td>\n",
       "      <td>0.434286</td>\n",
       "      <td>0.434187</td>\n",
       "      <td>...</td>\n",
       "      <td>1.221180</td>\n",
       "      <td>1.956119</td>\n",
       "      <td>1.350707</td>\n",
       "      <td>1.329534</td>\n",
       "      <td>0.896482</td>\n",
       "      <td>0.401040</td>\n",
       "      <td>0.821366</td>\n",
       "      <td>-0.131902</td>\n",
       "      <td>-0.850068</td>\n",
       "      <td>2.816924</td>\n",
       "    </tr>\n",
       "    <tr>\n",
       "      <th>199999</th>\n",
       "      <td>-0.055399</td>\n",
       "      <td>0.184245</td>\n",
       "      <td>-0.617739</td>\n",
       "      <td>-0.770580</td>\n",
       "      <td>0.783180</td>\n",
       "      <td>1.228505</td>\n",
       "      <td>-0.600971</td>\n",
       "      <td>-0.750645</td>\n",
       "      <td>1.144874</td>\n",
       "      <td>0.372124</td>\n",
       "      <td>...</td>\n",
       "      <td>1.041595</td>\n",
       "      <td>-0.912301</td>\n",
       "      <td>0.120773</td>\n",
       "      <td>1.456896</td>\n",
       "      <td>1.205256</td>\n",
       "      <td>0.424158</td>\n",
       "      <td>-0.968326</td>\n",
       "      <td>0.536675</td>\n",
       "      <td>-1.258386</td>\n",
       "      <td>-0.598954</td>\n",
       "    </tr>\n",
       "  </tbody>\n",
       "</table>\n",
       "<p>5 rows × 100 columns</p>\n",
       "</div>"
      ],
      "text/plain": [
       "              0         1         2         3         4         5         6   \\\n",
       "199995  0.233911 -0.130826 -0.080120  0.499653 -0.343484  1.331276       NaN   \n",
       "199996  0.280302  0.029519  0.585562 -0.415024 -0.852435  0.252221 -0.856933   \n",
       "199997 -0.727635 -0.609473  0.660531  1.297321  0.304441 -0.392995 -0.679574   \n",
       "199998  0.259115 -0.112277 -0.341734  1.173220  1.792161 -1.245261 -0.364197   \n",
       "199999 -0.055399  0.184245 -0.617739 -0.770580  0.783180  1.228505 -0.600971   \n",
       "\n",
       "              7         8         9   ...        90        91        92  \\\n",
       "199995 -1.220713  1.609098 -0.448855  ... -0.729704 -0.660655 -0.107167   \n",
       "199996 -1.221555 -1.238648  0.039377  ... -0.334577 -1.487878 -1.147050   \n",
       "199997  0.102822 -0.299315  0.180656  ...  0.364610  0.197396 -2.262521   \n",
       "199998 -1.465756  0.434286  0.434187  ...  1.221180  1.956119  1.350707   \n",
       "199999 -0.750645  1.144874  0.372124  ...  1.041595 -0.912301  0.120773   \n",
       "\n",
       "              93        94        95        96        97        98        99  \n",
       "199995 -0.261025 -1.109475  0.173521 -0.463218 -1.449980  1.919288  0.014306  \n",
       "199996  0.260386  0.953966  0.712951  0.533857  1.040999 -1.678566  0.907074  \n",
       "199997 -0.605680  0.549712 -0.857230 -1.589675 -1.434942 -0.025291 -0.409913  \n",
       "199998  1.329534  0.896482  0.401040  0.821366 -0.131902 -0.850068  2.816924  \n",
       "199999  1.456896  1.205256  0.424158 -0.968326  0.536675 -1.258386 -0.598954  \n",
       "\n",
       "[5 rows x 100 columns]"
      ]
     },
     "metadata": {},
     "output_type": "display_data"
    },
    {
     "data": {
      "text/html": [
       "<div>\n",
       "<style scoped>\n",
       "    .dataframe tbody tr th:only-of-type {\n",
       "        vertical-align: middle;\n",
       "    }\n",
       "\n",
       "    .dataframe tbody tr th {\n",
       "        vertical-align: top;\n",
       "    }\n",
       "\n",
       "    .dataframe thead th {\n",
       "        text-align: right;\n",
       "    }\n",
       "</style>\n",
       "<table border=\"1\" class=\"dataframe\">\n",
       "  <thead>\n",
       "    <tr style=\"text-align: right;\">\n",
       "      <th></th>\n",
       "      <th>0</th>\n",
       "      <th>1</th>\n",
       "      <th>2</th>\n",
       "      <th>3</th>\n",
       "      <th>4</th>\n",
       "      <th>5</th>\n",
       "      <th>6</th>\n",
       "      <th>7</th>\n",
       "      <th>8</th>\n",
       "      <th>9</th>\n",
       "      <th>...</th>\n",
       "      <th>90</th>\n",
       "      <th>91</th>\n",
       "      <th>92</th>\n",
       "      <th>93</th>\n",
       "      <th>94</th>\n",
       "      <th>95</th>\n",
       "      <th>96</th>\n",
       "      <th>97</th>\n",
       "      <th>98</th>\n",
       "      <th>99</th>\n",
       "    </tr>\n",
       "  </thead>\n",
       "  <tbody>\n",
       "    <tr>\n",
       "      <th>799995</th>\n",
       "      <td>-0.109773</td>\n",
       "      <td>1.311153</td>\n",
       "      <td>0.250414</td>\n",
       "      <td>-0.066658</td>\n",
       "      <td>-1.062258</td>\n",
       "      <td>-1.270989</td>\n",
       "      <td>-2.257541</td>\n",
       "      <td>0.174360</td>\n",
       "      <td>-0.277618</td>\n",
       "      <td>0.509769</td>\n",
       "      <td>...</td>\n",
       "      <td>1.738462</td>\n",
       "      <td>1.029706</td>\n",
       "      <td>0.248588</td>\n",
       "      <td>-1.180291</td>\n",
       "      <td>-0.794314</td>\n",
       "      <td>-0.446755</td>\n",
       "      <td>-1.150908</td>\n",
       "      <td>1.905051</td>\n",
       "      <td>-0.103247</td>\n",
       "      <td>0.427607</td>\n",
       "    </tr>\n",
       "    <tr>\n",
       "      <th>799996</th>\n",
       "      <td>-0.242395</td>\n",
       "      <td>-0.683968</td>\n",
       "      <td>-1.038902</td>\n",
       "      <td>-0.798364</td>\n",
       "      <td>0.587775</td>\n",
       "      <td>-0.141138</td>\n",
       "      <td>-0.939603</td>\n",
       "      <td>-2.400898</td>\n",
       "      <td>-0.014131</td>\n",
       "      <td>-0.568141</td>\n",
       "      <td>...</td>\n",
       "      <td>0.029812</td>\n",
       "      <td>-0.203461</td>\n",
       "      <td>-0.066536</td>\n",
       "      <td>1.182214</td>\n",
       "      <td>-1.158379</td>\n",
       "      <td>0.656318</td>\n",
       "      <td>-1.107388</td>\n",
       "      <td>0.202305</td>\n",
       "      <td>-0.534834</td>\n",
       "      <td>-1.292867</td>\n",
       "    </tr>\n",
       "    <tr>\n",
       "      <th>799997</th>\n",
       "      <td>1.053083</td>\n",
       "      <td>0.432548</td>\n",
       "      <td>-0.000441</td>\n",
       "      <td>1.199118</td>\n",
       "      <td>-0.300708</td>\n",
       "      <td>-0.782744</td>\n",
       "      <td>1.913385</td>\n",
       "      <td>0.965855</td>\n",
       "      <td>-0.266271</td>\n",
       "      <td>1.847446</td>\n",
       "      <td>...</td>\n",
       "      <td>-0.713098</td>\n",
       "      <td>-0.471744</td>\n",
       "      <td>-1.189857</td>\n",
       "      <td>0.795317</td>\n",
       "      <td>-0.654417</td>\n",
       "      <td>-0.820345</td>\n",
       "      <td>2.053118</td>\n",
       "      <td>0.623389</td>\n",
       "      <td>1.967429</td>\n",
       "      <td>-1.965470</td>\n",
       "    </tr>\n",
       "    <tr>\n",
       "      <th>799998</th>\n",
       "      <td>-0.887637</td>\n",
       "      <td>0.062255</td>\n",
       "      <td>1.322206</td>\n",
       "      <td>-0.474792</td>\n",
       "      <td>0.172709</td>\n",
       "      <td>-0.296926</td>\n",
       "      <td>-0.195020</td>\n",
       "      <td>1.331353</td>\n",
       "      <td>-1.431327</td>\n",
       "      <td>0.418113</td>\n",
       "      <td>...</td>\n",
       "      <td>-1.617757</td>\n",
       "      <td>0.085753</td>\n",
       "      <td>0.214746</td>\n",
       "      <td>0.008300</td>\n",
       "      <td>1.259090</td>\n",
       "      <td>0.002474</td>\n",
       "      <td>0.131515</td>\n",
       "      <td>-1.188850</td>\n",
       "      <td>-0.710652</td>\n",
       "      <td>-0.046732</td>\n",
       "    </tr>\n",
       "    <tr>\n",
       "      <th>799999</th>\n",
       "      <td>0.357036</td>\n",
       "      <td>0.104450</td>\n",
       "      <td>-0.532406</td>\n",
       "      <td>-0.065055</td>\n",
       "      <td>1.065071</td>\n",
       "      <td>-0.116699</td>\n",
       "      <td>-1.105223</td>\n",
       "      <td>-0.416875</td>\n",
       "      <td>0.505610</td>\n",
       "      <td>-2.261770</td>\n",
       "      <td>...</td>\n",
       "      <td>-0.766303</td>\n",
       "      <td>-1.359875</td>\n",
       "      <td>1.582313</td>\n",
       "      <td>0.023070</td>\n",
       "      <td>0.884665</td>\n",
       "      <td>-0.247674</td>\n",
       "      <td>-0.758388</td>\n",
       "      <td>1.448304</td>\n",
       "      <td>1.018088</td>\n",
       "      <td>-0.641026</td>\n",
       "    </tr>\n",
       "  </tbody>\n",
       "</table>\n",
       "<p>5 rows × 100 columns</p>\n",
       "</div>"
      ],
      "text/plain": [
       "              0         1         2         3         4         5         6   \\\n",
       "799995 -0.109773  1.311153  0.250414 -0.066658 -1.062258 -1.270989 -2.257541   \n",
       "799996 -0.242395 -0.683968 -1.038902 -0.798364  0.587775 -0.141138 -0.939603   \n",
       "799997  1.053083  0.432548 -0.000441  1.199118 -0.300708 -0.782744  1.913385   \n",
       "799998 -0.887637  0.062255  1.322206 -0.474792  0.172709 -0.296926 -0.195020   \n",
       "799999  0.357036  0.104450 -0.532406 -0.065055  1.065071 -0.116699 -1.105223   \n",
       "\n",
       "              7         8         9   ...        90        91        92  \\\n",
       "799995  0.174360 -0.277618  0.509769  ...  1.738462  1.029706  0.248588   \n",
       "799996 -2.400898 -0.014131 -0.568141  ...  0.029812 -0.203461 -0.066536   \n",
       "799997  0.965855 -0.266271  1.847446  ... -0.713098 -0.471744 -1.189857   \n",
       "799998  1.331353 -1.431327  0.418113  ... -1.617757  0.085753  0.214746   \n",
       "799999 -0.416875  0.505610 -2.261770  ... -0.766303 -1.359875  1.582313   \n",
       "\n",
       "              93        94        95        96        97        98        99  \n",
       "799995 -1.180291 -0.794314 -0.446755 -1.150908  1.905051 -0.103247  0.427607  \n",
       "799996  1.182214 -1.158379  0.656318 -1.107388  0.202305 -0.534834 -1.292867  \n",
       "799997  0.795317 -0.654417 -0.820345  2.053118  0.623389  1.967429 -1.965470  \n",
       "799998  0.008300  1.259090  0.002474  0.131515 -1.188850 -0.710652 -0.046732  \n",
       "799999  0.023070  0.884665 -0.247674 -0.758388  1.448304  1.018088 -0.641026  \n",
       "\n",
       "[5 rows x 100 columns]"
      ]
     },
     "metadata": {},
     "output_type": "display_data"
    }
   ],
   "source": [
    "from sklearn.preprocessing import StandardScaler\n",
    "scaler = StandardScaler()\n",
    "scaler.fit(X_train)\n",
    "X_train_s = pd.DataFrame(scaler.transform(X_train))\n",
    "X_test_s = pd.DataFrame(scaler.transform(X_test))\n",
    "\n",
    "display(X_test_s.tail(5))\n",
    "display(X_train_s.tail(5))"
   ]
  },
  {
   "cell_type": "markdown",
   "metadata": {
    "nteract": {
     "transient": {
      "deleting": false
     }
    }
   },
   "source": [
    "## MinMax Scaling the dataset"
   ]
  },
  {
   "cell_type": "code",
   "execution_count": 7,
   "metadata": {
    "collapsed": true,
    "gather": {
     "logged": 1633572550057
    },
    "jupyter": {
     "outputs_hidden": true,
     "source_hidden": true
    },
    "nteract": {
     "transient": {
      "deleting": false
     }
    }
   },
   "outputs": [
    {
     "data": {
      "text/html": [
       "<div>\n",
       "<style scoped>\n",
       "    .dataframe tbody tr th:only-of-type {\n",
       "        vertical-align: middle;\n",
       "    }\n",
       "\n",
       "    .dataframe tbody tr th {\n",
       "        vertical-align: top;\n",
       "    }\n",
       "\n",
       "    .dataframe thead th {\n",
       "        text-align: right;\n",
       "    }\n",
       "</style>\n",
       "<table border=\"1\" class=\"dataframe\">\n",
       "  <thead>\n",
       "    <tr style=\"text-align: right;\">\n",
       "      <th></th>\n",
       "      <th>0</th>\n",
       "      <th>1</th>\n",
       "      <th>2</th>\n",
       "      <th>3</th>\n",
       "      <th>4</th>\n",
       "      <th>5</th>\n",
       "      <th>6</th>\n",
       "      <th>7</th>\n",
       "      <th>8</th>\n",
       "      <th>9</th>\n",
       "      <th>...</th>\n",
       "      <th>90</th>\n",
       "      <th>91</th>\n",
       "      <th>92</th>\n",
       "      <th>93</th>\n",
       "      <th>94</th>\n",
       "      <th>95</th>\n",
       "      <th>96</th>\n",
       "      <th>97</th>\n",
       "      <th>98</th>\n",
       "      <th>99</th>\n",
       "    </tr>\n",
       "  </thead>\n",
       "  <tbody>\n",
       "    <tr>\n",
       "      <th>199995</th>\n",
       "      <td>0.537131</td>\n",
       "      <td>0.454154</td>\n",
       "      <td>0.518492</td>\n",
       "      <td>0.560652</td>\n",
       "      <td>0.494506</td>\n",
       "      <td>0.619928</td>\n",
       "      <td>NaN</td>\n",
       "      <td>0.360612</td>\n",
       "      <td>0.675717</td>\n",
       "      <td>0.455385</td>\n",
       "      <td>...</td>\n",
       "      <td>0.399148</td>\n",
       "      <td>0.464638</td>\n",
       "      <td>0.522966</td>\n",
       "      <td>0.463583</td>\n",
       "      <td>0.390091</td>\n",
       "      <td>0.531989</td>\n",
       "      <td>0.449073</td>\n",
       "      <td>0.363569</td>\n",
       "      <td>0.725550</td>\n",
       "      <td>0.520679</td>\n",
       "    </tr>\n",
       "    <tr>\n",
       "      <th>199996</th>\n",
       "      <td>0.541848</td>\n",
       "      <td>0.470346</td>\n",
       "      <td>0.585812</td>\n",
       "      <td>0.466083</td>\n",
       "      <td>0.445064</td>\n",
       "      <td>0.511950</td>\n",
       "      <td>0.393341</td>\n",
       "      <td>0.360525</td>\n",
       "      <td>0.379102</td>\n",
       "      <td>0.505550</td>\n",
       "      <td>...</td>\n",
       "      <td>0.440411</td>\n",
       "      <td>0.382849</td>\n",
       "      <td>0.410560</td>\n",
       "      <td>0.516995</td>\n",
       "      <td>0.610566</td>\n",
       "      <td>0.589461</td>\n",
       "      <td>0.556168</td>\n",
       "      <td>0.615147</td>\n",
       "      <td>0.354379</td>\n",
       "      <td>0.610304</td>\n",
       "    </tr>\n",
       "    <tr>\n",
       "      <th>199997</th>\n",
       "      <td>0.439360</td>\n",
       "      <td>0.405818</td>\n",
       "      <td>0.593393</td>\n",
       "      <td>0.643123</td>\n",
       "      <td>0.557449</td>\n",
       "      <td>0.447385</td>\n",
       "      <td>0.412022</td>\n",
       "      <td>0.498258</td>\n",
       "      <td>0.476941</td>\n",
       "      <td>0.520066</td>\n",
       "      <td>...</td>\n",
       "      <td>0.513428</td>\n",
       "      <td>0.549474</td>\n",
       "      <td>0.289984</td>\n",
       "      <td>0.428277</td>\n",
       "      <td>0.567372</td>\n",
       "      <td>0.422169</td>\n",
       "      <td>0.328082</td>\n",
       "      <td>0.365088</td>\n",
       "      <td>0.524938</td>\n",
       "      <td>0.478091</td>\n",
       "    </tr>\n",
       "    <tr>\n",
       "      <th>199998</th>\n",
       "      <td>0.539694</td>\n",
       "      <td>0.456027</td>\n",
       "      <td>0.492036</td>\n",
       "      <td>0.630292</td>\n",
       "      <td>0.701974</td>\n",
       "      <td>0.362101</td>\n",
       "      <td>0.445241</td>\n",
       "      <td>0.335128</td>\n",
       "      <td>0.553351</td>\n",
       "      <td>0.546116</td>\n",
       "      <td>...</td>\n",
       "      <td>0.602880</td>\n",
       "      <td>0.723361</td>\n",
       "      <td>0.680554</td>\n",
       "      <td>0.626517</td>\n",
       "      <td>0.604424</td>\n",
       "      <td>0.556229</td>\n",
       "      <td>0.587049</td>\n",
       "      <td>0.496689</td>\n",
       "      <td>0.439851</td>\n",
       "      <td>0.802035</td>\n",
       "    </tr>\n",
       "    <tr>\n",
       "      <th>199999</th>\n",
       "      <td>0.507714</td>\n",
       "      <td>0.485971</td>\n",
       "      <td>0.464124</td>\n",
       "      <td>0.429322</td>\n",
       "      <td>0.603956</td>\n",
       "      <td>0.609644</td>\n",
       "      <td>0.420301</td>\n",
       "      <td>0.409499</td>\n",
       "      <td>0.627364</td>\n",
       "      <td>0.539739</td>\n",
       "      <td>...</td>\n",
       "      <td>0.584126</td>\n",
       "      <td>0.439757</td>\n",
       "      <td>0.547605</td>\n",
       "      <td>0.639564</td>\n",
       "      <td>0.637416</td>\n",
       "      <td>0.558692</td>\n",
       "      <td>0.394820</td>\n",
       "      <td>0.564212</td>\n",
       "      <td>0.397727</td>\n",
       "      <td>0.459113</td>\n",
       "    </tr>\n",
       "  </tbody>\n",
       "</table>\n",
       "<p>5 rows × 100 columns</p>\n",
       "</div>"
      ],
      "text/plain": [
       "              0         1         2         3         4         5         6   \\\n",
       "199995  0.537131  0.454154  0.518492  0.560652  0.494506  0.619928       NaN   \n",
       "199996  0.541848  0.470346  0.585812  0.466083  0.445064  0.511950  0.393341   \n",
       "199997  0.439360  0.405818  0.593393  0.643123  0.557449  0.447385  0.412022   \n",
       "199998  0.539694  0.456027  0.492036  0.630292  0.701974  0.362101  0.445241   \n",
       "199999  0.507714  0.485971  0.464124  0.429322  0.603956  0.609644  0.420301   \n",
       "\n",
       "              7         8         9   ...        90        91        92  \\\n",
       "199995  0.360612  0.675717  0.455385  ...  0.399148  0.464638  0.522966   \n",
       "199996  0.360525  0.379102  0.505550  ...  0.440411  0.382849  0.410560   \n",
       "199997  0.498258  0.476941  0.520066  ...  0.513428  0.549474  0.289984   \n",
       "199998  0.335128  0.553351  0.546116  ...  0.602880  0.723361  0.680554   \n",
       "199999  0.409499  0.627364  0.539739  ...  0.584126  0.439757  0.547605   \n",
       "\n",
       "              93        94        95        96        97        98        99  \n",
       "199995  0.463583  0.390091  0.531989  0.449073  0.363569  0.725550  0.520679  \n",
       "199996  0.516995  0.610566  0.589461  0.556168  0.615147  0.354379  0.610304  \n",
       "199997  0.428277  0.567372  0.422169  0.328082  0.365088  0.524938  0.478091  \n",
       "199998  0.626517  0.604424  0.556229  0.587049  0.496689  0.439851  0.802035  \n",
       "199999  0.639564  0.637416  0.558692  0.394820  0.564212  0.397727  0.459113  \n",
       "\n",
       "[5 rows x 100 columns]"
      ]
     },
     "metadata": {},
     "output_type": "display_data"
    },
    {
     "data": {
      "text/html": [
       "<div>\n",
       "<style scoped>\n",
       "    .dataframe tbody tr th:only-of-type {\n",
       "        vertical-align: middle;\n",
       "    }\n",
       "\n",
       "    .dataframe tbody tr th {\n",
       "        vertical-align: top;\n",
       "    }\n",
       "\n",
       "    .dataframe thead th {\n",
       "        text-align: right;\n",
       "    }\n",
       "</style>\n",
       "<table border=\"1\" class=\"dataframe\">\n",
       "  <thead>\n",
       "    <tr style=\"text-align: right;\">\n",
       "      <th></th>\n",
       "      <th>0</th>\n",
       "      <th>1</th>\n",
       "      <th>2</th>\n",
       "      <th>3</th>\n",
       "      <th>4</th>\n",
       "      <th>5</th>\n",
       "      <th>6</th>\n",
       "      <th>7</th>\n",
       "      <th>8</th>\n",
       "      <th>9</th>\n",
       "      <th>...</th>\n",
       "      <th>90</th>\n",
       "      <th>91</th>\n",
       "      <th>92</th>\n",
       "      <th>93</th>\n",
       "      <th>94</th>\n",
       "      <th>95</th>\n",
       "      <th>96</th>\n",
       "      <th>97</th>\n",
       "      <th>98</th>\n",
       "      <th>99</th>\n",
       "    </tr>\n",
       "  </thead>\n",
       "  <tbody>\n",
       "    <tr>\n",
       "      <th>799995</th>\n",
       "      <td>0.502185</td>\n",
       "      <td>0.599771</td>\n",
       "      <td>0.551919</td>\n",
       "      <td>0.502100</td>\n",
       "      <td>0.424681</td>\n",
       "      <td>0.359527</td>\n",
       "      <td>0.245814</td>\n",
       "      <td>0.505698</td>\n",
       "      <td>0.479201</td>\n",
       "      <td>0.553882</td>\n",
       "      <td>...</td>\n",
       "      <td>0.656900</td>\n",
       "      <td>0.631765</td>\n",
       "      <td>0.561421</td>\n",
       "      <td>0.369414</td>\n",
       "      <td>0.423765</td>\n",
       "      <td>0.465902</td>\n",
       "      <td>0.375209</td>\n",
       "      <td>0.702412</td>\n",
       "      <td>0.516896</td>\n",
       "      <td>0.562170</td>\n",
       "    </tr>\n",
       "    <tr>\n",
       "      <th>799996</th>\n",
       "      <td>0.488700</td>\n",
       "      <td>0.398295</td>\n",
       "      <td>0.421533</td>\n",
       "      <td>0.426449</td>\n",
       "      <td>0.584974</td>\n",
       "      <td>0.472588</td>\n",
       "      <td>0.384633</td>\n",
       "      <td>0.237875</td>\n",
       "      <td>0.506645</td>\n",
       "      <td>0.443128</td>\n",
       "      <td>...</td>\n",
       "      <td>0.478465</td>\n",
       "      <td>0.509841</td>\n",
       "      <td>0.527358</td>\n",
       "      <td>0.611426</td>\n",
       "      <td>0.384865</td>\n",
       "      <td>0.583427</td>\n",
       "      <td>0.379884</td>\n",
       "      <td>0.530442</td>\n",
       "      <td>0.472372</td>\n",
       "      <td>0.389451</td>\n",
       "    </tr>\n",
       "    <tr>\n",
       "      <th>799997</th>\n",
       "      <td>0.620425</td>\n",
       "      <td>0.511046</td>\n",
       "      <td>0.526550</td>\n",
       "      <td>0.632970</td>\n",
       "      <td>0.498662</td>\n",
       "      <td>0.408384</td>\n",
       "      <td>0.685139</td>\n",
       "      <td>0.588012</td>\n",
       "      <td>0.480382</td>\n",
       "      <td>0.691327</td>\n",
       "      <td>...</td>\n",
       "      <td>0.400882</td>\n",
       "      <td>0.483316</td>\n",
       "      <td>0.405933</td>\n",
       "      <td>0.571793</td>\n",
       "      <td>0.438713</td>\n",
       "      <td>0.426099</td>\n",
       "      <td>0.719350</td>\n",
       "      <td>0.572970</td>\n",
       "      <td>0.730516</td>\n",
       "      <td>0.321928</td>\n",
       "    </tr>\n",
       "    <tr>\n",
       "      <th>799998</th>\n",
       "      <td>0.423091</td>\n",
       "      <td>0.473652</td>\n",
       "      <td>0.660307</td>\n",
       "      <td>0.459903</td>\n",
       "      <td>0.544652</td>\n",
       "      <td>0.456999</td>\n",
       "      <td>0.463060</td>\n",
       "      <td>0.626023</td>\n",
       "      <td>0.359033</td>\n",
       "      <td>0.544465</td>\n",
       "      <td>...</td>\n",
       "      <td>0.306408</td>\n",
       "      <td>0.538436</td>\n",
       "      <td>0.557763</td>\n",
       "      <td>0.491172</td>\n",
       "      <td>0.643168</td>\n",
       "      <td>0.513765</td>\n",
       "      <td>0.512953</td>\n",
       "      <td>0.389942</td>\n",
       "      <td>0.454233</td>\n",
       "      <td>0.514551</td>\n",
       "    </tr>\n",
       "    <tr>\n",
       "      <th>799999</th>\n",
       "      <td>0.549651</td>\n",
       "      <td>0.477913</td>\n",
       "      <td>0.472754</td>\n",
       "      <td>0.502266</td>\n",
       "      <td>0.631341</td>\n",
       "      <td>0.475033</td>\n",
       "      <td>0.367188</td>\n",
       "      <td>0.444210</td>\n",
       "      <td>0.560780</td>\n",
       "      <td>0.269109</td>\n",
       "      <td>...</td>\n",
       "      <td>0.395326</td>\n",
       "      <td>0.395505</td>\n",
       "      <td>0.705590</td>\n",
       "      <td>0.492685</td>\n",
       "      <td>0.603161</td>\n",
       "      <td>0.487113</td>\n",
       "      <td>0.417369</td>\n",
       "      <td>0.656282</td>\n",
       "      <td>0.632578</td>\n",
       "      <td>0.454889</td>\n",
       "    </tr>\n",
       "  </tbody>\n",
       "</table>\n",
       "<p>5 rows × 100 columns</p>\n",
       "</div>"
      ],
      "text/plain": [
       "              0         1         2         3         4         5         6   \\\n",
       "799995  0.502185  0.599771  0.551919  0.502100  0.424681  0.359527  0.245814   \n",
       "799996  0.488700  0.398295  0.421533  0.426449  0.584974  0.472588  0.384633   \n",
       "799997  0.620425  0.511046  0.526550  0.632970  0.498662  0.408384  0.685139   \n",
       "799998  0.423091  0.473652  0.660307  0.459903  0.544652  0.456999  0.463060   \n",
       "799999  0.549651  0.477913  0.472754  0.502266  0.631341  0.475033  0.367188   \n",
       "\n",
       "              7         8         9   ...        90        91        92  \\\n",
       "799995  0.505698  0.479201  0.553882  ...  0.656900  0.631765  0.561421   \n",
       "799996  0.237875  0.506645  0.443128  ...  0.478465  0.509841  0.527358   \n",
       "799997  0.588012  0.480382  0.691327  ...  0.400882  0.483316  0.405933   \n",
       "799998  0.626023  0.359033  0.544465  ...  0.306408  0.538436  0.557763   \n",
       "799999  0.444210  0.560780  0.269109  ...  0.395326  0.395505  0.705590   \n",
       "\n",
       "              93        94        95        96        97        98        99  \n",
       "799995  0.369414  0.423765  0.465902  0.375209  0.702412  0.516896  0.562170  \n",
       "799996  0.611426  0.384865  0.583427  0.379884  0.530442  0.472372  0.389451  \n",
       "799997  0.571793  0.438713  0.426099  0.719350  0.572970  0.730516  0.321928  \n",
       "799998  0.491172  0.643168  0.513765  0.512953  0.389942  0.454233  0.514551  \n",
       "799999  0.492685  0.603161  0.487113  0.417369  0.656282  0.632578  0.454889  \n",
       "\n",
       "[5 rows x 100 columns]"
      ]
     },
     "metadata": {},
     "output_type": "display_data"
    }
   ],
   "source": [
    "from sklearn.preprocessing import MinMaxScaler\n",
    "MMscaler = MinMaxScaler()\n",
    "MMscaler.fit(X_train_s)\n",
    "\n",
    "X_train_s_mm = pd.DataFrame(MMscaler.transform(X_train_s))\n",
    "X_test_s_mm = pd.DataFrame(MMscaler.transform(X_test_s))\n",
    "\n",
    "display(X_test_s_mm.tail(5))\n",
    "display(X_train_s_mm.tail(5))"
   ]
  },
  {
   "cell_type": "markdown",
   "metadata": {},
   "source": [
    "## Imputing missing values with iterative imputer on Standardized and Normalized Dataset"
   ]
  },
  {
   "cell_type": "code",
   "execution_count": 23,
   "metadata": {
    "collapsed": true,
    "gather": {
     "logged": 1633506696592
    },
    "jupyter": {
     "outputs_hidden": true,
     "source_hidden": true
    }
   },
   "outputs": [
    {
     "name": "stderr",
     "output_type": "stream",
     "text": [
      "/anaconda/envs/azureml_py38/lib/python3.8/site-packages/sklearn/impute/_iterative.py:637: ConvergenceWarning: [IterativeImputer] Early stopping criterion not reached.\n",
      "  warnings.warn(\"[IterativeImputer] Early stopping criterion not\"\n"
     ]
    },
    {
     "data": {
      "text/plain": [
       "IterativeImputer(add_indicator=False, estimator=None,\n",
       "                 imputation_order='ascending', initial_strategy='mean',\n",
       "                 max_iter=10, max_value=None, min_value=None,\n",
       "                 missing_values=nan, n_nearest_features=None, random_state=None,\n",
       "                 sample_posterior=False, skip_complete=False, tol=0.001,\n",
       "                 verbose=0)"
      ]
     },
     "execution_count": 23,
     "metadata": {},
     "output_type": "execute_result"
    }
   ],
   "source": [
    "imputer = IterativeImputer()\n",
    "imputer.fit(X_test_s_mm)\n",
    "\n",
    "# X_train_s_mm_i = imputer.fit_transform(X_train_s_scaled_mm)\n",
    "# X_train_s_mm_i = pd.DataFrame(X_train_s_mm_i)\n",
    "# display(X.tail(5))\n",
    "# print(f'{X_train_s_mm_i.isnull().sum()}')"
   ]
  },
  {
   "cell_type": "code",
   "execution_count": 25,
   "metadata": {
    "collapsed": true,
    "gather": {
     "logged": 1633507239752
    },
    "jupyter": {
     "outputs_hidden": true,
     "source_hidden": true
    },
    "nteract": {
     "transient": {
      "deleting": false
     }
    }
   },
   "outputs": [
    {
     "data": {
      "text/html": [
       "<div>\n",
       "<style scoped>\n",
       "    .dataframe tbody tr th:only-of-type {\n",
       "        vertical-align: middle;\n",
       "    }\n",
       "\n",
       "    .dataframe tbody tr th {\n",
       "        vertical-align: top;\n",
       "    }\n",
       "\n",
       "    .dataframe thead th {\n",
       "        text-align: right;\n",
       "    }\n",
       "</style>\n",
       "<table border=\"1\" class=\"dataframe\">\n",
       "  <thead>\n",
       "    <tr style=\"text-align: right;\">\n",
       "      <th></th>\n",
       "      <th>0</th>\n",
       "      <th>1</th>\n",
       "      <th>2</th>\n",
       "      <th>3</th>\n",
       "      <th>4</th>\n",
       "      <th>5</th>\n",
       "      <th>6</th>\n",
       "      <th>7</th>\n",
       "      <th>8</th>\n",
       "      <th>9</th>\n",
       "      <th>...</th>\n",
       "      <th>90</th>\n",
       "      <th>91</th>\n",
       "      <th>92</th>\n",
       "      <th>93</th>\n",
       "      <th>94</th>\n",
       "      <th>95</th>\n",
       "      <th>96</th>\n",
       "      <th>97</th>\n",
       "      <th>98</th>\n",
       "      <th>99</th>\n",
       "    </tr>\n",
       "  </thead>\n",
       "  <tbody>\n",
       "    <tr>\n",
       "      <th>199995</th>\n",
       "      <td>0.537131</td>\n",
       "      <td>0.454154</td>\n",
       "      <td>0.518492</td>\n",
       "      <td>0.560652</td>\n",
       "      <td>0.494506</td>\n",
       "      <td>0.619928</td>\n",
       "      <td>0.589974</td>\n",
       "      <td>0.360612</td>\n",
       "      <td>0.675717</td>\n",
       "      <td>0.455385</td>\n",
       "      <td>...</td>\n",
       "      <td>0.399148</td>\n",
       "      <td>0.464638</td>\n",
       "      <td>0.522966</td>\n",
       "      <td>0.463583</td>\n",
       "      <td>0.390091</td>\n",
       "      <td>0.531989</td>\n",
       "      <td>0.449073</td>\n",
       "      <td>0.363569</td>\n",
       "      <td>0.725550</td>\n",
       "      <td>0.520679</td>\n",
       "    </tr>\n",
       "    <tr>\n",
       "      <th>199996</th>\n",
       "      <td>0.541848</td>\n",
       "      <td>0.470346</td>\n",
       "      <td>0.585812</td>\n",
       "      <td>0.466083</td>\n",
       "      <td>0.445064</td>\n",
       "      <td>0.511950</td>\n",
       "      <td>0.393341</td>\n",
       "      <td>0.360525</td>\n",
       "      <td>0.379102</td>\n",
       "      <td>0.505550</td>\n",
       "      <td>...</td>\n",
       "      <td>0.440411</td>\n",
       "      <td>0.382849</td>\n",
       "      <td>0.410560</td>\n",
       "      <td>0.516995</td>\n",
       "      <td>0.610566</td>\n",
       "      <td>0.589461</td>\n",
       "      <td>0.556168</td>\n",
       "      <td>0.615147</td>\n",
       "      <td>0.354379</td>\n",
       "      <td>0.610304</td>\n",
       "    </tr>\n",
       "    <tr>\n",
       "      <th>199997</th>\n",
       "      <td>0.439360</td>\n",
       "      <td>0.405818</td>\n",
       "      <td>0.593393</td>\n",
       "      <td>0.643123</td>\n",
       "      <td>0.557449</td>\n",
       "      <td>0.447385</td>\n",
       "      <td>0.412022</td>\n",
       "      <td>0.498258</td>\n",
       "      <td>0.476941</td>\n",
       "      <td>0.520066</td>\n",
       "      <td>...</td>\n",
       "      <td>0.513428</td>\n",
       "      <td>0.549474</td>\n",
       "      <td>0.289984</td>\n",
       "      <td>0.428277</td>\n",
       "      <td>0.567372</td>\n",
       "      <td>0.422169</td>\n",
       "      <td>0.328082</td>\n",
       "      <td>0.365088</td>\n",
       "      <td>0.524938</td>\n",
       "      <td>0.478091</td>\n",
       "    </tr>\n",
       "    <tr>\n",
       "      <th>199998</th>\n",
       "      <td>0.539694</td>\n",
       "      <td>0.456027</td>\n",
       "      <td>0.492036</td>\n",
       "      <td>0.630292</td>\n",
       "      <td>0.701974</td>\n",
       "      <td>0.362101</td>\n",
       "      <td>0.445241</td>\n",
       "      <td>0.335128</td>\n",
       "      <td>0.553351</td>\n",
       "      <td>0.546116</td>\n",
       "      <td>...</td>\n",
       "      <td>0.602880</td>\n",
       "      <td>0.723361</td>\n",
       "      <td>0.680554</td>\n",
       "      <td>0.626517</td>\n",
       "      <td>0.604424</td>\n",
       "      <td>0.556229</td>\n",
       "      <td>0.587049</td>\n",
       "      <td>0.496689</td>\n",
       "      <td>0.439851</td>\n",
       "      <td>0.802035</td>\n",
       "    </tr>\n",
       "    <tr>\n",
       "      <th>199999</th>\n",
       "      <td>0.507714</td>\n",
       "      <td>0.485971</td>\n",
       "      <td>0.464124</td>\n",
       "      <td>0.429322</td>\n",
       "      <td>0.603956</td>\n",
       "      <td>0.609644</td>\n",
       "      <td>0.420301</td>\n",
       "      <td>0.409499</td>\n",
       "      <td>0.627364</td>\n",
       "      <td>0.539739</td>\n",
       "      <td>...</td>\n",
       "      <td>0.584126</td>\n",
       "      <td>0.439757</td>\n",
       "      <td>0.547605</td>\n",
       "      <td>0.639564</td>\n",
       "      <td>0.637416</td>\n",
       "      <td>0.558692</td>\n",
       "      <td>0.394820</td>\n",
       "      <td>0.564212</td>\n",
       "      <td>0.397727</td>\n",
       "      <td>0.459113</td>\n",
       "    </tr>\n",
       "  </tbody>\n",
       "</table>\n",
       "<p>5 rows × 100 columns</p>\n",
       "</div>"
      ],
      "text/plain": [
       "              0         1         2         3         4         5         6   \\\n",
       "199995  0.537131  0.454154  0.518492  0.560652  0.494506  0.619928  0.589974   \n",
       "199996  0.541848  0.470346  0.585812  0.466083  0.445064  0.511950  0.393341   \n",
       "199997  0.439360  0.405818  0.593393  0.643123  0.557449  0.447385  0.412022   \n",
       "199998  0.539694  0.456027  0.492036  0.630292  0.701974  0.362101  0.445241   \n",
       "199999  0.507714  0.485971  0.464124  0.429322  0.603956  0.609644  0.420301   \n",
       "\n",
       "              7         8         9   ...        90        91        92  \\\n",
       "199995  0.360612  0.675717  0.455385  ...  0.399148  0.464638  0.522966   \n",
       "199996  0.360525  0.379102  0.505550  ...  0.440411  0.382849  0.410560   \n",
       "199997  0.498258  0.476941  0.520066  ...  0.513428  0.549474  0.289984   \n",
       "199998  0.335128  0.553351  0.546116  ...  0.602880  0.723361  0.680554   \n",
       "199999  0.409499  0.627364  0.539739  ...  0.584126  0.439757  0.547605   \n",
       "\n",
       "              93        94        95        96        97        98        99  \n",
       "199995  0.463583  0.390091  0.531989  0.449073  0.363569  0.725550  0.520679  \n",
       "199996  0.516995  0.610566  0.589461  0.556168  0.615147  0.354379  0.610304  \n",
       "199997  0.428277  0.567372  0.422169  0.328082  0.365088  0.524938  0.478091  \n",
       "199998  0.626517  0.604424  0.556229  0.587049  0.496689  0.439851  0.802035  \n",
       "199999  0.639564  0.637416  0.558692  0.394820  0.564212  0.397727  0.459113  \n",
       "\n",
       "[5 rows x 100 columns]"
      ]
     },
     "metadata": {},
     "output_type": "display_data"
    },
    {
     "name": "stdout",
     "output_type": "stream",
     "text": [
      "0     0\n",
      "1     0\n",
      "2     0\n",
      "3     0\n",
      "4     0\n",
      "     ..\n",
      "95    0\n",
      "96    0\n",
      "97    0\n",
      "98    0\n",
      "99    0\n",
      "Length: 100, dtype: int64\n"
     ]
    }
   ],
   "source": [
    "# X_test_s_mm_i = imputer.transform(X_test_s_mm)\n",
    "X_test_s_mm_i = pd.DataFrame(X_test_s_mm_i)\n",
    "\n",
    "display(X_test_s_mm_i.tail(5))\n",
    "print(f'{X_test_s_mm_i.isnull().sum()}')"
   ]
  },
  {
   "cell_type": "markdown",
   "metadata": {
    "nteract": {
     "transient": {
      "deleting": false
     }
    }
   },
   "source": [
    "## Iterative Imputer on untransformed dataset"
   ]
  },
  {
   "cell_type": "code",
   "execution_count": 5,
   "metadata": {
    "collapsed": true,
    "gather": {
     "logged": 1633840153609
    },
    "jupyter": {
     "outputs_hidden": true,
     "source_hidden": true
    },
    "nteract": {
     "transient": {
      "deleting": false
     }
    }
   },
   "outputs": [
    {
     "data": {
      "text/plain": [
       "IterativeImputer(add_indicator=False, estimator=None,\n",
       "                 imputation_order='ascending', initial_strategy='mean',\n",
       "                 max_iter=10, max_value=None, min_value=None,\n",
       "                 missing_values=nan, n_nearest_features=None, random_state=None,\n",
       "                 sample_posterior=False, skip_complete=False, tol=0.001,\n",
       "                 verbose=0)"
      ]
     },
     "execution_count": 5,
     "metadata": {},
     "output_type": "execute_result"
    }
   ],
   "source": [
    "%%time\n",
    "imputer = IterativeImputer()\n",
    "imputer.fit(X_test)\n",
    "\n",
    "########\n",
    "# X_train_s_mm_i = imputer.fit_transform(X_train_s_scaled_mm)\n",
    "# X_train_s_mm_i = pd.DataFrame(X_train_s_mm_i)\n",
    "# display(X.tail(5))\n",
    "# print(f'{X_train_s_mm_i.isnull().sum()}')"
   ]
  },
  {
   "cell_type": "code",
   "execution_count": 6,
   "metadata": {
    "collapsed": true,
    "jupyter": {
     "outputs_hidden": true,
     "source_hidden": true
    },
    "nteract": {
     "transient": {
      "deleting": false
     }
    }
   },
   "outputs": [
    {
     "ename": "NameError",
     "evalue": "name 'X_test_s_mm_i' is not defined",
     "output_type": "error",
     "traceback": [
      "\u001b[0;31m---------------------------------------------------------------------------\u001b[0m",
      "\u001b[0;31mNameError\u001b[0m                                 Traceback (most recent call last)",
      "\u001b[0;32m/tmp/ipykernel_3414/2604339609.py\u001b[0m in \u001b[0;36m<module>\u001b[0;34m\u001b[0m\n\u001b[1;32m      2\u001b[0m \u001b[0mX_test_i\u001b[0m \u001b[0;34m=\u001b[0m \u001b[0mpd\u001b[0m\u001b[0;34m.\u001b[0m\u001b[0mDataFrame\u001b[0m\u001b[0;34m(\u001b[0m\u001b[0mX_test_i\u001b[0m\u001b[0;34m)\u001b[0m\u001b[0;34m\u001b[0m\u001b[0;34m\u001b[0m\u001b[0m\n\u001b[1;32m      3\u001b[0m \u001b[0;34m\u001b[0m\u001b[0m\n\u001b[0;32m----> 4\u001b[0;31m \u001b[0mdisplay\u001b[0m\u001b[0;34m(\u001b[0m\u001b[0mX_test_s_mm_i\u001b[0m\u001b[0;34m.\u001b[0m\u001b[0mtail\u001b[0m\u001b[0;34m(\u001b[0m\u001b[0;36m5\u001b[0m\u001b[0;34m)\u001b[0m\u001b[0;34m)\u001b[0m\u001b[0;34m\u001b[0m\u001b[0;34m\u001b[0m\u001b[0m\n\u001b[0m\u001b[1;32m      5\u001b[0m \u001b[0mprint\u001b[0m\u001b[0;34m(\u001b[0m\u001b[0;34mf'{X_test_s_mm_i.isnull().sum()}'\u001b[0m\u001b[0;34m)\u001b[0m\u001b[0;34m\u001b[0m\u001b[0;34m\u001b[0m\u001b[0m\n",
      "\u001b[0;31mNameError\u001b[0m: name 'X_test_s_mm_i' is not defined"
     ]
    }
   ],
   "source": [
    "X_test_i = imputer.transform(X_test)\n",
    "X_test_i = pd.DataFrame(X_test_i)\n",
    "\n",
    "display(X_test_s_mm_i.tail(5))\n",
    "print(f'{X_test_s_mm_i.isnull().sum()}')"
   ]
  },
  {
   "cell_type": "markdown",
   "metadata": {
    "nteract": {
     "transient": {
      "deleting": false
     }
    }
   },
   "source": [
    "## Exporting dataset after stand/norm/II"
   ]
  },
  {
   "cell_type": "code",
   "execution_count": 26,
   "metadata": {
    "gather": {
     "logged": 1633507597855
    },
    "jupyter": {
     "source_hidden": true
    },
    "nteract": {
     "transient": {
      "deleting": false
     }
    }
   },
   "outputs": [],
   "source": [
    "X_test_s_mm_i.to_csv(f\"{nb_dir}/X_test_100m_combo_100f_rs1_smmi.csv\")"
   ]
  },
  {
   "cell_type": "markdown",
   "metadata": {},
   "source": [
    "## Specifying training and validation dataset location in S3"
   ]
  },
  {
   "cell_type": "code",
   "execution_count": 35,
   "metadata": {},
   "outputs": [],
   "source": [
    "s3_train = TrainingInput(s3_data=f's3://{bucket}/{prefix}/train', content_type=\"application/x-parquet\")\n",
    "s3_val = TrainingInput(s3_data=f's3://{bucket}/{prefix}/val', content_type=\"application/x-parquet\")\n",
    "inputs = {'train': s3_train, 'validation': s3_val}"
   ]
  },
  {
   "cell_type": "markdown",
   "metadata": {},
   "source": [
    "## Track custom metrics in experiment metadata by creating a Tracker object"
   ]
  },
  {
   "cell_type": "code",
   "execution_count": 36,
   "metadata": {},
   "outputs": [],
   "source": [
    "normalization_mean = 0.1307\n",
    "normalization_std = 0.3081\n",
    "\n",
    "with Tracker.create(display_name=\"Preprocessing\", sagemaker_boto_client=sm) as tracker:\n",
    "    tracker.log_parameters({\"normalization_mean\": normalization_mean, \"normalization_std\": normalization_std})\n",
    "    tracker.log_input(name=\"10mill-dataset\", media_type=\"s3/uri\", value = tracker_input_location)\n",
    "    \n",
    "preprocessing_trial_component = tracker.trial_component"
   ]
  },
  {
   "cell_type": "markdown",
   "metadata": {},
   "source": [
    "## Creating Experiment"
   ]
  },
  {
   "cell_type": "code",
   "execution_count": 37,
   "metadata": {},
   "outputs": [],
   "source": [
    "try:\n",
    "    exp_10m_datapoints = Experiment.create(experiment_name=\"10m-datapoints-5\", \n",
    "                                           description=\"Trials of experiments using 10 million datapoints or more\", \n",
    "                                           sagemaker_boto_client=sm)\n",
    "except:\n",
    "    print(\"experiment already created\")"
   ]
  },
  {
   "cell_type": "markdown",
   "metadata": {},
   "source": [
    "## Setting up Hyperparameters list & downloading Xgboost Image"
   ]
  },
  {
   "cell_type": "code",
   "execution_count": 38,
   "metadata": {},
   "outputs": [
    {
     "name": "stderr",
     "output_type": "stream",
     "text": [
      "INFO:sagemaker.image_uris:Ignoring unnecessary instance type: None.\n"
     ]
    },
    {
     "data": {
      "text/plain": [
       "[{'eta': 0.1, 'num_round': 10},\n",
       " {'eta': 0.1, 'num_round': 20},\n",
       " {'eta': 0.5, 'num_round': 10},\n",
       " {'eta': 0.5, 'num_round': 20}]"
      ]
     },
     "execution_count": 38,
     "metadata": {},
     "output_type": "execute_result"
    }
   ],
   "source": [
    "xgboost_container = sagemaker.image_uris.retrieve(\"xgboost\", region, \"1.3-1\", image_scope='training')\n",
    "\n",
    "\n",
    "hyperparam_options = {\"eta\": [0.1, 0.5], \"num_round\": [10, 20]}\n",
    "hypnames, hypvalues = zip(*hyperparam_options.items())\n",
    "trial_hyperparameter_set = [dict(zip(hypnames, h)) for h in itertools.product(*hypvalues)]\n",
    "trial_hyperparameter_set"
   ]
  },
  {
   "cell_type": "markdown",
   "metadata": {},
   "source": [
    "## Creating TrainingLoop to create multiple Trials and Trial components"
   ]
  },
  {
   "cell_type": "code",
   "execution_count": 40,
   "metadata": {},
   "outputs": [
    {
     "name": "stderr",
     "output_type": "stream",
     "text": [
      "INFO:sagemaker.image_uris:Defaulting to the only supported framework/algorithm version: latest.\n",
      "INFO:sagemaker.image_uris:Ignoring unnecessary instance type: None.\n",
      "INFO:sagemaker:Creating training-job with name: Trial-xgboost-credit-risk-training-0-1-10-1635189032\n"
     ]
    },
    {
     "name": "stdout",
     "output_type": "stream",
     "text": [
      "2021-10-25 19:10:33 Starting - Starting the training job...\n",
      "2021-10-25 19:10:57 Starting - Launching requested ML instancesProfilerReport-1635189032: InProgress\n",
      "......\n",
      "2021-10-25 19:11:58 Starting - Preparing the instances for training.........\n",
      "2021-10-25 19:13:32 Downloading - Downloading input data......\n",
      "2021-10-25 19:14:27 Training - Training image download completed. Training in progress.\n",
      "2021-10-25 19:14:27 Uploading - Uploading generated training model\u001b[34m[2021-10-25 19:14:25.400 ip-10-2-106-47.ec2.internal:1 INFO utils.py:27] RULE_JOB_STOP_SIGNAL_FILENAME: None\u001b[0m\n",
      "\u001b[34m[2021-10-25:19:14:25:INFO] Imported framework sagemaker_xgboost_container.training\u001b[0m\n",
      "\u001b[34m[2021-10-25:19:14:25:INFO] No GPUs detected (normal if no gpus installed)\u001b[0m\n",
      "\u001b[34m[2021-10-25:19:14:25:INFO] Running XGBoost Sagemaker in algorithm mode\u001b[0m\n",
      "\u001b[34m[2021-10-25:19:14:25:INFO] Single node training.\u001b[0m\n",
      "\u001b[34m[2021-10-25:19:14:25:INFO] Train matrix has 2700 rows and 100 columns\u001b[0m\n",
      "\u001b[34m[2021-10-25:19:14:25:INFO] Validation matrix has 300 rows\u001b[0m\n",
      "\u001b[34m/miniconda3/lib/python3.7/site-packages/xgboost/training.py:20: UserWarning: Old style callback is deprecated.  See: https://xgboost.readthedocs.io/en/latest/python/callbacks.html\n",
      "  warnings.warn(f'Old style callback is deprecated.  See: {link}', UserWarning)\u001b[0m\n",
      "\u001b[34m[0]#011train-rmse:0.47667#011validation-rmse:0.48573\u001b[0m\n",
      "\u001b[34m[1]#011train-rmse:0.45501#011validation-rmse:0.47416\u001b[0m\n",
      "\u001b[34m[2]#011train-rmse:0.43633#011validation-rmse:0.46230\u001b[0m\n",
      "\u001b[34m[3]#011train-rmse:0.41781#011validation-rmse:0.45156\u001b[0m\n",
      "\u001b[34m[4]#011train-rmse:0.40154#011validation-rmse:0.44649\u001b[0m\n",
      "\u001b[34m[5]#011train-rmse:0.38754#011validation-rmse:0.43800\u001b[0m\n",
      "\u001b[34m[6]#011train-rmse:0.37253#011validation-rmse:0.43025\u001b[0m\n",
      "\u001b[34m[7]#011train-rmse:0.35882#011validation-rmse:0.42540\u001b[0m\n",
      "\u001b[34m[8]#011train-rmse:0.34584#011validation-rmse:0.42080\u001b[0m\n",
      "\u001b[34m[9]#011train-rmse:0.33503#011validation-rmse:0.41758\u001b[0m\n",
      "\n",
      "2021-10-25 19:14:59 Completed - Training job completed\n",
      "Training seconds: 64\n",
      "Billable seconds: 64\n"
     ]
    },
    {
     "name": "stderr",
     "output_type": "stream",
     "text": [
      "INFO:sagemaker.image_uris:Defaulting to the only supported framework/algorithm version: latest.\n",
      "INFO:sagemaker.image_uris:Ignoring unnecessary instance type: None.\n",
      "INFO:sagemaker:Creating training-job with name: Trial-xgboost-credit-risk-training-0-1-20-1635189328\n"
     ]
    },
    {
     "name": "stdout",
     "output_type": "stream",
     "text": [
      "2021-10-25 19:15:28 Starting - Starting the training job...\n",
      "2021-10-25 19:15:33 Starting - Launching requested ML instancesProfilerReport-1635189328: InProgress\n",
      "......\n",
      "2021-10-25 19:16:41 Starting - Preparing the instances for training.........\n",
      "2021-10-25 19:18:25 Downloading - Downloading input data\n",
      "2021-10-25 19:18:25 Training - Downloading the training image...\n",
      "2021-10-25 19:18:42 Training - Training image download completed. Training in progress.\u001b[34m[2021-10-25 19:18:42.287 ip-10-2-112-162.ec2.internal:1 INFO utils.py:27] RULE_JOB_STOP_SIGNAL_FILENAME: None\u001b[0m\n",
      "\u001b[34m[2021-10-25:19:18:42:INFO] Imported framework sagemaker_xgboost_container.training\u001b[0m\n",
      "\u001b[34m[2021-10-25:19:18:42:INFO] No GPUs detected (normal if no gpus installed)\u001b[0m\n",
      "\u001b[34m[2021-10-25:19:18:42:INFO] Running XGBoost Sagemaker in algorithm mode\u001b[0m\n",
      "\u001b[34m[2021-10-25:19:18:42:INFO] Single node training.\u001b[0m\n",
      "\u001b[34m[2021-10-25:19:18:42:INFO] Train matrix has 2700 rows and 100 columns\u001b[0m\n",
      "\u001b[34m[2021-10-25:19:18:42:INFO] Validation matrix has 300 rows\u001b[0m\n",
      "\u001b[34m/miniconda3/lib/python3.7/site-packages/xgboost/training.py:20: UserWarning: Old style callback is deprecated.  See: https://xgboost.readthedocs.io/en/latest/python/callbacks.html\n",
      "  warnings.warn(f'Old style callback is deprecated.  See: {link}', UserWarning)\u001b[0m\n",
      "\u001b[34m[0]#011train-rmse:0.47667#011validation-rmse:0.48573\u001b[0m\n",
      "\u001b[34m[1]#011train-rmse:0.45501#011validation-rmse:0.47416\u001b[0m\n",
      "\u001b[34m[2]#011train-rmse:0.43633#011validation-rmse:0.46230\u001b[0m\n",
      "\u001b[34m[3]#011train-rmse:0.41781#011validation-rmse:0.45156\u001b[0m\n",
      "\u001b[34m[4]#011train-rmse:0.40154#011validation-rmse:0.44649\u001b[0m\n",
      "\u001b[34m[5]#011train-rmse:0.38754#011validation-rmse:0.43800\u001b[0m\n",
      "\u001b[34m[6]#011train-rmse:0.37253#011validation-rmse:0.43025\u001b[0m\n",
      "\u001b[34m[7]#011train-rmse:0.35882#011validation-rmse:0.42540\u001b[0m\n",
      "\u001b[34m[8]#011train-rmse:0.34584#011validation-rmse:0.42080\u001b[0m\n",
      "\u001b[34m[9]#011train-rmse:0.33503#011validation-rmse:0.41758\u001b[0m\n",
      "\u001b[34m[10]#011train-rmse:0.32614#011validation-rmse:0.41475\u001b[0m\n",
      "\u001b[34m[11]#011train-rmse:0.31509#011validation-rmse:0.41190\u001b[0m\n",
      "\u001b[34m[12]#011train-rmse:0.30403#011validation-rmse:0.40679\u001b[0m\n",
      "\u001b[34m[13]#011train-rmse:0.29563#011validation-rmse:0.40367\u001b[0m\n",
      "\u001b[34m[14]#011train-rmse:0.28679#011validation-rmse:0.39946\u001b[0m\n",
      "\u001b[34m[15]#011train-rmse:0.28016#011validation-rmse:0.39647\u001b[0m\n",
      "\u001b[34m[16]#011train-rmse:0.27319#011validation-rmse:0.39374\u001b[0m\n",
      "\u001b[34m[17]#011train-rmse:0.26742#011validation-rmse:0.39210\u001b[0m\n",
      "\u001b[34m[18]#011train-rmse:0.25945#011validation-rmse:0.38863\u001b[0m\n",
      "\u001b[34m[19]#011train-rmse:0.25398#011validation-rmse:0.38677\u001b[0m\n",
      "\n",
      "2021-10-25 19:19:32 Uploading - Uploading generated training model\n",
      "2021-10-25 19:19:32 Completed - Training job completed\n",
      "Training seconds: 80\n",
      "Billable seconds: 80\n"
     ]
    },
    {
     "name": "stderr",
     "output_type": "stream",
     "text": [
      "INFO:sagemaker.image_uris:Defaulting to the only supported framework/algorithm version: latest.\n",
      "INFO:sagemaker.image_uris:Ignoring unnecessary instance type: None.\n",
      "INFO:sagemaker:Creating training-job with name: Trial-xgboost-credit-risk-training-0-5-10-1635189592\n"
     ]
    },
    {
     "name": "stdout",
     "output_type": "stream",
     "text": [
      "2021-10-25 19:19:52 Starting - Starting the training job...\n",
      "2021-10-25 19:20:03 Starting - Launching requested ML instancesProfilerReport-1635189592: InProgress\n",
      ".........\n",
      "2021-10-25 19:21:46 Starting - Preparing the instances for training......\n",
      "2021-10-25 19:22:53 Downloading - Downloading input data......\n",
      "2021-10-25 19:23:48 Training - Training image download completed. Training in progress.\n",
      "2021-10-25 19:23:48 Uploading - Uploading generated training model.\u001b[34m[2021-10-25 19:23:45.452 ip-10-0-201-152.ec2.internal:1 INFO utils.py:27] RULE_JOB_STOP_SIGNAL_FILENAME: None\u001b[0m\n",
      "\u001b[34m[2021-10-25:19:23:45:INFO] Imported framework sagemaker_xgboost_container.training\u001b[0m\n",
      "\u001b[34m[2021-10-25:19:23:45:INFO] No GPUs detected (normal if no gpus installed)\u001b[0m\n",
      "\u001b[34m[2021-10-25:19:23:45:INFO] Running XGBoost Sagemaker in algorithm mode\u001b[0m\n",
      "\u001b[34m[2021-10-25:19:23:45:INFO] Single node training.\u001b[0m\n",
      "\u001b[34m[2021-10-25:19:23:45:INFO] Train matrix has 2700 rows and 100 columns\u001b[0m\n",
      "\u001b[34m[2021-10-25:19:23:45:INFO] Validation matrix has 300 rows\u001b[0m\n",
      "\u001b[34m/miniconda3/lib/python3.7/site-packages/xgboost/training.py:20: UserWarning: Old style callback is deprecated.  See: https://xgboost.readthedocs.io/en/latest/python/callbacks.html\n",
      "  warnings.warn(f'Old style callback is deprecated.  See: {link}', UserWarning)\u001b[0m\n",
      "\u001b[34m[0]#011train-rmse:0.39938#011validation-rmse:0.45142\u001b[0m\n",
      "\u001b[34m[1]#011train-rmse:0.33285#011validation-rmse:0.43613\u001b[0m\n",
      "\u001b[34m[2]#011train-rmse:0.29631#011validation-rmse:0.43130\u001b[0m\n",
      "\u001b[34m[3]#011train-rmse:0.26555#011validation-rmse:0.42975\u001b[0m\n",
      "\u001b[34m[4]#011train-rmse:0.23836#011validation-rmse:0.42194\u001b[0m\n",
      "\u001b[34m[5]#011train-rmse:0.21222#011validation-rmse:0.41693\u001b[0m\n",
      "\u001b[34m[6]#011train-rmse:0.19907#011validation-rmse:0.41717\u001b[0m\n",
      "\u001b[34m[7]#011train-rmse:0.18838#011validation-rmse:0.41513\u001b[0m\n",
      "\u001b[34m[8]#011train-rmse:0.17754#011validation-rmse:0.41391\u001b[0m\n",
      "\u001b[34m[9]#011train-rmse:0.17307#011validation-rmse:0.41307\u001b[0m\n",
      "\n",
      "2021-10-25 19:24:06 Completed - Training job completed\n",
      "Training seconds: 64\n",
      "Billable seconds: 64\n"
     ]
    },
    {
     "name": "stderr",
     "output_type": "stream",
     "text": [
      "INFO:sagemaker.image_uris:Defaulting to the only supported framework/algorithm version: latest.\n",
      "INFO:sagemaker.image_uris:Ignoring unnecessary instance type: None.\n",
      "INFO:sagemaker:Creating training-job with name: Trial-xgboost-credit-risk-training-0-5-20-1635189877\n"
     ]
    },
    {
     "name": "stdout",
     "output_type": "stream",
     "text": [
      "2021-10-25 19:24:37 Starting - Starting the training job...\n",
      "2021-10-25 19:24:52 Starting - Launching requested ML instancesProfilerReport-1635189877: InProgress\n",
      "......\n",
      "2021-10-25 19:25:53 Starting - Preparing the instances for training......\n",
      "2021-10-25 19:27:03 Downloading - Downloading input data...\n",
      "2021-10-25 19:27:34 Training - Downloading the training image...\n",
      "2021-10-25 19:28:07 Training - Training image download completed. Training in progress..\u001b[34m[2021-10-25 19:28:08.509 ip-10-0-96-121.ec2.internal:1 INFO utils.py:27] RULE_JOB_STOP_SIGNAL_FILENAME: None\u001b[0m\n",
      "\u001b[34m[2021-10-25:19:28:08:INFO] Imported framework sagemaker_xgboost_container.training\u001b[0m\n",
      "\u001b[34m[2021-10-25:19:28:08:INFO] No GPUs detected (normal if no gpus installed)\u001b[0m\n",
      "\u001b[34m[2021-10-25:19:28:08:INFO] Running XGBoost Sagemaker in algorithm mode\u001b[0m\n",
      "\u001b[34m[2021-10-25:19:28:08:INFO] Single node training.\u001b[0m\n",
      "\u001b[34m[2021-10-25:19:28:08:INFO] Train matrix has 2700 rows and 100 columns\u001b[0m\n",
      "\u001b[34m[2021-10-25:19:28:08:INFO] Validation matrix has 300 rows\u001b[0m\n",
      "\u001b[34m/miniconda3/lib/python3.7/site-packages/xgboost/training.py:20: UserWarning: Old style callback is deprecated.  See: https://xgboost.readthedocs.io/en/latest/python/callbacks.html\n",
      "  warnings.warn(f'Old style callback is deprecated.  See: {link}', UserWarning)\u001b[0m\n",
      "\u001b[34m[0]#011train-rmse:0.39938#011validation-rmse:0.45142\u001b[0m\n",
      "\u001b[34m[1]#011train-rmse:0.33285#011validation-rmse:0.43613\u001b[0m\n",
      "\u001b[34m[2]#011train-rmse:0.29631#011validation-rmse:0.43130\u001b[0m\n",
      "\u001b[34m[3]#011train-rmse:0.26555#011validation-rmse:0.42975\u001b[0m\n",
      "\u001b[34m[4]#011train-rmse:0.23836#011validation-rmse:0.42194\u001b[0m\n",
      "\u001b[34m[5]#011train-rmse:0.21222#011validation-rmse:0.41693\u001b[0m\n",
      "\u001b[34m[6]#011train-rmse:0.19907#011validation-rmse:0.41717\u001b[0m\n",
      "\u001b[34m[7]#011train-rmse:0.18838#011validation-rmse:0.41513\u001b[0m\n",
      "\u001b[34m[8]#011train-rmse:0.17754#011validation-rmse:0.41391\u001b[0m\n",
      "\u001b[34m[9]#011train-rmse:0.17307#011validation-rmse:0.41307\u001b[0m\n",
      "\u001b[34m[10]#011train-rmse:0.16529#011validation-rmse:0.41014\u001b[0m\n",
      "\u001b[34m[11]#011train-rmse:0.16053#011validation-rmse:0.40755\u001b[0m\n",
      "\u001b[34m[12]#011train-rmse:0.15339#011validation-rmse:0.40596\u001b[0m\n",
      "\u001b[34m[13]#011train-rmse:0.14574#011validation-rmse:0.40127\u001b[0m\n",
      "\u001b[34m[14]#011train-rmse:0.14168#011validation-rmse:0.40118\u001b[0m\n",
      "\u001b[34m[15]#011train-rmse:0.13711#011validation-rmse:0.40110\u001b[0m\n",
      "\u001b[34m[16]#011train-rmse:0.13225#011validation-rmse:0.39976\u001b[0m\n",
      "\u001b[34m[17]#011train-rmse:0.12514#011validation-rmse:0.39814\u001b[0m\n",
      "\u001b[34m[18]#011train-rmse:0.12061#011validation-rmse:0.39708\u001b[0m\n",
      "\u001b[34m[19]#011train-rmse:0.11651#011validation-rmse:0.39574\u001b[0m\n",
      "\n",
      "2021-10-25 19:28:34 Uploading - Uploading generated training model\n",
      "2021-10-25 19:28:34 Completed - Training job completed\n",
      "Training seconds: 79\n",
      "Billable seconds: 79\n"
     ]
    }
   ],
   "source": [
    "for i in trial_hyperparameter_set:\n",
    "    hyp_append = \"-\".join([str(elm).replace(\".\", \"-\") for elm in i.values()])\n",
    "    trial_name = f\"Trial-xgboost-credit-risk-training-{hyp_append}-{int(time.time())}\"\n",
    "    xgboost_credit_risk_trial = Trial.create(trial_name = trial_name,\n",
    "                                             experiment_name=exp_10m_datapoints.experiment_name,\n",
    "                                             sagemaker_boto_client=sm)\n",
    "    xgboost_credit_risk_trial.add_trial_component(preprocessing_trial_component)\n",
    "    \n",
    "    xgboost_credit_risk_estimator = sagemaker.estimator.Estimator(\n",
    "                                    xgboost_container,\n",
    "                                    role, \n",
    "                                    instance_count=1, \n",
    "                                    instance_type='ml.c5.18xlarge',\n",
    "                                    output_path=f's3://{bucket}/{prefix}/output',\n",
    "                                    sagemaker_session=sagemaker.Session(),\n",
    "                                    hyperparameters=i,\n",
    "                                    enable_sagemaker_metrics=True)\n",
    "\n",
    "    # Launch a training job\n",
    "    xgboost_credit_risk_estimator.fit(inputs, \n",
    "                                      job_name=trial_name, \n",
    "                                      experiment_config={\"ExperimentName\": exp_10m_datapoints.experiment_name,\n",
    "                                                         \"TrialName\": xgboost_credit_risk_trial.trial_name,\n",
    "                                                         \"TrialComponentDisplayName\": f\"TC-xgboost-credit-risk-training-{hyp_append}-{int(time.time())}\"})\n",
    "    time.sleep(2)"
   ]
  },
  {
   "cell_type": "markdown",
   "metadata": {},
   "source": [
    "## alternative training loop"
   ]
  },
  {
   "cell_type": "code",
   "execution_count": 2,
   "metadata": {},
   "outputs": [
    {
     "ename": "NameError",
     "evalue": "name 'time' is not defined",
     "output_type": "error",
     "traceback": [
      "\u001b[0;31m---------------------------------------------------------------------------\u001b[0m",
      "\u001b[0;31mNameError\u001b[0m                                 Traceback (most recent call last)",
      "\u001b[0;32m<ipython-input-2-f40bd3981dbf>\u001b[0m in \u001b[0;36m<module>\u001b[0;34m\u001b[0m\n\u001b[1;32m      5\u001b[0m \u001b[0;32mfor\u001b[0m \u001b[0mi\u001b[0m\u001b[0;34m,\u001b[0m \u001b[0mnum_cv\u001b[0m \u001b[0;32min\u001b[0m \u001b[0menumerate\u001b[0m\u001b[0;34m(\u001b[0m\u001b[0;34m[\u001b[0m\u001b[0;36m2\u001b[0m\u001b[0;34m,\u001b[0m \u001b[0;36m3\u001b[0m\u001b[0;34m,\u001b[0m \u001b[0;36m4\u001b[0m\u001b[0;34m,\u001b[0m \u001b[0;36m5\u001b[0m\u001b[0;34m,\u001b[0m \u001b[0;36m6\u001b[0m\u001b[0;34m]\u001b[0m\u001b[0;34m)\u001b[0m\u001b[0;34m:\u001b[0m\u001b[0;34m\u001b[0m\u001b[0;34m\u001b[0m\u001b[0m\n\u001b[1;32m      6\u001b[0m     \u001b[0;31m# create trial\u001b[0m\u001b[0;34m\u001b[0m\u001b[0;34m\u001b[0m\u001b[0;34m\u001b[0m\u001b[0m\n\u001b[0;32m----> 7\u001b[0;31m     \u001b[0mtrial_name\u001b[0m \u001b[0;34m=\u001b[0m \u001b[0;34mf\"cvs-training-job-{num_cv}-cv-{int(time.time())}\"\u001b[0m\u001b[0;34m\u001b[0m\u001b[0;34m\u001b[0m\u001b[0m\n\u001b[0m\u001b[1;32m      8\u001b[0m \u001b[0;34m\u001b[0m\u001b[0m\n\u001b[1;32m      9\u001b[0m     cvs_trial = Trial.create(\n",
      "\u001b[0;31mNameError\u001b[0m: name 'time' is not defined"
     ]
    }
   ],
   "source": [
    "for i, num_cv in enumerate([2, 3, 4, 5, 6]):\n",
    "    cvs_trial = Trial.create(trial_name=f\"cvs-training-job-{num_cv}-cv-{int(time.time())}\",\n",
    "                             experiment_name=experiment_10m_datapoints.experiment_name,\n",
    "                             sagemaker_boto_client=sm,)\n",
    "    cvs_trial.add_trial_component(preprocessing_trial_component)\n",
    "\n",
    "    \n",
    "    # all input configurations, parameters, and metrics in estimator are automatically tracked\n",
    "    estimator = GradientBoostingClassifier(\n",
    "                    role=role,\n",
    "                    sagemaker_session=sagemaker.Session(sagemaker_client=sm),\n",
    "                    instance_count=1,\n",
    "                    instance_type=\"ml.c4.xlarge\",\n",
    "                    enable_sagemaker_metrics=True,\n",
    "                    hyperparameters = num_cv)\n",
    "    \n",
    "    \n",
    "    # Now associate the estimator with the Experiment and Trial\n",
    "    estimator.fit(inputs = {\"training\": inputs},\n",
    "                            job_name = \"cnn-training-job-{}\".format(int(time.time())),\n",
    "                            wait=True,\n",
    "                            experiment_config = {\"TrialName\": cnn_trial.trial_name,\n",
    "                                                 \"TrialComponentDisplayName\": \"Training\",})\n",
    "    time.sleep(2)"
   ]
  },
  {
   "cell_type": "markdown",
   "metadata": {
    "nteract": {
     "transient": {
      "deleting": false
     }
    }
   },
   "source": [
    "## Time test for running c_v_s() on GBC with untransformed data"
   ]
  },
  {
   "cell_type": "code",
   "execution_count": 14,
   "metadata": {
    "collapsed": true,
    "gather": {
     "logged": 1633572794372
    },
    "jupyter": {
     "outputs_hidden": true
    }
   },
   "outputs": [
    {
     "name": "stdout",
     "output_type": "stream",
     "text": [
      "0.692\n",
      "CPU times: user 1min 34s, sys: 44.4 ms, total: 1min 34s\n",
      "Wall time: 1min 35s\n"
     ]
    }
   ],
   "source": [
    "%%time\n",
    "from sklearn.model_selection import cross_val_score\n",
    "from sklearn.ensemble import GradientBoostingClassifier\n",
    "scoring = \"f1\"\n",
    "\n",
    "cv_results = cross_val_score(GradientBoostingClassifier(), X_03, y_03, cv=2, scoring=scoring)\n",
    "print(round(cv_results.mean(), 3))"
   ]
  },
  {
   "cell_type": "markdown",
   "metadata": {
    "nteract": {
     "transient": {
      "deleting": false
     }
    }
   },
   "source": [
    "## Testing running time for GridsearchCV() on GBC with untransformed data"
   ]
  },
  {
   "cell_type": "code",
   "execution_count": 11,
   "metadata": {
    "collapsed": true,
    "gather": {
     "logged": 1633816980651
    },
    "jupyter": {
     "outputs_hidden": true
    },
    "nteract": {
     "transient": {
      "deleting": false
     }
    }
   },
   "outputs": [
    {
     "data": {
      "text/plain": [
       "dict_keys(['ccp_alpha', 'criterion', 'init', 'learning_rate', 'loss', 'max_depth', 'max_features', 'max_leaf_nodes', 'min_impurity_decrease', 'min_impurity_split', 'min_samples_leaf', 'min_samples_split', 'min_weight_fraction_leaf', 'n_estimators', 'n_iter_no_change', 'presort', 'random_state', 'subsample', 'tol', 'validation_fraction', 'verbose', 'warm_start'])"
      ]
     },
     "execution_count": 11,
     "metadata": {},
     "output_type": "execute_result"
    }
   ],
   "source": [
    "model_gbc.get_params().keys()\n",
    "GradientBoostingClassifier().get_params().keys()"
   ]
  },
  {
   "cell_type": "code",
   "execution_count": 18,
   "metadata": {
    "collapsed": true,
    "gather": {
     "logged": 1633825045457
    },
    "jupyter": {
     "outputs_hidden": true
    },
    "nteract": {
     "transient": {
      "deleting": false
     }
    }
   },
   "outputs": [
    {
     "ename": "AttributeError",
     "evalue": "'numpy.ndarray' object has no attribute 'type'",
     "output_type": "error",
     "traceback": [
      "\u001b[0;31m---------------------------------------------------------------------------\u001b[0m",
      "\u001b[0;31mAttributeError\u001b[0m                            Traceback (most recent call last)",
      "\u001b[0;32m/tmp/ipykernel_3402/618504648.py\u001b[0m in \u001b[0;36m<module>\u001b[0;34m\u001b[0m\n\u001b[1;32m      1\u001b[0m \u001b[0mnp_X_03\u001b[0m \u001b[0;34m=\u001b[0m \u001b[0mX_03\u001b[0m\u001b[0;34m.\u001b[0m\u001b[0mvalues\u001b[0m\u001b[0;34m\u001b[0m\u001b[0;34m\u001b[0m\u001b[0m\n\u001b[1;32m      2\u001b[0m \u001b[0mnp_y_03\u001b[0m \u001b[0;34m=\u001b[0m \u001b[0my_03\u001b[0m\u001b[0;34m.\u001b[0m\u001b[0mvalues\u001b[0m\u001b[0;34m\u001b[0m\u001b[0;34m\u001b[0m\u001b[0m\n\u001b[0;32m----> 3\u001b[0;31m \u001b[0mdisplay\u001b[0m\u001b[0;34m(\u001b[0m\u001b[0mnp_X_03\u001b[0m\u001b[0;34m.\u001b[0m\u001b[0mtype\u001b[0m\u001b[0;34m)\u001b[0m\u001b[0;34m\u001b[0m\u001b[0;34m\u001b[0m\u001b[0m\n\u001b[0m",
      "\u001b[0;31mAttributeError\u001b[0m: 'numpy.ndarray' object has no attribute 'type'"
     ]
    }
   ],
   "source": [
    "np_X_03 = X_03.values\n",
    "np_y_03 = y_03.values\n",
    "display(np_X_03.type)"
   ]
  },
  {
   "cell_type": "code",
   "execution_count": 15,
   "metadata": {
    "collapsed": true,
    "jupyter": {
     "outputs_hidden": true
    },
    "nteract": {
     "transient": {
      "deleting": false
     }
    }
   },
   "outputs": [
    {
     "name": "stdout",
     "output_type": "stream",
     "text": [
      "highest mean cv score: 0.9021680962218668, with params: {'max_depth': 7, 'n_estimators': 600}\n",
      "CPU times: user 1h 34min 35s, sys: 356 ms, total: 1h 34min 35s\n",
      "Wall time: 1h 34min 35s\n"
     ]
    }
   ],
   "source": [
    "%%time\n",
    "from sklearn.model_selection import GridSearchCV\n",
    "model_gbc = GridSearchCV(estimator = GradientBoostingClassifier(), \n",
    "                         param_grid = {'max_depth': [4,6,7],\n",
    "                                       'n_estimators': [300,600]},\n",
    "                         cv=2,\n",
    "                         scoring = scoring)\n",
    "\n",
    "model_gbc.fit(np_X_03, np_y_03)\n",
    "print(f'highest mean cv score: {model_gbc.best_score_}, with params: {model_gbc.best_params_}')"
   ]
  },
  {
   "cell_type": "code",
   "execution_count": null,
   "metadata": {
    "collapsed": false,
    "jupyter": {
     "outputs_hidden": false,
     "source_hidden": false
    },
    "nteract": {
     "transient": {
      "deleting": false
     }
    }
   },
   "outputs": [],
   "source": []
  }
 ],
 "metadata": {
  "instance_type": "ml.t3.medium",
  "kernel_info": {
   "name": "python38-azureml"
  },
  "kernelspec": {
   "display_name": "Python 3 (Data Science)",
   "language": "python",
   "name": "python3__SAGEMAKER_INTERNAL__arn:aws:sagemaker:us-east-1:081325390199:image/datascience-1.0"
  },
  "language_info": {
   "codemirror_mode": {
    "name": "ipython",
    "version": 3
   },
   "file_extension": ".py",
   "mimetype": "text/x-python",
   "name": "python",
   "nbconvert_exporter": "python",
   "pygments_lexer": "ipython3",
   "version": "3.7.10"
  },
  "microsoft": {
   "host": {
    "AzureML": {
     "notebookHasBeenCompleted": true
    }
   }
  },
  "nteract": {
   "version": "nteract-front-end@1.0.0"
  }
 },
 "nbformat": 4,
 "nbformat_minor": 5
}
