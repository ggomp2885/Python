{
 "cells": [
  {
   "cell_type": "markdown",
   "metadata": {},
   "source": [
    "### This file includes all of my experiential knowledge of the most used functions in the base python library"
   ]
  },
  {
   "cell_type": "markdown",
   "metadata": {},
   "source": [
    "# General notes\n",
    "\n",
    "The OS library is super useful when working with file paths in python, because python has issues with windows formatting. Backslashes are an \"escape\" character in python, so a simple replace command on a file path, will not work. Its not worth writing these \"path\" functions out by hand, because there is a large list of errors and exceptions inherent in these operations that are best left to the OS lib.\n"
   ]
  },
  {
   "cell_type": "markdown",
   "metadata": {},
   "source": [
    "##### Data Types\n",
    "###### If conditional statements seem to \"not be working\", it is likely that the data types of the two things being compared are not compatible, so check this early on"
   ]
  },
  {
   "cell_type": "code",
   "execution_count": null,
   "metadata": {},
   "outputs": [],
   "source": [
    "# Operators"
   ]
  },
  {
   "cell_type": "code",
   "execution_count": null,
   "metadata": {},
   "outputs": [],
   "source": [
    "# Imports\n"
   ]
  },
  {
   "cell_type": "code",
   "execution_count": null,
   "metadata": {},
   "outputs": [],
   "source": [
    "# Functions\n",
    "\n",
    "    # This is a handy little line of code that deletes\n",
    "    # a stored variable from earlier, instead of having to\n",
    "    # re-run the cell that defines it\n",
    "    \n",
    "if 'var_name' in locals():\n",
    "    del var_name\n",
    "            "
   ]
  },
  {
   "cell_type": "markdown",
   "metadata": {},
   "source": [
    "### Lists"
   ]
  },
  {
   "cell_type": "markdown",
   "metadata": {},
   "source": [
    "###### General notes:\n",
    "* List indexing does not work as well as indexing with a Numpy array, so convert to np array, and then indexing will work as expected, then back to a list if needed.\n"
   ]
  },
  {
   "cell_type": "code",
   "execution_count": null,
   "metadata": {},
   "outputs": [],
   "source": [
    "\n",
    "# list functions\n",
    "#dirs_ = [i.replace('_cf','') for i in dirs]   -  removing characters from each item of a list\n",
    "#dirs_25 = [i + \"_25\" for i in dirs_]          -  adding characters to the end of each item of a list\n",
    "\n",
    "\n"
   ]
  }
 ],
 "metadata": {
  "kernelspec": {
   "display_name": "Python 3",
   "language": "python",
   "name": "python3"
  },
  "language_info": {
   "codemirror_mode": {
    "name": "ipython",
    "version": 3
   },
   "file_extension": ".py",
   "mimetype": "text/x-python",
   "name": "python",
   "nbconvert_exporter": "python",
   "pygments_lexer": "ipython3",
   "version": "3.8.3"
  }
 },
 "nbformat": 4,
 "nbformat_minor": 4
}
