{
 "cells": [
  {
   "cell_type": "markdown",
   "id": "50778d61-5490-4206-8b29-1b9c9b2f884f",
   "metadata": {},
   "source": [
    "## Century from Year"
   ]
  },
  {
   "cell_type": "code",
   "execution_count": 35,
   "id": "838f5373-f4a4-474e-b6e6-6493751bce48",
   "metadata": {},
   "outputs": [
    {
     "name": "stdout",
     "output_type": "stream",
     "text": [
      "length of year: 2\n",
      "loop running = 1 or 2\n",
      "1\n"
     ]
    }
   ],
   "source": [
    "def centuryFromYear(year):\n",
    "    print(f'length of year: {len(str(year))}')\n",
    "    \n",
    "    if len(str(year)) in [1,2]:\n",
    "        print('loop running = 1 or 2')\n",
    "        return 1\n",
    "        \n",
    "    if len(str(year)) == 3:\n",
    "        print('loop running = 3')\n",
    "        year = str(year)\n",
    "        if year[1:3] == '00':\n",
    "            return int(year[:1])\n",
    "        else:\n",
    "            return int(year[:1]) +1\n",
    "        \n",
    "    if len(str(year)) == 4:\n",
    "        print('loop running = 4')\n",
    "        year = str(year)\n",
    "        if year[2:4] == '00':\n",
    "            return int(year[:2])\n",
    "        else:\n",
    "            return int(year[:2]) +1\n",
    "        \n",
    "print(centuryFromYear(45))"
   ]
  },
  {
   "cell_type": "code",
   "execution_count": 41,
   "id": "450ea5b9-dc8b-402e-9267-ee10a52be565",
   "metadata": {},
   "outputs": [
    {
     "data": {
      "text/plain": [
       "2"
      ]
     },
     "execution_count": 41,
     "metadata": {},
     "output_type": "execute_result"
    }
   ],
   "source": [
    "def centuryFromYear(year):\n",
    "    return (year + 95) // 100\n",
    "centuryFromYear(201)"
   ]
  },
  {
   "cell_type": "markdown",
   "id": "90b9830e-dabf-45fa-96bd-7d516d3f49a7",
   "metadata": {},
   "source": [
    "So in this solution, its extremely simple to just use a basic math equation here, with the right operator, the floor divsion // operator makes this a breeze, and adding 99, makes it generalize to the edge cases"
   ]
  },
  {
   "cell_type": "markdown",
   "id": "a287e1c6-75fa-478d-bad7-d9666600d080",
   "metadata": {},
   "source": [
    "### Check for Palindromes"
   ]
  },
  {
   "cell_type": "code",
   "execution_count": 42,
   "id": "0eb31be3-50b5-4ce8-b2c5-ef5b6cd3cafc",
   "metadata": {},
   "outputs": [],
   "source": [
    "def checkPalindrome(inputString):\n",
    "    if inputString == inputString[::-1]:\n",
    "        return True\n",
    "    else: return False"
   ]
  },
  {
   "cell_type": "code",
   "execution_count": 43,
   "id": "82f3da44-bfb9-405c-8b0f-16bbe183b488",
   "metadata": {},
   "outputs": [],
   "source": [
    "def checkPalindrome(inputString):\n",
    "    return inputString == inputString[::-1]"
   ]
  },
  {
   "cell_type": "markdown",
   "id": "b647c277-e8f4-498c-96aa-300a3eb5b3f1",
   "metadata": {},
   "source": [
    "This solution is almost identical to mine, but reminds me that an if statement is not needed at all here, because it is already built into the \"equivalent to\" == operator returns a boolean True/False, by default."
   ]
  },
  {
   "cell_type": "code",
   "execution_count": 73,
   "id": "11a658ff-6501-403f-bdd7-ca4eb79393ed",
   "metadata": {},
   "outputs": [
    {
     "name": "stdout",
     "output_type": "stream",
     "text": [
      "['salad', 'egg']\n",
      "['egg', 'salad']\n"
     ]
    },
    {
     "data": {
      "text/plain": [
       "'dalas'"
      ]
     },
     "execution_count": 73,
     "metadata": {},
     "output_type": "execute_result"
    }
   ],
   "source": [
    "string = 'salad'\n",
    "string2 = 'egg'\n",
    "lst = [string, string2]\n",
    "integer = 1234\n",
    "\n",
    "print(lst)\n",
    "print(lst[::-1])\n",
    "string[::-1]"
   ]
  },
  {
   "cell_type": "markdown",
   "id": "aace77c9-e6cf-4798-9457-a43259cd4780",
   "metadata": {},
   "source": [
    "As far as this index method that looks like [::-1], just is a unique thing that was created to reverse strings/lists - infact the -1 is the \"step size\""
   ]
  },
  {
   "cell_type": "markdown",
   "id": "1ecca63e-b413-4281-8d83-6b37b961d106",
   "metadata": {},
   "source": [
    "## AdjacentElementsProduct"
   ]
  },
  {
   "cell_type": "code",
   "execution_count": 93,
   "id": "8deb9b9b-6c1d-41dc-97a3-62428307aa58",
   "metadata": {},
   "outputs": [
    {
     "data": {
      "text/plain": [
       "array([ 3,  6, -2, -5,  7,  3])"
      ]
     },
     "metadata": {},
     "output_type": "display_data"
    },
    {
     "data": {
      "text/plain": [
       "array([0., 0., 0., 0., 0.])"
      ]
     },
     "metadata": {},
     "output_type": "display_data"
    },
    {
     "data": {
      "text/plain": [
       "21.0"
      ]
     },
     "execution_count": 93,
     "metadata": {},
     "output_type": "execute_result"
    }
   ],
   "source": [
    "import numpy as np\n",
    "\n",
    "def adjacentElementsProduct(inputArray):\n",
    "    ans_array = np.zeros(len(inputArray)-1)\n",
    "    for i in range(len(inputArray)-1):\n",
    "        ans_array[i] = inputArray[i]*inputArray[i+1]\n",
    "    return ans_array.max()\n",
    "\n",
    "ans_array = np.zeros(len(mock_array)-1)\n",
    "mock_array = np.array([3,6,-2,-5,7,3])\n",
    "display(mock_array)\n",
    "display(ans_array)\n",
    "\n",
    "adjacentElementsProduct(mock_array)"
   ]
  },
  {
   "cell_type": "code",
   "execution_count": null,
   "id": "820bec43-a2ef-49e6-ac9f-0d7f40eac312",
   "metadata": {},
   "outputs": [],
   "source": [
    "def adjacentElementsProduct(inputArray):\n",
    "    return max([inputArray[i] * inputArray[i+1] for i in range(len(inputArray)-1)])"
   ]
  },
  {
   "cell_type": "code",
   "execution_count": null,
   "id": "f2816b0f-ae4f-467d-a495-f60c2b88e899",
   "metadata": {},
   "outputs": [],
   "source": [
    "def adjacentElementsProduct(inputArray):\n",
    "    return max([inputArray[i]*inputArray[i+1] for i in range(len(inputArray)-1)])"
   ]
  },
  {
   "cell_type": "markdown",
   "id": "f334364d-dc77-4988-ac66-4b851c7372d4",
   "metadata": {},
   "source": [
    "Okay so it looks like alot of these \"best solutions\" are\n",
    "1. just putting the actions of the function, directly in the return statement, instead of using variables to store this, and then returning the variable - that makes sense\n",
    "2. using \"list loops\", or list comprehensions instead of explicit for loops - I think this also makes sense because it simplifies 2 lines into 1 and creates a list by default\n",
    "\n",
    "I also just realized that list comps are just for loops that put the results into a list by default, and they just have the order switched around. Explicit for loops write the loop amount first, and then the action, whereas list comps just write the action first, and then the loop amount. Cool.\n",
    "\n",
    "And so now Im also realizing the similarity between lamda functions, and list comprehension loops, so instead of using a map() function on a lambda function, its just way simpler to use a list loop.\n",
    "\n",
    "Okay interesting, so this makes sense, a list comprehension is always faster than a for loop, about 50% faster with simple calculations, and then, the point of numpy is to not use loops at all, so a good understanding of the math functions available in numpy, will be faster than using a list comprehension. But however, if I am just using numpy arrays instead of lists, and not using the advanced features of numpy, then a list will actually be faster because numpy has some boot up time and is slighlty slower than a built-in list object\n",
    "\n",
    "Fastest execution time\n",
    "1. Numpy advanced functions\n",
    "2. List Comprehensions\n",
    "3. For loops with lists\n",
    "4. For loops with numpy arrays\n",
    "\n",
    "Wow, okay this is cool,"
   ]
  },
  {
   "cell_type": "markdown",
   "id": "2363c386-137d-4f4b-af30-c0ad761a81b7",
   "metadata": {},
   "source": [
    "## Shape Area"
   ]
  },
  {
   "cell_type": "code",
   "execution_count": 166,
   "id": "67157c74-6002-406f-b35f-09429a26866c",
   "metadata": {},
   "outputs": [
    {
     "name": "stdout",
     "output_type": "stream",
     "text": [
      "[1, 1, 1, 1, 1, 1, 1, 1]\n",
      "[1, 1, 5, 1, 1, 1, 1, 1]\n",
      "[1, 1, 5, 13, 1, 1, 1, 1]\n",
      "[1, 1, 5, 13, 25, 1, 1, 1]\n",
      "[1, 1, 5, 13, 25, 41, 1, 1]\n",
      "[1, 1, 5, 13, 25, 41, 61, 1]\n"
     ]
    },
    {
     "data": {
      "text/plain": [
       "61"
      ]
     },
     "execution_count": 166,
     "metadata": {},
     "output_type": "execute_result"
    }
   ],
   "source": [
    "def shapeArea(n):\n",
    "    lst = [1,1,1,1,1,1,1,1]\n",
    "    \n",
    "    for i in range(n):\n",
    "        lst[i+1] = lst[i]+4*(i)\n",
    "        print(lst)\n",
    "    return lst[n]\n",
    "\n",
    "shapeArea(6)"
   ]
  },
  {
   "cell_type": "code",
   "execution_count": null,
   "id": "09e76590-f4b1-419a-ac88-941fb5d65daa",
   "metadata": {},
   "outputs": [],
   "source": [
    "def shapeArea(n):\n",
    "    return n**2 + (n-1)**2"
   ]
  },
  {
   "cell_type": "markdown",
   "id": "660afb8e-97bf-4586-bf92-6941509b6d08",
   "metadata": {},
   "source": [
    "Ohh, okay so it looks like I should be multiplying by i here instead of n, because i is the number that changes on each iteration, n doesnt change.\n",
    "Okay, that makes sense, in this case, Id always want to multiply by i, and actually I dont even need to create a list here, just a simple\n",
    "\n",
    "result=1\n",
    "\n",
    "for i in range(n):\n",
    "\n",
    "result += 4*i works here\n",
    "\n",
    "Also, it makes sense that most of these types of math patterns are quadratic based, so I can literally just write down a simple n^2 + (n-1) as a base and experiment with this a few times to find the pattern in the return statement\n"
   ]
  },
  {
   "cell_type": "markdown",
   "id": "7c26037a-8fa7-4e05-9be6-89117ad85aa3",
   "metadata": {},
   "source": [
    "## Make Array Consecutive2"
   ]
  },
  {
   "cell_type": "code",
   "execution_count": 197,
   "id": "0c5219ee-152f-42dd-8e3e-7b92771ad131",
   "metadata": {},
   "outputs": [
    {
     "data": {
      "text/plain": [
       "3"
      ]
     },
     "execution_count": 197,
     "metadata": {},
     "output_type": "execute_result"
    }
   ],
   "source": [
    "statues = [6, 2, 3, 8]\n",
    "\n",
    "def makeArrayConsecutive2(statues):\n",
    "    statues.sort()\n",
    "    count = 0\n",
    "    \n",
    "    for i in range(len(statues)-1):\n",
    "        count += statues[i+1] - statues[i] -1\n",
    "    return count\n",
    "\n",
    "makeArrayConsecutive2(statues) "
   ]
  },
  {
   "cell_type": "code",
   "execution_count": 192,
   "id": "2ce8d66a-387e-4c0e-8897-5268ff04bf85",
   "metadata": {},
   "outputs": [],
   "source": [
    "def makeArrayConsecutive2(statues):\n",
    "    return max(statues) - min(statues) - len(statues) + 1"
   ]
  },
  {
   "cell_type": "code",
   "execution_count": null,
   "id": "035d16fc-7ff1-4ae1-a928-61f68023ccf7",
   "metadata": {},
   "outputs": [],
   "source": [
    "array[int, int, int, int]\n",
    "\n",
    "sort this array from least to greatest\n",
    "for i in range(len(statues))\n",
    "    if array[i+1] - array[i] > 1: count +=1\n",
    "return count"
   ]
  },
  {
   "cell_type": "markdown",
   "id": "b648c0dd-a1ce-49a9-925b-3eb4f0c4a7b7",
   "metadata": {},
   "source": [
    "Okay so actually I probably dont need a pen and paper, I can just write out the exact same thing right here in the editor as a rough draft, and all my code will be sitting there ready to merge together. I think the best way to write these is to write what works first, get it working, and then I can make it more concise, after I know that it works in the first place.\n",
    "\n",
    "Thoughts on solutions - \n",
    "\n",
    "Okay so whats cool is Ive been able to solve almost all of these so far, which is really what matters, and so looking at the best case solution is just extra credit, because my code works already, I would pass any coding challenge with it and get the job, because most people probably dont know these perfect solutions anyway. So getting a feel for these is really just my own passion for mastery, and mastery takes time... so do I want to \"master\" python, or do I want to \"master\" building models? Thats a good question actually. Ill come back to this, either way, alot of these best solutions come down to just reducing the length of the code, by thinking of a clever math relationship, instead of using a loop to manually do it... so thats just what this person did, instead of using a loop and debugging it with print statements to manually find the relationship, they said, hmm, okay, how can I use the numbers I have infront of me -\n",
    "\n",
    "The max() value of the array, \n",
    "the minimum value of the array, \n",
    "the length of the array, \n",
    "the mode of the array\n",
    "the average of the array\n",
    "etc\n",
    "\n",
    "To come up with a mathmatical relationship instead of a loop that does it one at a time"
   ]
  },
  {
   "cell_type": "markdown",
   "id": "23591985-10dd-42e9-9889-eba42b4461c8",
   "metadata": {},
   "source": [
    "## Almostincreasingsequence"
   ]
  },
  {
   "cell_type": "code",
   "execution_count": 219,
   "id": "fed2b737-58f3-4ffe-a31a-f37ff712945a",
   "metadata": {},
   "outputs": [
    {
     "name": "stdout",
     "output_type": "stream",
     "text": [
      "count:1 and going to break\n",
      "1\n",
      "count:2\n",
      "2\n"
     ]
    },
    {
     "data": {
      "text/plain": [
       "False"
      ]
     },
     "execution_count": 219,
     "metadata": {},
     "output_type": "execute_result"
    }
   ],
   "source": [
    "sequence = [1, 3, 2, 1]\n",
    "sequence2 = [1, 3, 2]\n",
    "sequence3 = [1, 2, 1, 2]\n",
    "\n",
    "def almostIncreasingSequence(sequence):\n",
    "    count = 0\n",
    "    for i in range(len(sequence) -1):\n",
    "        if sequence[i] >= sequence[i+1]:\n",
    "            if i == 0:\n",
    "                del sequence[i]\n",
    "                count += 1\n",
    "\n",
    "            elif sequence[i-1] >= sequence[i+1]:\n",
    "                del sequence[i+1]\n",
    "                count += 1\n",
    "\n",
    "            else:\n",
    "                del sequence[i]\n",
    "                count += 1\n",
    "            break\n",
    "\n",
    "    for i in range(len(sequence) -1):\n",
    "        if sequence[i] >= sequence[i+1]:   \n",
    "            count += 1\n",
    "\n",
    "    if count > 1: return False\n",
    "    else: return True\n",
    "\n",
    "almostIncreasingSequence(sequence3)\n"
   ]
  },
  {
   "cell_type": "code",
   "execution_count": 225,
   "id": "a89c9817-f299-46e9-86ee-7724125b0fae",
   "metadata": {},
   "outputs": [
    {
     "name": "stdout",
     "output_type": "stream",
     "text": [
      "[1, 3, 2]\n",
      "[3, 2, 1]\n",
      "\n",
      "[1, 3]\n",
      "[2, 1]\n"
     ]
    },
    {
     "data": {
      "text/plain": [
       "False"
      ]
     },
     "execution_count": 225,
     "metadata": {},
     "output_type": "execute_result"
    }
   ],
   "source": [
    "def almostIncreasingSequence(sequence):\n",
    "    f1 = sum([1 for a, b in zip(sequence[:-1], sequence[1:]) if a>=b ]) <= 1 \n",
    "    f2 = sum([1 for a, c in zip(sequence[:-2], sequence[2:]) if a>=c ]) <= 1\n",
    "    return f1 and f2\n",
    "\n",
    "print(sequence[:-1])\n",
    "print(sequence[1:])\n",
    "print()\n",
    "print(sequence[:-2])\n",
    "print(sequence[2:])\n",
    "almostIncreasingSequence(sequence)"
   ]
  },
  {
   "cell_type": "markdown",
   "id": "a76314b2-8fa9-4398-8dcb-90428835e2e2",
   "metadata": {},
   "source": [
    "There is a loop way to do this that will check each index,\n",
    "    for i in range(len(sequence) -1):\n",
    "        if sequence[i] > sequence[i+1]:\n",
    "        \n",
    "        count += 1\n",
    "        \n",
    "    if count > 1: return False\n",
    "    else: return True\n",
    "    \n",
    "Okay so this works as expected, and then there is an edge case where [1,2,1,2] and I need it to recognize that the count here is 1, but this still isnt allowed so how would I detect this? - so I could manually pull the first number, and then recheck it again,\n",
    "or I could see if all the numbers are unique? [4,3,2,5] no, uniqueness / mode doesnt matter here.\n",
    "\n",
    "Okay so I put in some code that would pull out this number once its been found, but depending on the case, sometimes its best to pull out the [i] and sometimes [i+1]\n",
    "\n",
    "Okay so Im learning that I can pretty much always find a manual way to do this, by just replicating the exact way that I would make the decisions as a human - yep, thats exactly what I did here, its what Ive done in the past, and it just works - but sometimes there is alot of manual steps involved, and therefore there is alot of code involved too...\n",
    "\n",
    "\n"
   ]
  },
  {
   "cell_type": "markdown",
   "id": "b9bbfe27-5087-4a6a-8a3d-deb26ac578a9",
   "metadata": {},
   "source": [
    "Now, just for fun, is there a math relationship I could come up with to solve this?\n",
    "example \n",
    "length = 5, max value = 10, min value = 1\n",
    "is there a function which can find the intervals in an array?\n",
    "for example, interval values = 1,2,-1,1,3 and from here Id know that this was false, because it has a negative, and the following number is >= abs(sequence[i])\n",
    "\n",
    "So that could be a pretty simple math way to do it, I didnt find any built-in functions that calculate the intervals between items in a list /array though, so Id have to make one\n",
    "\n",
    "Okay interesting, so the simpliest code to do this problem, has no code to physically remove the integer, it just has the code to make the necessary check of the comparison between [i-1] >= [i+1], and depending on the result of this, the answer is already known. No need to physically remove anything, just understand, if I \"was\" to remove it, on what logic would I decide to do it? - thats all, if the logic doesnt check out, it wont work. that makes sense.\n",
    "\n",
    "Yeah this makes a ton of sense - I couldve gotten to the answer in half the code. Great problem here, this was a biggie mac actually."
   ]
  },
  {
   "cell_type": "code",
   "execution_count": 251,
   "id": "bd0ce7e6-8589-4bf5-acce-c8bf8fec844c",
   "metadata": {},
   "outputs": [
    {
     "name": "stdout",
     "output_type": "stream",
     "text": [
      "list: [0, 1, 1, 2]\n",
      "i: 0\n",
      "zero list: [0]\n"
     ]
    },
    {
     "ename": "TypeError",
     "evalue": "list indices must be integers or slices, not list",
     "output_type": "error",
     "traceback": [
      "\u001b[1;31m---------------------------------------------------------------------------\u001b[0m",
      "\u001b[1;31mTypeError\u001b[0m                                 Traceback (most recent call last)",
      "\u001b[1;32m<ipython-input-251-6f658b9742c0>\u001b[0m in \u001b[0;36m<module>\u001b[1;34m\u001b[0m\n\u001b[0;32m     24\u001b[0m     \u001b[1;32mreturn\u001b[0m \u001b[0msum\u001b[0m\u001b[1;33m(\u001b[0m\u001b[0mprice_lst\u001b[0m\u001b[1;33m)\u001b[0m\u001b[1;33m\u001b[0m\u001b[1;33m\u001b[0m\u001b[0m\n\u001b[0;32m     25\u001b[0m \u001b[1;33m\u001b[0m\u001b[0m\n\u001b[1;32m---> 26\u001b[1;33m \u001b[0mmatrixElementsSum\u001b[0m\u001b[1;33m(\u001b[0m\u001b[0mmatrix\u001b[0m\u001b[1;33m)\u001b[0m\u001b[1;33m\u001b[0m\u001b[1;33m\u001b[0m\u001b[0m\n\u001b[0m\u001b[0;32m     27\u001b[0m \u001b[1;33m\u001b[0m\u001b[0m\n\u001b[0;32m     28\u001b[0m \u001b[0mmatrix\u001b[0m\u001b[1;33m[\u001b[0m\u001b[1;36m1\u001b[0m\u001b[1;33m]\u001b[0m\u001b[1;33m[\u001b[0m\u001b[1;36m3\u001b[0m\u001b[1;33m]\u001b[0m\u001b[1;33m\u001b[0m\u001b[1;33m\u001b[0m\u001b[0m\n",
      "\u001b[1;32m<ipython-input-251-6f658b9742c0>\u001b[0m in \u001b[0;36mmatrixElementsSum\u001b[1;34m(matrix)\u001b[0m\n\u001b[0;32m     17\u001b[0m                 \u001b[0mprint\u001b[0m\u001b[1;33m(\u001b[0m\u001b[1;34mf'zero list: {zero_lst}'\u001b[0m\u001b[1;33m)\u001b[0m\u001b[1;33m\u001b[0m\u001b[1;33m\u001b[0m\u001b[0m\n\u001b[0;32m     18\u001b[0m \u001b[1;33m\u001b[0m\u001b[0m\n\u001b[1;32m---> 19\u001b[1;33m             \u001b[1;32mif\u001b[0m \u001b[0mmatrix\u001b[0m\u001b[1;33m[\u001b[0m\u001b[0mlist\u001b[0m\u001b[1;33m]\u001b[0m\u001b[1;33m[\u001b[0m\u001b[0mi\u001b[0m\u001b[1;33m]\u001b[0m \u001b[1;33m>\u001b[0m \u001b[1;36m0\u001b[0m\u001b[1;33m:\u001b[0m\u001b[1;33m\u001b[0m\u001b[1;33m\u001b[0m\u001b[0m\n\u001b[0m\u001b[0;32m     20\u001b[0m                 \u001b[0mprice_lst\u001b[0m\u001b[1;33m.\u001b[0m\u001b[0mappend\u001b[0m\u001b[1;33m(\u001b[0m\u001b[0mmatrix\u001b[0m\u001b[1;33m[\u001b[0m\u001b[0mi\u001b[0m\u001b[1;33m]\u001b[0m\u001b[1;33m[\u001b[0m\u001b[0mi\u001b[0m\u001b[1;33m]\u001b[0m\u001b[1;33m)\u001b[0m\u001b[1;33m\u001b[0m\u001b[1;33m\u001b[0m\u001b[0m\n\u001b[0;32m     21\u001b[0m                 \u001b[0mprint\u001b[0m\u001b[1;33m(\u001b[0m\u001b[1;34mf'price_lst: {price_lst}'\u001b[0m\u001b[1;33m)\u001b[0m\u001b[1;33m\u001b[0m\u001b[1;33m\u001b[0m\u001b[0m\n",
      "\u001b[1;31mTypeError\u001b[0m: list indices must be integers or slices, not list"
     ]
    }
   ],
   "source": [
    "matrix = [[0, 1, 1, 2], \n",
    "          [0, 5, 0, 0], \n",
    "          [2, 0, 3, 3]]\n",
    "\n",
    "\n",
    "def matrixElementsSum(matrix):\n",
    "    zero_lst = []\n",
    "    price_lst = []\n",
    "    for list in matrix:\n",
    "        print(f'list: {list}')\n",
    "\n",
    "        for i in list:\n",
    "            print(f'i: {i}')\n",
    "\n",
    "            if matrix[i][i] == 0:\n",
    "                zero_lst.append(matrix[i][i])\n",
    "                print(f'zero list: {zero_lst}')\n",
    "            \n",
    "            if matrix[][i] > 0:\n",
    "                price_lst.append(matrix[i][i])\n",
    "                print(f'price_lst: {price_lst}')\n",
    "\n",
    "            \n",
    "    return sum(price_lst)\n",
    "\n",
    "matrixElementsSum(matrix)\n",
    "\n",
    "matrix[1][3]"
   ]
  },
  {
   "cell_type": "markdown",
   "id": "b14fad45-51cd-40d0-9d2f-cfc2ad12e33a",
   "metadata": {},
   "source": [
    "okay so, Im thinking that Ill want to find the index of any 0's in this list of lists\n",
    "for example, the first one is matrix[0][0], so I need to essentailly build a search function that saves the index of any 0's, and then essentially removes the items in each of the top index's that are also of that same index\n",
    "\n",
    "Im thinking this could be done in a simple for loop - if statement setup, and since Im looking to get the sum of a resulting list, I can build this into a list comprehension setup\n",
    "\n",
    "return sum([matrix[i] for i in matrix if \n",
    "\n",
    "Okay so thats what the list comprehension would start to look like - what about explicit\n",
    "    \n",
    "zero_lst = []\n",
    "price_lst = []\n",
    "for i, val in matrix:\n",
    "    if i,i == 0:\n",
    "        zero_lst.append(matrix[i][i])\n",
    "    if matrix[i][i] > 0:\n",
    "        price_lst.append(matrix[i][i])\n",
    "return sum(price_lst)"
   ]
  }
 ],
 "metadata": {
  "kernelspec": {
   "display_name": "Python 3",
   "language": "python",
   "name": "python3"
  },
  "language_info": {
   "codemirror_mode": {
    "name": "ipython",
    "version": 3
   },
   "file_extension": ".py",
   "mimetype": "text/x-python",
   "name": "python",
   "nbconvert_exporter": "python",
   "pygments_lexer": "ipython3",
   "version": "3.8.3"
  }
 },
 "nbformat": 4,
 "nbformat_minor": 5
}
