{
 "cells": [
  {
   "cell_type": "code",
   "execution_count": 1,
   "metadata": {},
   "outputs": [
    {
     "name": "stdout",
     "output_type": "stream",
     "text": [
      "5\n"
     ]
    }
   ],
   "source": [
    "\"\"\"Greeeeeeeeeeeeedy problem solving mentality\"\"\""
   ]
  },
  {
   "cell_type": "code",
   "execution_count": null,
   "metadata": {},
   "outputs": [],
   "source": [
    "\"\"\"Most greedy problems will be asking for the maximum or minimum of something.\n",
    "\n",
    "Imagine that a person that is delivering pizzas, and they had to visit 5 different houses.\n",
    "Theyre terrible at planning, so they decide to just start with the nearest house.\n",
    "After completing that delivery, they again choose to go to the nearest of the\n",
    "4 remaining houses, and so on until they finish the deliveries.\n",
    "\n",
    "It turns out, that if they went in a different order, \n",
    "there was a bridge between two of the houses that could have reduced\n",
    "their total travel time. But, at each step, they were greedy and only cared about\n",
    "the immediate optimal choice. The choices were local because they ignored\n",
    "all future decisions at the time of each decision.\n",
    "\n",
    "A lot of heap problems can also be considered greedy. \n",
    "A heap gives us a maximum or minimum element,\n",
    "and generally greedy approaches will be choosing max/min elements at each \"step\".\n",
    "Most of the algorithms we looked at in the previous chapter can be classified as greedy.\n",
    "\n",
    "in many greedy problems, you will be sorting the input at the start.\n",
    "Again, this is because we want to greedily choose the max/min elements in many problems.\n",
    "\"\"\""
   ]
  },
  {
   "cell_type": "code",
   "execution_count": null,
   "metadata": {},
   "outputs": [],
   "source": [
    "\"\"\"\n",
    "A good example of how a greedy method can be a fast, good approximation,\n",
    "is with the travelling salesman problem (TSP). \n",
    "A greedy approach to TSP yields an answer that is usually only wrong by about 25%\n",
    "with a time complexity of O(n^2)\n",
    "For an exact solution, it takes O(2^n)\n",
    "\"\"\""
   ]
  },
  {
   "cell_type": "code",
   "execution_count": 12,
   "metadata": {},
   "outputs": [
    {
     "name": "stdout",
     "output_type": "stream",
     "text": [
      "[1, 3, 6, 12, 20]\n",
      "<zip object at 0x10a0fcb80>\n",
      "[(0, 1), (0, 3), (2, 6), (5, 12), (7, 20)]\n"
     ]
    }
   ],
   "source": [
    "\"\"\"\n",
    "Practice using the \"zip()\" function in python\n",
    "\n",
    "\"\"\"\n",
    "\n",
    "capital = [0,0,2,5,7]\n",
    "profits = [3,1,6,12,20]\n",
    "\n",
    "projects1 = sorted(profits)\n",
    "projects2 = zip(capital,profits)\n",
    "projects3 = sorted(zip(capital, profits))\n",
    "\n",
    "print(projects1)\n",
    "print(projects2)\n",
    "print(projects3)"
   ]
  },
  {
   "cell_type": "code",
   "execution_count": null,
   "metadata": {},
   "outputs": [],
   "source": [
    "\"\"\"Okay so basically the way zip() works,\n",
    "is that its just an easy way to \"zip\" two arrays together into a tuple, index by index\n",
    "its not really that common of a thing, and I could do this manually in any loop anyway\n",
    "aka\n",
    "for i in range(len(array1)):\n",
    "    heapq.heappush(name_of_heap, (array1[i], array2[i]))\n",
    "\n",
    "or, I could also write:\n",
    "zipped_array = zip(array1, array2)\n",
    "for i in range(len(array1)):\n",
    "    heapq.heappush(name_of_heap, zipped_array)\n",
    "\n",
    "Side notes:\n",
    "In order to print() a \"zipped\" object, \n",
    "I need to turn it back into a native list or a tuple\n",
    "aka, print(list(zipped_array))\n",
    "also, I just found that if I use the sorted() function on a zipped object,\n",
    "this turns it back into an array by itself\n",
    "\n",
    "Yeah, basically yeah, and so like, \n",
    "also in this case, its best to sort both arrays,\n",
    "so doing the zip first, also just requires less lines of code\n",
    "so actually, I could always keep 2 arrays as array1 and array2\n",
    "and just reference them individually for each thing I need,\n",
    "but actually, turning them into a tuple together,\n",
    "can just be easier for me to mentally think about, since now these values are \n",
    "zipped_array[i][0] and zipped array[i][1]\n",
    "\n",
    "instead of array1[i] and array2[i]\n",
    "\n",
    "so yeah nothing special really going on here, \n",
    "this is actually a useful, mental convience thing\n",
    "\"\"\""
   ]
  },
  {
   "cell_type": "code",
   "execution_count": null,
   "metadata": {},
   "outputs": [],
   "source": [
    "\"\"\"\n",
    "side note:\n",
    "sample_array.sort()\n",
    "sorted_array = sorted(sample_array)\n",
    "\n",
    "both use the same, O(n log n) sorting time (timsort)\n",
    "the only difference is that the first one sorts it inplace,\n",
    "and the second one creates a separate array, and keeps original input the same,\n",
    "niiiice,\n",
    "\n",
    "\n",
    "As we can see from the examples, most greedy problems involve sorting the input.\n",
    "You can now start to see that a lot of the problems we have looked at\n",
    "in earlier chapters were greedy problems\n",
    "- especially in the previous chapter (heap).\n",
    "Most greedy problems just involve some logical reasoning to\n",
    "see that the \"greedy\" approach works, \n",
    "and then implementation is relatively straightforward.\n",
    "\n",
    "Its kind of like this method could be called, the \"instant gratification\" method.\n",
    "\"\"\""
   ]
  },
  {
   "cell_type": "code",
   "execution_count": 15,
   "metadata": {},
   "outputs": [
    {
     "data": {
      "text/plain": [
       "9999"
      ]
     },
     "execution_count": 15,
     "metadata": {},
     "output_type": "execute_result"
    }
   ],
   "source": [
    "string = 'string'\n",
    "string[0]\n",
    "\n",
    "# int(string)\n",
    "\n",
    "str = '9999'\n",
    "int(str)\n",
    "\n",
    "\"\"\"\n",
    "side note:\n",
    "remmeber, if Im not doing anything special to each element,\n",
    "then theres no need to use a list comprehension syntax,\n",
    "I can just use the simple \"list()\" function.\n",
    "list_num = [char for char in str(num)]\n",
    "list_num = list(str(num))\n",
    "^ same exact thing :D\n",
    "\"\"\"\n",
    "\n",
    "\"\"\"\n",
    "The diferrence between greedy, and dynamic programming is that:\n",
    "greedy never reconsiders any other paths\n",
    "dynamic programming is an exhaustive search, that always finds the global maximum\n",
    "\"\"\"\n"
   ]
  },
  {
   "cell_type": "code",
   "execution_count": null,
   "metadata": {},
   "outputs": [],
   "source": [
    "\"\"\"\n",
    "Okay, so I went through the problems in the greedy section,\n",
    "I can see how to solve each of them, and I appreciate learning this \n",
    "\"greedy\" mentality, I definitely can see how this is a useful tool\n",
    "to understand,\n",
    "This could also be called the \"lazy\" method or \"short term thinking method\"\n",
    "\n",
    "Okay yeah so watching 5-6 videos on greedy algs on youtube was the move,\n",
    "I feel like I have a very good understanding of this concept now, awesome\n",
    "\n",
    "And now, we move onto binary search, le le le gooooooo\n",
    "\"\"\""
   ]
  }
 ],
 "metadata": {
  "kernelspec": {
   "display_name": "Python 3",
   "language": "python",
   "name": "python3"
  },
  "language_info": {
   "codemirror_mode": {
    "name": "ipython",
    "version": 3
   },
   "file_extension": ".py",
   "mimetype": "text/x-python",
   "name": "python",
   "nbconvert_exporter": "python",
   "pygments_lexer": "ipython3",
   "version": "3.11.0"
  },
  "orig_nbformat": 4,
  "vscode": {
   "interpreter": {
    "hash": "aee8b7b246df8f9039afb4144a1f6fd8d2ca17a180786b69acc140d282b71a49"
   }
  }
 },
 "nbformat": 4,
 "nbformat_minor": 2
}
