{
 "cells": [
  {
   "cell_type": "markdown",
   "metadata": {},
   "source": [
    "## Leet Code Data Structures and Algorithms"
   ]
  },
  {
   "cell_type": "code",
   "execution_count": 5,
   "metadata": {},
   "outputs": [
    {
     "data": {
      "text/plain": [
       "['o', 'l', 'l', 'e', 'h']"
      ]
     },
     "execution_count": 5,
     "metadata": {},
     "output_type": "execute_result"
    }
   ],
   "source": [
    "# 9/22/22\n",
    "# reverse a string, in O(n) time and O(1) space\n",
    "\n",
    "class Solution(object):\n",
    "    def reverseString(self, s):\n",
    "        # two pointers for this? ---- I dont think so, \n",
    "        # if I were to do this manually, how would I do this?\n",
    "        # ahh - this is 2 pointers\n",
    "        \n",
    "        left = 0\n",
    "        right = 0\n",
    "        while left < len(s)/2:\n",
    "            # print(len(s)/2)\n",
    "            left_value = s[left]\n",
    "            # print(left_value)\n",
    "            s[left] = s[right-1]\n",
    "            # print(s[left])\n",
    "            s[right-1] = left_value\n",
    "            # print(s[right-1])\n",
    "            left += 1\n",
    "            right -= 1\n",
    "            # print(left)\n",
    "        return s\n",
    "\n",
    "solution_instance = Solution()\n",
    "solution_instance.reverseString([\"h\",\"e\",\"l\",\"l\",\"o\"])\n",
    "\n",
    "# Above solution used 2 pointers method, and a temp variable to swap values"
   ]
  },
  {
   "cell_type": "code",
   "execution_count": null,
   "metadata": {},
   "outputs": [],
   "source": []
  }
 ],
 "metadata": {
  "kernelspec": {
   "display_name": "Python 3.9.7 64-bit",
   "language": "python",
   "name": "python3"
  },
  "language_info": {
   "codemirror_mode": {
    "name": "ipython",
    "version": 3
   },
   "file_extension": ".py",
   "mimetype": "text/x-python",
   "name": "python",
   "nbconvert_exporter": "python",
   "pygments_lexer": "ipython3",
   "version": "3.9.7"
  },
  "orig_nbformat": 4,
  "vscode": {
   "interpreter": {
    "hash": "81794d4967e6c3204c66dcd87b604927b115b27c00565d3d43f05ba2f3a2cb0d"
   }
  }
 },
 "nbformat": 4,
 "nbformat_minor": 2
}
