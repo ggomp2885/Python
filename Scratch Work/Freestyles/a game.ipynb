{
 "cells": [
  {
   "cell_type": "code",
   "execution_count": null,
   "metadata": {},
   "outputs": [],
   "source": [
    "\"\"\"\n",
    "12/30/22\n",
    "Okay so \n",
    "what could I code, like, for fun?\n",
    "Just to have actual fun coding?\n",
    "\n",
    "I feel like I could code a game,\n",
    "that has like 5 skill types,\n",
    "and has \"waves\" of random enemies\n",
    "\n",
    "basically after each wave, experience is awarded,\n",
    "and this experience can be chosen by the user\n",
    "to increase a certain skill\n",
    "\n",
    "All I would pretty much need to know is how to\n",
    "do the \"user_input\" cmd, and use this input\n",
    "\n",
    "Then it would work,\n",
    "\n",
    "Okay, so yeah that would be cool,\n",
    "then I could train a transformer to RL the best\n",
    "skills to choose in what order,\n",
    "and theoretically it would learn the perfect way to \n",
    "play the game, based on its inputs and the given output.\n",
    "\n",
    "Thats pretty cool.\n",
    "\n",
    "I could even flavor this game,\n",
    "like a real-life game where a person had a choice to do\n",
    "certain activities, 5 activities that acted like \"skills\"\n",
    "aka, after \"wave 1\" do you spend 1 hr meditating, 1 hr running, 1 hr learning, 1hr with friends and family, 1hr playing video games\n",
    "Then, the situations, would be like,\n",
    "\"your best friend just called and said he wants to come over\"\n",
    "\"you found out your going to a kids birthday party\"\n",
    "\"you just got a bonus at work\"\n",
    "etc,\n",
    "and that way atleast on the surface,\n",
    "this transformer would be virtually be giving suggestions\n",
    "for aware users,\n",
    "based on their biofeedback numbers\n",
    "\"\"\"\n",
    "\n",
    "\"\"\"\n",
    "Okay, this just got interesting,\n",
    "but at the core I dont think it has to do with the \n",
    "activity itself, but a person's muscle tension/breathing\n",
    "while doing the activity,\n",
    "\n",
    "So how can I write a transformer that tries to optimize\n",
    "a persons biosignals?\n",
    "\n",
    "Okay now that is something I can do,\n",
    "A transformer that has multiple actions it can take, such as,\n",
    "- do nothing\n",
    "- send notification to meditate\n",
    "- send notification to workout\n",
    "- send notification to send a note to a loved one\n",
    "- send a joke to the user\n",
    "- send a book recommendation to the user\n",
    "- etc...\n",
    "And then it can optimize the actions it takes based on the\n",
    "person's biofeedback\n",
    "a biofeedback recommendation engine it can also be called\n",
    "\n",
    "\n",
    "\"\"\""
   ]
  }
 ],
 "metadata": {
  "kernelspec": {
   "display_name": "Python 3",
   "language": "python",
   "name": "python3"
  },
  "language_info": {
   "name": "python",
   "version": "3.11.0 (v3.11.0:deaf509e8f, Oct 24 2022, 14:43:23) [Clang 13.0.0 (clang-1300.0.29.30)]"
  },
  "orig_nbformat": 4,
  "vscode": {
   "interpreter": {
    "hash": "aee8b7b246df8f9039afb4144a1f6fd8d2ca17a180786b69acc140d282b71a49"
   }
  }
 },
 "nbformat": 4,
 "nbformat_minor": 2
}
