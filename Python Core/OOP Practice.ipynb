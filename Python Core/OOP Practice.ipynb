{
 "cells": [
  {
   "cell_type": "markdown",
   "id": "fcf90a2e-2b9d-4672-878b-5ee1c00aaffd",
   "metadata": {},
   "source": [
    "# Python OOP Class Challenges"
   ]
  },
  {
   "cell_type": "markdown",
   "id": "03de6a60-ea30-4042-bfd5-e73b04b56b72",
   "metadata": {},
   "source": [
    "### Video Streaming Plans"
   ]
  },
  {
   "cell_type": "code",
   "execution_count": 1,
   "id": "09036404-5921-45a3-bdd5-544bf00673df",
   "metadata": {},
   "outputs": [
    {
     "name": "stdout",
     "output_type": "stream",
     "text": [
      "$15.99\n",
      "True\n"
     ]
    }
   ],
   "source": [
    "class BasicPlan:\n",
    "\tcan_stream = True\n",
    "\tcan_download = True\n",
    "\tnum_of_devices = 1\n",
    "\thas_SD = True\n",
    "\thas_HD = False\n",
    "\thas_UHD = False\n",
    "\tprice = '$8.99'\n",
    "class StandardPlan:\n",
    "\tcan_stream = True\n",
    "\tcan_download = True\n",
    "\thas_SD = True\n",
    "\thas_HD = True\n",
    "\thas_UHD = False\n",
    "\tnum_of_devices = 2\n",
    "\tprice = '$12.99'\n",
    "\n",
    "class PremiumPlan:\n",
    "\tcan_stream = True\n",
    "\tcan_download = True\n",
    "\thas_SD = True\n",
    "\thas_HD = True\n",
    "\thas_UHD = True\n",
    "\tnum_of_devices = 4\n",
    "\tprice = '$15.99'\n",
    "\t\n",
    "print(PremiumPlan.price)\n",
    "print(PremiumPlan.has_SD)"
   ]
  },
  {
   "cell_type": "markdown",
   "id": "b7e50d8f-a768-48c3-98c0-ad17a54125bc",
   "metadata": {},
   "source": [
    "### Circle Class"
   ]
  },
  {
   "cell_type": "code",
   "execution_count": 5,
   "id": "c292a592-7004-49ab-aaa7-c3e1a7aa37c7",
   "metadata": {},
   "outputs": [
    {
     "name": "stdout",
     "output_type": "stream",
     "text": [
      "78.53981633974483\n",
      "31.41592653589793\n"
     ]
    }
   ],
   "source": [
    "import math\n",
    "\n",
    "class Circle:\n",
    "\n",
    "\tdef __init__(self, r):\n",
    "\t\tself.r = r\n",
    "\t\n",
    "\tdef getArea(self):\n",
    "\t\treturn self.r**2*math.pi\n",
    "\t\t\n",
    "\tdef getPerimeter(self):\n",
    "\t\treturn self.r*2*math.pi\n",
    "\n",
    "circle = Circle(5)\n",
    "print(circle.getArea())\n",
    "print(circle.getPerimeter())"
   ]
  },
  {
   "cell_type": "markdown",
   "id": "a88172ed-3695-47d6-a15f-21ac6bd4b0ea",
   "metadata": {},
   "source": [
    "### Older than me"
   ]
  },
  {
   "cell_type": "code",
   "execution_count": 6,
   "id": "e53b9358-ae94-4a6d-8fa9-d0a86447d60a",
   "metadata": {},
   "outputs": [
    {
     "name": "stdout",
     "output_type": "stream",
     "text": [
      "Joel is older than me\n",
      "Samuel is younger than me\n",
      "Lily is the same age as me\n"
     ]
    }
   ],
   "source": [
    "class Person:\n",
    "\tdef __init__(self, name, age):\n",
    "\t\tself.name = name\n",
    "\t\tself.age = age\n",
    "\n",
    "\tdef compare_age(self, other):\n",
    "\t\tif self.age > other.age:\n",
    "\t\t\treturn print('{} is younger than me'.format(other.name))\n",
    "\t\telif self.age < other.age:\n",
    "\t\t\treturn print('{} is older than me'.format(other.name))\n",
    "\t\telse:\n",
    "\t\t\treturn print('{} is the same age as me'.format(other.name))\n",
    "        \n",
    "p1 = Person(\"Samuel\", 24)\n",
    "p2 = Person(\"Joel\", 36)\n",
    "p3 = Person(\"Lily\", 24)\n",
    "\n",
    "p1.compare_age(p2)\n",
    "p2.compare_age(p1)\n",
    "p1.compare_age(p3)"
   ]
  },
  {
   "cell_type": "markdown",
   "id": "24c92a23-22da-4731-a29a-f889dd33651e",
   "metadata": {},
   "source": [
    "Okay so this practice problem just wanted the answer returned in the form of string, so the print() function, removes the quotes from any string, whereas you can just return a string by itself, and it will keep the quotes in the output, good to know"
   ]
  },
  {
   "cell_type": "markdown",
   "id": "92f0be28-e8bd-4092-a31a-6766e0e06a78",
   "metadata": {},
   "source": [
    "### OOP calculator class"
   ]
  },
  {
   "cell_type": "code",
   "execution_count": 7,
   "id": "f668b9ab-8699-4114-b466-b24126df1a79",
   "metadata": {},
   "outputs": [],
   "source": [
    "class Calculator:\n",
    "# add, subtract, multiply, and divide\n",
    "\tdef add(self, n1,n2):\n",
    "\t\treturn n1+n2\n",
    "    \n",
    "\tdef subtract(self, n1,n2):\n",
    "\t\treturn n1-n2\n",
    "    \n",
    "\tdef multiply(self, n1,n2):\n",
    "\t\treturn n1*n2\n",
    "    \n",
    "\tdef divide(self, n1,n2):\n",
    "\t\treturn n1/n2"
   ]
  },
  {
   "cell_type": "markdown",
   "id": "b2c58983-7d23-4830-a0f9-415b734aef2a",
   "metadata": {},
   "source": [
    "So all the functions(methods) created inside of a class must start off with the (self,) argument, regardless of whether or not they use it. This is also good to know."
   ]
  },
  {
   "cell_type": "markdown",
   "id": "2e4112c6-7f28-47ad-bf44-6043a60ffd13",
   "metadata": {},
   "source": [
    "## OOP counter of objects in class"
   ]
  },
  {
   "cell_type": "code",
   "execution_count": null,
   "id": "4015d09a-38c7-45a8-a854-975035898a97",
   "metadata": {},
   "outputs": [],
   "source": [
    "class User:\n",
    "\tuser_count = 0\n",
    "\t\n",
    "\tdef __init__(self, username):\n",
    "\t\tself.username = username\n",
    "\t\tUser.user_count += 1"
   ]
  },
  {
   "cell_type": "markdown",
   "id": "bb3439db-7ac4-4477-816c-f9627dc3e5b6",
   "metadata": {},
   "source": [
    "Okay cool, so this is new, to create a counter of how many objects have been made from a class, Ill want to instantiate the variable under the \"global\" class, and then, I can change any \"global\" class variable, under any of the following functions - \n",
    "\n",
    "by just writing, classname.variablename +=1\n",
    "\n",
    "And since the I know the __init__ function runs everytime a new object is created, that is the one to use here for this case of counting objects."
   ]
  },
  {
   "cell_type": "markdown",
   "id": "44a85e69-b6a9-4a1a-9f55-a168420aba95",
   "metadata": {},
   "source": [
    "## Second example of counter in class objects"
   ]
  },
  {
   "cell_type": "code",
   "execution_count": 8,
   "id": "9543772d-16dc-41a6-9e61-8eb87126f974",
   "metadata": {},
   "outputs": [],
   "source": [
    "class Composer:\n",
    "\tcount = 0\n",
    "\t\n",
    "\tdef __init__(self, name, dob, country):\n",
    "\t\tself.name = name\n",
    "\t\tself.dob = dob\n",
    "\t\tself.country = country\n",
    "\t\tComposer.count += 1"
   ]
  },
  {
   "cell_type": "code",
   "execution_count": 9,
   "id": "3ca38142-d32c-48c0-b1f4-8b2a68ac7f68",
   "metadata": {},
   "outputs": [],
   "source": [
    "c1 = Composer(\"Austen Eckhart\", 1997, \"USA\")"
   ]
  },
  {
   "cell_type": "code",
   "execution_count": 10,
   "id": "f182571e-93f6-4314-b65c-9c1a1a8a569c",
   "metadata": {},
   "outputs": [
    {
     "data": {
      "text/plain": [
       "'Austen Eckhart'"
      ]
     },
     "execution_count": 10,
     "metadata": {},
     "output_type": "execute_result"
    }
   ],
   "source": [
    "c1.name"
   ]
  },
  {
   "cell_type": "markdown",
   "id": "ac18b646-7766-4faa-8da9-3f919202d584",
   "metadata": {},
   "source": [
    "## Implementation of OOP with best DRY solution"
   ]
  },
  {
   "cell_type": "code",
   "execution_count": 2,
   "id": "a256faba-6caa-49d4-9ffe-74be2983cb99",
   "metadata": {},
   "outputs": [],
   "source": [
    "class Person:\n",
    "\t\n",
    "\tdef __init__ (self,name,likes,hates):\n",
    "\t\tself.name = name\n",
    "\t\tself.likes = likes\n",
    "\t\tself.hates = hates\n",
    "\t\t\n",
    "\tdef taste(self,food):\n",
    "\t\tif food in self.likes: add = \" and loves it\"\n",
    "\t\telif food in self.hates: add = \" and hates it\"\n",
    "\t\telse: add=\"\"\n",
    "\t\treturn self.name + \" eats the \" + food + add + \"!\""
   ]
  },
  {
   "cell_type": "markdown",
   "id": "76cdb90e-e528-4af4-ab40-16578b9e83db",
   "metadata": {},
   "source": [
    "So this implemenation is just a good example of identifying the parts of the string that stay the same, and instead of writing 3 return functions in the if statements, I can just create a variable that stores the different ending response, and then place that variable in the proper location on a final return statement, that is not inside any of the if statements. Makes perfect sense."
   ]
  },
  {
   "cell_type": "markdown",
   "id": "a264d5dc-c62b-490c-bdeb-e55cefd4ad44",
   "metadata": {},
   "source": [
    "## IceCream Flavor dictionary from OOP class"
   ]
  },
  {
   "cell_type": "code",
   "execution_count": 1,
   "id": "ba4fff17-2c98-4134-8406-6d0aca19f454",
   "metadata": {},
   "outputs": [],
   "source": [
    "# included class\n",
    "class IceCream:\n",
    "\tdef __init__(self, flavor, num_sprinkles):\n",
    "\t\tself.flavor = flavor\n",
    "\t\tself.num_sprinkles = num_sprinkles"
   ]
  },
  {
   "cell_type": "code",
   "execution_count": 2,
   "id": "1712a661-bf65-435a-9f5c-c135433cd84c",
   "metadata": {},
   "outputs": [],
   "source": [
    "# new function\n",
    "def sweetest_icecream(lst):\n",
    "\tflavor_values = {\n",
    "\t\t'Plain' : 0,\n",
    "\t\t'Vanilla' : 5,\n",
    "\t\t'ChocolateChip' : 5,\n",
    "\t\t'Strawberry' : 10,\n",
    "\t\t'Chocolate' : 10}\n",
    "\treturn max([i.num_sprinkles + flavor_values[i.flavor] for i in lst])"
   ]
  },
  {
   "cell_type": "markdown",
   "id": "eb78cdd7-15c9-4d84-a04c-3f4713fc248c",
   "metadata": {},
   "source": [
    "So this one is new, because its using a function to find the max of values from an outside class - now, realistically, this would probably best be created as a method in the class itself, but this example shows that it doesnt have to be\n",
    "\n",
    "essentially a list is passed in to this function, and this function uses a for loop with i.attribute to do its calculations\n",
    "\n",
    "as a twist, the original integer values are not included in the original class, so here is a perfect place to build a dictionary of values, and then simply index that dictionary with the string returned from i.attribute \n",
    "\n",
    "This is a good reminder that any dictionary works by just dict['string'] and it returns the value associated with that key string"
   ]
  },
  {
   "cell_type": "code",
   "execution_count": null,
   "id": "ce2b4b25-9bd5-4a10-9605-4ee7ad9beaff",
   "metadata": {},
   "outputs": [],
   "source": []
  }
 ],
 "metadata": {
  "kernelspec": {
   "display_name": "Python 3",
   "language": "python",
   "name": "python3"
  },
  "language_info": {
   "codemirror_mode": {
    "name": "ipython",
    "version": 3
   },
   "file_extension": ".py",
   "mimetype": "text/x-python",
   "name": "python",
   "nbconvert_exporter": "python",
   "pygments_lexer": "ipython3",
   "version": "3.8.3"
  }
 },
 "nbformat": 4,
 "nbformat_minor": 5
}
