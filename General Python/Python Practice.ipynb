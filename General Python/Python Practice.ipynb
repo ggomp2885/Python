{
 "cells": [
  {
   "cell_type": "code",
   "execution_count": 35,
   "id": "838f5373-f4a4-474e-b6e6-6493751bce48",
   "metadata": {},
   "outputs": [
    {
     "name": "stdout",
     "output_type": "stream",
     "text": [
      "length of year: 2\n",
      "loop running = 1 or 2\n",
      "1\n"
     ]
    }
   ],
   "source": [
    "def centuryFromYear(year):\n",
    "    print(f'length of year: {len(str(year))}')\n",
    "    \n",
    "    if len(str(year)) in [1,2]:\n",
    "        print('loop running = 1 or 2')\n",
    "        return 1\n",
    "        \n",
    "    if len(str(year)) == 3:\n",
    "        print('loop running = 3')\n",
    "        year = str(year)\n",
    "        if year[1:3] == '00':\n",
    "            return int(year[:1])\n",
    "        else:\n",
    "            return int(year[:1]) +1\n",
    "        \n",
    "    if len(str(year)) == 4:\n",
    "        print('loop running = 4')\n",
    "        year = str(year)\n",
    "        if year[2:4] == '00':\n",
    "            return int(year[:2])\n",
    "        else:\n",
    "            return int(year[:2]) +1\n",
    "        \n",
    "print(centuryFromYear(45))"
   ]
  },
  {
   "cell_type": "code",
   "execution_count": 41,
   "id": "450ea5b9-dc8b-402e-9267-ee10a52be565",
   "metadata": {},
   "outputs": [
    {
     "data": {
      "text/plain": [
       "2"
      ]
     },
     "execution_count": 41,
     "metadata": {},
     "output_type": "execute_result"
    }
   ],
   "source": [
    "def centuryFromYear(year):\n",
    "    return (year + 95) // 100\n",
    "centuryFromYear(201)"
   ]
  },
  {
   "cell_type": "code",
   "execution_count": null,
   "id": "82f3da44-bfb9-405c-8b0f-16bbe183b488",
   "metadata": {},
   "outputs": [],
   "source": []
  }
 ],
 "metadata": {
  "kernelspec": {
   "display_name": "Python 3",
   "language": "python",
   "name": "python3"
  },
  "language_info": {
   "codemirror_mode": {
    "name": "ipython",
    "version": 3
   },
   "file_extension": ".py",
   "mimetype": "text/x-python",
   "name": "python",
   "nbconvert_exporter": "python",
   "pygments_lexer": "ipython3",
   "version": "3.8.3"
  }
 },
 "nbformat": 4,
 "nbformat_minor": 5
}
