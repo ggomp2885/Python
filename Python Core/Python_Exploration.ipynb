{
 "cells": [
  {
   "cell_type": "markdown",
   "metadata": {},
   "source": [
    "### This file includes all of my experiential knowledge of the most used functions in the base python library"
   ]
  },
  {
   "cell_type": "markdown",
   "metadata": {},
   "source": [
    "## Data Types\n",
    "##### If conditional statements seem to \"not be working\", it is likely that the data types of the two things being compared are not compatible, so check this early on, because sometimes Ill need to use == integer, and, or, or also \"if x in [1,2]\""
   ]
  },
  {
   "cell_type": "markdown",
   "metadata": {},
   "source": [
    "## Operators"
   ]
  },
  {
   "cell_type": "markdown",
   "metadata": {},
   "source": [
    "## Imports"
   ]
  },
  {
   "cell_type": "code",
   "execution_count": 40,
   "metadata": {},
   "outputs": [],
   "source": [
    "import numpy as np\n",
    "import pandas as pd\n",
    "import webbrowser\n",
    "#webbrowser.open('https://google.com')\n",
    "from functools import reduce\n",
    "\n",
    "from termcolor import cprint"
   ]
  },
  {
   "cell_type": "markdown",
   "metadata": {},
   "source": [
    "## Simple things"
   ]
  },
  {
   "cell_type": "code",
   "execution_count": 51,
   "metadata": {},
   "outputs": [
    {
     "name": "stdout",
     "output_type": "stream",
     "text": [
      "1000000.0\n",
      "bird is the word\n",
      "this is one long string\n",
      "\u001b[1m\u001b[34mthis string is blue and bold\u001b[0m\n"
     ]
    }
   ],
   "source": [
    "# these are both equal\n",
    "a = 5\n",
    "b = 10\n",
    "a,b = 5, 10\n",
    "\n",
    "# these are all equal (after python 3.6)\n",
    "var = 1000000\n",
    "var = 1_000_000\n",
    "var = 1e6\n",
    "print(var)\n",
    "\n",
    "# no need for plus sign to add strings together\n",
    "var = 'bird is the ' 'word'\n",
    "print(var)\n",
    "\n",
    "# multi-line strings\n",
    "var = '''this is one \\\n",
    "long string'''\n",
    "print(var)\n",
    "\n",
    "# multt-line comments\n",
    "''' this is a\n",
    "long comment'''\n",
    "\n",
    "cprint('this string is blue and bold','blue', attrs=['bold'])"
   ]
  },
  {
   "cell_type": "markdown",
   "metadata": {},
   "source": [
    "## Simple Indexing things"
   ]
  },
  {
   "cell_type": "code",
   "execution_count": 37,
   "metadata": {},
   "outputs": [
    {
     "name": "stdout",
     "output_type": "stream",
     "text": [
      "reverses a list or a string: [3, 2, 1]\n"
     ]
    }
   ],
   "source": [
    "# mock varaibles for testing these functions\n",
    "lst = [1,2,3]\n",
    "\n",
    "print(f'reverses a list or a string: {lst[::-1]}')"
   ]
  },
  {
   "cell_type": "markdown",
   "metadata": {},
   "source": [
    "## Built-in Functions"
   ]
  },
  {
   "cell_type": "code",
   "execution_count": 38,
   "metadata": {},
   "outputs": [
    {
     "name": "stdout",
     "output_type": "stream",
     "text": [
      "Hello 5 and 6 I'm Pytutorial I'm 7 years old\n",
      "<function <lambda> at 0x00000264F246D430>\n",
      "[5, 6, 7, 8]\n"
     ]
    },
    {
     "data": {
      "text/plain": [
       "[25, 36, 49, 64]"
      ]
     },
     "metadata": {},
     "output_type": "display_data"
    },
    {
     "data": {
      "text/plain": [
       "[25, 36, 49, 64]"
      ]
     },
     "metadata": {},
     "output_type": "display_data"
    },
    {
     "data": {
      "text/plain": [
       "list"
      ]
     },
     "metadata": {},
     "output_type": "display_data"
    },
    {
     "data": {
      "text/plain": [
       "[6, 8]"
      ]
     },
     "metadata": {},
     "output_type": "display_data"
    },
    {
     "data": {
      "text/plain": [
       "26"
      ]
     },
     "metadata": {},
     "output_type": "display_data"
    },
    {
     "name": "stdout",
     "output_type": "stream",
     "text": [
      "rounding numbers: 10.0\n",
      "\n",
      "find the count of an item in a list/string/tuple: 0\n",
      "\n",
      "finding substring index location in another string: 6\n",
      "\n",
      "find item index in a list: 1\n",
      "\n"
     ]
    },
    {
     "ename": "NameError",
     "evalue": "name 'lst' is not defined",
     "output_type": "error",
     "traceback": [
      "\u001b[1;31m---------------------------------------------------------------------------\u001b[0m",
      "\u001b[1;31mNameError\u001b[0m                                 Traceback (most recent call last)",
      "\u001b[1;32m<ipython-input-38-6094d152e26b>\u001b[0m in \u001b[0;36m<module>\u001b[1;34m\u001b[0m\n\u001b[0;32m     52\u001b[0m \u001b[1;32mif\u001b[0m \u001b[1;34m'lst'\u001b[0m \u001b[1;32min\u001b[0m \u001b[0mlocals\u001b[0m\u001b[1;33m(\u001b[0m\u001b[1;33m)\u001b[0m\u001b[1;33m:\u001b[0m\u001b[1;33m\u001b[0m\u001b[1;33m\u001b[0m\u001b[0m\n\u001b[0;32m     53\u001b[0m     \u001b[1;32mdel\u001b[0m \u001b[0mlst\u001b[0m\u001b[1;33m\u001b[0m\u001b[1;33m\u001b[0m\u001b[0m\n\u001b[1;32m---> 54\u001b[1;33m \u001b[0mprint\u001b[0m\u001b[1;33m(\u001b[0m\u001b[0mlst\u001b[0m\u001b[1;33m)\u001b[0m\u001b[1;33m\u001b[0m\u001b[1;33m\u001b[0m\u001b[0m\n\u001b[0m",
      "\u001b[1;31mNameError\u001b[0m: name 'lst' is not defined"
     ]
    }
   ],
   "source": [
    "# Functions\n",
    "#mock variables for testing these functions\n",
    "a, b, c, d = 5, 6, 7, 8\n",
    "\n",
    "lst = [a,b,c,d]\n",
    "string1 = 'salad'\n",
    "\n",
    "#printing f strings\n",
    "print(f\"Hello {a} and {b} I'm Pytutorial I'm {c} years old\")\n",
    "# Ahaah, f strings will work with df['column'], I just have to use a single ' for the main string, and a double \" for inside the function.\n",
    "\n",
    "#lambda functions\n",
    "print(lambda a, b : a*b)      # just as a regular function, it starts with arguments, then the statement to be executed\n",
    "\n",
    "\n",
    "                    # most common functions that replace for loops\n",
    "# map function\n",
    "print(lst)\n",
    "new_lst = list(map(lambda a: a**2, lst))\n",
    "display(new_lst)\n",
    "\n",
    "# list comp version of map function\n",
    "new_lst = [lst[i]**2 for i in range(len(lst))]\n",
    "display(new_lst)\n",
    "display(type(new_lst))\n",
    "\n",
    "#filter function\n",
    "new_lst = list(filter(lambda a: a % 2 == 0, lst))\n",
    "display(new_lst)\n",
    "\n",
    "#reduce function\n",
    "new_lst = reduce(lambda a,b: a+b, lst)    # this one requires 2 inputs and returns only one cumulative result\n",
    "display(new_lst)                     \n",
    "\n",
    "print(f'rounding numbers: {round(10.5519, -1)}\\n')        # rounds to even number when on .5 cases\n",
    "\n",
    "\n",
    "print(f'find the count of an item in a list/string/tuple: {lst.count(1)}\\n')\n",
    "                            #string methods\n",
    "\n",
    "print(f'finding substring index location in another string: {\"youtube\".find(\"e\")}\\n')\n",
    "\n",
    "                            #list methods\n",
    "print(f'find item index in a list: {lst.index(b)}\\n')\n",
    "\n",
    "\n",
    "# deletes a stored variable\n",
    "if 'lst' in locals():\n",
    "    del lst\n",
    "print(lst)  "
   ]
  },
  {
   "cell_type": "markdown",
   "metadata": {},
   "source": [
    "## Lists"
   ]
  },
  {
   "cell_type": "markdown",
   "metadata": {},
   "source": [
    "###### General notes:\n",
    "* List indexing does not work as well as indexing with a Numpy array, so convert to np array, and then indexing will work as expected, then back to a list if needed.\n"
   ]
  },
  {
   "cell_type": "code",
   "execution_count": 14,
   "metadata": {},
   "outputs": [
    {
     "data": {
      "text/plain": [
       "[0, 1, 2, 3, 4, 5, 6, 7, 8, 9, 10, 11, 12, 13, 14, 15, 16, 17, 18, 19]"
      ]
     },
     "metadata": {},
     "output_type": "display_data"
    },
    {
     "data": {
      "text/plain": [
       "[19, 18, 17, 16, 15, 14, 13, 12, 11, 10, 9, 8, 7, 6, 5, 4, 3, 2, 1, 0]"
      ]
     },
     "metadata": {},
     "output_type": "display_data"
    }
   ],
   "source": [
    "# list functions\n",
    "#dirs_ = [i.replace('_cf','') for i in dirs]   -  removing characters from each item of a list\n",
    "#dirs_25 = [i + \"_25\" for i in dirs_]          -  adding characters to the end of each item of a list\n",
    "\n",
    "# List comprehensions\n",
    "# These are just like lambda functions\n",
    "lst = [x for x in range(20)]     # This will create a list of integers from 0 to 19\n",
    "display(lst)\n",
    "# a longer \"list comprehension\"\n",
    "lst = [inputArray[i] * inputArray[i+1] for i in range(len(inputArray)-1)]\n",
    "\n",
    "\n",
    "# reversing a list\n",
    "lst.reverse()\n",
    "display(lst)"
   ]
  },
  {
   "cell_type": "markdown",
   "metadata": {},
   "source": [
    "### \"List Comprehensions\""
   ]
  },
  {
   "cell_type": "markdown",
   "metadata": {},
   "source": [
    "There is nothing special about \"list comprehensions\", they are just a normal for loop, \n",
    "\n",
    "1. where the action to be taken is written before the for loop, instead of after it\n",
    "2. everything is contained in brackets\n",
    "3. A list is returned"
   ]
  },
  {
   "cell_type": "markdown",
   "metadata": {},
   "source": [
    "## Decorators"
   ]
  },
  {
   "cell_type": "code",
   "execution_count": 1,
   "metadata": {
    "collapsed": true,
    "jupyter": {
     "outputs_hidden": true
    },
    "tags": []
   },
   "outputs": [
    {
     "ename": "NameError",
     "evalue": "name 'make_pretty' is not defined",
     "output_type": "error",
     "traceback": [
      "\u001b[1;31m---------------------------------------------------------------------------\u001b[0m",
      "\u001b[1;31mNameError\u001b[0m                                 Traceback (most recent call last)",
      "\u001b[1;32m<ipython-input-1-b01a6c3fc052>\u001b[0m in \u001b[0;36m<module>\u001b[1;34m\u001b[0m\n\u001b[1;32m----> 1\u001b[1;33m \u001b[1;33m@\u001b[0m\u001b[0mmake_pretty\u001b[0m\u001b[1;33m\u001b[0m\u001b[1;33m\u001b[0m\u001b[0m\n\u001b[0m\u001b[0;32m      2\u001b[0m \u001b[1;32mdef\u001b[0m \u001b[0mordinary\u001b[0m\u001b[1;33m(\u001b[0m\u001b[1;33m)\u001b[0m\u001b[1;33m:\u001b[0m\u001b[1;33m\u001b[0m\u001b[1;33m\u001b[0m\u001b[0m\n\u001b[0;32m      3\u001b[0m     \u001b[0mprint\u001b[0m\u001b[1;33m(\u001b[0m\u001b[1;34m\"I am ordinary\"\u001b[0m\u001b[1;33m)\u001b[0m\u001b[1;33m\u001b[0m\u001b[1;33m\u001b[0m\u001b[0m\n\u001b[0;32m      4\u001b[0m \u001b[1;33m\u001b[0m\u001b[0m\n\u001b[0;32m      5\u001b[0m     \u001b[1;31m# is equivalent to\u001b[0m\u001b[1;33m\u001b[0m\u001b[1;33m\u001b[0m\u001b[1;33m\u001b[0m\u001b[0m\n",
      "\u001b[1;31mNameError\u001b[0m: name 'make_pretty' is not defined"
     ]
    }
   ],
   "source": [
    "@make_pretty\n",
    "def ordinary():\n",
    "    print(\"I am ordinary\")\n",
    "\n",
    "    # is equivalent to\n",
    "\n",
    "def ordinary():\n",
    "    print(\"I am ordinary\")\n",
    "ordinary = make_pretty(ordinary)"
   ]
  },
  {
   "cell_type": "markdown",
   "metadata": {},
   "source": [
    "So decorators are just a pretty way to use a function on another function. \n",
    "Theyre called \"decorators\" because they \"decorate\" other functions by adding some new functionality.\n",
    "The original function stays exactly the same, its just that now this outer function is run on top of the original.\n",
    "\n",
    "Okay, so as soon as theirs a decorator @outer_func_name on top of the code, calling this original function will always run the decorator function first, these are now considered joined, there is no way to run the original by itself anymore."
   ]
  },
  {
   "cell_type": "code",
   "execution_count": null,
   "metadata": {},
   "outputs": [],
   "source": [
    "def smart_divide(func):\n",
    "    def inner(a, b):\n",
    "        print(\"I am going to divide\", a, \"and\", b)\n",
    "        if b == 0:\n",
    "            print(\"Whoops! cannot divide\")\n",
    "            return\n",
    "\n",
    "        return func(a, b)\n",
    "    return inner\n",
    "\n",
    "\n",
    "@smart_divide\n",
    "def divide(a, b):\n",
    "    print(a/b)"
   ]
  },
  {
   "cell_type": "code",
   "execution_count": null,
   "metadata": {},
   "outputs": [],
   "source": [
    "#From Fastapi example in MLOps course\n",
    "@app.get(\"/my-endpoint\")\n",
    "def handle_endpoint():"
   ]
  },
  {
   "cell_type": "markdown",
   "metadata": {},
   "source": [
    "Looks like decorators can also have specific function calls on them as well, infact, this decorator actually kind of looks like a class?, yes its got to be a class if it has a method directly on it."
   ]
  },
  {
   "cell_type": "markdown",
   "metadata": {},
   "source": [
    "## Simple dataframe things"
   ]
  },
  {
   "cell_type": "code",
   "execution_count": 55,
   "metadata": {},
   "outputs": [
    {
     "data": {
      "text/html": [
       "<div>\n",
       "<style scoped>\n",
       "    .dataframe tbody tr th:only-of-type {\n",
       "        vertical-align: middle;\n",
       "    }\n",
       "\n",
       "    .dataframe tbody tr th {\n",
       "        vertical-align: top;\n",
       "    }\n",
       "\n",
       "    .dataframe thead th {\n",
       "        text-align: right;\n",
       "    }\n",
       "</style>\n",
       "<table border=\"1\" class=\"dataframe\">\n",
       "  <thead>\n",
       "    <tr style=\"text-align: right;\">\n",
       "      <th></th>\n",
       "      <th>a</th>\n",
       "      <th>b</th>\n",
       "      <th>c</th>\n",
       "    </tr>\n",
       "  </thead>\n",
       "  <tbody>\n",
       "    <tr>\n",
       "      <th>0</th>\n",
       "      <td>1</td>\n",
       "      <td>2</td>\n",
       "      <td>3</td>\n",
       "    </tr>\n",
       "    <tr>\n",
       "      <th>1</th>\n",
       "      <td>4</td>\n",
       "      <td>5</td>\n",
       "      <td>6</td>\n",
       "    </tr>\n",
       "    <tr>\n",
       "      <th>2</th>\n",
       "      <td>7</td>\n",
       "      <td>8</td>\n",
       "      <td>9</td>\n",
       "    </tr>\n",
       "  </tbody>\n",
       "</table>\n",
       "</div>"
      ],
      "text/plain": [
       "   a  b  c\n",
       "0  1  2  3\n",
       "1  4  5  6\n",
       "2  7  8  9"
      ]
     },
     "metadata": {},
     "output_type": "display_data"
    },
    {
     "name": "stdout",
     "output_type": "stream",
     "text": [
      "unique values in \"a\": [1 4 7]\n",
      "\n",
      "number of unique values in a: 3 \n",
      "\n",
      "\u001b[34mnumber of unique values in all columns: \n",
      "a    3\n",
      "b    3\n",
      "c    3\n",
      "dtype: int64 \n",
      "\u001b[0m\n",
      "count of each unique value column \"a\": \n",
      "4    1\n",
      "1    1\n",
      "7    1\n",
      "Name: a, dtype: int64 \n",
      "\n",
      "percentage of each unique value in colunn \"a\": \n",
      "4    0.333333\n",
      "1    0.333333\n",
      "7    0.333333\n",
      "Name: a, dtype: float64 \n",
      "\n"
     ]
    }
   ],
   "source": [
    "df = pd.DataFrame(np.array([[1, 2, 3], [4, 5, 6], [7, 8, 9]]),\n",
    "                   columns=['a', 'b', 'c'])\n",
    "display(df)\n",
    "\n",
    "print(f'unique values in \"a\": {pd.unique(df[\"a\"])}\\n')\n",
    "\n",
    "print(f'number of unique values in a: {len(pd.unique(df[\"a\"]))} \\n')\n",
    "\n",
    "cprint(f'number of unique values in all columns: \\n{df.nunique(axis=0)} \\n', 'blue')\n",
    "\n",
    "print(f'count of each unique value column \"a\": \\n{df[\"a\"].value_counts()} \\n')\n",
    "\n",
    "print(f'percentage of each unique value in colunn \"a\": \\n{df[\"a\"].value_counts(normalize=True)} \\n')"
   ]
  },
  {
   "cell_type": "code",
   "execution_count": null,
   "metadata": {},
   "outputs": [],
   "source": []
  }
 ],
 "metadata": {
  "kernelspec": {
   "display_name": "Python 3",
   "language": "python",
   "name": "python3"
  },
  "language_info": {
   "codemirror_mode": {
    "name": "ipython",
    "version": 3
   },
   "file_extension": ".py",
   "mimetype": "text/x-python",
   "name": "python",
   "nbconvert_exporter": "python",
   "pygments_lexer": "ipython3",
   "version": "3.8.8"
  }
 },
 "nbformat": 4,
 "nbformat_minor": 4
}
