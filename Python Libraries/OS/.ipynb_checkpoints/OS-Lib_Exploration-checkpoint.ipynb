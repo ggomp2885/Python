{
 "cells": [
  {
   "cell_type": "markdown",
   "metadata": {},
   "source": [
    "### This file contains my exploration of the OS Library in Python"
   ]
  },
  {
   "cell_type": "markdown",
   "metadata": {},
   "source": [
    "#### General Notes\n",
    "\n",
    "This library is used for accessing files within the storage system your working on. It comes with functions for listing the files in a directory, counting them, accessing them, etc.\n",
    "\n",
    "The OS library is super useful when working with file paths in python, because python has issues with windows formatting. Backslashes are an \"escape\" character in python, so a simple replace command on a file path, will not work. Its not worth writing these \"path\" functions out by hand, because there is a large list of errors and exceptions inherent in these operations that are best left to the OS lib."
   ]
  },
  {
   "cell_type": "markdown",
   "metadata": {},
   "source": [
    "#### file path conventions\n",
    "\n",
    "\".//\" infront of a file name directs the OS lib to the current directory you are in"
   ]
  },
  {
   "cell_type": "code",
   "execution_count": 1,
   "metadata": {},
   "outputs": [],
   "source": [
    "# Imports\n",
    "import os"
   ]
  },
  {
   "cell_type": "code",
   "execution_count": 1,
   "metadata": {},
   "outputs": [],
   "source": [
    "# file paths\n",
    "\n",
    "# path = r\"C:\\Users\\ggomp\\OneDrive\\........\"  -  the r before the string is necessary to make the file path work for all OS's"
   ]
  },
  {
   "cell_type": "code",
   "execution_count": null,
   "metadata": {},
   "outputs": [],
   "source": [
    "# Functions\n",
    "\n",
    "# path, dirs, files = next(os.walk(\".//datasets_SEC\"))   -  this creates 3 list variables containing the names of each path, file, and directory in the specified directory \n",
    "# dirs_count = len(dirs)                                 -  this returns the amount of directories in the list above\n"
   ]
  },
  {
   "cell_type": "code",
   "execution_count": null,
   "metadata": {},
   "outputs": [],
   "source": [
    "# Methods"
   ]
  },
  {
   "cell_type": "code",
   "execution_count": null,
   "metadata": {},
   "outputs": [],
   "source": [
    "# Working example code\n",
    "import os\n",
    "\n",
    "path = r\"C:\\Users\\ggomp\\OneDrive\\Documents\\GitHub\\Funders-USA-ML-Backend\\datasets\\datasets_SEC\"\n"
   ]
  }
 ],
 "metadata": {
  "kernelspec": {
   "display_name": "Python 3",
   "language": "python",
   "name": "python3"
  },
  "language_info": {
   "codemirror_mode": {
    "name": "ipython",
    "version": 3
   },
   "file_extension": ".py",
   "mimetype": "text/x-python",
   "name": "python",
   "nbconvert_exporter": "python",
   "pygments_lexer": "ipython3",
   "version": "3.8.3"
  }
 },
 "nbformat": 4,
 "nbformat_minor": 4
}
