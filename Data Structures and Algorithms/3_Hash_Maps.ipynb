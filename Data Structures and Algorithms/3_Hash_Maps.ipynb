{
 "cells": [
  {
   "cell_type": "markdown",
   "metadata": {},
   "source": [
    "### Hash Maps"
   ]
  },
  {
   "cell_type": "code",
   "execution_count": null,
   "metadata": {},
   "outputs": [],
   "source": [
    "\"\"\"Interesting, so hash maps are really like a combination\n",
    "of an array, and a linked list, and therefore have \n",
    "a great mix of both qualities and higher speed at the same time\n",
    "\n",
    "Some disadvantages\n",
    "Even though the time complexity is technically O(1) for many\n",
    "of these operations, for small arrays it is technically more\n",
    "like O(10), because each input has to go through the hashing function\n",
    "but in reality this is not a concern at all, just a talking point\n",
    "\n",
    "Ohh I see, a hash table actually does have an array underneath ----\n",
    "The hash table takes the input, runs the hash function on it,\n",
    "and then assigns it to an array, \n",
    "where the index value is related to the result of the hash function,\n",
    "interesting, so then how big does this array have to be?\n",
    "\n",
    "in other words, a hash table is an array with a custom index.\n",
    "\n",
    "chosen Key -> hash function -> index of the array\n",
    "\"we dont want to have an array that is 3 billion large,\n",
    "just because theres 3 billion potential hash codes\n",
    "\n",
    "Interesting, so the most common way to handle collisions, \n",
    "is called \"chaining\", and guess what, chaining just means, \n",
    "storing the values with the same hash keys into a linked list\n",
    "that is so cool how the best data structures are actually combinations of all\n",
    "thats why they had us learn a linked list first, because Id have to know a linked list\n",
    "before truly being able to understand a hash map\n",
    "\n",
    "it seems like arrays are the smallest building blocks of programming\n",
    "then linked lists are built with 1000's of \"tiny\" arrays,\n",
    "then hash tables are built with a combination of a hash function, an array, and linkedlists\n",
    "\n",
    "Ohh I see, the \"modular\" thing they talked about earlier,\n",
    "thats what shoves the hash key value down to fit in the array size I want.\n",
    "\"15 mod 8 = 7\" \"so that gives you a range of 7\"\n",
    "okay so basically everything fits into 7 indexes, and just becomes a longer linked list after that,\n",
    "smaller array = longer linked lists, larger array = shorter linked lists\n",
    "\n",
    "Oh I see, taking the result of the hash function, and dividing it by\n",
    "the size of the array I want to use, just literally means,\n",
    "100/ 10 = 10 spots, its like the ratio or w/e of the hash function to the index #\n",
    "\n",
    "A hash function for a hash table does not need to be cryptic,\n",
    "infact we want it to be as simple and fast as possible,\n",
    "hash functions that are based on security are supposed to be cryptic,\n",
    "but thats actually a completely different use case for a hash function\n",
    "\n",
    "alpha = # elements currently in hash table/ length of hash table\n",
    "alpha = n / m    # alpha basically is a measure of how full the array currently is.\n",
    "^ this is also called, the \"load factor\" of the array\n",
    "\n",
    "search time complexity in a hash table = O(1+a)\n",
    "Its agreed that as long as you keep alpha around 1 or below, \n",
    "this can still be considered constant time\n",
    "\n",
    "\"\"\""
   ]
  },
  {
   "cell_type": "code",
   "execution_count": null,
   "metadata": {},
   "outputs": [],
   "source": [
    "\"\"\"10/21/22 ---- more youtube video perspectives\n",
    "\n",
    "Under the hood, this looks like, hash result = # / modulo # = 9,  mydata = array(9)\n",
    "again, its the key that goes through the hash function, not the value.\n",
    "\n",
    "interesting, it looks like really all there is to hash tables is 3 things,\n",
    "1. the hash function ---- given \"key\" % mod (array_size)\n",
    "2. the array underneath\n",
    "3. collisions ---- chaining (closed addressing) / open addressing / double hashing\n",
    "\n",
    "Interesting, okay so when using chaining or open addressing, \n",
    "a \"linear search\" is required either way,\n",
    "whether its a linear search in the array, or through the linkedlist, \n",
    "the actual value has to be found by searching through the nearest places where it will be\n",
    "\n",
    "Interesting, even a hash map, is just one of a bunch of \n",
    "different possible \"map\" implimentations that exist. makes sense.\n",
    "\n",
    "Search on avg is O(1), but worst case is O(n),\n",
    "okay makes sense if super long linked list or something\n",
    "arrays are sometimes also called \"direct-access tables\"\n",
    "\n",
    "the most common hash function for a hash table is called, \"hashing by division\"\n",
    "this is the # mod # hash Ive been seeing.\n",
    "the \"modulo\" operation returns the remainder\n",
    "\n",
    "technically a hashtable could be built by creating a list to hold the collisions\n",
    "at each index, but the issue then is that a linear search is again, needed.\n",
    "So yeah its kind of like either the array is oversized, or there is some extra\n",
    "linear search needed, one or the other.\n",
    "\n",
    "Interesting... so then how is a n-d array created? and how is a dataframe created?\n",
    "actually a dataframe is a very awesome datastructure that I have taken for granted so far lol\n",
    "pretty incredible how much awesome logic is going on under the hood here\n",
    "\n",
    "\n",
    "Okay so this has been pretty solid, so there may be a few more vids here,\n",
    "but feeling pretty good about this from here, not really that much going on here actually\n",
    "\"\"\""
   ]
  },
  {
   "cell_type": "code",
   "execution_count": null,
   "metadata": {},
   "outputs": [],
   "source": [
    "\"\"\"10/22/22 ---- more youtube around hash tables and coding interview techniques\n",
    "\n",
    "tips:\n",
    "1. come up with the brute force solution first ---- This is talking points that show WHY\n",
    "    I am choosing to not go with this solution on purpose, because the time complexity is O(n^x)\n",
    "    This is what a true master does, I dont just go into a memorized path, I actively\n",
    "    choose the path I am going to go down, because I know exactly why I am making each choice.\n",
    "\n",
    "Interview mindset - \"I have this great opportunity to meet all these smart people,\n",
    "Im going to learn so much, I dont know what it is Im going to learn but Im going to learn it,\n",
    "This is exciting, I dont even care about the result because I know I am going to learn so much\n",
    "throughout this process.\n",
    "\n",
    "Also, another tip here is to not spend too much time laborizing over this, learn it and move on,\n",
    "this stuff isnt really that complicated, just get into the interviews.\n",
    "\n",
    "Says that one thing to keep in mind is that using massive strings as a key for a dictionary\n",
    "will slow down the insert and search process\n",
    "because thats more that has to be computed by the hashing function\n",
    "\"\"\""
   ]
  },
  {
   "cell_type": "code",
   "execution_count": 2,
   "metadata": {},
   "outputs": [
    {
     "data": {
      "text/plain": [
       "'Sets\\nOkay so apparently sets are very similar to hash tables,\\nin the respect that they can do lookup in O(1)\\nThis is actually because they also use a hashing function\\n\\nThe difference here is just that they dont do key:value pairs,\\nthey just hash the actual value,\\nseems like theyre really just used for O(1) lookup time\\nthis is sometimes called \"a membership test\"\\ntheyre a little data structure that can be used when I just\\nneed to check for the presence of an element,\\nas soon as I need to know the count of an element,\\nId have to use the larger version, the hash table.\\n\\neach element is unique, \"they do not track frequency\" \\n\"If you have a set and add the same element, say \"abc\",\\n 100 times, the first operation adds it and the next 99 do nothing.\\n \\n Sets are considered, \"unordered\", cannot contain duplicates, and have O(1) lookup time.\\n\\n ohhhh, okay I see, so a tuple is tuple = (thing, thing, thing)\\n tuples are ordered, and can have duplicates\\n\\n whereas a set actually uses curly braces, set ={thing1, thing2, thing3}\\n if I were to print this out, it could just print out\\n {thing3,thing1,thing2} because it doesnt store order. cool.\\n\\n also, multiple sets can be very easily compared with the built in\\n set1.union(set2), .intersection, .differences, functions. cool.\\n\\n ahh, looks like to make an empty set, if I say empty_set = {}, this actually creates a dictionary\\n so I have to use empty_set = set() syntax, yep, leetcode does exactly this.\\n\\n sometimes called a \"hash set\"\\n\\n Oh interesting, there is literally no indexing a set, like\\n print(example_set[5]) just throws an error, no indexing at all\\n '"
      ]
     },
     "execution_count": 2,
     "metadata": {},
     "output_type": "execute_result"
    }
   ],
   "source": [
    "\"\"\"Sets\n",
    "Okay so apparently sets are very similar to hash tables,\n",
    "in the respect that they can do lookup in O(1)\n",
    "This is actually because they also use a hashing function\n",
    "\n",
    "The difference here is just that they dont do key:value pairs,\n",
    "they just hash the actual value,\n",
    "seems like theyre really just used for O(1) lookup time\n",
    "this is sometimes called \"a membership test\"\n",
    "\n",
    "theyre a little data structure that can be used when I just\n",
    "need to check for the presence of an element,\n",
    "as soon as I need to know the count of an element,\n",
    "Id have to use the \"larger version,\" the hash table.\n",
    "\n",
    "in a set, each element is unique, \"they do not track frequency\" \n",
    "\"If you add the same element to a set, \"abc\",\n",
    " 100 times, the first operation adds it and the next 99 do nothing.\n",
    " \n",
    " Sets are considered, \"unordered\", cannot contain duplicates, and have O(1) lookup time.\n",
    " \n",
    " a set actually uses curly braces, set ={thing1, thing2, thing3}\n",
    " when printing it out, it will print in a random order\n",
    " {thing3,thing1,thing2} because it doesnt store order. cool.\n",
    "\n",
    " ohhhh, okay I see, so a tuple is tuple = (thing, thing, thing)\n",
    " tuples are ordered, and can have duplicates\n",
    "\n",
    " also, multiple sets can be very easily compared with the built in\n",
    " set1.union(set2), .intersection, .differences, functions. cool.\n",
    "\n",
    " ahh, looks like to make an empty set, if I say empty_set = {}, this actually creates a dictionary\n",
    " so I have to use empty_set = set() syntax, yep, leetcode does exactly this.\n",
    "\n",
    " a set is sometimes called a \"hash set\"\n",
    "\n",
    " Oh interesting, there is literally no indexing a set, like\n",
    " print(example_set[5]) just throws an error, no indexing at all\n",
    " \"\"\""
   ]
  },
  {
   "cell_type": "code",
   "execution_count": 5,
   "metadata": {},
   "outputs": [
    {
     "name": "stdout",
     "output_type": "stream",
     "text": [
      "{'r', 'c', 'e', 'b', 'm', 'q', 'i', 'p', 'a', 'x', 'w', 'g', 'y', 'v', 'd', 'l', 'h', 'z', 'f', 't', 'o', 's', 'j', 'k', 'u', 'n'}\n"
     ]
    },
    {
     "data": {
      "text/plain": [
       "True"
      ]
     },
     "execution_count": 5,
     "metadata": {},
     "output_type": "execute_result"
    }
   ],
   "source": [
    "\"\"\" 10/22/22 ---- Check if sentence is a Pangram\n",
    "Time = O(n), space = O(1)\"\"\"\n",
    "\n",
    "class Solution(object):\n",
    "    def checkIfPangram(self, sentence):\n",
    "        \"\"\":type sentence: str\n",
    "           :rtype: bool\"\"\"\n",
    "        seen = set()\n",
    "        for i in range(len(sentence)):\n",
    "            seen.add(sentence[i])\n",
    "            if len(seen) > 25:\n",
    "                print(seen)\n",
    "                return True\n",
    "        \n",
    "        return False\n",
    "\n",
    "obj = Solution()\n",
    "obj.checkIfPangram(sentence = 'thequickbrownfoxjumpsoverthelazydog')\n",
    "\n",
    "\n",
    "\"\"\" oh wow, this is cool, their solution just literally turns the sentence into a set itself\n",
    "and this runs the iteration under the hood, lol,\"\"\"\n",
    "class Solution(object):\n",
    "    def checkIfPangram(self, sentence):\n",
    "        seen = set(sentence)\n",
    "        return len(seen) >= 26\n",
    "        # return len(set(sentence)) == 26\n",
    "\n",
    "\"\"\"this statement is running a for loop underneath to do this.\n",
    " The exact for loop that I wrote explicitly above\n",
    " They consider this to be an O(1) space solution, because regardless of the size of n,\n",
    " the set will have atmost 26 characters, which is O(26), which is O(1)\"\"\""
   ]
  },
  {
   "cell_type": "code",
   "execution_count": null,
   "metadata": {},
   "outputs": [],
   "source": [
    "\"\"\" 10/22/22 ---- Find the missing number\n",
    "Time = O(n), space = O(n) \"\"\"\n",
    "class Solution(object):\n",
    "    def missingNumber(self, nums):\n",
    "        nums = set(nums)\n",
    "        for i in range(len(nums)+1):\n",
    "            if i not in nums:\n",
    "                return i\n",
    "        \n",
    "        \n",
    "        \n",
    "# Input: nums = [9,6,4,2,3,5,7,0,1]\n",
    "# Output: 8\n",
    "\n",
    "\"\"\"There is a space O(1) solution here,\"\"\"\n",
    "class Solution:\n",
    "    def missingNumber(self, nums):\n",
    "        missing = len(nums)\n",
    "        for i, num in enumerate(nums):\n",
    "            missing ^= i ^ num\n",
    "        return missing\n",
    "\n",
    "\"\"\"So this is a better solution, Ill keep going and see if these XOR\n",
    "solutions continue to come up again and again.\"\"\""
   ]
  },
  {
   "cell_type": "code",
   "execution_count": 39,
   "metadata": {},
   "outputs": [
    {
     "name": "stdout",
     "output_type": "stream",
     "text": [
      "0\n",
      "{0: 1}\n",
      "1\n",
      "{0: 1, 1: 1}\n",
      "2\n",
      "{0: 1, 1: 1, 2: 3}\n",
      "3\n",
      "{0: 1, 1: 1, 2: 3, 3: 3}\n",
      "4\n",
      "{0: 1, 1: 1, 2: 3, 3: 3, 4: 5}\n",
      "5\n",
      "{0: 1, 1: 1, 2: 3, 3: 3, 4: 5, 5: 5}\n",
      "6\n",
      "{0: 1, 1: 1, 2: 3, 3: 3, 4: 5, 5: 5, 6: 7}\n",
      "7\n",
      "{0: 1, 1: 1, 2: 3, 3: 3, 4: 5, 5: 5, 6: 7, 7: 7}\n"
     ]
    }
   ],
   "source": [
    "\"\"\"10/23/22 ---- Counting Elements and their +1\n",
    "Time = O(), Space = O()\"\"\"\n",
    "\n",
    "# ooh okay so I can still use a set, I convert the original array into a set,\n",
    "        # and then I loop over the original array, and just use the hash set for lookup\n",
    "        # very cool, very cool realization here\n",
    "\n",
    "class Solution(object):\n",
    "    def countElements(self, arr):\n",
    "        count = 0\n",
    "        arr_set = set(arr)\n",
    "        for x in arr:\n",
    "            if x+1 in arr_set:\n",
    "                count += 1\n",
    "        return count\n",
    "\n",
    "\"\"\"So this is interesting, they actually suggest an alternative way,\n",
    "that gives time = O(N logN), but space = O(1)\n",
    "saying that \"n logn isnt that much of a difference from n\"\n",
    "so depending on the situation,\n",
    "a longer execution time can be traded for lower space complexity\"\"\"\n",
    "\n",
    "def countElements(self, arr: List[int]) -> int:\n",
    "    arr.sort()   # n log(n)\n",
    "    count = 0\n",
    "    run_length = 1\n",
    "    for i in range(len(arr)):\n",
    "        if arr[i - 1] != arr[i]:\n",
    "            if arr[i - 1] + 1 == arr[i]:\n",
    "                count += run_length\n",
    "            run_length = 0\n",
    "        run_length += 1\n",
    "    return count\n",
    "\n"
   ]
  },
  {
   "cell_type": "code",
   "execution_count": 9,
   "metadata": {},
   "outputs": [
    {
     "name": "stdout",
     "output_type": "stream",
     "text": [
      "[[1, 2, 10], [4, 5, 7, 8]]\n"
     ]
    },
    {
     "data": {
      "text/plain": [
       "'Okay so this is the syntax I was looking for here,\\nlo'"
      ]
     },
     "execution_count": 9,
     "metadata": {},
     "output_type": "execute_result"
    }
   ],
   "source": [
    "\"\"\"10/26/22 ---- Players with 0 or one losses (sorted)\n",
    "Time = O(n log n), space = O(n)\"\"\"\n",
    "\n",
    "\"\"\"This is my initial implimentation, it was the correct path,\n",
    "so now I just want to get familiar with the syntax used in the \n",
    "solution example\"\"\"\n",
    "\n",
    "class Solution(object):\n",
    "    def findWinners(self, matches):\n",
    "        # Okay so very likely I use some combination of a set and dictionary here\n",
    "        # I need to record which \"player numbers\" have not lost a match,\n",
    "        # and I need to record which player numbers have only lost one match\n",
    "        # so it sounds like I put this into a dictionary, like\n",
    "        # {1: 0, 2: 0, 3: 2, 4: 1}\n",
    "        \n",
    "        # then I just do another for loop that does lookup in this dictionary \n",
    "        # for i in range(len(dic):\n",
    "        # if dic[i] == 0:\n",
    "        #   W_list.append(dic[i])\n",
    "        # if dic[i] == 1:\n",
    "        #   L_list.append()\n",
    "        \n",
    "        dic = {}\n",
    "        for i in matches:\n",
    "            if dic[i[1]] not in dic:\n",
    "                dic[i[1]] = 1\n",
    "            else:\n",
    "                dic[i[1]] += 1\n",
    "        print(dic)\n",
    "        return dic\n",
    "\n",
    "\"\"\" correct syntax\"\"\"\n",
    "\n",
    "class Solution: \n",
    "    def findWinners(self, matches): \n",
    "        losses_count = {}\n",
    "        \n",
    "        for winner, loser in matches:\n",
    "            losses_count[winner] = losses_count.get(winner, 0)\n",
    "            losses_count[loser] = losses_count.get(loser, 0) + 1\n",
    "        \n",
    "        zero_lose, one_lose = [], []\n",
    "        for player, count in losses_count.items():\n",
    "            if count == 0:\n",
    "                zero_lose.append(player)\n",
    "            if count == 1:\n",
    "                one_lose.append(player)\n",
    "        \n",
    "        return [sorted(zero_lose), sorted(one_lose)]\n",
    "\n",
    "solution_object = Solution()\n",
    "print(solution_object.findWinners(matches = [[1,3],[2,3],[3,6],[5,6],[5,7],[4,5],[4,8],[4,9],[10,4],[10,9]]))\n",
    "\n",
    "\"\"\"Okay so this is the syntax I was looking for here,\n",
    "New things I've learned from this:\n",
    "1. When the input is a list of lists, the for loop can be setup to handle each value in each smaller list\n",
    "for value1, value2 in list_of_lists:\n",
    "    dic[value1] = dic.get(value1, 0)\"\"\""
   ]
  },
  {
   "cell_type": "markdown",
   "metadata": {},
   "source": [
    "#### Sample/test Code Snippets ---- can be removed after 30 days"
   ]
  },
  {
   "cell_type": "code",
   "execution_count": 24,
   "metadata": {},
   "outputs": [
    {
     "name": "stdout",
     "output_type": "stream",
     "text": [
      "{'age': 27, 'doesnt_worry': True}\n",
      "27\n",
      "None\n",
      "27\n",
      "189\n",
      "{'age': 27, 'doesnt_worry': True}\n",
      "{'age': 27, 'doesnt_worry': True, 'height': 1000}\n",
      "{'age': 27, 'doesnt_worry': True, 'height': 1000, 'weight': 205}\n"
     ]
    }
   ],
   "source": [
    "class MySolution:\n",
    "    def findWinners(self, list_of_lists):\n",
    "        dic = {}\n",
    "        for value1, value2 in matches:\n",
    "            # so using .get() on a dictionary, can be useful in 2 ways\n",
    "            # 1. if the key is given, the value is returned,\n",
    "            # 2. if both the key and a value are given, the function will return the given value as a default\n",
    "            # 3. no errors are returned, if the key does not exist. None is returned.\n",
    "            dic[value1] = dic.get(value1, 0) \n",
    "\n",
    "dic = {\"age\": 27, \"doesnt_worry\": True}\n",
    "print(dic)\n",
    "print(dic.get(\"age\"))\n",
    "print(dic.get('height'))\n",
    "print(dic.get(\"age\", 21))\n",
    "print(dic.get(\"height\", 189))\n",
    "print(dic)\n",
    "# print(dic.get())  # atleast a key has to be given\n",
    "\n",
    "dic[\"height\"] = dic.get(\"height\", 1000)\n",
    "print(dic)\n",
    "dic[\"weight\"] = 205\n",
    "print(dic)\n",
    "\n",
    "# interesting... so if I were just going to add a value... why use this get() function at all?"
   ]
  },
  {
   "cell_type": "code",
   "execution_count": null,
   "metadata": {},
   "outputs": [],
   "source": [
    "\"\"\"Okay so this is interesting, this is a loop that inserts an array into a dictionary\n",
    "oddly though, the \"if i in dic\" syntax seems not to work as expected\"\"\"\n",
    "\n",
    "arr = [1,1,3,3,5,5,7,7]\n",
    "dic = {}\n",
    "for i in range(len(arr)):\n",
    "    print(i)\n",
    "    if i in dic:\n",
    "    # if 1 in dic:\n",
    "        print('i is already here')\n",
    "    dic[i] = arr[i]\n",
    "    print(dic)"
   ]
  },
  {
   "cell_type": "code",
   "execution_count": 2,
   "metadata": {},
   "outputs": [
    {
     "name": "stdout",
     "output_type": "stream",
     "text": [
      "{False, True}\n"
     ]
    },
    {
     "data": {
      "text/plain": [
       "'Interesting, alright so a set cannot contain a list, or dictionary, \\nprobably not any other iterable, only integers, strings, and booleans'"
      ]
     },
     "execution_count": 2,
     "metadata": {},
     "output_type": "execute_result"
    }
   ],
   "source": [
    "example_set = {1,2,3,4} # I like this syntax\n",
    "example_set = {1.2, 2.4, 1, \"thing1\", \"thing2\"}\n",
    "# example_set = set(1,2,3,\"thing1\") # this syntax doesnt work\n",
    "# example_set = {[1,2,3], [1,2,3]} # cant put lists inside a set\n",
    "# example_set = {{\"key\":\"value1\"},{\"key2\":\"value2\"}} # cant put dictionaries inside a set\n",
    "example_set = set([1,2,3])\n",
    "example_set = {True, False}\n",
    "print(example_set)\n",
    "\n",
    "\"\"\"Interesting, alright so a set cannot contain a list, or dictionary, \n",
    "probably not any other iterable, only integers, strings, and booleans\"\"\""
   ]
  },
  {
   "cell_type": "code",
   "execution_count": null,
   "metadata": {},
   "outputs": [],
   "source": []
  }
 ],
 "metadata": {
  "kernelspec": {
   "display_name": "Python 3.9.7 64-bit",
   "language": "python",
   "name": "python3"
  },
  "language_info": {
   "codemirror_mode": {
    "name": "ipython",
    "version": 3
   },
   "file_extension": ".py",
   "mimetype": "text/x-python",
   "name": "python",
   "nbconvert_exporter": "python",
   "pygments_lexer": "ipython3",
   "version": "3.9.7"
  },
  "orig_nbformat": 4,
  "vscode": {
   "interpreter": {
    "hash": "81794d4967e6c3204c66dcd87b604927b115b27c00565d3d43f05ba2f3a2cb0d"
   }
  }
 },
 "nbformat": 4,
 "nbformat_minor": 2
}
