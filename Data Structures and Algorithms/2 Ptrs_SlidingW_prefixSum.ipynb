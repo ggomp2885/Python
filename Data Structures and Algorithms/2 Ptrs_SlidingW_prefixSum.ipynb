{
 "cells": [
  {
   "cell_type": "markdown",
   "metadata": {},
   "source": [
    "## Leet Code Data Structures and Algorithms"
   ]
  },
  {
   "cell_type": "markdown",
   "metadata": {},
   "source": [
    "Things learned from Leetcode built in editor:\n",
    "f strings are *sometimes* not supported, lol\n",
    "a normal division of 51/4 gets rounded down, unless I write 51/float(4) - odd"
   ]
  },
  {
   "cell_type": "markdown",
   "metadata": {},
   "source": [
    "### Two Pointers Methods"
   ]
  },
  {
   "cell_type": "code",
   "execution_count": null,
   "metadata": {},
   "outputs": [],
   "source": [
    "# function fn(arr):\n",
    "#     left = 0\n",
    "#     right = arr.length - 1\n",
    "\n",
    "#     while left < right:\n",
    "#         Do some logic here depending on the problem\n",
    "#         Do some more logic here to decide on one of the following:\n",
    "#             a. left++\n",
    "#             b. right--\n",
    "#             c. Both left++ and right--"
   ]
  },
  {
   "cell_type": "code",
   "execution_count": 5,
   "metadata": {},
   "outputs": [
    {
     "data": {
      "text/plain": [
       "['o', 'l', 'l', 'e', 'h']"
      ]
     },
     "execution_count": 5,
     "metadata": {},
     "output_type": "execute_result"
    }
   ],
   "source": [
    "# 9/22/22 ---- reverse a string ---- Time = O(n), Space = O(1)\n",
    "# Write a function that reverses a string. The input string is given as an array of characters s.\n",
    "class Solution(object):\n",
    "    def reverseString(self, s):\n",
    "        # two pointers for this? ---- I dont think so, \n",
    "        # if I were to do this manually, how would I do this?\n",
    "        # ahh - this is 2 pointers\n",
    "        \n",
    "        left = 0\n",
    "        right = 0\n",
    "        while left < len(s)/2:\n",
    "            # print(len(s)/2)\n",
    "            left_value = s[left]\n",
    "            # print(left_value)\n",
    "            s[left] = s[right-1]\n",
    "            # print(s[left])\n",
    "            s[right-1] = left_value\n",
    "            # print(s[right-1])\n",
    "            left += 1\n",
    "            right -= 1\n",
    "            # print(left)\n",
    "        return s\n",
    "\n",
    "solution_instance = Solution()\n",
    "solution_instance.reverseString([\"h\",\"e\",\"l\",\"l\",\"o\"])\n",
    "\n",
    "# Above solution used 2 pointers method, and a temp variable to swap values\n",
    "# this is the built in, reverse() function in python"
   ]
  },
  {
   "cell_type": "code",
   "execution_count": 1,
   "metadata": {},
   "outputs": [
    {
     "data": {
      "text/plain": [
       "49"
      ]
     },
     "execution_count": 1,
     "metadata": {},
     "output_type": "execute_result"
    }
   ],
   "source": [
    "# 9/28/22 ---- Container with most water ---- Time = O(n), Space = O(1)\n",
    "# You are given an integer array height of length n. There are n vertical lines drawn such that the two endpoints of the ith line are (i, 0) and (i, height[i]).\n",
    "class Solution(object):\n",
    "    def maxArea(self, height):\n",
    "        \"\"\":type height: List[int]\"\"\"\n",
    "        # two pointers probably\n",
    "        # how would I do this manually?\n",
    "        # first I would find the min of the two pointers, then I multiply this with the distance between the 2 pointers and I repeat this, until a variable has its max number replaced, if the result of this iteration is larger than any other previous iteration.\n",
    "        # but when would I hold a \"9\" per-se, instead of moving to the next 2? --- I wouldnt\n",
    "        # the way this works is that the largest number always gets held onto until its\n",
    "        # replaced by a larger number, in this way, this alg ends up doing the calculation \n",
    "        # with the 2 largest numbers in the array eventually, they may make the biggest area, \n",
    "        # or they may not.\n",
    "        \n",
    "        left = 0\n",
    "        right = len(height) - 1\n",
    "        area = 0\n",
    "        while left < right:\n",
    "            width = right - left\n",
    "            min_of_pointers = min(height[left], height[right])\n",
    "            if min_of_pointers*width > area:\n",
    "                area = min_of_pointers*width\n",
    "            if height[left] < height[right]:\n",
    "                left +=1\n",
    "            else:\n",
    "                right -=1\n",
    "        return area\n",
    "\n",
    "sol_instance = Solution()\n",
    "sol_instance.maxArea([1,8,6,2,5,4,8,3,7])"
   ]
  },
  {
   "cell_type": "markdown",
   "metadata": {},
   "source": [
    "### Sliding Window Methods\n",
    "In any sliding window based problem we have two pointers. One right pointer's job is to expand the current window, the left pointer's job is to contract a given window. Sounds like its simplier to move the left pointer in a while loop one index at a time. this will often give 99.9% efficiency, but sometimes its possible to use extra logic to move it more or less than one index, depending on the highly specific nature of the problem."
   ]
  },
  {
   "cell_type": "code",
   "execution_count": null,
   "metadata": {},
   "outputs": [],
   "source": [
    "# function fn(arr):\n",
    "    # left = 0\n",
    "    # for right in [0, arr.length - 1]:\n",
    "    #     while left < right AND condition from problem not met:\n",
    "    #         Do some logic\n",
    "    #         left++  ---- \"remove\" element at arr[left] from window\n",
    "    #     Do some logic to \"add\" element at arr[right] to window"
   ]
  },
  {
   "cell_type": "code",
   "execution_count": 8,
   "metadata": {},
   "outputs": [
    {
     "data": {
      "text/plain": [
       "12.75"
      ]
     },
     "execution_count": 8,
     "metadata": {},
     "output_type": "execute_result"
    }
   ],
   "source": [
    "# 10/1/22 ---- Maximum Average Subarray ---- Time = O(n), Space = O(1)\n",
    "# You are given an integer array nums consisting of n elements, and an integer k.\n",
    "# Find a contiguous subarray whose length is equal to k that has the maximum average value and return this value.\n",
    "class Solution(object):\n",
    "    def findMaxAverage(self, nums, k):\n",
    "        curr = 0\n",
    "        for i in range(k):\n",
    "            curr += nums[i]\n",
    "        ans = curr/float(k)\n",
    "        for i in range(k, len(nums)):\n",
    "            curr += nums[i] - nums[i-k]\n",
    "            # print(curr/float(k))\n",
    "            curr_ans = curr/float(k)\n",
    "            ans = max(curr_ans, ans)\n",
    "        return ans\n",
    "\n",
    "sol_instance = Solution()\n",
    "Solution().findMaxAverage([1,12,-5,-6,50,3], 4)"
   ]
  },
  {
   "cell_type": "code",
   "execution_count": 2,
   "metadata": {},
   "outputs": [
    {
     "data": {
      "text/plain": [
       "6"
      ]
     },
     "execution_count": 2,
     "metadata": {},
     "output_type": "execute_result"
    }
   ],
   "source": [
    "# 10/2/22 ---- Max Consecutive Ones III ---- time = O(n), space = O(1)\n",
    "# Given a binary array nums and an integer k, return the maximum number of consecutive 1's in the array if you can flip at most k 0's.\n",
    "class Solution(object):\n",
    "    def longestOnes(self, nums, k):\n",
    "        # okay so if I was going to do this manually,\n",
    "        # I count the number of 1's in a row,\n",
    "        # could I just count to see highest number of 1's in a row, and then just add + k to it?\n",
    "        # no, because a well placed 0 could be a +5 or more,\n",
    "        # okay so the answer to this is to use a sliding window,\n",
    "        # this means the right pointer is used in the for loop,\n",
    "        # the left pointer is moved at specific times\n",
    "        # okay so intuitively, I start by identifying which are the longest subgroups of 1's\n",
    "        \n",
    "        left = 0\n",
    "        ans = 0\n",
    "        zero_count = 0\n",
    "        for right in range(len(nums)):\n",
    "            if nums[right] == 0:\n",
    "                zero_count += 1\n",
    "            while zero_count > k:\n",
    "                if nums[left] == 0:\n",
    "                    zero_count -= 1\n",
    "                left += 1\n",
    "            ans = max(ans, right - left +1)\n",
    "        return ans\n",
    "\n",
    "sol_instance = Solution()\n",
    "sol_instance.longestOnes([1,1,1,0,0,0,1,1,1,1,0], 2)\n",
    "\n",
    "# interesting, so at first I was just moving the left pointer once per iteration,\n",
    "# then I tried moving it k times per iteration,\n",
    "# but what it really needed, was a variable amount of movement per iteration, depending on the value sitting in nums[left]\n",
    "# hence the while loop, inside of the for loop, this is a great way to do this actually."
   ]
  },
  {
   "cell_type": "code",
   "execution_count": 14,
   "metadata": {},
   "outputs": [
    {
     "data": {
      "text/plain": [
       "6"
      ]
     },
     "execution_count": 14,
     "metadata": {},
     "output_type": "execute_result"
    }
   ],
   "source": [
    "# 10/3/22 ---- number of zero-filled subarrays ---- time = O(n), space = O(1)\n",
    "# Given an integer array nums, return the number of subarrays filled with 0.\n",
    "# (Anytime a problem asks for the NUMBER of subarrays that meet a certain criteria\n",
    "# this super simple syntax can be used)\n",
    "\n",
    "class Solution:\n",
    "    def zeroFilledSubarray(self, nums):\n",
    "        ans, num_subarray = 0, 0\n",
    "        # Iterate over nums, if num = 0, it has 1 more zero-filled subarray\n",
    "        # than the previous one, otherwise, it has 0 zero-filled subarray.\n",
    "        for num in nums:\n",
    "            if num == 0: \n",
    "                num_subarray += 1\n",
    "            else: \n",
    "                num_subarray = 0\n",
    "            ans += num_subarray\n",
    "        return ans\n",
    "\n",
    "\n",
    "# Okay so this one could use a sliding window,\n",
    "# but instead it uses this \"math trick\" to simplify it,\n",
    "# I was using a sliding window, but running into an issue where the list index was out of range\n",
    "# I now realize this is because in using this logic pattern, the \"right\" pointer, can never use \"+1 logic\",\n",
    "# Only the left pointer is ever manually increased, secondary values are stored as necessary\n",
    "# this super simple syntax ends up working because num_subarray continually increases with more 0's, then resets to 0 when a non-zero is found.\n",
    "\n",
    "Solution().zeroFilledSubarray([1,3,0,0,2,0,0,4])"
   ]
  },
  {
   "cell_type": "markdown",
   "metadata": {},
   "source": [
    "### Grokking Sliding window"
   ]
  },
  {
   "cell_type": "code",
   "execution_count": null,
   "metadata": {},
   "outputs": [],
   "source": [
    "# 10/4/22 ---- Maximum Sum Subarray of Size K (easy) ---- Time = O(n), Space = O(1)\n",
    "# this one is about as simple as it gets\n",
    "\n",
    "def max_sub_array_of_size_k(k, arr):\n",
    "    left, ans, sum = 0, 0, 0\n",
    "    for right in range(len(arr)):\n",
    "        sum += arr[right]\n",
    "        if right >= k:\n",
    "            sum -= arr[left]\n",
    "            left += 1\n",
    "        ans = max(ans, sum)\n",
    "    return ans\n",
    "\n",
    "max_sub_array_of_size_k(3, [2, 1, 5, 1, 3, 2])\n",
    "\n",
    "  # alright so heres the thing, 99% of my logic can be correct, \n",
    "  # but if 1% is off, I may have to spend 30 minutes with print statements to figure it out,\n",
    "  # I think that in 99% of cases,\n",
    "  # the condition ---- the relationship between the array index, and the given constant,\n",
    "  # is going to be the #1 place where an issue can occur\n",
    "  # aka, \"if right >= k:\"\"\n",
    "  # this is really because indexes start at 0, it is what it is. this makes it a little more confusiong, but not really.\n",
    "  # \"An index value is always 1 less than the actual number of elements\"\n",
    "  # \"index 5 is length 6\"\n",
    "  # Basically, I have to put critical thinking into this line specifically,\n",
    "  # I can just think, at what index / array value does this condition ACTUALLY need to switch over at?\n",
    "\n",
    "  # as a side note, the \"brute force\" solution here is only O(n*k),\n",
    "  # in brute force, 5*3 iterations have to be done, with the sliding window technique, only 5 iterations. O(n)\n",
    "  # because the calculations already done inside the \"sliding window\" are not having to be repeated."
   ]
  },
  {
   "cell_type": "code",
   "execution_count": 9,
   "metadata": {},
   "outputs": [
    {
     "name": "stdout",
     "output_type": "stream",
     "text": [
      "2\n",
      "expected output: 2\n"
     ]
    }
   ],
   "source": [
    "# 10/4/22 ---- Smallest Subarray With a sum Greater than S (easy) ---- Time = O(n+n) O(n), Space = O(1)\n",
    "\n",
    "import math\n",
    "def smallest_subarray_sum(s, arr):\n",
    "  # okay so for this I am going to use a sliding window,\n",
    "  # for the purpose of being able to share the calculations being made, between subarrays\n",
    "  # I am going to see if the numbers in the sliding window add up to greater than S\n",
    "  # if they do, I am going to calculate the width of the window and compare this to the min(this window, other windows)\n",
    "  # if they do, then I am going to move the left pointer to try a smaller window size, \n",
    "  # if they dont, then I will expand the window by letting the loop complete\n",
    "  \n",
    "  # lastly, I just need to keep ans = 0, if condition is never met,\n",
    "  # but at the same time, I need to find the minimum of all the lengths when the condition is met\n",
    "  # okay so say the condition is met, how do I find the lowest in the list? without hitting the 0 in the list?\n",
    "\n",
    "  # ans = min(right-left+1, ans)\n",
    "  # this min() is actually just an if statement that says:\n",
    "  # if right-left + 1 < ans:\n",
    "  #   ans = right-left + 1\n",
    "  # so I just rewrite this if statement to capture the condition I need here\n",
    "\n",
    "  ans = 0\n",
    "  left = 0\n",
    "  sum = 0\n",
    "  for right in range(len(arr)):\n",
    "    sum += arr[right]\n",
    "    if sum >= s:\n",
    "      if ans == 0:\n",
    "        ans = right-left+1\n",
    "      if ans > 0:\n",
    "        ans = min(right-left+1, ans)\n",
    "      while sum > s:\n",
    "        sum -= arr[left]\n",
    "        left += 1\n",
    "        if sum >= s:\n",
    "          ans = min(right-left+1, ans)\n",
    "\n",
    "  return ans\n",
    "\n",
    "def smallest_subarray_sum(s, arr):\n",
    "  ans = math.inf\n",
    "  left = 0\n",
    "  sum = 0\n",
    "  for right in range(0, len(arr)):\n",
    "    sum += arr[right]\n",
    "    while sum >= s:\n",
    "      ans = min(right-left+1, ans)\n",
    "      sum -= arr[left]\n",
    "      left += 1\n",
    "\n",
    "  if ans == math.inf:\n",
    "    return 0\n",
    "  return ans\n",
    "\n",
    "print(smallest_subarray_sum(7, [2, 1, 5, 2, 3, 2]))\n",
    "print('expected output: 2')\n",
    "\n",
    "# I learned alot from this one, 4 things to note here,\n",
    "# 1. import math / math.inf is perfect to use with min() situations,\n",
    "# 2. an if statement right before the end of the function\n",
    "  # can return a unique value if math.inf has not been replaced,\n",
    "  # (this takes this work out of the iterations of the loop)\n",
    "# 3. All this needed was one while loop, not an if statement with an inner while loop,\n",
    "  # infact, a \"while\" loop is an \"if\" statement that can just execute more than once\n",
    "  # oh, but if Im not changing the value in the comparison, a while will loop infinitely,\n",
    "  # okay so I have to be decreasing/increasing the while loop's specific value to make it work.\n",
    "# 4. the comparison operator in the while loop, \n",
    "  # actually will have to change based on the order of operations for the lines in the loop"
   ]
  },
  {
   "cell_type": "code",
   "execution_count": null,
   "metadata": {},
   "outputs": [],
   "source": [
    "# 10/5/22 ---- Notes based on youtube videos of Sliding Window\n",
    "\n",
    "# okay now I see, when people use a while loop for the sliding window,\n",
    "# they have to use \"right + 1\" logic in the code, or else yeah it would loop forever,\n",
    "# and then structure of a while loop, prevents the index error from happening,\n",
    "# so thats why I was a little confused earlier, now this makes perfect sense,\n",
    "# a for loop has this \"right + 1\" logic already built into it.\n",
    "\n",
    "# interesting, this first guys code is actually slightly off, \n",
    "# hence why learning from just youtube videos can be a bit harder, \n",
    "# they can be inconsistent with each other and or slightly wrong,\n",
    "# and theyre not setup in a \"learn-do-learn-do\" format.\n",
    "\n",
    "# watching someone do something, is not actually doing it,\n",
    "# its like, yeah, Im good at watching someone solve these problems,\n",
    "# but that only transfers like 5% into the brain connections \n",
    "# that are actually used when actually thinking through the problems\n",
    "\n",
    "# \"I know its a good time to use a sliding window, when\"\n",
    "# \"I need to iterate over a sequential sequence of elements\"\n",
    "# a \"contigious sequence of elements\"\n",
    "# so this can be used with strings, arrays, linked list,\n",
    "# whenever I need to... find the min/max/average/longest/shortest/contains of the elements\n",
    "# \"because everything is grouped in a sequence\" \"substring\" \"subarray\"\n",
    "\n",
    "# you know what? I will bet that search algoritmhs use something exactly similar to this,\n",
    "# I need to search for the top 20% of these numbers... guess what, if its already sorted,\n",
    "# its len(array)/5...\n",
    "# so... are search algorithms used when data isnt sorted?\n",
    "# is a sliding window one of the components of a search algorithm?\n",
    "# maybe, but really this is like a very niche type of search algorithm,\n",
    "# like a location /time series based search algorithm (location in computer memory, or IRLlocation, or IRL time series recency)\n",
    "\n",
    "# alright so the k distinct chars also uses a hash map here, Im pretty sure it can use a list for this,\n",
    "# Im guessing its just because a hash map is somehow slightly faster and therefore is the optimal solution,\n",
    "# which kind of makes me think, its like all of these problems can be solved with just\n",
    "# 3 primary tools, the list, the for loop, and the if statement\n",
    "# but, the A++ is the completely optimal solution which includes\n",
    "# the optimal data structure, not just the optimal algorithm.\n",
    "\n",
    "# this sliding window technique is like a search algorithm actually\n",
    "# its the most efficient way to find a set of criteria in a list of data\n",
    "# a list of criteria that is un-sorted, it seems, generally.\n",
    "\n",
    "# interesting so this next YT video is the case that I need to\n",
    "# find the longest substring that has all unique characters\n",
    "# the opposite of the earlier one I worked on.\n",
    "# and in this case, he doesnt use a dictionary, he uses a set\n",
    "# Although, I could use a dictionary for this as well...\n",
    "# maybe its just one less operation, maybe its not necessarily the most important peice,\n",
    "# but its like, if youre min/maxed, then you would fundamentally know this. Ill just use these naturally\n",
    "\n",
    "# \"the sliding technique is a subset of dynamic programming\"\n",
    "# \"becuase dynamic programming means solving a problem by breaking it down into sub problems\"\n",
    "# interesting, okay so dynamic programming could be meant to describe alot of techniques.\n",
    "\n",
    "# oh woah. wait a second.\n",
    "# he says, \"yes this looks like an array of integers [1, 2, 3, 5, 8, 9]\"\n",
    "# but these techniques arent just used on an array of integers,\n",
    "# each of these integers represents a 10 TB S3 bucket\n",
    "# can you afford to repeat an indepth calculation on 100 10TB S3 buckets?\n",
    "# isnt a 100 TB solution important compared to a 10,000TB operation?\n",
    "# \"thats what we are actually dealing with here, 10,000's of Terabytes, not integers\"\n",
    "\n",
    "# a \"stack overflow\" happens with recursion.\n",
    "# \" remember, the coding language you use, the libraries you use, both affect the execution time\"\n",
    "\n",
    "# one easy way to make a question harder,\n",
    "# is to change the requirment from giving the \"longest/shortest\" subarray length,\n",
    "# to returning each of the subarrys that meet the requirement,\n",
    "# true, okay this is the most basic form of \"combining multiple concepts\"\n",
    "\n",
    "# \"to get the highest possible score for your algorithm,\n",
    "# you should write your own tests for your algorithm's answer\"\n",
    "# interesting, this does make sense, that is a whole nother level of mastery\n",
    "# a brute force solution is also called a \"complete search\"\n",
    "\n",
    "# interesting because we've found a way to build 1+1 logic\n",
    "# into a computer but we havent found a way to build in emotions quite yet\n",
    "# AI + training on our emotions is how we do this.\n",
    "# if we want, lol. I wonder how much better AI will be... with emotions?"
   ]
  },
  {
   "cell_type": "code",
   "execution_count": null,
   "metadata": {},
   "outputs": [],
   "source": [
    "# 10/8/22 ---- Grokking - Longest Substring with K distinct characters that can repeat. Time = O(N+N) = O(N), space = O(K)\n",
    "def longest_substring_with_k_distinct(str1, k):\n",
    "  window_start = 0\n",
    "  max_length = 0\n",
    "  char_frequency = {}\n",
    "\n",
    "  for window_end in range(len(str1)):\n",
    "    right_char = str1[window_end]\n",
    "    if right_char not in char_frequency:\n",
    "      char_frequency[right_char] = 0\n",
    "    char_frequency[right_char] += 1\n",
    "\n",
    "    while len(char_frequency) > k:\n",
    "      left_char = str1[window_start]\n",
    "      char_frequency[left_char] -= 1\n",
    "      if char_frequency[left_char] == 0:\n",
    "        del char_frequency[left_char]\n",
    "      window_start += 1\n",
    "    max_length = max(max_length, window_end-window_start + 1)\n",
    "  return max_length\n",
    "\n",
    "\n",
    "# okay so yes, I could technically use a list here, it would just take more steps, like list.count()\n",
    "# whereas a dictionary is just a simpler data structure to use for this type of situation, thats all\n",
    "# They didnt even bring it up, because a dictionary is a pretty simple one that I should\n",
    "# already be familiar with.\n",
    "# Also - this \"Fruit into baskets\" problem, is actually \"longest substring with K distinct characters\"\n",
    "# even though the problem has some fancy fruit / tree picking things in the wording,\n",
    "# its the exact same problem, so expect stuff like this lol"
   ]
  },
  {
   "cell_type": "code",
   "execution_count": 19,
   "metadata": {},
   "outputs": [
    {
     "name": "stdout",
     "output_type": "stream",
     "text": [
      "Length of the longest substring: 3\n",
      "Length of the longest substring: 2\n",
      "Length of the longest substring: 3\n",
      "Length of the longest substring: 7\n",
      "Length of the longest substring: 1\n"
     ]
    }
   ],
   "source": [
    "# 10/9/22 ---- \"hard\" problem on grokking, \"Longest Substring with K Distinct Characters\". Time = O(N), Space = O(k), or O(1) since theres only 26 possible characters with a fixed array size.\n",
    "# should actually be called \"longest substring with non-repeating distinct characters\"\n",
    "# thats why this one is different, so, if thats the only difference,\n",
    "# so basically this one just needs to check if the character is in the hash map,\n",
    "# if it is, then window start needs to be moved past the index of that character.\n",
    "# so it doesnt have to be a while loop, it can just be an if statement with one movement\n",
    "\n",
    "# Longest Substring with (non-repeating) Distinct Characters (hard)\n",
    "def non_repeat_substring(str1):\n",
    "  window_start = 0\n",
    "  max_length = 0\n",
    "  char_index_map = {}\n",
    "\n",
    "  for window_end in range(len(str1)):\n",
    "    right_char = str1[window_end]\n",
    "    if right_char in char_index_map:\n",
    "      window_start = max(window_start, char_index_map[right_char] + 1)  # okay yes this line has to be like this\n",
    "    char_index_map[right_char] = window_end\n",
    "    max_length = max(max_length, window_end - window_start + 1)\n",
    "  return max_length\n",
    "\n",
    "def main():\n",
    "  print(\"Length of the longest substring: \" + str(non_repeat_substring(\"aabccbb\")))\n",
    "  print(\"Length of the longest substring: \" + str(non_repeat_substring(\"abbbb\")))\n",
    "  print(\"Length of the longest substring: \" + str(non_repeat_substring(\"abccde\")))\n",
    "  print(\"Length of the longest substring: \" + str(non_repeat_substring(\"abcdefgeabcdeffcde\")))\n",
    "  print(\"Length of the longest substring: \" + str(non_repeat_substring(\"aaaa\")))\n",
    "main()"
   ]
  },
  {
   "cell_type": "code",
   "execution_count": null,
   "metadata": {},
   "outputs": [],
   "source": [
    "# 10/9/22 ---- Longest Substring with Same Letters after Replacement (hard). Time = O(N), Space = O(26) = O(1)\n"
   ]
  },
  {
   "cell_type": "markdown",
   "metadata": {},
   "source": [
    "### Prefix Sums ---- LeetCode\n"
   ]
  },
  {
   "cell_type": "markdown",
   "metadata": {},
   "source": [
    "the idea here is that it can be faster to calcuate the sum of each sub array first in O(n)\n",
    "\n",
    "and then compare those values later on in O(1) time"
   ]
  },
  {
   "cell_type": "code",
   "execution_count": null,
   "metadata": {},
   "outputs": [],
   "source": [
    "# the most explicit way to write a \"prefix sum\"\n",
    "class Solution:\n",
    "    def waysToSplitArray(self, nums: List[int]) -> int:\n",
    "        prefix = [nums[0]]\n",
    "        for i in range(1, len(nums)):\n",
    "            prefix.append(nums[i] + prefix[-1])\n",
    "\n",
    "        ans = 0\n",
    "        for i in range(len(nums) - 1):\n",
    "            left_half = prefix[i]\n",
    "            right_half = prefix[-1] - prefix[i]\n",
    "            if left_half >= right_half:\n",
    "                ans += 1\n",
    "        return ans\n",
    "\n",
    "\n",
    "# the simpler way to write a \"prefix sum\" method\n",
    "class Solution:\n",
    "    def waysToSplitArray(self, nums: List[int]) -> int:\n",
    "        ans = left_half = 0\n",
    "        total = sum(nums)\n",
    "\n",
    "        for i in range(len(nums) - 1):\n",
    "            left_half += nums[i]\n",
    "            right_half = total - left_half\n",
    "            if left_half >= right_half:\n",
    "                ans += 1\n",
    "        return ans\n",
    "\n",
    "\n",
    "# okay so I think when it comes to learning one of these \"new\" techniques\n",
    "# LC's article may not be the best at explaining \"why\" this is useful\n",
    "# so instead of re-reading LC's 3 days in a row to figure it out,\n",
    "# this is where I can immediately open the other courses, see their explainations,\n",
    "# and watch youtube explainations of the same thing,\n",
    "# I feel like, once I get the high level concept itself, \n",
    "# its super easy to then write the code for the new method."
   ]
  },
  {
   "cell_type": "markdown",
   "metadata": {},
   "source": [
    "blank"
   ]
  },
  {
   "cell_type": "markdown",
   "metadata": {},
   "source": [
    "blank"
   ]
  },
  {
   "cell_type": "markdown",
   "metadata": {},
   "source": [
    "blank"
   ]
  },
  {
   "cell_type": "markdown",
   "metadata": {},
   "source": [
    "### Snippets of reference code ---- delete after 30 days"
   ]
  },
  {
   "cell_type": "code",
   "execution_count": 1,
   "metadata": {},
   "outputs": [
    {
     "name": "stdout",
     "output_type": "stream",
     "text": [
      "5\n",
      "6\n",
      "7\n",
      "8\n",
      "9\n"
     ]
    }
   ],
   "source": [
    "# 10/2/22\n",
    "k=5\n",
    "nums = [0,1,2,3,4,5,6,7,8,9]\n",
    "for i in range(k, len(nums)):\n",
    "    print(i)"
   ]
  },
  {
   "cell_type": "code",
   "execution_count": null,
   "metadata": {},
   "outputs": [],
   "source": [
    "# this \"for i in range(len(nums)-1)\"\" syntax isnt anything special\n",
    "# its just that in this specific case, there is no \"right side\" left when i = the last index\n",
    "nums = [1,3,6,8,9,12,14]\n",
    "for i in range(len(nums)-1):\n",
    "    print(i)"
   ]
  },
  {
   "cell_type": "markdown",
   "metadata": {},
   "source": []
  }
 ],
 "metadata": {
  "kernelspec": {
   "display_name": "Python 3.9.7 64-bit",
   "language": "python",
   "name": "python3"
  },
  "language_info": {
   "codemirror_mode": {
    "name": "ipython",
    "version": 3
   },
   "file_extension": ".py",
   "mimetype": "text/x-python",
   "name": "python",
   "nbconvert_exporter": "python",
   "pygments_lexer": "ipython3",
   "version": "3.9.7"
  },
  "orig_nbformat": 4,
  "vscode": {
   "interpreter": {
    "hash": "81794d4967e6c3204c66dcd87b604927b115b27c00565d3d43f05ba2f3a2cb0d"
   }
  }
 },
 "nbformat": 4,
 "nbformat_minor": 2
}
