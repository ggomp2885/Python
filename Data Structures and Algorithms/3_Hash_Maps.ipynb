{
 "cells": [
  {
   "cell_type": "markdown",
   "metadata": {},
   "source": [
    "### Hash Maps"
   ]
  },
  {
   "cell_type": "code",
   "execution_count": null,
   "metadata": {},
   "outputs": [],
   "source": [
    "\"\"\"Interesting, so hash maps are really like a combination\n",
    "of an array, and a linked list, and therefore have \n",
    "a great mix of both qualities and higher speed at the same time\n",
    "\n",
    "Some disadvantages\n",
    "Even though the time complexity is technically O(1) for many\n",
    "of these operations, for small arrays it is technically more\n",
    "like O(10), because each input has to go through the hashing function\n",
    "but in reality this is not a concern at all, just a talking point\n",
    "\n",
    "Ohh I see, a hash table actually does have an array underneath ----\n",
    "The hash table takes the input, runs the hash function on it,\n",
    "and then assigns it to an array, \n",
    "where the index value is related to the result of the hash function,\n",
    "interesting, so then how big does this array have to be?\n",
    "\n",
    "in other words, a hash table is an array with a custom index.\n",
    "\n",
    "chosen Key -> hash function -> index of the array\n",
    "\"we dont want to have an array that is 3 billion large,\n",
    "just because theres 3 billion potential hash codes\n",
    "\n",
    "Interesting, so the most common way to handle collisions, \n",
    "is called \"chaining\", and guess what, chaining just means, \n",
    "storing the values with the same hash keys into a linked list\n",
    "that is so cool how the best data structures are actually combinations of all\n",
    "thats why they had us learn a linked list first, because Id have to know a linked list\n",
    "before truly being able to understand a hash map\n",
    "\n",
    "arrays are the smallest building blocks of programming\n",
    "then linked lists are built with 1000's of \"tiny\" arrays,\n",
    "then hash tables are built with a combination of a hash function, an array, and linkedlists\n",
    "\n",
    "Ohh I see, the \"modular\" thing they talked about earlier,\n",
    "thats what shoves the hash key value down to fit in the array size I want.\n",
    "\"15 mod 8 = 7\" \"so that gives you a range of 7\"\n",
    "okay so basically everything fits into 7 indexes, and just becomes a longer linked list after that,\n",
    "smaller array = longer linked lists, larger array = shorter linked lists\n",
    "\n",
    "Oh I see, taking the result of the hash function, and dividing it by\n",
    "the size of the array I want to use, just literally means,\n",
    "100/ 10 = 10 spots, its like the ratio or w/e of the hash function to the index #\n",
    "\n",
    "A hash function for a hash table does not need to be cryptic,\n",
    "infact we want it to be as simple and fast as possible,\n",
    "hash functions that are based on security are supposed to be cryptic,\n",
    "but thats actually a completely different use case for a hash function\n",
    "\n",
    "alpha = # elements currently in hash table/ length of hash table\n",
    "alpha = n / m    # alpha basically is a measure of how full the array currently is.\n",
    "^ this is also called, the \"load factor\" of the array\n",
    "\n",
    "search time complexity in a hash table = O(1+a)\n",
    "Its agreed that as long as you keep alpha around 1 or below, \n",
    "this can still be considered constant time\n",
    "\n",
    "\"\"\""
   ]
  },
  {
   "cell_type": "code",
   "execution_count": null,
   "metadata": {},
   "outputs": [],
   "source": [
    "\"\"\"10/21/22 ---- more youtube video perspectives\n",
    "\n",
    "Under the hood, this looks like, hash result # / modulo # = 9,  mydata = array(9)\n",
    "again, its the key that goes through the hash function, not the value.\n",
    "\n",
    "interesting, it looks like really all there is to hash tables is 3 things,\n",
    "1. the hash function ---- math function on given \"key\" % mod (array_size)\n",
    "2. the array underneath\n",
    "3. collisions ---- chaining (closed addressing) / open addressing / double hashing\n",
    "\n",
    "Interesting, okay so when using chaining or open addressing, a \"linear search\" is required either way,\n",
    "whether is a linear search in an array, or a linkedlist, \n",
    "the actual value has to be found by searching through the nearest places where it will be\n",
    "\n",
    "Interesting, even a hash map, is just one of a bunch of different possible \"map\" implimentations\n",
    "that can be used. makes sense.\n",
    "\n",
    "Search on avg is O(1), but worst case is O(n), okay makes sense if super long linked list or something\n",
    "arrays are sometimes also called \"direct-access tables\"\n",
    "\n",
    "the most common hash function for a hash table is called, \"hashing by division\"\n",
    "this is the # mod # hash Ive been seeing.\n",
    "\n",
    "technically a hashtable could be built by creating a list to hold the collisions\n",
    "at each index, but the issue then is that a linear search is again, needed.\n",
    "So yeah its kind of like either the array is oversized, or there is some extra\n",
    "linear search needed, one or the other.\n",
    "\n",
    "Interesting... so then how is a n-d array created, and how is a dataframe created?\n",
    "actually a dataframe is a very awesome datastructure that I have taken for granted so far lol\n",
    "pretty incredible how much awesome logic is going on under the hood here\n",
    "\n",
    "Okay so this has been pretty solid, so there may be a few more vids here,\n",
    "but feeling pretty good about this from here, not really that much going on here actually\n",
    "\"\"\""
   ]
  }
 ],
 "metadata": {
  "kernelspec": {
   "display_name": "Python 3.9.7 64-bit",
   "language": "python",
   "name": "python3"
  },
  "language_info": {
   "name": "python",
   "version": "3.9.7"
  },
  "orig_nbformat": 4,
  "vscode": {
   "interpreter": {
    "hash": "81794d4967e6c3204c66dcd87b604927b115b27c00565d3d43f05ba2f3a2cb0d"
   }
  }
 },
 "nbformat": 4,
 "nbformat_minor": 2
}
