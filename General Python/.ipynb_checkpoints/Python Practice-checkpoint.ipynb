{
 "cells": [
  {
   "cell_type": "code",
   "execution_count": 35,
   "id": "838f5373-f4a4-474e-b6e6-6493751bce48",
   "metadata": {},
   "outputs": [
    {
     "name": "stdout",
     "output_type": "stream",
     "text": [
      "length of year: 2\n",
      "loop running = 1 or 2\n",
      "1\n"
     ]
    }
   ],
   "source": [
    "def centuryFromYear(year):\n",
    "    print(f'length of year: {len(str(year))}')\n",
    "    \n",
    "    if len(str(year)) in [1,2]:\n",
    "        print('loop running = 1 or 2')\n",
    "        return 1\n",
    "        \n",
    "    if len(str(year)) == 3:\n",
    "        print('loop running = 3')\n",
    "        year = str(year)\n",
    "        if year[1:3] == '00':\n",
    "            return int(year[:1])\n",
    "        else:\n",
    "            return int(year[:1]) +1\n",
    "        \n",
    "    if len(str(year)) == 4:\n",
    "        print('loop running = 4')\n",
    "        year = str(year)\n",
    "        if year[2:4] == '00':\n",
    "            return int(year[:2])\n",
    "        else:\n",
    "            return int(year[:2]) +1\n",
    "        \n",
    "print(centuryFromYear(45))"
   ]
  },
  {
   "cell_type": "code",
   "execution_count": 41,
   "id": "450ea5b9-dc8b-402e-9267-ee10a52be565",
   "metadata": {},
   "outputs": [
    {
     "data": {
      "text/plain": [
       "2"
      ]
     },
     "execution_count": 41,
     "metadata": {},
     "output_type": "execute_result"
    }
   ],
   "source": [
    "def centuryFromYear(year):\n",
    "    return (year + 95) // 100\n",
    "centuryFromYear(201)\n",
    "\n"
   ]
  },
  {
   "cell_type": "markdown",
   "id": "90b9830e-dabf-45fa-96bd-7d516d3f49a7",
   "metadata": {},
   "source": [
    "So in this solution, its extremely simple to just use a basic math equation here, with the right operator, the floor divsion // operator makes this a breeze, and adding 99, makes it generalize to the edge cases"
   ]
  },
  {
   "cell_type": "markdown",
   "id": "a287e1c6-75fa-478d-bad7-d9666600d080",
   "metadata": {},
   "source": [
    "### Check for Palindromes"
   ]
  },
  {
   "cell_type": "code",
   "execution_count": 42,
   "id": "0eb31be3-50b5-4ce8-b2c5-ef5b6cd3cafc",
   "metadata": {},
   "outputs": [],
   "source": [
    "def checkPalindrome(inputString):\n",
    "    if inputString == inputString[::-1]:\n",
    "        return True\n",
    "    else: return False"
   ]
  },
  {
   "cell_type": "code",
   "execution_count": 43,
   "id": "82f3da44-bfb9-405c-8b0f-16bbe183b488",
   "metadata": {},
   "outputs": [],
   "source": [
    "def checkPalindrome(inputString):\n",
    "    return inputString == inputString[::-1]"
   ]
  },
  {
   "cell_type": "markdown",
   "id": "b647c277-e8f4-498c-96aa-300a3eb5b3f1",
   "metadata": {},
   "source": [
    "This solution is almost identical to mine, but reminds me that an if statement is not needed at all here, because it is already built into the \"equivalent to\" == operator returns a boolean True/False, by default."
   ]
  },
  {
   "cell_type": "code",
   "execution_count": 73,
   "id": "11a658ff-6501-403f-bdd7-ca4eb79393ed",
   "metadata": {},
   "outputs": [
    {
     "name": "stdout",
     "output_type": "stream",
     "text": [
      "['salad', 'egg']\n",
      "['egg', 'salad']\n"
     ]
    },
    {
     "data": {
      "text/plain": [
       "'dalas'"
      ]
     },
     "execution_count": 73,
     "metadata": {},
     "output_type": "execute_result"
    }
   ],
   "source": [
    "string = 'salad'\n",
    "string2 = 'egg'\n",
    "lst = [string, string2]\n",
    "integer = 1234\n",
    "\n",
    "print(lst)\n",
    "print(lst[::-1])\n",
    "string[::-1]"
   ]
  },
  {
   "cell_type": "markdown",
   "id": "aace77c9-e6cf-4798-9457-a43259cd4780",
   "metadata": {},
   "source": [
    "As far as this index method that looks like [::-1], just is a unique thing that was created to reverse strings/lists - infact the -1 is the \"step size\""
   ]
  },
  {
   "cell_type": "markdown",
   "id": "1ecca63e-b413-4281-8d83-6b37b961d106",
   "metadata": {},
   "source": [
    "## AdjacentElementsProduct"
   ]
  },
  {
   "cell_type": "code",
   "execution_count": 93,
   "id": "8deb9b9b-6c1d-41dc-97a3-62428307aa58",
   "metadata": {},
   "outputs": [
    {
     "data": {
      "text/plain": [
       "array([ 3,  6, -2, -5,  7,  3])"
      ]
     },
     "metadata": {},
     "output_type": "display_data"
    },
    {
     "data": {
      "text/plain": [
       "array([0., 0., 0., 0., 0.])"
      ]
     },
     "metadata": {},
     "output_type": "display_data"
    },
    {
     "data": {
      "text/plain": [
       "21.0"
      ]
     },
     "execution_count": 93,
     "metadata": {},
     "output_type": "execute_result"
    }
   ],
   "source": [
    "import numpy as np\n",
    "\n",
    "def adjacentElementsProduct(inputArray):\n",
    "    ans_array = np.zeros(len(inputArray)-1)\n",
    "    for i in range(len(inputArray)-1):\n",
    "        ans_array[i] = inputArray[i]*inputArray[i+1]\n",
    "    return ans_array.max()\n",
    "\n",
    "ans_array = np.zeros(len(mock_array)-1)\n",
    "mock_array = np.array([3,6,-2,-5,7,3])\n",
    "display(mock_array)\n",
    "display(ans_array)\n",
    "\n",
    "adjacentElementsProduct(mock_array)"
   ]
  },
  {
   "cell_type": "code",
   "execution_count": null,
   "id": "820bec43-a2ef-49e6-ac9f-0d7f40eac312",
   "metadata": {},
   "outputs": [],
   "source": [
    "def adjacentElementsProduct(inputArray):\n",
    "    return max([inputArray[i] * inputArray[i+1] for i in range(len(inputArray)-1)])"
   ]
  },
  {
   "cell_type": "code",
   "execution_count": null,
   "id": "f2816b0f-ae4f-467d-a495-f60c2b88e899",
   "metadata": {},
   "outputs": [],
   "source": [
    "def adjacentElementsProduct(inputArray):\n",
    "    return max([inputArray[i]*inputArray[i+1] for i in range(len(inputArray)-1)])"
   ]
  },
  {
   "cell_type": "markdown",
   "id": "f334364d-dc77-4988-ac66-4b851c7372d4",
   "metadata": {},
   "source": [
    "Okay so it looks like alot of these \"best solutions\" are\n",
    "1. just putting the actions of the function, directly in the return statement, instead of using variables to store this, and then returning the variable - that makes sense\n",
    "2. using \"list loops\", or list comprehensions instead of explicit for loops - I think this also makes sense because it simplifies 2 lines into 1 and creates a list by default\n",
    "\n",
    "I also just realized that list comps are just for loops that put the results into a list by default, and they just have the order switched around. Explicit for loops write the loop amount first, and then the action, whereas list comps just write the action first, and then the loop amount. Cool.\n",
    "And so now Im also realizing the similarity between lamda functions, and list comprehension loops, so instead of using a map() function on a lambda function, its just way simpler to use a list loop.\n",
    "Now, point here, is that list comps put the resulting data into a list, and apparently I can do math just fine on lists. I wonder if there is a speed difference between a for loop on an array, and a list comp.\n",
    "Okay interesting, so this makes sense, a list comprehension is always faster than a for loop, about 50% faster with simple calculations, and then, speaking of numpy, the point of numpy is to not use loops at all, so a good understanding of the math functions available in numpy, will be faster than using a list comprehension. But however, if I am just using numpy arrays instead of lists, and not using the advanced features of numpy, then a list will actually be faster because numpy has some boot up time\n",
    "\n",
    "Fastest execution time\n",
    "1. Numpy advanced functions\n",
    "2. List Comprehensions\n",
    "3. For loops with lists\n",
    "4. For loops with numpy arrays\n",
    "\n",
    "Wow, okay this is cool,"
   ]
  }
 ],
 "metadata": {
  "kernelspec": {
   "display_name": "Python 3",
   "language": "python",
   "name": "python3"
  },
  "language_info": {
   "codemirror_mode": {
    "name": "ipython",
    "version": 3
   },
   "file_extension": ".py",
   "mimetype": "text/x-python",
   "name": "python",
   "nbconvert_exporter": "python",
   "pygments_lexer": "ipython3",
   "version": "3.8.3"
  }
 },
 "nbformat": 4,
 "nbformat_minor": 5
}
