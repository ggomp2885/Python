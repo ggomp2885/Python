{
 "cells": [
  {
   "cell_type": "code",
   "execution_count": null,
   "metadata": {},
   "outputs": [],
   "source": [
    "\"\"\"Difference Arrays\"\"\"\n",
    "\n",
    "\"\"\"\n",
    "Okay cool so apparently difference arrays have\n",
    "their use cases as well:\n",
    "    Range updates in databases\n",
    "    Image processing\n",
    "    Sensor data processing\n",
    "    Cumulative sum queries\n",
    "    Time-series analysis\n",
    "    Game development\n",
    "\n",
    "All of these use cases share the common characteristic\n",
    "of requiring efficient updates or modifications to a data\n",
    "structure, specifically arrays, over a specified range\n",
    "or region. The primary advantage of using difference arrays\n",
    "in these scenarios is that they allow for performing range\n",
    "updates or modifications more efficiently than directly\n",
    "updating the array elements.\n",
    "\n",
    "Okay interesting, so this makes sense, its kind of like,\n",
    "anywhere that a prefix sum would be very useful for \n",
    "repeated lookups, a \"difference array\" is also useful.\n",
    "\n",
    "\"\"\""
   ]
  },
  {
   "cell_type": "code",
   "execution_count": null,
   "metadata": {},
   "outputs": [],
   "source": [
    "\"\"\"Tries\"\"\"\n",
    "\n",
    "\"\"\"\n",
    "Looks like Tries are used in word lookups,\n",
    "like a grammer checker or a google search,\n",
    "\"validation of words\"\n",
    "\n",
    "looks like these are really focused for words\n",
    "and looks like its possible to use a dictionary\n",
    "for this kind of purpose as well, but a dictionary\n",
    "works better for fully complete words,\n",
    "a trie works better for words as a person is typing.\n",
    "\n",
    "Kind of makes sense that all real-world popular use cases\n",
    "will have their own spin on these \"starter algs\"\n",
    "so, main point being,\n",
    "in the real world, when I need to build a specific thing,\n",
    "I just research that specific thing,\n",
    "and I see exactly whats being used here\n",
    "\n",
    "these are also called \"prefix trees\"\n",
    "\n",
    "Best use cases:\n",
    "    Autocomplete\n",
    "    Spell checking and correction\n",
    "    IP routing\n",
    "    String matching\n",
    "    Domain name resolution\n",
    "    Dictionary implementations\n",
    "    Text compression\n",
    "\n",
    "\"\"\"\n"
   ]
  },
  {
   "cell_type": "code",
   "execution_count": null,
   "metadata": {},
   "outputs": [],
   "source": [
    "\"\"\"Bit Minipulation\"\"\"\n",
    "\n",
    "\"\"\"\n",
    "Bit manipulation allows operations to be performed directly on\n",
    "individual bits within a binary representation of a number,\n",
    "which can lead to significant performance improvements\n",
    "and reduced memory usage compared to higher-level abstractions.\n",
    "\n",
    "Best use cases:\n",
    "    Data compression\n",
    "    Cryptography\n",
    "    Error detection and correction\n",
    "    Embedded systems and microcontrollers\n",
    "    Network protocols\n",
    "    Graphics programming\n",
    "    Competitive programming\n",
    "    Random number generation\n",
    "\n",
    "The common theme across these use cases is the need for:\n",
    "    Fine-grained control: Bit manipulation provides precise control over individual bits,\n",
    "    which is essential when working with hardware components,\n",
    "    network protocols, or other low-level systems where manipulating\n",
    "    or interpreting data at the bit level is necessary.\n",
    "    Efficiency,\n",
    "    Compact representation: This is useful in scenarios where memory or \n",
    "    storage constraints are a concern, such as embedded systems or data compression.\n",
    "\n",
    "\n",
    "Okay so yeah, bit manipulation is exactly what it sounds like,\n",
    "manipulating the literal bits underneath the code,\n",
    "its as down to the hardware as it gets,\n",
    "Im interested to see if/how/where this comes up in future use cases,\n",
    "but yeah in general this makes sense.\n",
    "\"\"\""
   ]
  },
  {
   "cell_type": "code",
   "execution_count": null,
   "metadata": {},
   "outputs": [],
   "source": [
    "\"\"\"Intervals\"\"\"\n",
    "\n",
    "\"\"\"\n",
    "Realworld usecases:\n",
    "    Scheduling and resource allocation\n",
    "    Calendar and event management\n",
    "    Genomics and bioinformatics\n",
    "    Geospatial applications\n",
    "    Time series analysis\n",
    "    Computer graphics and computational geometry\n",
    "    Network protocols and communication\n",
    "    Database management\n",
    "    Constraint satisfaction problems\n",
    "    Machine learning and statistics\n",
    "Commonalities:\n",
    "    Representation of ranges or segments\n",
    "    Overlap or containment detection\n",
    "    Efficient querying and manipulation\n",
    "    Optimization and resource management\n",
    "    Multi-disciplinary applicability\n",
    "    Problem-solving with constraints\n",
    "    Spatial or temporal relationships\n",
    "\n",
    "Okay so what it sounds like is that this a technique that changes the\n",
    "representation of the data,\n",
    "instead of looking at the raw \"start\" and \"end\" locations of the \n",
    "time period, or geographical location, etc,\n",
    "It re-represents this data as the distance between the start and the end,\n",
    "\n",
    "And using this representation, different types of calculations become more direct\n",
    "it almost seems like its the same concept as a prefix sum,\n",
    "\n",
    "\"Constraint satisfaction problems: Interval arithmetic can be applied\n",
    "to constraint satisfaction problems to simplify and solve them more efficiently.\"\n",
    "^ exactly\n",
    "\n",
    "\n",
    "\"\"\""
   ]
  },
  {
   "cell_type": "code",
   "execution_count": null,
   "metadata": {},
   "outputs": [],
   "source": [
    "\"\"\"Modular Arithmetic\"\"\"\n",
    "\n",
    "\"\"\"\n",
    "its a super simple trick, and significantly faster,\n",
    "to divide numbers by their modulus when doing multiplication/division\n",
    "\n",
    "Note: only prime numbers can be used as a modulus like this\n",
    "\n",
    "and also, some languages dont have \"overflow\"\n",
    "like C++, the largest number it can store in one variable is\n",
    "10^19\n",
    "\"\"\""
   ]
  },
  {
   "cell_type": "code",
   "execution_count": 16,
   "metadata": {},
   "outputs": [
    {
     "name": "stdout",
     "output_type": "stream",
     "text": [
      "408452784\n"
     ]
    },
    {
     "data": {
      "text/plain": [
       "'\\nwithout dividing by modulus: 7+ min, didnt even wait for it\\nwith dividing by modulus: .3 seconds\\n\\nThis is like 200X or more speedup, dayyyyum.\\n'"
      ]
     },
     "execution_count": 16,
     "metadata": {},
     "output_type": "execute_result"
    }
   ],
   "source": [
    "import random\n",
    "\n",
    "nums = [random.randint(100000, 1000000) for _ in range(1000000)]\n",
    "\n",
    "MOD = 1_000_000_007\n",
    "ans = 1\n",
    "for x in nums:\n",
    "    ans *= x\n",
    "    # ans = (ans * x) % MOD\n",
    "\n",
    "\n",
    "print(ans % MOD)\n",
    "\n",
    "\"\"\"\n",
    "without dividing by modulus: 630 seconds, didnt even wait for it\n",
    "with dividing by modulus: .3 seconds\n",
    "\n",
    "This is like 2100X or more speedup, with 4 extra characters of code,\n",
    "yeah, no joke, this one little technique is HUGE.\n",
    "Modular arithmetic is a goat.\n",
    "2100X\n",
    "\"\"\""
   ]
  },
  {
   "cell_type": "code",
   "execution_count": null,
   "metadata": {},
   "outputs": [],
   "source": [
    "\"\"\"\n",
    "... oh shit, this is standardization in ML\n",
    "nice!\n",
    "makes sense, because ML is large scale matrix multiplication,\n",
    "so instead of 2342342342342334*123112321323,\n",
    "it ends up being .91*.17\n",
    "\n",
    "way, way, way faster to converge to a global min,\n",
    "(way less iterations required to converge)\n",
    "aka, an approximation that is within 5% acc, but 95% faster\n",
    "\"\"\""
   ]
  },
  {
   "cell_type": "code",
   "execution_count": null,
   "metadata": {},
   "outputs": [],
   "source": [
    "bang bang."
   ]
  }
 ],
 "metadata": {
  "kernelspec": {
   "display_name": "Python 3",
   "language": "python",
   "name": "python3"
  },
  "language_info": {
   "codemirror_mode": {
    "name": "ipython",
    "version": 3
   },
   "file_extension": ".py",
   "mimetype": "text/x-python",
   "name": "python",
   "nbconvert_exporter": "python",
   "pygments_lexer": "ipython3",
   "version": "3.11.0"
  },
  "orig_nbformat": 4
 },
 "nbformat": 4,
 "nbformat_minor": 2
}
