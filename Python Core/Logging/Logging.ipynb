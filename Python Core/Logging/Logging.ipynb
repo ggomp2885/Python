{
 "cells": [
  {
   "cell_type": "code",
   "execution_count": 1,
   "metadata": {},
   "outputs": [],
   "source": [
    "import logging\n",
    "logging.basicConfig(filename='rig_vit_model_monitor.log',\n",
    "                    level=logging.INFO,\n",
    "                    format='%(asctime)s:%(message)s')\n",
    "\n",
    "logging.info('model monitor script found AUC of .81')\n",
    "\n",
    "\"\"\"\n",
    "Awesome, so yeah this is all the setup code I need,\n",
    "This will configure the \"root\" logger to be shared\n",
    "across all the model monitoring scripts\n",
    "So everytime I see a print statement or w/e,\n",
    "I just add a logging statement as well\n",
    "\n",
    "This creates a model_monitor.log in the opt/ml/output/log\n",
    "and I set this location as an output into S3\n",
    "Yep, thats it, awesome.\n",
    "\"\"\""
   ]
  },
  {
   "cell_type": "code",
   "execution_count": null,
   "metadata": {},
   "outputs": [],
   "source": []
  }
 ],
 "metadata": {
  "kernelspec": {
   "display_name": "Python 3",
   "language": "python",
   "name": "python3"
  },
  "language_info": {
   "codemirror_mode": {
    "name": "ipython",
    "version": 3
   },
   "file_extension": ".py",
   "mimetype": "text/x-python",
   "name": "python",
   "nbconvert_exporter": "python",
   "pygments_lexer": "ipython3",
   "version": "3.11.0"
  },
  "orig_nbformat": 4,
  "vscode": {
   "interpreter": {
    "hash": "aee8b7b246df8f9039afb4144a1f6fd8d2ca17a180786b69acc140d282b71a49"
   }
  }
 },
 "nbformat": 4,
 "nbformat_minor": 2
}
