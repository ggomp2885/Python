{
 "cells": [
  {
   "cell_type": "code",
   "execution_count": 2,
   "id": "0b99a866-ac83-4521-b066-b5303c60fa11",
   "metadata": {},
   "outputs": [],
   "source": [
    "import pandas as pd\n",
    "import numpy as np\n",
    "from sklearn.datasets import make_classification"
   ]
  },
  {
   "cell_type": "code",
   "execution_count": null,
   "id": "f8698c04-9dd8-4a22-9dc8-62cc34679d1e",
   "metadata": {},
   "outputs": [],
   "source": [
    "%%time\n",
    "X,y = make_classification(n_samples=10000000, n_features=50, n_informative=45, \n",
    "                    n_redundant=2, n_repeated=0, n_classes=2)\n",
    "X = pd.DataFrame(X)\n",
    "y = pd.Series(y)\n",
    "\n",
    "display(X.tail(5))\n",
    "display(y.tail(5))"
   ]
  },
  {
   "cell_type": "code",
   "execution_count": null,
   "id": "971c6a53-ff52-4d41-a64b-ac0c773d06c8",
   "metadata": {},
   "outputs": [],
   "source": [
    "pd.to_csv("
   ]
  }
 ],
 "metadata": {
  "kernelspec": {
   "display_name": "Python 3 (ipykernel)",
   "language": "python",
   "name": "python3"
  },
  "language_info": {
   "codemirror_mode": {
    "name": "ipython",
    "version": 3
   },
   "file_extension": ".py",
   "mimetype": "text/x-python",
   "name": "python",
   "nbconvert_exporter": "python",
   "pygments_lexer": "ipython3",
   "version": "3.8.11"
  }
 },
 "nbformat": 4,
 "nbformat_minor": 5
}
