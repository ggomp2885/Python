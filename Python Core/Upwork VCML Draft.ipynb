{
 "cells": [
  {
   "cell_type": "markdown",
   "id": "fabd2233-00b3-438e-af1b-6224dc2ff9cb",
   "metadata": {},
   "source": [
    "XGBoost implementation "
   ]
  },
  {
   "cell_type": "code",
   "execution_count": null,
   "id": "c69aafd6-8d30-4b8f-b0f9-025ce266f923",
   "metadata": {},
   "outputs": [],
   "source": [
    "import pandas as pd\n",
    "import numpy as np\n",
    "import xgb\n",
    "\n"
   ]
  },
  {
   "cell_type": "markdown",
   "id": "9183592f-85ac-451f-ac2f-6441f7d3e25f",
   "metadata": {},
   "source": [
    "Load in the csv file data to a dataframe"
   ]
  },
  {
   "cell_type": "code",
   "execution_count": null,
   "id": "3d81e28b-5ecf-43e1-91b5-84e2bec5f370",
   "metadata": {},
   "outputs": [],
   "source": [
    "StandardScaler().fit_transform (dataframe)"
   ]
  },
  {
   "cell_type": "code",
   "execution_count": null,
   "id": "1fd2f17f-787b-435a-b121-fc8ea38757e2",
   "metadata": {},
   "outputs": [],
   "source": [
    "split dataframe into X and Y"
   ]
  },
  {
   "cell_type": "code",
   "execution_count": null,
   "id": "3347d01d-cf62-40a5-83a8-772c0cb6056b",
   "metadata": {},
   "outputs": [],
   "source": [
    "model = Gridsearch_CV(xgb.XGBclassfier, params= , cv=10)"
   ]
  },
  {
   "cell_type": "code",
   "execution_count": null,
   "id": "8ec523d2-4256-48ab-8db1-7d1b8200cffc",
   "metadata": {},
   "outputs": [],
   "source": [
    "df_batch_predictions = model.predict(X)"
   ]
  },
  {
   "cell_type": "code",
   "execution_count": null,
   "id": "8dcd020a-59de-4c9f-a1ac-02ec79de7c46",
   "metadata": {},
   "outputs": [],
   "source": [
    "display(df_batch_predictions)"
   ]
  },
  {
   "cell_type": "code",
   "execution_count": null,
   "id": "07d96005-8964-4348-8813-3ab474412776",
   "metadata": {},
   "outputs": [],
   "source": []
  },
  {
   "cell_type": "markdown",
   "id": "27afd8f3-a0cb-47a4-964a-4ae243e0425d",
   "metadata": {},
   "source": [
    "And thats it... that way they know the base structure of what to expect as they collect more and more data"
   ]
  },
  {
   "cell_type": "code",
   "execution_count": null,
   "id": "026b8bd0-dace-4e4b-9295-6017a5ca8e4b",
   "metadata": {},
   "outputs": [],
   "source": [
    "Secondly, Ill look into how its common to add a timeseries based feature into a classification model so we understand that for down the road"
   ]
  },
  {
   "cell_type": "code",
   "execution_count": null,
   "id": "c0d3f839-6ff3-495b-b54d-a26820d6d0d9",
   "metadata": {},
   "outputs": [],
   "source": [
    "After this, Ill basically want to prepare a presentation that explains the general steps for building ML models, including the scraping of data -> the feature engineering -> model selection and tuning -> deployment -> monitoring -> retraining ---- and how this process can be automated\n",
    "And we can go from there in future, because there isnt going to be much FE thats possible in this early stage anyway"
   ]
  }
 ],
 "metadata": {
  "kernelspec": {
   "display_name": "Python 3",
   "language": "python",
   "name": "python3"
  },
  "language_info": {
   "codemirror_mode": {
    "name": "ipython",
    "version": 3
   },
   "file_extension": ".py",
   "mimetype": "text/x-python",
   "name": "python",
   "nbconvert_exporter": "python",
   "pygments_lexer": "ipython3",
   "version": "3.8.3"
  }
 },
 "nbformat": 4,
 "nbformat_minor": 5
}
